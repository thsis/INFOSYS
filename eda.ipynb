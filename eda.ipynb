{
 "cells": [
  {
   "cell_type": "markdown",
   "metadata": {
    "slideshow": {
     "slide_type": "slide"
    }
   },
   "source": [
    "# Crime and Neural Networks\n",
    "## RNN, LSTM, GRU\n",
    "\n",
    "Carolin Kunze <br>\n",
    "Marc Scheu <br>\n",
    "Thomas Siskos <br>\n",
    "\n",
    "Our code lives on [Github](https://github.com/thsis/INFOSYS)"
   ]
  },
  {
   "cell_type": "markdown",
   "metadata": {
    "slideshow": {
     "slide_type": "slide"
    }
   },
   "source": [
    "## Outline\n",
    "\n",
    "- Chicago Crime Data\n",
    "- Why do we need Recurrent Neural Networks?\n",
    "- Introduction to RNNs?\n",
    "- Long Short Term Memory Cell **(LSTM)**\n",
    "- Gated Recurrent Unit **(GRU)**\n",
    "- Implementation of RNN, LSTM and GRU\n",
    "- Parameter Tuning and Evaluation"
   ]
  },
  {
   "cell_type": "code",
   "execution_count": 2,
   "metadata": {
    "slideshow": {
     "slide_type": "skip"
    }
   },
   "outputs": [],
   "source": [
    "import os\n",
    "import numpy as np\n",
    "import pandas as pd\n",
    "from mpl_toolkits.basemap import Basemap\n",
    "from matplotlib import pyplot as plt\n",
    "from matplotlib import image as mpimg\n",
    "from ipywidgets import interactive\n",
    "%matplotlib inline"
   ]
  },
  {
   "cell_type": "code",
   "execution_count": 3,
   "metadata": {
    "slideshow": {
     "slide_type": "skip"
    }
   },
   "outputs": [],
   "source": [
    "datapath = os.path.join(\"data\", \"crimes.zip\")\n",
    "columns = [\"ID\", \"Date\", \"Block\", \"Primary Type\", \"Latitude\", \"Longitude\", \"District\", \"Ward\", \"Community Area\"]\n",
    "fulldata = pd.read_csv(datapath, usecols=columns)"
   ]
  },
  {
   "cell_type": "code",
   "execution_count": 4,
   "metadata": {
    "slideshow": {
     "slide_type": "skip"
    }
   },
   "outputs": [],
   "source": [
    "fulldata[\"Date\"] = pd.to_datetime(fulldata[\"Date\"],\n",
    "                                  format='%m/%d/%Y',\n",
    "                                  exact=False)\n",
    "fulldata = fulldata.set_index(\"Date\")"
   ]
  },
  {
   "cell_type": "markdown",
   "metadata": {
    "slideshow": {
     "slide_type": "slide"
    }
   },
   "source": [
    "## Chicago Crime Data\n",
    "\n",
    "Where should the head of the Chicago Police Force sent his patrols?"
   ]
  },
  {
   "cell_type": "code",
   "execution_count": 5,
   "metadata": {
    "slideshow": {
     "slide_type": "fragment"
    }
   },
   "outputs": [
    {
     "data": {
      "text/html": [
       "<div>\n",
       "<style scoped>\n",
       "    .dataframe tbody tr th:only-of-type {\n",
       "        vertical-align: middle;\n",
       "    }\n",
       "\n",
       "    .dataframe tbody tr th {\n",
       "        vertical-align: top;\n",
       "    }\n",
       "\n",
       "    .dataframe thead th {\n",
       "        text-align: right;\n",
       "    }\n",
       "</style>\n",
       "<table border=\"1\" class=\"dataframe\">\n",
       "  <thead>\n",
       "    <tr style=\"text-align: right;\">\n",
       "      <th></th>\n",
       "      <th>ID</th>\n",
       "      <th>Block</th>\n",
       "      <th>Primary Type</th>\n",
       "      <th>District</th>\n",
       "      <th>Ward</th>\n",
       "      <th>Community Area</th>\n",
       "      <th>Latitude</th>\n",
       "      <th>Longitude</th>\n",
       "    </tr>\n",
       "    <tr>\n",
       "      <th>Date</th>\n",
       "      <th></th>\n",
       "      <th></th>\n",
       "      <th></th>\n",
       "      <th></th>\n",
       "      <th></th>\n",
       "      <th></th>\n",
       "      <th></th>\n",
       "      <th></th>\n",
       "    </tr>\n",
       "  </thead>\n",
       "  <tbody>\n",
       "    <tr>\n",
       "      <th>2015-03-18</th>\n",
       "      <td>10000092</td>\n",
       "      <td>047XX W OHIO ST</td>\n",
       "      <td>BATTERY</td>\n",
       "      <td>11.0</td>\n",
       "      <td>28.0</td>\n",
       "      <td>25.0</td>\n",
       "      <td>41.891399</td>\n",
       "      <td>-87.744385</td>\n",
       "    </tr>\n",
       "    <tr>\n",
       "      <th>2015-03-18</th>\n",
       "      <td>10000094</td>\n",
       "      <td>066XX S MARSHFIELD AVE</td>\n",
       "      <td>OTHER OFFENSE</td>\n",
       "      <td>7.0</td>\n",
       "      <td>15.0</td>\n",
       "      <td>67.0</td>\n",
       "      <td>41.773372</td>\n",
       "      <td>-87.665319</td>\n",
       "    </tr>\n",
       "    <tr>\n",
       "      <th>2015-03-18</th>\n",
       "      <td>10000095</td>\n",
       "      <td>044XX S LAKE PARK AVE</td>\n",
       "      <td>BATTERY</td>\n",
       "      <td>2.0</td>\n",
       "      <td>4.0</td>\n",
       "      <td>39.0</td>\n",
       "      <td>41.813861</td>\n",
       "      <td>-87.596643</td>\n",
       "    </tr>\n",
       "    <tr>\n",
       "      <th>2015-03-18</th>\n",
       "      <td>10000096</td>\n",
       "      <td>051XX S MICHIGAN AVE</td>\n",
       "      <td>BATTERY</td>\n",
       "      <td>2.0</td>\n",
       "      <td>3.0</td>\n",
       "      <td>40.0</td>\n",
       "      <td>41.800802</td>\n",
       "      <td>-87.622619</td>\n",
       "    </tr>\n",
       "    <tr>\n",
       "      <th>2015-03-18</th>\n",
       "      <td>10000097</td>\n",
       "      <td>047XX W ADAMS ST</td>\n",
       "      <td>ROBBERY</td>\n",
       "      <td>11.0</td>\n",
       "      <td>28.0</td>\n",
       "      <td>25.0</td>\n",
       "      <td>41.878065</td>\n",
       "      <td>-87.743354</td>\n",
       "    </tr>\n",
       "    <tr>\n",
       "      <th>2015-03-18</th>\n",
       "      <td>10000098</td>\n",
       "      <td>049XX S DREXEL BLVD</td>\n",
       "      <td>BATTERY</td>\n",
       "      <td>2.0</td>\n",
       "      <td>4.0</td>\n",
       "      <td>39.0</td>\n",
       "      <td>41.805443</td>\n",
       "      <td>-87.604284</td>\n",
       "    </tr>\n",
       "    <tr>\n",
       "      <th>2015-03-18</th>\n",
       "      <td>10000099</td>\n",
       "      <td>070XX S MORGAN ST</td>\n",
       "      <td>BATTERY</td>\n",
       "      <td>7.0</td>\n",
       "      <td>17.0</td>\n",
       "      <td>68.0</td>\n",
       "      <td>41.766403</td>\n",
       "      <td>-87.649296</td>\n",
       "    </tr>\n",
       "    <tr>\n",
       "      <th>2015-03-18</th>\n",
       "      <td>10000100</td>\n",
       "      <td>042XX S PRAIRIE AVE</td>\n",
       "      <td>BATTERY</td>\n",
       "      <td>2.0</td>\n",
       "      <td>3.0</td>\n",
       "      <td>38.0</td>\n",
       "      <td>41.817553</td>\n",
       "      <td>-87.619819</td>\n",
       "    </tr>\n",
       "    <tr>\n",
       "      <th>2015-03-18</th>\n",
       "      <td>10000101</td>\n",
       "      <td>036XX S WOLCOTT AVE</td>\n",
       "      <td>NARCOTICS</td>\n",
       "      <td>9.0</td>\n",
       "      <td>11.0</td>\n",
       "      <td>59.0</td>\n",
       "      <td>41.828138</td>\n",
       "      <td>-87.672782</td>\n",
       "    </tr>\n",
       "    <tr>\n",
       "      <th>2015-03-18</th>\n",
       "      <td>10000104</td>\n",
       "      <td>097XX S PRAIRIE AVE</td>\n",
       "      <td>BATTERY</td>\n",
       "      <td>5.0</td>\n",
       "      <td>6.0</td>\n",
       "      <td>49.0</td>\n",
       "      <td>41.717455</td>\n",
       "      <td>-87.617663</td>\n",
       "    </tr>\n",
       "  </tbody>\n",
       "</table>\n",
       "</div>"
      ],
      "text/plain": [
       "                  ID                   Block   Primary Type  District  Ward  \\\n",
       "Date                                                                          \n",
       "2015-03-18  10000092         047XX W OHIO ST        BATTERY      11.0  28.0   \n",
       "2015-03-18  10000094  066XX S MARSHFIELD AVE  OTHER OFFENSE       7.0  15.0   \n",
       "2015-03-18  10000095   044XX S LAKE PARK AVE        BATTERY       2.0   4.0   \n",
       "2015-03-18  10000096    051XX S MICHIGAN AVE        BATTERY       2.0   3.0   \n",
       "2015-03-18  10000097        047XX W ADAMS ST        ROBBERY      11.0  28.0   \n",
       "2015-03-18  10000098     049XX S DREXEL BLVD        BATTERY       2.0   4.0   \n",
       "2015-03-18  10000099       070XX S MORGAN ST        BATTERY       7.0  17.0   \n",
       "2015-03-18  10000100     042XX S PRAIRIE AVE        BATTERY       2.0   3.0   \n",
       "2015-03-18  10000101     036XX S WOLCOTT AVE      NARCOTICS       9.0  11.0   \n",
       "2015-03-18  10000104     097XX S PRAIRIE AVE        BATTERY       5.0   6.0   \n",
       "\n",
       "            Community Area   Latitude  Longitude  \n",
       "Date                                              \n",
       "2015-03-18            25.0  41.891399 -87.744385  \n",
       "2015-03-18            67.0  41.773372 -87.665319  \n",
       "2015-03-18            39.0  41.813861 -87.596643  \n",
       "2015-03-18            40.0  41.800802 -87.622619  \n",
       "2015-03-18            25.0  41.878065 -87.743354  \n",
       "2015-03-18            39.0  41.805443 -87.604284  \n",
       "2015-03-18            68.0  41.766403 -87.649296  \n",
       "2015-03-18            38.0  41.817553 -87.619819  \n",
       "2015-03-18            59.0  41.828138 -87.672782  \n",
       "2015-03-18            49.0  41.717455 -87.617663  "
      ]
     },
     "execution_count": 5,
     "metadata": {},
     "output_type": "execute_result"
    }
   ],
   "source": [
    "fulldata.head(10)"
   ]
  },
  {
   "cell_type": "code",
   "execution_count": 6,
   "metadata": {
    "slideshow": {
     "slide_type": "skip"
    }
   },
   "outputs": [],
   "source": [
    "primary_types = ['TOTAL'] + fulldata[\"Primary Type\"].unique().tolist()"
   ]
  },
  {
   "cell_type": "code",
   "execution_count": 15,
   "metadata": {
    "slideshow": {
     "slide_type": "skip"
    }
   },
   "outputs": [],
   "source": [
    "def crime_viewer(crime=\"TOTAL\", year=2001):\n",
    "    crime_type = crime.lower().replace(\" \", \"_\")\n",
    "    png_title = \"crime_\" + crime_type + \"_\" + str(year) + \".png\"\n",
    "    plt.figure(figsize=(15, 6))\n",
    "    img = mpimg.imread(os.path.join(\"preprocessing\", \"maps\", png_title))\n",
    "    plt.imshow(img, aspect=\"auto\")\n",
    "    plt.gca().set_axis_off()\n",
    "    plt.subplots_adjust(top = 1, bottom = 0, right = 1, left = 0, \n",
    "                        hspace = 0, wspace = 0)\n",
    "    plt.margins(0,0)\n",
    "    plt.gca().xaxis.set_major_locator(plt.NullLocator())\n",
    "    plt.gca().yaxis.set_major_locator(plt.NullLocator())\n",
    "    "
   ]
  },
  {
   "cell_type": "markdown",
   "metadata": {
    "slideshow": {
     "slide_type": "slide"
    }
   },
   "source": [
    "## Chicago Crime Data\n",
    "\n",
    "Are there geographical patterns?"
   ]
  },
  {
   "cell_type": "code",
   "execution_count": 16,
   "metadata": {
    "slideshow": {
     "slide_type": "fragment"
    }
   },
   "outputs": [
    {
     "data": {
      "application/vnd.jupyter.widget-view+json": {
       "model_id": "7153ed3b4ef14d678b958e235f79dad9",
       "version_major": 2,
       "version_minor": 0
      },
      "text/plain": [
       "interactive(children=(Dropdown(description='crime', options=('TOTAL', 'BATTERY', 'OTHER OFFENSE', 'ROBBERY', '…"
      ]
     },
     "metadata": {},
     "output_type": "display_data"
    }
   ],
   "source": [
    "interactive(crime_viewer, crime = primary_types, year=(2001, 2017, 1))"
   ]
  },
  {
   "cell_type": "code",
   "execution_count": null,
   "metadata": {
    "slideshow": {
     "slide_type": "skip"
    }
   },
   "outputs": [],
   "source": []
  }
 ],
 "metadata": {
  "celltoolbar": "Slideshow",
  "kernelspec": {
   "display_name": "Python 3",
   "language": "python",
   "name": "python3"
  },
  "language_info": {
   "codemirror_mode": {
    "name": "ipython",
    "version": 3
   },
   "file_extension": ".py",
   "mimetype": "text/x-python",
   "name": "python",
   "nbconvert_exporter": "python",
   "pygments_lexer": "ipython3",
   "version": "3.6.7"
  }
 },
 "nbformat": 4,
 "nbformat_minor": 2
}
