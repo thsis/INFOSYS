{
 "cells": [
  {
   "cell_type": "markdown",
   "metadata": {},
   "source": [
    "# Basic Preprocessing\n",
    "\n",
    "We will\n",
    "* read the data\n",
    "* parse the dates\n",
    "* group the data \n",
    "\n",
    "for further analysis."
   ]
  },
  {
   "cell_type": "code",
   "execution_count": 1,
   "metadata": {},
   "outputs": [],
   "source": [
    "import os\n",
    "import numpy as np\n",
    "import pandas as pd"
   ]
  },
  {
   "cell_type": "markdown",
   "metadata": {},
   "source": [
    "---\n",
    "## Read the Data\n",
    "Because of the ridiculous size of this dataset (1.5 GB) we load only columns we wish to use. Also note that we cannot parse the date during reading, since the date/time is stored in a non-standard format."
   ]
  },
  {
   "cell_type": "code",
   "execution_count": 2,
   "metadata": {},
   "outputs": [],
   "source": [
    "datapath = os.path.join(\"..\", \"data\", \"crimes.zip\")\n",
    "columns = [\"ID\", \"Date\", \"Block\", \"Primary Type\", \"Latitude\", \"Longitude\", \"District\", \"Ward\", \"Community Area\"]\n",
    "fulldata = pd.read_csv(datapath, usecols=columns)"
   ]
  },
  {
   "cell_type": "markdown",
   "metadata": {},
   "source": [
    "And see, by omitting a lot of columns which are\n",
    "\n",
    "* a) containing text, which is hard to compress (thus large)\n",
    "* b) essentially redundant\n",
    "\n",
    "we can cut down the datasize to something more managable."
   ]
  },
  {
   "cell_type": "code",
   "execution_count": 3,
   "metadata": {},
   "outputs": [
    {
     "name": "stdout",
     "output_type": "stream",
     "text": [
      "<class 'pandas.core.frame.DataFrame'>\n",
      "RangeIndex: 6739035 entries, 0 to 6739034\n",
      "Data columns (total 9 columns):\n",
      "ID                int64\n",
      "Date              object\n",
      "Block             object\n",
      "Primary Type      object\n",
      "District          float64\n",
      "Ward              float64\n",
      "Community Area    float64\n",
      "Latitude          float64\n",
      "Longitude         float64\n",
      "dtypes: float64(5), int64(1), object(3)\n",
      "memory usage: 462.7+ MB\n"
     ]
    }
   ],
   "source": [
    "fulldata.info()"
   ]
  },
  {
   "cell_type": "markdown",
   "metadata": {},
   "source": [
    "We did not even lose data (which we should check):"
   ]
  },
  {
   "cell_type": "code",
   "execution_count": 4,
   "metadata": {},
   "outputs": [
    {
     "name": "stdout",
     "output_type": "stream",
     "text": [
      "6739036 ../data/crimes.csv\n"
     ]
    }
   ],
   "source": [
    "!wc -l ../data/crimes.csv"
   ]
  },
  {
   "cell_type": "markdown",
   "metadata": {},
   "source": [
    "The one line difference is just the header."
   ]
  },
  {
   "cell_type": "code",
   "execution_count": 5,
   "metadata": {},
   "outputs": [
    {
     "data": {
      "text/html": [
       "<div>\n",
       "<style scoped>\n",
       "    .dataframe tbody tr th:only-of-type {\n",
       "        vertical-align: middle;\n",
       "    }\n",
       "\n",
       "    .dataframe tbody tr th {\n",
       "        vertical-align: top;\n",
       "    }\n",
       "\n",
       "    .dataframe thead th {\n",
       "        text-align: right;\n",
       "    }\n",
       "</style>\n",
       "<table border=\"1\" class=\"dataframe\">\n",
       "  <thead>\n",
       "    <tr style=\"text-align: right;\">\n",
       "      <th></th>\n",
       "      <th>ID</th>\n",
       "      <th>Date</th>\n",
       "      <th>Block</th>\n",
       "      <th>Primary Type</th>\n",
       "      <th>District</th>\n",
       "      <th>Ward</th>\n",
       "      <th>Community Area</th>\n",
       "      <th>Latitude</th>\n",
       "      <th>Longitude</th>\n",
       "    </tr>\n",
       "  </thead>\n",
       "  <tbody>\n",
       "    <tr>\n",
       "      <th>0</th>\n",
       "      <td>10000092</td>\n",
       "      <td>03/18/2015 07:44:00 PM</td>\n",
       "      <td>047XX W OHIO ST</td>\n",
       "      <td>BATTERY</td>\n",
       "      <td>11.0</td>\n",
       "      <td>28.0</td>\n",
       "      <td>25.0</td>\n",
       "      <td>41.891399</td>\n",
       "      <td>-87.744385</td>\n",
       "    </tr>\n",
       "    <tr>\n",
       "      <th>1</th>\n",
       "      <td>10000094</td>\n",
       "      <td>03/18/2015 11:00:00 PM</td>\n",
       "      <td>066XX S MARSHFIELD AVE</td>\n",
       "      <td>OTHER OFFENSE</td>\n",
       "      <td>7.0</td>\n",
       "      <td>15.0</td>\n",
       "      <td>67.0</td>\n",
       "      <td>41.773372</td>\n",
       "      <td>-87.665319</td>\n",
       "    </tr>\n",
       "    <tr>\n",
       "      <th>2</th>\n",
       "      <td>10000095</td>\n",
       "      <td>03/18/2015 10:45:00 PM</td>\n",
       "      <td>044XX S LAKE PARK AVE</td>\n",
       "      <td>BATTERY</td>\n",
       "      <td>2.0</td>\n",
       "      <td>4.0</td>\n",
       "      <td>39.0</td>\n",
       "      <td>41.813861</td>\n",
       "      <td>-87.596643</td>\n",
       "    </tr>\n",
       "    <tr>\n",
       "      <th>3</th>\n",
       "      <td>10000096</td>\n",
       "      <td>03/18/2015 10:30:00 PM</td>\n",
       "      <td>051XX S MICHIGAN AVE</td>\n",
       "      <td>BATTERY</td>\n",
       "      <td>2.0</td>\n",
       "      <td>3.0</td>\n",
       "      <td>40.0</td>\n",
       "      <td>41.800802</td>\n",
       "      <td>-87.622619</td>\n",
       "    </tr>\n",
       "    <tr>\n",
       "      <th>4</th>\n",
       "      <td>10000097</td>\n",
       "      <td>03/18/2015 09:00:00 PM</td>\n",
       "      <td>047XX W ADAMS ST</td>\n",
       "      <td>ROBBERY</td>\n",
       "      <td>11.0</td>\n",
       "      <td>28.0</td>\n",
       "      <td>25.0</td>\n",
       "      <td>41.878065</td>\n",
       "      <td>-87.743354</td>\n",
       "    </tr>\n",
       "    <tr>\n",
       "      <th>5</th>\n",
       "      <td>10000098</td>\n",
       "      <td>03/18/2015 10:00:00 PM</td>\n",
       "      <td>049XX S DREXEL BLVD</td>\n",
       "      <td>BATTERY</td>\n",
       "      <td>2.0</td>\n",
       "      <td>4.0</td>\n",
       "      <td>39.0</td>\n",
       "      <td>41.805443</td>\n",
       "      <td>-87.604284</td>\n",
       "    </tr>\n",
       "    <tr>\n",
       "      <th>6</th>\n",
       "      <td>10000099</td>\n",
       "      <td>03/18/2015 11:00:00 PM</td>\n",
       "      <td>070XX S MORGAN ST</td>\n",
       "      <td>BATTERY</td>\n",
       "      <td>7.0</td>\n",
       "      <td>17.0</td>\n",
       "      <td>68.0</td>\n",
       "      <td>41.766403</td>\n",
       "      <td>-87.649296</td>\n",
       "    </tr>\n",
       "    <tr>\n",
       "      <th>7</th>\n",
       "      <td>10000100</td>\n",
       "      <td>03/18/2015 09:35:00 PM</td>\n",
       "      <td>042XX S PRAIRIE AVE</td>\n",
       "      <td>BATTERY</td>\n",
       "      <td>2.0</td>\n",
       "      <td>3.0</td>\n",
       "      <td>38.0</td>\n",
       "      <td>41.817553</td>\n",
       "      <td>-87.619819</td>\n",
       "    </tr>\n",
       "    <tr>\n",
       "      <th>8</th>\n",
       "      <td>10000101</td>\n",
       "      <td>03/18/2015 10:09:00 PM</td>\n",
       "      <td>036XX S WOLCOTT AVE</td>\n",
       "      <td>NARCOTICS</td>\n",
       "      <td>9.0</td>\n",
       "      <td>11.0</td>\n",
       "      <td>59.0</td>\n",
       "      <td>41.828138</td>\n",
       "      <td>-87.672782</td>\n",
       "    </tr>\n",
       "    <tr>\n",
       "      <th>9</th>\n",
       "      <td>10000104</td>\n",
       "      <td>03/18/2015 09:25:00 PM</td>\n",
       "      <td>097XX S PRAIRIE AVE</td>\n",
       "      <td>BATTERY</td>\n",
       "      <td>5.0</td>\n",
       "      <td>6.0</td>\n",
       "      <td>49.0</td>\n",
       "      <td>41.717455</td>\n",
       "      <td>-87.617663</td>\n",
       "    </tr>\n",
       "  </tbody>\n",
       "</table>\n",
       "</div>"
      ],
      "text/plain": [
       "         ID                    Date                   Block   Primary Type  \\\n",
       "0  10000092  03/18/2015 07:44:00 PM         047XX W OHIO ST        BATTERY   \n",
       "1  10000094  03/18/2015 11:00:00 PM  066XX S MARSHFIELD AVE  OTHER OFFENSE   \n",
       "2  10000095  03/18/2015 10:45:00 PM   044XX S LAKE PARK AVE        BATTERY   \n",
       "3  10000096  03/18/2015 10:30:00 PM    051XX S MICHIGAN AVE        BATTERY   \n",
       "4  10000097  03/18/2015 09:00:00 PM        047XX W ADAMS ST        ROBBERY   \n",
       "5  10000098  03/18/2015 10:00:00 PM     049XX S DREXEL BLVD        BATTERY   \n",
       "6  10000099  03/18/2015 11:00:00 PM       070XX S MORGAN ST        BATTERY   \n",
       "7  10000100  03/18/2015 09:35:00 PM     042XX S PRAIRIE AVE        BATTERY   \n",
       "8  10000101  03/18/2015 10:09:00 PM     036XX S WOLCOTT AVE      NARCOTICS   \n",
       "9  10000104  03/18/2015 09:25:00 PM     097XX S PRAIRIE AVE        BATTERY   \n",
       "\n",
       "   District  Ward  Community Area   Latitude  Longitude  \n",
       "0      11.0  28.0            25.0  41.891399 -87.744385  \n",
       "1       7.0  15.0            67.0  41.773372 -87.665319  \n",
       "2       2.0   4.0            39.0  41.813861 -87.596643  \n",
       "3       2.0   3.0            40.0  41.800802 -87.622619  \n",
       "4      11.0  28.0            25.0  41.878065 -87.743354  \n",
       "5       2.0   4.0            39.0  41.805443 -87.604284  \n",
       "6       7.0  17.0            68.0  41.766403 -87.649296  \n",
       "7       2.0   3.0            38.0  41.817553 -87.619819  \n",
       "8       9.0  11.0            59.0  41.828138 -87.672782  \n",
       "9       5.0   6.0            49.0  41.717455 -87.617663  "
      ]
     },
     "execution_count": 5,
     "metadata": {},
     "output_type": "execute_result"
    }
   ],
   "source": [
    "fulldata.head(10)"
   ]
  },
  {
   "cell_type": "markdown",
   "metadata": {},
   "source": [
    "---\n",
    "## Parse dates\n",
    "\n",
    "The next useful step is to convert the *Date* column to a `datetime`-object - thus facilitating further time related operations. However, keep in mind that this takes a lot of time if you don't specify the format (and subsequently discard information on the exact time)."
   ]
  },
  {
   "cell_type": "code",
   "execution_count": 6,
   "metadata": {},
   "outputs": [],
   "source": [
    "fulldata[\"Date\"] = pd.to_datetime(fulldata[\"Date\"],\n",
    "                                  format='%m/%d/%Y',\n",
    "                                  exact=False)\n",
    "fulldata = fulldata.set_index(\"Date\")"
   ]
  },
  {
   "cell_type": "markdown",
   "metadata": {},
   "source": [
    "---\n",
    "## Grouping the dataset\n",
    "\n",
    "We are interested in two views of the dataset:\n",
    "1. Crime as the total number of incidents for the whole city\n",
    "2. Crime per district\n",
    "3. Crime per ward\n",
    "\n",
    "### Crime total\n",
    "\n",
    "This is super straightforward:"
   ]
  },
  {
   "cell_type": "code",
   "execution_count": 29,
   "metadata": {},
   "outputs": [],
   "source": [
    "crimes_total = fulldata.groupby(fulldata.index.date).ID.count().reset_index()\n",
    "crimes_total.to_csv(os.path.join(\"..\", \"data\", \"crime_total.csv\"),\n",
    "                    header=[\"date\", \"crimes_total\"], index=False)"
   ]
  },
  {
   "cell_type": "markdown",
   "metadata": {},
   "source": [
    "---\n",
    "\n",
    "### Crime by district\n",
    "\n",
    "This one is not so easy, it has some pitfalls. Note that we have some missing values for the districts:"
   ]
  },
  {
   "cell_type": "code",
   "execution_count": 75,
   "metadata": {},
   "outputs": [
    {
     "data": {
      "text/plain": [
       "array([11.,  7.,  2.,  9.,  5.,  6.,  4., 12., 15., 14.,  1., 20., 10.,\n",
       "       22.,  8., 17.,  3., 18., 16., 25., 24., 19., 31., nan, 21.])"
      ]
     },
     "execution_count": 75,
     "metadata": {},
     "output_type": "execute_result"
    }
   ],
   "source": [
    "fulldata.District.unique()"
   ]
  },
  {
   "cell_type": "markdown",
   "metadata": {},
   "source": [
    "However we can safely discard them."
   ]
  },
  {
   "cell_type": "code",
   "execution_count": 54,
   "metadata": {},
   "outputs": [],
   "source": [
    "crimes_district = fulldata.dropna(subset=[\"District\"])\n",
    "crimes_district = crimes_district.groupby([\"District\", crimes_district.index]).ID.count()"
   ]
  },
  {
   "cell_type": "markdown",
   "metadata": {},
   "source": [
    "This way we overlook something crucial - what if on some days there is no reported crime in a specific district? This is something we should definitely fix, since our subsequent algorithms will require that each day in the dataset has the same number of samples."
   ]
  },
  {
   "cell_type": "code",
   "execution_count": 55,
   "metadata": {},
   "outputs": [
    {
     "data": {
      "text/plain": [
       "District\n",
       "1.0     6513\n",
       "2.0     6513\n",
       "3.0     6513\n",
       "4.0     6513\n",
       "5.0     6513\n",
       "6.0     6513\n",
       "7.0     6513\n",
       "8.0     6513\n",
       "9.0     6513\n",
       "10.0    6513\n",
       "11.0    6513\n",
       "12.0    6513\n",
       "14.0    6513\n",
       "15.0    6513\n",
       "16.0    6513\n",
       "17.0    6513\n",
       "18.0    6513\n",
       "19.0    6513\n",
       "20.0    6513\n",
       "21.0       4\n",
       "22.0    6513\n",
       "24.0    6513\n",
       "25.0    6513\n",
       "31.0     173\n",
       "Name: Date, dtype: int64"
      ]
     },
     "execution_count": 55,
     "metadata": {},
     "output_type": "execute_result"
    }
   ],
   "source": [
    "# Sanity check on number of observed dates:\n",
    "crimes_district.reset_index().groupby(\"District\").Date.count()"
   ]
  },
  {
   "cell_type": "markdown",
   "metadata": {},
   "source": [
    "Our suspicion turned out to be true, district $21$ and district $31$ appear to be more quiet than the rest of Chicago. This means we have to fill all days in which these districts do not appear with zeroes - or we discard them altogether since they clearly are outliers."
   ]
  },
  {
   "cell_type": "code",
   "execution_count": 57,
   "metadata": {},
   "outputs": [],
   "source": [
    "new_index = pd.MultiIndex.from_product(crimes_district.index.levels)\n",
    "crimes_district = crimes_district.reindex(new_index).fillna(0)"
   ]
  },
  {
   "cell_type": "markdown",
   "metadata": {},
   "source": [
    "Now our dataframe should have the desired shape, but again, this is something we should test"
   ]
  },
  {
   "cell_type": "code",
   "execution_count": 60,
   "metadata": {},
   "outputs": [
    {
     "data": {
      "text/plain": [
       "True"
      ]
     },
     "execution_count": 60,
     "metadata": {},
     "output_type": "execute_result"
    }
   ],
   "source": [
    "len(crimes_district) == fulldata.District.nunique() * fulldata.index.nunique()"
   ]
  },
  {
   "cell_type": "code",
   "execution_count": 64,
   "metadata": {},
   "outputs": [],
   "source": [
    "crimes_district.reset_index().to_csv(os.path.join(\"..\", \"data\", \"crimes_district.csv\"),\n",
    "                                     header=[\"District\", \"Date\", \"Incidents\"], index=False)"
   ]
  },
  {
   "cell_type": "markdown",
   "metadata": {},
   "source": [
    "---\n",
    "\n",
    "### Crime by ward"
   ]
  },
  {
   "cell_type": "code",
   "execution_count": 65,
   "metadata": {},
   "outputs": [
    {
     "data": {
      "text/plain": [
       "array([28., 15.,  4.,  3., 17., 11.,  6.,  9., 10.,  2., 37.,  7.,  1.,\n",
       "       34.,  8.,  5., 42., 48., 29., 25., 20., 21., 16., 31., 22., 32.,\n",
       "       35., 23., 14., 43., 45., 12., 27., 39., 18., 30., 13., 24., 49.,\n",
       "       50., 40., 36., 38., 26., 47., 44., 33., 41., 19., 46., nan])"
      ]
     },
     "execution_count": 65,
     "metadata": {},
     "output_type": "execute_result"
    }
   ],
   "source": [
    "fulldata.Ward.unique()"
   ]
  },
  {
   "cell_type": "code",
   "execution_count": 77,
   "metadata": {},
   "outputs": [],
   "source": [
    "crimes_ward = fulldata.dropna(subset=[\"Ward\"])\n",
    "crimes_ward = crimes_ward.groupby([\"Ward\", crimes_ward.index]).ID.count()"
   ]
  },
  {
   "cell_type": "code",
   "execution_count": 70,
   "metadata": {},
   "outputs": [
    {
     "data": {
      "text/plain": [
       "Ward\n",
       "1.0     6164\n",
       "2.0     6207\n",
       "3.0     6198\n",
       "4.0     6150\n",
       "5.0     6180\n",
       "6.0     6206\n",
       "7.0     6179\n",
       "8.0     6194\n",
       "9.0     6181\n",
       "10.0    6139\n",
       "11.0    6126\n",
       "12.0    6122\n",
       "13.0    6124\n",
       "14.0    6143\n",
       "15.0    6169\n",
       "16.0    6173\n",
       "17.0    6207\n",
       "18.0    6152\n",
       "19.0    6108\n",
       "20.0    6181\n",
       "21.0    6181\n",
       "22.0    6120\n",
       "23.0    6140\n",
       "24.0    6239\n",
       "25.0    6127\n",
       "26.0    6167\n",
       "27.0    6240\n",
       "28.0    6287\n",
       "29.0    6182\n",
       "30.0    6161\n",
       "31.0    6164\n",
       "32.0    6153\n",
       "33.0    6130\n",
       "34.0    6175\n",
       "35.0    6168\n",
       "36.0    6125\n",
       "37.0    6212\n",
       "38.0    6132\n",
       "39.0    6119\n",
       "40.0    6115\n",
       "41.0    6117\n",
       "42.0    6211\n",
       "43.0    6126\n",
       "44.0    6109\n",
       "45.0    6118\n",
       "46.0    6124\n",
       "47.0    6104\n",
       "48.0    6117\n",
       "49.0    6131\n",
       "50.0    6107\n",
       "Name: Date, dtype: int64"
      ]
     },
     "execution_count": 70,
     "metadata": {},
     "output_type": "execute_result"
    }
   ],
   "source": [
    "# Sanity check on number of observed dates:\n",
    "crimes_ward.reset_index().groupby(\"Ward\").Date.count()"
   ]
  },
  {
   "cell_type": "code",
   "execution_count": 71,
   "metadata": {},
   "outputs": [],
   "source": [
    "new_index = pd.MultiIndex.from_product(crimes_ward.index.levels)\n",
    "crimes_ward = crimes_ward.reindex(new_index).fillna(0)"
   ]
  },
  {
   "cell_type": "code",
   "execution_count": 79,
   "metadata": {},
   "outputs": [
    {
     "name": "stdout",
     "output_type": "stream",
     "text": [
      "307904\n"
     ]
    },
    {
     "data": {
      "text/plain": [
       "319137"
      ]
     },
     "execution_count": 79,
     "metadata": {},
     "output_type": "execute_result"
    }
   ],
   "source": [
    "print(len(crimes_ward) )\n",
    "(fulldata.Ward.nunique()-1) * (fulldata.index.nunique())"
   ]
  },
  {
   "cell_type": "code",
   "execution_count": 78,
   "metadata": {},
   "outputs": [
    {
     "data": {
      "text/plain": [
       "307904"
      ]
     },
     "execution_count": 78,
     "metadata": {},
     "output_type": "execute_result"
    }
   ],
   "source": [
    "len(crimes_ward)"
   ]
  },
  {
   "cell_type": "code",
   "execution_count": null,
   "metadata": {},
   "outputs": [],
   "source": []
  }
 ],
 "metadata": {
  "kernelspec": {
   "display_name": "Python 3",
   "language": "python",
   "name": "python3"
  },
  "language_info": {
   "codemirror_mode": {
    "name": "ipython",
    "version": 3
   },
   "file_extension": ".py",
   "mimetype": "text/x-python",
   "name": "python",
   "nbconvert_exporter": "python",
   "pygments_lexer": "ipython3",
   "version": "3.6.5"
  }
 },
 "nbformat": 4,
 "nbformat_minor": 2
}
