{
 "cells": [
  {
   "cell_type": "markdown",
   "metadata": {
    "slideshow": {
     "slide_type": "slide"
    }
   },
   "source": [
    "# Advanced RNNs: LSTM and GRU"
   ]
  },
  {
   "cell_type": "markdown",
   "metadata": {
    "slideshow": {
     "slide_type": "slide"
    }
   },
   "source": [
    "<img src=\"presentation_pics/overview_RNN_LSTM_GRU.png\" alt=\"LSTM\" style=\"width: 1000px;\"/>\n",
    "\n",
    "[Source: https://towardsdatascience.com/the-mostly-complete-chart-of-neural-networks-explained-3fb6f2367464]"
   ]
  },
  {
   "cell_type": "markdown",
   "metadata": {
    "slideshow": {
     "slide_type": "slide"
    }
   },
   "source": [
    "# LSTM Network - Long Short-Term Memory Network"
   ]
  },
  {
   "cell_type": "markdown",
   "metadata": {
    "slideshow": {
     "slide_type": "slide"
    }
   },
   "source": [
    "# LSTM\n",
    "<img src=\"presentation_pics/LSTM.png\" alt=\"LSTM\" style=\"width: 1000px;\"/>\n",
    "\n",
    "- Very popular source and graphics by Christopher Olah\n",
    "[Source: http://colah.github.io/posts/2015-08-Understanding-LSTMs/]"
   ]
  },
  {
   "cell_type": "markdown",
   "metadata": {
    "slideshow": {
     "slide_type": "slide"
    }
   },
   "source": [
    "# LSTM - Cell State and Hidden State\n",
    "\n",
    "<img src=\"presentation_pics/lstm_core_idea.png\" alt=\"LSTM\" style=\"width: 600px;\"/>\n",
    "\n",
    "\n"
   ]
  },
  {
   "cell_type": "markdown",
   "metadata": {
    "slideshow": {
     "slide_type": "slide"
    }
   },
   "source": [
    "# LSTM - 1.) Forget Gate\n",
    "\n",
    "<img src=\"presentation_pics/lstm_forget.png\" alt=\"LSTM\" style=\"width: 800px;\"/>\n",
    "\n",
    "# \"A man has dinner with his wife and her parents.\" "
   ]
  },
  {
   "cell_type": "markdown",
   "metadata": {
    "slideshow": {
     "slide_type": "slide"
    }
   },
   "source": [
    "# LSTM - 2.) Input Gate\n",
    "\n",
    "<img src=\"presentation_pics/lstm_input.png\" alt=\"LSTM\" style=\"width: 800px;\"/>\n",
    "\n",
    "# \"A man has dinner with his wife and her parents.\" "
   ]
  },
  {
   "cell_type": "markdown",
   "metadata": {
    "slideshow": {
     "slide_type": "slide"
    }
   },
   "source": [
    "# LSTM - 3.) New Cell State\n",
    "\n",
    "<img src=\"presentation_pics/lstm_new_cell_state.png\" alt=\"LSTM\" style=\"width: 800px;\"/>\n",
    "\n",
    "# \"A man has dinner with his wife and her parents.\" "
   ]
  },
  {
   "cell_type": "markdown",
   "metadata": {
    "slideshow": {
     "slide_type": "slide"
    }
   },
   "source": [
    "# LSTM - 4.) Output Gate\n",
    "\n",
    "<img src=\"presentation_pics/lstm_output.png\" alt=\"LSTM\" style=\"width: 800px;\"/>\n",
    "\n",
    "# \"A man has dinner with his wife and her parents.\" "
   ]
  },
  {
   "cell_type": "markdown",
   "metadata": {
    "slideshow": {
     "slide_type": "slide"
    }
   },
   "source": [
    "# LSTM Take Away\n",
    "1. forget\n",
    "2. update \n",
    "3. output \n",
    "\n",
    "\n",
    "# Why LSTM?\n",
    "- forget gate can let information pass through unchanged \n",
    "- cell state separate from output\n",
    "## “In France, I had a great time and I learnt some of the French language.”\n",
    "\n",
    "\n",
    "- cell states depend through addition: prevent vanishing gradient\n",
    "\n",
    "[Source: http://harinisuresh.com/2016/10/09/lstms/]\n",
    "\n"
   ]
  },
  {
   "cell_type": "markdown",
   "metadata": {
    "slideshow": {
     "slide_type": "slide"
    }
   },
   "source": [
    "## GRU Network - Gated Recurrent Unit##"
   ]
  },
  {
   "cell_type": "markdown",
   "metadata": {
    "slideshow": {
     "slide_type": "slide"
    }
   },
   "source": [
    "## GRU\n",
    "<img src=\"presentation_pics/GRU.png\" alt=\"GRU\" style=\"width: 800px;\"/>\n",
    "\n",
    "simplified example:\n",
    "- 1. values of update gate z_t = 0 : ignore current state\n",
    "\n",
    "\\begin{align}\n",
    "\\mathbf{h_t = 1*h_{t-1} + 0*h_t}\n",
    "\\end{align}\n",
    "\n",
    "- 2. values of update gate z_t = 1 : ignore previous state\n",
    "\n",
    "\\begin{align}\n",
    "\\mathbf{h_t = 0*h_{t-1} + 1*h_t} \n",
    "\\end{align}\n",
    "\n",
    "\n",
    "\n",
    "[Source: http://colah.github.io/posts/2015-08-Understanding-LSTMs/]"
   ]
  }
 ],
 "metadata": {
  "celltoolbar": "Slideshow",
  "kernelspec": {
   "display_name": "Python 3",
   "language": "python",
   "name": "python3"
  },
  "language_info": {
   "codemirror_mode": {
    "name": "ipython",
    "version": 3
   },
   "file_extension": ".py",
   "mimetype": "text/x-python",
   "name": "python",
   "nbconvert_exporter": "python",
   "pygments_lexer": "ipython3",
   "version": "3.6.0"
  }
 },
 "nbformat": 4,
 "nbformat_minor": 2
}
