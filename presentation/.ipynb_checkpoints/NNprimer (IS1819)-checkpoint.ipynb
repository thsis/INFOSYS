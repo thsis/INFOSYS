{
 "cells": [
  {
   "cell_type": "markdown",
   "metadata": {
    "slideshow": {
     "slide_type": "slide"
    }
   },
   "source": [
    "# Neural Network Fundamentals #"
   ]
  },
  {
   "cell_type": "markdown",
   "metadata": {
    "slideshow": {
     "slide_type": "slide"
    }
   },
   "source": [
    "<img src=\"pics/hello.jpg\" alt=\"Hello\" style=\"width: 600px;\"/>\n",
    "\n"
   ]
  },
  {
   "cell_type": "markdown",
   "metadata": {
    "slideshow": {
     "slide_type": "slide"
    }
   },
   "source": [
    "## Implementation of the NN from scratch \n",
    " - Structure of NN\n",
    " - Activation functions\n",
    " - Loss function\n",
    " - Stochastic Gradient Descent (SGD)\n",
    " - Learning Rate\n",
    " - Backpropagation\n",
    " - Application in Python (MNIST)"
   ]
  },
  {
   "cell_type": "markdown",
   "metadata": {
    "slideshow": {
     "slide_type": "slide"
    }
   },
   "source": [
    "<img src=\"pics/chart.png\" alt=\"Drawing\" style=\"width: 600px;\"/>[Source:towardsdatascience.com/the-mostly-complete-chart-of-neural-networks-explained-3fb6f2367464]"
   ]
  },
  {
   "cell_type": "markdown",
   "metadata": {
    "slideshow": {
     "slide_type": "slide"
    }
   },
   "source": [
    "## Vanilla Neural Network/ MLP/FF ##\n",
    "<img src=\"pics/neural_network1.png\" alt=\"Wefefhts\" style=\"width: 700px;\"/>"
   ]
  },
  {
   "cell_type": "markdown",
   "metadata": {
    "slideshow": {
     "slide_type": "slide"
    }
   },
   "source": [
    "## Determine the structure of the NN\n",
    "<img src=\"pics/neural_network11.png\" alt=\"Wesssgs\" style=\"width: 700px;\"/>\n",
    "\n",
    "Number of neurons in input and output depends on your data structure and questions you want to answer. While hidden layer requires a bit more creativity and trial and error. In many cases to get a starting point you can follow a certain \"best design\" from papers or other practitioners, otherwise it is encouraged to experiment."
   ]
  },
  {
   "cell_type": "markdown",
   "metadata": {
    "slideshow": {
     "slide_type": "slide"
    }
   },
   "source": [
    "## Matrix representaiton ##\n",
    "Let's stick to the current NN design.\n",
    "- Input layer __a__ is a 3x1 vector\n",
    "- Hidden layer __a'__ is a 4x1 vector, that consists of an output of activation function.\n",
    "- Then __w__ must be a 4x3 matrix, where the first row represents connection of input neurons to the first hidden layer neuron\n",
    "\\begin{pmatrix} w_{0,0} & w_{0,1}&w_{0,2}\\\\ w_{1,0} & w_{1,1}&w_{1,2}\\\\ w_{2,0} & w_{2,1}&w_{2,2}\\\\ w_{3,0} & w_{3,1}&w_{3,2} \\end{pmatrix}\n",
    "\n",
    "First out of 4 neurons of the hidden layer may be represented as:\n",
    "\n",
    "<img src=\"pics/line.png\" alt=\"Mnotation\" style=\"width: 400px;\"/> \n",
    "\n",
    "\n",
    "Where __b__ is a bias or a threshold that prevents the neuron from 'firing' until the value reaches a certain limit. The weights and the biases will be at the center of our attention today."
   ]
  },
  {
   "cell_type": "markdown",
   "metadata": {
    "slideshow": {
     "slide_type": "slide"
    }
   },
   "source": [
    "## Activation function ##\n"
   ]
  },
  {
   "cell_type": "code",
   "execution_count": 7,
   "metadata": {
    "scrolled": true,
    "slideshow": {
     "slide_type": "slide"
    }
   },
   "outputs": [
    {
     "data": {
      "text/plain": [
       "[<matplotlib.lines.Line2D at 0x2177d4358d0>]"
      ]
     },
     "execution_count": 7,
     "metadata": {},
     "output_type": "execute_result"
    },
    {
     "data": {
      "image/png": "[encoded data removed]",
      "text/plain": [
       "<Figure size 432x288 with 1 Axes>"
      ]
     },
     "metadata": {
      "needs_background": "light"
     },
     "output_type": "display_data"
    }
   ],
   "source": [
    "### Sigmoid function ###\n",
    "\n",
    "import numpy as np\n",
    "import matplotlib.pyplot as plt\n",
    "%matplotlib inline\n",
    "\n",
    "def sigmoid(x):\n",
    "    return 1 / (1 + np.exp(-x))\n",
    "x = np.linspace(-10, 10, 100)\n",
    "\n",
    "plt.plot(x, sigmoid(x))\n"
   ]
  },
  {
   "cell_type": "code",
   "execution_count": 2,
   "metadata": {
    "slideshow": {
     "slide_type": "slide"
    }
   },
   "outputs": [
    {
     "data": {
      "text/plain": [
       "[<matplotlib.lines.Line2D at 0x25792726b70>]"
      ]
     },
     "execution_count": 2,
     "metadata": {},
     "output_type": "execute_result"
    },
    {
     "data": {
      "image/png": "[encoded data removed]",
      "text/plain": [
       "<Figure size 432x288 with 1 Axes>"
      ]
     },
     "metadata": {
      "needs_background": "light"
     },
     "output_type": "display_data"
    }
   ],
   "source": [
    "def ReLU(x):\n",
    "    return np.maximum(0, x)\n",
    "\n",
    "x = np.linspace(-10, 10, 100)\n",
    "plt.plot(x, ReLU(x))\n"
   ]
  },
  {
   "cell_type": "markdown",
   "metadata": {
    "slideshow": {
     "slide_type": "slide"
    }
   },
   "source": [
    "\n",
    "The left part of the network can thus be represented as:\n",
    "<img src=\"pics/matrixnotation.png\" alt=\"Mnotation\" style=\"width: 600px;\"/> \n",
    "<img src=\"pics/neural_network13.png\" alt=\"Weights\" style=\"width: 300px;\"/>\n",
    "<img src=\"pics/mn.png\" alt=\"Weights\" style=\"width:250px;\"/>"
   ]
  },
  {
   "cell_type": "markdown",
   "metadata": {
    "slideshow": {
     "slide_type": "slide"
    }
   },
   "source": [
    "## Now to output ##\n",
    "<img src=\"pics/neural_network14.png\" alt=\"Weights\" style=\"width: 400px;\"/>\n",
    "<img src=\"pics/outfun.png\" alt=\"Weights\" style=\"width: 300px;\"/>\n",
    "\n",
    "Where **b** and **v** are biases and the output neurons represent the predicted probabilities of observations being  0 or 1"
   ]
  },
  {
   "cell_type": "markdown",
   "metadata": {
    "slideshow": {
     "slide_type": "slide"
    }
   },
   "source": [
    "## How do we tell our NN that it's not doing a good job?##\n",
    "<img src=\"pics/loss1.png\"  alt=\"loss\" style=\"width: 500px;\"/> \n",
    "If we set the W, M, b and v randomly, probably the output neurons will end up with some random values as well, that will not offer us any decisive predictions. So we need to train our network to give a sure prediction: 0 or 1. First of all how do we quantify the error?"
   ]
  },
  {
   "cell_type": "markdown",
   "metadata": {
    "slideshow": {
     "slide_type": "slide"
    }
   },
   "source": [
    "## Loss function ##\n",
    "\n",
    "<img src=\"pics/loss2.png\"  alt=\"loss\" style=\"width: 300px;\"/> \n",
    "\n",
    "Remember these are vectors, so we are in multidimensional space. We want to find a way to minimise this loss function.\n",
    "NB: depending on the task you can select the loss funtion that fits your purpose best."
   ]
  },
  {
   "cell_type": "markdown",
   "metadata": {
    "slideshow": {
     "slide_type": "slide"
    }
   },
   "source": [
    "## Searching for minimum in multidimensional space ##\n",
    "We have **W**, **b** , **M** and **v** responsible for the output. How do we tweak them? Every output neuron will have an 'opinion' and we need to average over them.\n",
    "<img src=\"pics/surface.jpg\"  alt=\"loss\" style=\"width: 500px;\"/> Source: [http://empython.blogspot.com/2012/04/more-uneven-surface-tiling.html]\n"
   ]
  },
  {
   "cell_type": "markdown",
   "metadata": {
    "slideshow": {
     "slide_type": "slide"
    }
   },
   "source": [
    "## Gradient descent##\n",
    "\n",
    "<img src=\"pics/gradient_descent2.png\"  alt=\"Drawing\" style=\"width: 800px;\"/> https://ebook4expert.com/2016/07/12/make-your-own-neural-network-ebook-free-by-tariq-rashid-epubmobi/]"
   ]
  },
  {
   "cell_type": "markdown",
   "metadata": {
    "slideshow": {
     "slide_type": "slide"
    }
   },
   "source": [
    "## Gradient ##\n",
    "The fastest way to go down from the plateau of parameters would be to find the negative gradient of loss function *C*.\n",
    "<img src=\"pics/neggrad.png\"  alt=\"Drawing\" style=\"width: 100px;\"/> \n"
   ]
  },
  {
   "cell_type": "markdown",
   "metadata": {
    "slideshow": {
     "slide_type": "notes"
    }
   },
   "source": [
    " derivation of GD on the board"
   ]
  },
  {
   "cell_type": "code",
   "execution_count": 4,
   "metadata": {
    "scrolled": true,
    "slideshow": {
     "slide_type": "slide"
    }
   },
   "outputs": [
    {
     "data": {
      "text/html": [
       "<iframe src=\"https://giphy.com/embed/8tvzvXhB3wcmI\" width=\"1000\" height=\"400\" frameBorder=\"0\" class=\"giphy-embed\" allowFullScreen></iframe>\n",
       "<p><a href=\"https://giphy.com/gifs/deep-learning-8tvzvXhB3wcmI\">via GIPHY</a></p>"
      ],
      "text/plain": [
       "<IPython.core.display.HTML object>"
      ]
     },
     "metadata": {},
     "output_type": "display_data"
    }
   ],
   "source": [
    "%%html\n",
    "<iframe src=\"https://giphy.com/embed/8tvzvXhB3wcmI\" width=\"1000\" height=\"400\" frameBorder=\"0\" class=\"giphy-embed\" allowFullScreen></iframe>\n",
    "<p><a href=\"https://giphy.com/gifs/deep-learning-8tvzvXhB3wcmI\">via GIPHY</a></p>"
   ]
  },
  {
   "cell_type": "markdown",
   "metadata": {
    "slideshow": {
     "slide_type": "slide"
    }
   },
   "source": [
    "## Stochastic gradient decent ##\n",
    "Averaging across the whole training batch in order to estimate the gradient and perform a backpropagation would be extremely computationally costly. That is why we can select a __minibatch__ or a sample or a certain size from the training set and average acrosss their results. This way after many iterations we would converge towards the actual sample parameters. "
   ]
  },
  {
   "cell_type": "markdown",
   "metadata": {
    "slideshow": {
     "slide_type": "slide"
    }
   },
   "source": [
    "## Learning Rate ##\n",
    "Size of step we make towards the local minimum.\n",
    "<img src=\"pics/lrate.png\" alt=\"loss2\"  style=\"width: 150px;\"/>\n",
    "\n",
    "<img src=\"pics/lr.png\"  alt=\"loss\" style=\"width: 500px;\"/>\n",
    "Source: [https://mllog.github.io/2016/11/04/Python-ML-Chapter-2/]"
   ]
  },
  {
   "cell_type": "markdown",
   "metadata": {
    "slideshow": {
     "slide_type": "slide"
    }
   },
   "source": [
    "## Backpropagation ##\n",
    "Backpropagation is an algorithm for computing the gradient in multidimensional space, using chain rule.\n",
    "<img src=\"pics/bp_1.png\" alt=\"Drawing\" style=\"width: 800px;\"/>"
   ]
  },
  {
   "cell_type": "markdown",
   "metadata": {
    "slideshow": {
     "slide_type": "slide"
    }
   },
   "source": [
    "## Let's apply what we learnt ##"
   ]
  },
  {
   "cell_type": "markdown",
   "metadata": {
    "slideshow": {
     "slide_type": "slide"
    }
   },
   "source": [
    "## Image recognition with MNIST\n",
    "<img src=\"pics/problem.png\" alt=\"Drawing\" style=\"width: 600px;\"/>\n",
    "We will feed in picture by picture. Every picture consists of 28x28 pixels ona greyscale. Meaning we will have 784 input neurons with a scale 0 to 1 depicting the shade (0 - white, 1-black). We will be predicting numbers 0-9 meaning we will have 10 output neurons, each containing the probability that the certain number is depicted in the fed picture. Number of hiddent layers is up to us. Let's set it up with Python!"
   ]
  },
  {
   "cell_type": "code",
   "execution_count": 13,
   "metadata": {
    "slideshow": {
     "slide_type": "slide"
    }
   },
   "outputs": [],
   "source": [
    "# Load the data\n",
    "with open(\"data/mnist_train_100.csv\", 'r') as file:\n",
    "    raw_data = file.readlines()\n",
    "\n",
    "\n",
    "# https://pjreddie.com/projects/mnist-in-csv/\n",
    "# http://yann.lecun.com/exdb/mnist/"
   ]
  },
  {
   "cell_type": "code",
   "execution_count": 14,
   "metadata": {
    "scrolled": true,
    "slideshow": {
     "slide_type": "slide"
    }
   },
   "outputs": [
    {
     "data": {
      "text/plain": [
       "100"
      ]
     },
     "execution_count": 14,
     "metadata": {},
     "output_type": "execute_result"
    }
   ],
   "source": [
    "# Inspect the data\n",
    "len(raw_data)"
   ]
  },
  {
   "cell_type": "code",
   "execution_count": 15,
   "metadata": {
    "slideshow": {
     "slide_type": "slide"
    }
   },
   "outputs": [
    {
     "data": {
      "text/plain": [
       "'5,0,0,0,0,0,0,0,0,0,0,0,0,0,0,0,0,0,0,0,0,0,0,0,0,0,0,0,0,0,0,0,0,0,0,0,0,0,0,0,0,0,0,0,0,0,0,0,0,0,0,0,0,0,0,0,0,0,0,0,0,0,0,0,0,0,0,0,0,0,0,0,0,0,0,0,0,0,0,0,0,0,0,0,0,0,0,0,0,0,0,0,0,0,0,0,0,0,0,0,0,0,0,0,0,0,0,0,0,0,0,0,0,0,0,0,0,0,0,0,0,0,0,0,0,0,0,0,0,0,0,0,0,0,0,0,0,0,0,0,0,0,0,0,0,0,0,0,0,0,0,0,0,3,18,18,18,126,136,175,26,166,255,247,127,0,0,0,0,0,0,0,0,0,0,0,0,30,36,94,154,170,253,253,253,253,253,225,172,253,242,195,64,0,0,0,0,0,0,0,0,0,0,0,49,238,253,253,253,253,253,253,253,253,251,93,82,82,56,39,0,0,0,0,0,0,0,0,0,0,0,0,18,219,253,253,253,253,253,198,182,247,241,0,0,0,0,0,0,0,0,0,0,0,0,0,0,0,0,0,0,80,156,107,253,253,205,11,0,43,154,0,0,0,0,0,0,0,0,0,0,0,0,0,0,0,0,0,0,0,14,1,154,253,90,0,0,0,0,0,0,0,0,0,0,0,0,0,0,0,0,0,0,0,0,0,0,0,0,0,139,253,190,2,0,0,0,0,0,0,0,0,0,0,0,0,0,0,0,0,0,0,0,0,0,0,0,0,11,190,253,70,0,0,0,0,0,0,0,0,0,0,0,0,0,0,0,0,0,0,0,0,0,0,0,0,0,35,241,225,160,108,1,0,0,0,0,0,0,0,0,0,0,0,0,0,0,0,0,0,0,0,0,0,0,0,81,240,253,253,119,25,0,0,0,0,0,0,0,0,0,0,0,0,0,0,0,0,0,0,0,0,0,0,0,45,186,253,253,150,27,0,0,0,0,0,0,0,0,0,0,0,0,0,0,0,0,0,0,0,0,0,0,0,16,93,252,253,187,0,0,0,0,0,0,0,0,0,0,0,0,0,0,0,0,0,0,0,0,0,0,0,0,0,249,253,249,64,0,0,0,0,0,0,0,0,0,0,0,0,0,0,0,0,0,0,0,0,0,46,130,183,253,253,207,2,0,0,0,0,0,0,0,0,0,0,0,0,0,0,0,0,0,0,0,39,148,229,253,253,253,250,182,0,0,0,0,0,0,0,0,0,0,0,0,0,0,0,0,0,0,24,114,221,253,253,253,253,201,78,0,0,0,0,0,0,0,0,0,0,0,0,0,0,0,0,0,23,66,213,253,253,253,253,198,81,2,0,0,0,0,0,0,0,0,0,0,0,0,0,0,0,0,18,171,219,253,253,253,253,195,80,9,0,0,0,0,0,0,0,0,0,0,0,0,0,0,0,0,55,172,226,253,253,253,253,244,133,11,0,0,0,0,0,0,0,0,0,0,0,0,0,0,0,0,0,0,136,253,253,253,212,135,132,16,0,0,0,0,0,0,0,0,0,0,0,0,0,0,0,0,0,0,0,0,0,0,0,0,0,0,0,0,0,0,0,0,0,0,0,0,0,0,0,0,0,0,0,0,0,0,0,0,0,0,0,0,0,0,0,0,0,0,0,0,0,0,0,0,0,0,0,0,0,0,0,0,0,0,0,0,0,0,0,0,0,0,0,0,0,0,0,0,0,0,0,0,0,0,0,0,0,0,0,0\\n'"
      ]
     },
     "execution_count": 15,
     "metadata": {},
     "output_type": "execute_result"
    }
   ],
   "source": [
    "raw_data[0]"
   ]
  },
  {
   "cell_type": "code",
   "execution_count": 16,
   "metadata": {
    "slideshow": {
     "slide_type": "slide"
    }
   },
   "outputs": [],
   "source": [
    "data = np.array([image.split(',') for image in raw_data], dtype=\"int\")\n",
    "X_train = data[:,1:]\n",
    "y_train = data[:,0]"
   ]
  },
  {
   "cell_type": "code",
   "execution_count": 21,
   "metadata": {
    "slideshow": {
     "slide_type": "slide"
    }
   },
   "outputs": [
    {
     "data": {
      "text/plain": [
       "array([[  0,   0,   0,   0,   0,   0,   0,   0,   0,   0,   0,   0,   0,   0,   0,   0,   0,   0,   0,   0,   0,   0,   0,   0,\n",
       "          0,   0,   0,   0],\n",
       "       [  0,   0,   0,   0,   0,   0,   0,   0,   0,   0,   0,   0,   0,   0,   0,   0,   0,   0,   0,   0,   0,   0,   0,   0,\n",
       "          0,   0,   0,   0],\n",
       "       [  0,   0,   0,   0,   0,   0,   0,   0,   0,   0,   0,   0,   0,   0,   0,   0,   0,   0,   0,   0,   0,   0,   0,   0,\n",
       "          0,   0,   0,   0],\n",
       "       [  0,   0,   0,   0,   0,   0,   0,   0,   0,   0,   0,   0,   0,   0,   0,   0,   0,   0,   0,   0,   0,   0,   0,   0,\n",
       "          0,   0,   0,   0],\n",
       "       [  0,   0,   0,   0,   0,   0,   0,   0,   0,   0,   0,   0,   0,   0,   0,   0,   0,   0,   0,   0,   0,   0,   0,   0,\n",
       "          0,   0,   0,   0],\n",
       "       [  0,   0,   0,   0,   0,   0,   0,   0,   0,   0,   0,   0,   3,  18,  18,  18, 126, 136, 175,  26, 166, 255, 247, 127,\n",
       "          0,   0,   0,   0],\n",
       "       [  0,   0,   0,   0,   0,   0,   0,   0,  30,  36,  94, 154, 170, 253, 253, 253, 253, 253, 225, 172, 253, 242, 195,  64,\n",
       "          0,   0,   0,   0],\n",
       "       [  0,   0,   0,   0,   0,   0,   0,  49, 238, 253, 253, 253, 253, 253, 253, 253, 253, 251,  93,  82,  82,  56,  39,   0,\n",
       "          0,   0,   0,   0],\n",
       "       [  0,   0,   0,   0,   0,   0,   0,  18, 219, 253, 253, 253, 253, 253, 198, 182, 247, 241,   0,   0,   0,   0,   0,   0,\n",
       "          0,   0,   0,   0],\n",
       "       [  0,   0,   0,   0,   0,   0,   0,   0,  80, 156, 107, 253, 253, 205,  11,   0,  43, 154,   0,   0,   0,   0,   0,   0,\n",
       "          0,   0,   0,   0],\n",
       "       [  0,   0,   0,   0,   0,   0,   0,   0,   0,  14,   1, 154, 253,  90,   0,   0,   0,   0,   0,   0,   0,   0,   0,   0,\n",
       "          0,   0,   0,   0],\n",
       "       [  0,   0,   0,   0,   0,   0,   0,   0,   0,   0,   0, 139, 253, 190,   2,   0,   0,   0,   0,   0,   0,   0,   0,   0,\n",
       "          0,   0,   0,   0],\n",
       "       [  0,   0,   0,   0,   0,   0,   0,   0,   0,   0,   0,  11, 190, 253,  70,   0,   0,   0,   0,   0,   0,   0,   0,   0,\n",
       "          0,   0,   0,   0],\n",
       "       [  0,   0,   0,   0,   0,   0,   0,   0,   0,   0,   0,   0,  35, 241, 225, 160, 108,   1,   0,   0,   0,   0,   0,   0,\n",
       "          0,   0,   0,   0],\n",
       "       [  0,   0,   0,   0,   0,   0,   0,   0,   0,   0,   0,   0,   0,  81, 240, 253, 253, 119,  25,   0,   0,   0,   0,   0,\n",
       "          0,   0,   0,   0],\n",
       "       [  0,   0,   0,   0,   0,   0,   0,   0,   0,   0,   0,   0,   0,   0,  45, 186, 253, 253, 150,  27,   0,   0,   0,   0,\n",
       "          0,   0,   0,   0],\n",
       "       [  0,   0,   0,   0,   0,   0,   0,   0,   0,   0,   0,   0,   0,   0,   0,  16,  93, 252, 253, 187,   0,   0,   0,   0,\n",
       "          0,   0,   0,   0],\n",
       "       [  0,   0,   0,   0,   0,   0,   0,   0,   0,   0,   0,   0,   0,   0,   0,   0,   0, 249, 253, 249,  64,   0,   0,   0,\n",
       "          0,   0,   0,   0],\n",
       "       [  0,   0,   0,   0,   0,   0,   0,   0,   0,   0,   0,   0,   0,   0,  46, 130, 183, 253, 253, 207,   2,   0,   0,   0,\n",
       "          0,   0,   0,   0],\n",
       "       [  0,   0,   0,   0,   0,   0,   0,   0,   0,   0,   0,   0,  39, 148, 229, 253, 253, 253, 250, 182,   0,   0,   0,   0,\n",
       "          0,   0,   0,   0],\n",
       "       [  0,   0,   0,   0,   0,   0,   0,   0,   0,   0,  24, 114, 221, 253, 253, 253, 253, 201,  78,   0,   0,   0,   0,   0,\n",
       "          0,   0,   0,   0],\n",
       "       [  0,   0,   0,   0,   0,   0,   0,   0,  23,  66, 213, 253, 253, 253, 253, 198,  81,   2,   0,   0,   0,   0,   0,   0,\n",
       "          0,   0,   0,   0],\n",
       "       [  0,   0,   0,   0,   0,   0,  18, 171, 219, 253, 253, 253, 253, 195,  80,   9,   0,   0,   0,   0,   0,   0,   0,   0,\n",
       "          0,   0,   0,   0],\n",
       "       [  0,   0,   0,   0,  55, 172, 226, 253, 253, 253, 253, 244, 133,  11,   0,   0,   0,   0,   0,   0,   0,   0,   0,   0,\n",
       "          0,   0,   0,   0],\n",
       "       [  0,   0,   0,   0, 136, 253, 253, 253, 212, 135, 132,  16,   0,   0,   0,   0,   0,   0,   0,   0,   0,   0,   0,   0,\n",
       "          0,   0,   0,   0],\n",
       "       [  0,   0,   0,   0,   0,   0,   0,   0,   0,   0,   0,   0,   0,   0,   0,   0,   0,   0,   0,   0,   0,   0,   0,   0,\n",
       "          0,   0,   0,   0],\n",
       "       [  0,   0,   0,   0,   0,   0,   0,   0,   0,   0,   0,   0,   0,   0,   0,   0,   0,   0,   0,   0,   0,   0,   0,   0,\n",
       "          0,   0,   0,   0],\n",
       "       [  0,   0,   0,   0,   0,   0,   0,   0,   0,   0,   0,   0,   0,   0,   0,   0,   0,   0,   0,   0,   0,   0,   0,   0,\n",
       "          0,   0,   0,   0]])"
      ]
     },
     "execution_count": 21,
     "metadata": {},
     "output_type": "execute_result"
    }
   ],
   "source": [
    "# Make sure that the output is wide enough\n",
    "np.set_printoptions(linewidth=100)\n",
    "\n",
    "X_train[0].reshape([28,28])"
   ]
  },
  {
   "cell_type": "code",
   "execution_count": 10,
   "metadata": {
    "slideshow": {
     "slide_type": "slide"
    }
   },
   "outputs": [
    {
     "data": {
      "text/plain": [
       "<matplotlib.image.AxesImage at 0x257928b5a90>"
      ]
     },
     "execution_count": 10,
     "metadata": {},
     "output_type": "execute_result"
    },
    {
     "data": {
      "image/png": "[encoded data removed]",
      "text/plain": [
       "<Figure size 432x288 with 1 Axes>"
      ]
     },
     "metadata": {
      "needs_background": "light"
     },
     "output_type": "display_data"
    }
   ],
   "source": [
    "## Load the package to plot the data\n",
    "#import matplotlib.pyplot as mpp\n",
    "#%matplotlib inline\n",
    "# Plot the data\n",
    "#observation = data[0].split(',')\n",
    "#image = np.asfarray(observation[1:]).reshape((28,28))\n",
    "plt.imshow(X_train[0].reshape( (28,28) ), cmap='Greys')"
   ]
  },
  {
   "cell_type": "code",
   "execution_count": 11,
   "metadata": {
    "slideshow": {
     "slide_type": "slide"
    }
   },
   "outputs": [
    {
     "data": {
      "text/plain": [
       "array([[0, 0, 0, ..., 0, 0, 0],\n",
       "       [0, 0, 0, ..., 0, 0, 0],\n",
       "       [0, 0, 0, ..., 0, 0, 0],\n",
       "       ...,\n",
       "       [0, 0, 0, ..., 0, 0, 0],\n",
       "       [0, 0, 0, ..., 0, 0, 0],\n",
       "       [0, 0, 0, ..., 0, 0, 0]])"
      ]
     },
     "execution_count": 11,
     "metadata": {},
     "output_type": "execute_result"
    }
   ],
   "source": [
    "X_train"
   ]
  },
  {
   "cell_type": "code",
   "execution_count": 12,
   "metadata": {
    "slideshow": {
     "slide_type": "slide"
    }
   },
   "outputs": [
    {
     "data": {
      "text/plain": [
       "<matplotlib.image.AxesImage at 0x2579282f1d0>"
      ]
     },
     "execution_count": 12,
     "metadata": {},
     "output_type": "execute_result"
    },
    {
     "data": {
      "image/png": "[encoded data removed]",
      "text/plain": [
       "<Figure size 432x288 with 1 Axes>"
      ]
     },
     "metadata": {
      "needs_background": "light"
     },
     "output_type": "display_data"
    }
   ],
   "source": [
    "# save an observation of the data as an input to work with.\n",
    "# inputs = np.array(np.asfarray(observation[1:]), ndmin=2).T \n",
    "# we need to make sure it's a value between 0 and 1\n",
    "train_mean = np.mean(X_train)\n",
    "train_std = np.std(X_train)\n",
    "\n",
    "X_train = (X_train - train_mean)/train_std\n",
    "plt.imshow(X_train[0].reshape( (28,28) ), cmap='Greys')"
   ]
  },
  {
   "cell_type": "markdown",
   "metadata": {
    "slideshow": {
     "slide_type": "slide"
    }
   },
   "source": [
    "## Fit the draft of the NN to the Data"
   ]
  },
  {
   "cell_type": "code",
   "execution_count": 13,
   "metadata": {
    "slideshow": {
     "slide_type": "slide"
    }
   },
   "outputs": [],
   "source": [
    "# Determine the structure of the NN\n",
    "inputLayer = 784 #28 squared input layer\n",
    "hiddenLayer = 100 #hidden layer\n",
    "outputLayer = 10 #output"
   ]
  },
  {
   "cell_type": "code",
   "execution_count": 14,
   "metadata": {
    "slideshow": {
     "slide_type": "slide"
    }
   },
   "outputs": [],
   "source": [
    "# Randomly defining the weights between nodes won't yield a good result \n",
    "#weightsInputToHidden = np.random.rand(hiddenLayer,inputLayer)\n",
    "#weightsHiddenToOutput = np.random.rand(outputLayer, hiddenLayer)\n",
    "\n",
    "limit = np.sqrt(6 / (inputLayer + outputLayer)) #see paper\n",
    "\n",
    "weightsInputToHidden = np.random.uniform(-limit, limit, (hiddenLayer, inputLayer))\n",
    "weightsHiddenToOutput = np.random.uniform(-limit, limit, (outputLayer, hiddenLayer))\n",
    "\n",
    "biasInputToHidden = np.ones( (hiddenLayer,1) ) #for sigmoid to pick 0, for ReLu you pick one\n",
    "biasHiddenToOutput = np.ones( (outputLayer,1) )\n",
    "\n",
    "#Xavier initialization"
   ]
  },
  {
   "cell_type": "code",
   "execution_count": 15,
   "metadata": {
    "slideshow": {
     "slide_type": "slide"
    }
   },
   "outputs": [],
   "source": [
    "#we need to ensure that the input comes as an array\n",
    "inputs = np.array(X_train[0]).reshape( (784,1) )"
   ]
  },
  {
   "cell_type": "code",
   "execution_count": 16,
   "metadata": {
    "slideshow": {
     "slide_type": "slide"
    }
   },
   "outputs": [
    {
     "data": {
      "text/plain": [
       "(10, 1)"
      ]
     },
     "execution_count": 16,
     "metadata": {},
     "output_type": "execute_result"
    }
   ],
   "source": [
    "#targets = np.array(np.zeros(o_n), ndmin=2).T\n",
    "#targets[int(observation[0])] = 1\n",
    "targets = np.array(np.zeros(outputLayer)).reshape( (10,1) )\n",
    "targets[y_train[0]] = 1\n",
    "targets.shape\n",
    "#we would expect sixth output neuron to fire-up, indicating a \"5\""
   ]
  },
  {
   "cell_type": "code",
   "execution_count": 18,
   "metadata": {
    "slideshow": {
     "slide_type": "slide"
    }
   },
   "outputs": [
    {
     "data": {
      "text/plain": [
       "((100, 784), (784, 1), (10, 100), (10, 1))"
      ]
     },
     "execution_count": 18,
     "metadata": {},
     "output_type": "execute_result"
    }
   ],
   "source": [
    "# Show matrices of weights\n",
    "weightsInputToHidden.shape, inputs.shape, weightsHiddenToOutput.shape, targets.shape"
   ]
  },
  {
   "cell_type": "markdown",
   "metadata": {
    "slideshow": {
     "slide_type": "slide"
    }
   },
   "source": [
    "Instead of vector **a** we will now use **X** to make it a bit more conventional\n",
    "<img src=\"pics/matrixnotation.png\" alt=\"Mnotation\" style=\"width: 700px;\"/> \n",
    "\n",
    "<img src=\"pics/multiplication.png\" alt=\"Drawing\" style=\"width: 800px;\"/>"
   ]
  },
  {
   "cell_type": "code",
   "execution_count": 21,
   "metadata": {
    "slideshow": {
     "slide_type": "slide"
    }
   },
   "outputs": [
    {
     "data": {
      "text/plain": [
       "array([[ 1.51715853],\n",
       "       [ 1.02130712],\n",
       "       [ 1.55103697],\n",
       "       [ 0.07224708],\n",
       "       [ 2.08739896],\n",
       "       [ 0.45032374],\n",
       "       [ 1.75863652],\n",
       "       [ 1.6523432 ],\n",
       "       [-1.08410121],\n",
       "       [ 1.57229851]])"
      ]
     },
     "execution_count": 21,
     "metadata": {},
     "output_type": "execute_result"
    }
   ],
   "source": [
    "hL_inputs = np.dot(weightsInputToHidden, inputs) + biasInputToHidden\n",
    "hL_outputs = ReLU(hL_inputs)\n",
    "oL_inputs = np.dot(weightsHiddenToOutput, hL_outputs) + biasHiddenToOutput\n",
    "oL_outputs = softmax(oL_inputs)\n",
    "\n",
    "#Let us examine the results so far\n",
    "oL_inputs\n",
    "#doesn't look like probabilities"
   ]
  },
  {
   "cell_type": "code",
   "execution_count": 22,
   "metadata": {
    "slideshow": {
     "slide_type": "slide"
    }
   },
   "outputs": [
    {
     "data": {
      "text/plain": [
       "array([[0.117],\n",
       "       [0.071],\n",
       "       [0.121],\n",
       "       [0.028],\n",
       "       [0.207],\n",
       "       [0.04 ],\n",
       "       [0.149],\n",
       "       [0.134],\n",
       "       [0.009],\n",
       "       [0.124]])"
      ]
     },
     "execution_count": 22,
     "metadata": {},
     "output_type": "execute_result"
    }
   ],
   "source": [
    "#Let's see what we got so far\n",
    "np.round(oL_outputs, 3)"
   ]
  },
  {
   "cell_type": "markdown",
   "metadata": {
    "slideshow": {
     "slide_type": "notes"
    }
   },
   "source": [
    "wow...that's all over the place..."
   ]
  },
  {
   "cell_type": "markdown",
   "metadata": {
    "slideshow": {
     "slide_type": "slide"
    }
   },
   "source": [
    "## Updating weights"
   ]
  },
  {
   "cell_type": "code",
   "execution_count": 12,
   "metadata": {
    "slideshow": {
     "slide_type": "slide"
    }
   },
   "outputs": [],
   "source": [
    "def loss_derivative(o_output, y):\n",
    "    return o_output - y\n",
    "\n",
    "def ReLU_derivative(x):\n",
    "    return (x>0)*1.0\n",
    "\n",
    "#Another function that we will need for multiclass prediction case:\n",
    "def softmax(x):\n",
    "    return np.exp(x) / np.sum(np.exp(x))"
   ]
  },
  {
   "cell_type": "code",
   "execution_count": 25,
   "metadata": {
    "slideshow": {
     "slide_type": "slide"
    }
   },
   "outputs": [
    {
     "data": {
      "text/plain": [
       "array([[0.73342476],\n",
       "       [0.        ],\n",
       "       [0.66621389],\n",
       "       [0.        ],\n",
       "       [0.        ],\n",
       "       [0.        ],\n",
       "       [3.9763234 ],\n",
       "       [2.41897257],\n",
       "       [0.51260083],\n",
       "       [2.81030026]])"
      ]
     },
     "execution_count": 25,
     "metadata": {},
     "output_type": "execute_result"
    }
   ],
   "source": [
    "hL_outputs[0:10]"
   ]
  },
  {
   "cell_type": "code",
   "execution_count": 27,
   "metadata": {
    "slideshow": {
     "slide_type": "slide"
    }
   },
   "outputs": [],
   "source": [
    "oL_errors = targets - oL_outputs\n",
    "# gradient for the weights between hidden and output layers\n",
    "gradient_HiddenToOutput = loss_derivative(oL_outputs, targets) * ReLU_derivative(oL_outputs)\n",
    "# gradient for the weights between input and hidden layers\n",
    "gradient_InputToHidden = np.dot(weightsHiddenToOutput.T, oL_errors) * ReLU_derivative(hL_outputs)"
   ]
  },
  {
   "cell_type": "code",
   "execution_count": 28,
   "metadata": {
    "slideshow": {
     "slide_type": "slide"
    }
   },
   "outputs": [],
   "source": [
    "# update the matrix for weights between hidden and output layers\n",
    "# define the learning rate\n",
    "learningRate = 0.0001\n",
    "\n",
    "biasHiddenToOutput -= learningRate * gradient_HiddenToOutput\n",
    "biasInputToHidden -= learningRate * gradient_InputToHidden\n",
    "\n",
    "weightsHiddenToOutput -= learningRate * np.dot(gradient_HiddenToOutput, np.transpose(hL_outputs))\n",
    "weightsInputToHidden -= learningRate * np.dot(gradient_InputToHidden, np.transpose(inputs)   )"
   ]
  },
  {
   "cell_type": "markdown",
   "metadata": {
    "slideshow": {
     "slide_type": "slide"
    }
   },
   "source": [
    "## Updating for each observation in the data (the original stochastic gradient descent)"
   ]
  },
  {
   "cell_type": "code",
   "execution_count": null,
   "metadata": {
    "slideshow": {
     "slide_type": "slide"
    }
   },
   "outputs": [],
   "source": [
    "learningRate = 0.001\n",
    "epochs = 10\n",
    "iteration = 0"
   ]
  },
  {
   "cell_type": "code",
   "execution_count": 30,
   "metadata": {
    "slideshow": {
     "slide_type": "slide"
    }
   },
   "outputs": [],
   "source": [
    "while iteration < epochs:\n",
    "    \n",
    "    # Put all the steps done before in a loop\n",
    "    for i in range(  X_train.shape[0]  ):\n",
    "        #observation = i.split(',')\n",
    "        #inputs = np.array((np.asfarray(observation[1:])/255.0*0.99) + 0.01, ndmin=2).T\n",
    "\n",
    "        inputs = np.array(X_train[i]).reshape( (784,1) )\n",
    "        targets = np.array(np.zeros(outputLayer)).reshape( (10,1) )\n",
    "        targets[y_train[i]] = 1\n",
    "\n",
    "        hL_inputs = np.dot(weightsInputToHidden, inputs) + biasInputToHidden\n",
    "        hL_outputs = ReLU(hL_inputs)\n",
    "        oL_inputs = np.dot(weightsHiddenToOutput, hL_outputs) + biasHiddenToOutput \n",
    "        oL_outputs = softmax(oL_inputs)\n",
    "\n",
    "        # gradient for the weights between hidden and output layers\n",
    "        gradient_HiddenToOutput = loss_derivative(oL_outputs, targets) * ReLU_derivative(oL_outputs)\n",
    "        # gradient for the weights between input and hidden layers\n",
    "        gradient_InputToHidden = np.dot(weightsHiddenToOutput.T, oL_errors) * ReLU_derivative(hL_outputs)\n",
    "\n",
    "        # Updates\n",
    "        biasHiddenToOutput  -= learningRate * gradient_HiddenToOutput\n",
    "        biasInputToHidden -= learningRate * gradient_InputToHidden\n",
    "\n",
    "        weightsHiddenToOutput -= learningRate * np.dot(gradient_HiddenToOutput, np.transpose(hL_outputs))\n",
    "        weightsInputToHidden -= learningRate * np.dot(gradient_InputToHidden, np.transpose(inputs)   )\n",
    "        \n",
    "    iteration += 1\n",
    "#minibatch size"
   ]
  },
  {
   "cell_type": "markdown",
   "metadata": {
    "slideshow": {
     "slide_type": "slide"
    }
   },
   "source": [
    "## Test your results"
   ]
  },
  {
   "cell_type": "code",
   "execution_count": 31,
   "metadata": {
    "slideshow": {
     "slide_type": "slide"
    }
   },
   "outputs": [],
   "source": [
    "# Test the data\n",
    "# load the mnist test data CSV file\n",
    "with open(\"data/mnist_test.csv\", 'r') as file:\n",
    "    data_test = file.readlines()"
   ]
  },
  {
   "cell_type": "code",
   "execution_count": 32,
   "metadata": {
    "slideshow": {
     "slide_type": "slide"
    }
   },
   "outputs": [],
   "source": [
    "data_test = np.array([image.split(',') for image in data_test], dtype=\"int\")"
   ]
  },
  {
   "cell_type": "code",
   "execution_count": 34,
   "metadata": {
    "slideshow": {
     "slide_type": "slide"
    }
   },
   "outputs": [],
   "source": [
    "X_test = data[:,1:]\n",
    "X_test = (X_test - train_mean)/train_std\n",
    "\n",
    "y_test = data[:,0]"
   ]
  },
  {
   "cell_type": "code",
   "execution_count": 35,
   "metadata": {
    "slideshow": {
     "slide_type": "slide"
    }
   },
   "outputs": [
    {
     "data": {
      "text/plain": [
       "(array([0, 1, 2, 3, 4, 5, 6, 7, 8, 9]),\n",
       " array([13, 14,  6, 11, 11,  5, 11, 10,  8, 11], dtype=int64))"
      ]
     },
     "execution_count": 35,
     "metadata": {},
     "output_type": "execute_result"
    }
   ],
   "source": [
    "np.unique(y_train, return_counts=True)"
   ]
  },
  {
   "cell_type": "code",
   "execution_count": 36,
   "metadata": {
    "slideshow": {
     "slide_type": "slide"
    }
   },
   "outputs": [
    {
     "data": {
      "text/plain": [
       "<matplotlib.image.AxesImage at 0x2579d86f748>"
      ]
     },
     "execution_count": 36,
     "metadata": {},
     "output_type": "execute_result"
    },
    {
     "data": {
      "image/png": "[encoded data removed]",
      "text/plain": [
       "<Figure size 432x288 with 1 Axes>"
      ]
     },
     "metadata": {
      "needs_background": "light"
     },
     "output_type": "display_data"
    }
   ],
   "source": [
    "example_id = 0\n",
    "\n",
    "plt.imshow(X_test[example_id].reshape((28,28)), cmap='Greys', interpolation='None')"
   ]
  },
  {
   "cell_type": "code",
   "execution_count": 37,
   "metadata": {
    "slideshow": {
     "slide_type": "slide"
    }
   },
   "outputs": [
    {
     "data": {
      "text/plain": [
       "array([[0.2 ],\n",
       "       [0.07],\n",
       "       [0.04],\n",
       "       [0.15],\n",
       "       [0.05],\n",
       "       [0.02],\n",
       "       [0.15],\n",
       "       [0.11],\n",
       "       [0.17],\n",
       "       [0.05]])"
      ]
     },
     "execution_count": 37,
     "metadata": {},
     "output_type": "execute_result"
    }
   ],
   "source": [
    "# Use this observation as an input and run NN with it\n",
    "inputs = np.array(X_test[example_id]).reshape( (784,1) )\n",
    "\n",
    "hL_inputs = np.dot(weightsInputToHidden, inputs) + biasInputToHidden\n",
    "hL_outputs = ReLU(hL_inputs)\n",
    "oL_inputs = np.dot(weightsHiddenToOutput, hL_outputs) + biasHiddenToOutput\n",
    "oL_outputs = softmax(oL_inputs)\n",
    "\n",
    "np.round(oL_outputs, 2)"
   ]
  },
  {
   "cell_type": "code",
   "execution_count": 38,
   "metadata": {
    "slideshow": {
     "slide_type": "slide"
    }
   },
   "outputs": [
    {
     "data": {
      "text/plain": [
       "0"
      ]
     },
     "execution_count": 38,
     "metadata": {},
     "output_type": "execute_result"
    }
   ],
   "source": [
    "# Get the prediction of NN for this test observation\n",
    "label = np.argmax(oL_outputs)\n",
    "label"
   ]
  },
  {
   "cell_type": "code",
   "execution_count": 39,
   "metadata": {
    "slideshow": {
     "slide_type": "slide"
    }
   },
   "outputs": [],
   "source": [
    "# test the neural network using all test dataset\n",
    "\n",
    "# scorecard of the network\n",
    "confusion_matrix = np.zeros( (10,10), dtype=\"int\" )\n",
    "\n",
    "# go through all the observations in the test data set\n",
    "for i in range(len(y_test)):\n",
    "    inputs = np.array(X_test[i]).reshape( (784,1) )\n",
    "\n",
    "    hL_inputs = np.dot(weightsInputToHidden, inputs) + biasInputToHidden\n",
    "    hL_outputs = ReLU(hL_inputs)\n",
    "    oL_inputs = np.dot(weightsHiddenToOutput, hL_outputs) + biasHiddenToOutput\n",
    "    oL_outputs = softmax(oL_inputs)\n",
    "\n",
    "    label = np.argmax(oL_outputs)\n",
    "\n",
    "    confusion_matrix[label, y_test[i]] += 1"
   ]
  },
  {
   "cell_type": "code",
   "execution_count": 40,
   "metadata": {
    "slideshow": {
     "slide_type": "slide"
    }
   },
   "outputs": [
    {
     "data": {
      "text/plain": [
       "array([[12,  0,  3,  0,  2,  2,  0,  0,  0,  1],\n",
       "       [ 1, 11,  1,  0,  1,  3,  0,  1,  0,  0],\n",
       "       [ 0,  0,  0,  0,  0,  0,  0,  0,  0,  0],\n",
       "       [ 0,  1,  0,  8,  0,  0,  0,  0,  0,  1],\n",
       "       [ 0,  0,  0,  0,  7,  0,  0,  0,  0,  0],\n",
       "       [ 0,  0,  0,  0,  0,  0,  0,  0,  0,  0],\n",
       "       [ 0,  0,  0,  0,  0,  0, 10,  0,  0,  0],\n",
       "       [ 0,  1,  0,  1,  1,  0,  0,  9,  0,  4],\n",
       "       [ 0,  1,  2,  2,  0,  0,  1,  0,  8,  5],\n",
       "       [ 0,  0,  0,  0,  0,  0,  0,  0,  0,  0]])"
      ]
     },
     "execution_count": 40,
     "metadata": {},
     "output_type": "execute_result"
    }
   ],
   "source": [
    "confusion_matrix"
   ]
  },
  {
   "cell_type": "code",
   "execution_count": 41,
   "metadata": {
    "slideshow": {
     "slide_type": "slide"
    }
   },
   "outputs": [
    {
     "data": {
      "text/plain": [
       "0.65"
      ]
     },
     "execution_count": 41,
     "metadata": {},
     "output_type": "execute_result"
    }
   ],
   "source": [
    "np.trace(confusion_matrix) / len(y_test)\n",
    "#remember we have 10 classes!"
   ]
  }
 ],
 "metadata": {
  "celltoolbar": "Slideshow",
  "kernelspec": {
   "display_name": "Python 3",
   "language": "python",
   "name": "python3"
  },
  "language_info": {
   "codemirror_mode": {
    "name": "ipython",
    "version": 3
   },
   "file_extension": ".py",
   "mimetype": "text/x-python",
   "name": "python",
   "nbconvert_exporter": "python",
   "pygments_lexer": "ipython3",
   "version": "3.6.5"
  }
 },
 "nbformat": 4,
 "nbformat_minor": 2
}
