{
 "cells": [
  {
   "cell_type": "markdown",
   "metadata": {
    "slideshow": {
     "slide_type": "slide"
    }
   },
   "source": [
    "# Crime and Neural Nets\n",
    "## RNN, LSTM, GRU\n",
    "\n",
    "Carolin Kunze <br>\n",
    "Marc Scheu <br>\n",
    "Thomas Siskos <br>\n",
    "\n",
    "Our code lives on [Github](https://github.com/thsis/INFOSYS)"
   ]
  },
  {
   "cell_type": "markdown",
   "metadata": {
    "slideshow": {
     "slide_type": "slide"
    }
   },
   "source": [
    "## Outline\n",
    "\n",
    "- Chicago Crime Data\n",
    "- Why do we need Recurrent Neural Networks?\n",
    "- Introduction to RNNs\n",
    "- Long Short Term Memory Cell **(LSTM)**\n",
    "- Gated Recurrent Unit **(GRU)**\n",
    "- Implementation of RNN, LSTM and GRU\n",
    "- Parameter Tuning and Evaluation"
   ]
  },
  {
   "cell_type": "code",
   "execution_count": 1,
   "metadata": {
    "slideshow": {
     "slide_type": "skip"
    }
   },
   "outputs": [
    {
     "name": "stderr",
     "output_type": "stream",
     "text": [
      "Using TensorFlow backend.\n"
     ]
    }
   ],
   "source": [
    "import os\n",
    "import json\n",
    "import sys\n",
    "import time\n",
    "\n",
    "import numpy as np\n",
    "import pandas as pd\n",
    "\n",
    "from mpl_toolkits.basemap import Basemap\n",
    "from matplotlib import pyplot as plt\n",
    "from matplotlib import image as mpimg\n",
    "from ipywidgets import interactive\n",
    "\n",
    "from keras.layers import SimpleRNN, LSTM, GRU\n",
    "from models.recurrent import Recurrent\n",
    "\n",
    "from sklearn.metrics import mean_squared_error\n",
    "from hyperopt import tpe, hp, fmin, STATUS_OK, Trials\n",
    "from hyperopt.pyll.base import scope\n",
    "\n",
    "from tqdm import tqdm_notebook as tqdm\n",
    "from pprint import pprint\n",
    "\n",
    "%matplotlib inline"
   ]
  },
  {
   "cell_type": "code",
   "execution_count": 2,
   "metadata": {
    "slideshow": {
     "slide_type": "skip"
    }
   },
   "outputs": [],
   "source": [
    "datapath = os.path.join(\"data\", \"crimes.zip\")\n",
    "columns = [\"ID\", \"Date\", \"Block\", \"Primary Type\", \"Latitude\", \"Longitude\", \"District\", \"Ward\", \"Community Area\"]\n",
    "fulldata = pd.read_csv(datapath, usecols=columns)"
   ]
  },
  {
   "cell_type": "code",
   "execution_count": 3,
   "metadata": {
    "slideshow": {
     "slide_type": "skip"
    }
   },
   "outputs": [],
   "source": [
    "fulldata[\"Date\"] = pd.to_datetime(fulldata[\"Date\"],\n",
    "                                  format='%m/%d/%Y',\n",
    "                                  exact=False)\n",
    "fulldata = fulldata.set_index(\"Date\")"
   ]
  },
  {
   "cell_type": "markdown",
   "metadata": {
    "slideshow": {
     "slide_type": "slide"
    }
   },
   "source": [
    "## Chicago Crime Data\n",
    "\n",
    "Where should the head of the Chicago Police Force sent his patrols?"
   ]
  },
  {
   "cell_type": "code",
   "execution_count": 4,
   "metadata": {
    "slideshow": {
     "slide_type": "fragment"
    }
   },
   "outputs": [
    {
     "data": {
      "text/html": [
       "<div>\n",
       "<style scoped>\n",
       "    .dataframe tbody tr th:only-of-type {\n",
       "        vertical-align: middle;\n",
       "    }\n",
       "\n",
       "    .dataframe tbody tr th {\n",
       "        vertical-align: top;\n",
       "    }\n",
       "\n",
       "    .dataframe thead th {\n",
       "        text-align: right;\n",
       "    }\n",
       "</style>\n",
       "<table border=\"1\" class=\"dataframe\">\n",
       "  <thead>\n",
       "    <tr style=\"text-align: right;\">\n",
       "      <th></th>\n",
       "      <th>ID</th>\n",
       "      <th>Block</th>\n",
       "      <th>Primary Type</th>\n",
       "      <th>District</th>\n",
       "      <th>Ward</th>\n",
       "      <th>Community Area</th>\n",
       "      <th>Latitude</th>\n",
       "      <th>Longitude</th>\n",
       "    </tr>\n",
       "    <tr>\n",
       "      <th>Date</th>\n",
       "      <th></th>\n",
       "      <th></th>\n",
       "      <th></th>\n",
       "      <th></th>\n",
       "      <th></th>\n",
       "      <th></th>\n",
       "      <th></th>\n",
       "      <th></th>\n",
       "    </tr>\n",
       "  </thead>\n",
       "  <tbody>\n",
       "    <tr>\n",
       "      <th>2015-03-18</th>\n",
       "      <td>10000092</td>\n",
       "      <td>047XX W OHIO ST</td>\n",
       "      <td>BATTERY</td>\n",
       "      <td>11.0</td>\n",
       "      <td>28.0</td>\n",
       "      <td>25.0</td>\n",
       "      <td>41.891399</td>\n",
       "      <td>-87.744385</td>\n",
       "    </tr>\n",
       "    <tr>\n",
       "      <th>2015-03-18</th>\n",
       "      <td>10000094</td>\n",
       "      <td>066XX S MARSHFIELD AVE</td>\n",
       "      <td>OTHER OFFENSE</td>\n",
       "      <td>7.0</td>\n",
       "      <td>15.0</td>\n",
       "      <td>67.0</td>\n",
       "      <td>41.773372</td>\n",
       "      <td>-87.665319</td>\n",
       "    </tr>\n",
       "    <tr>\n",
       "      <th>2015-03-18</th>\n",
       "      <td>10000095</td>\n",
       "      <td>044XX S LAKE PARK AVE</td>\n",
       "      <td>BATTERY</td>\n",
       "      <td>2.0</td>\n",
       "      <td>4.0</td>\n",
       "      <td>39.0</td>\n",
       "      <td>41.813861</td>\n",
       "      <td>-87.596643</td>\n",
       "    </tr>\n",
       "    <tr>\n",
       "      <th>2015-03-18</th>\n",
       "      <td>10000096</td>\n",
       "      <td>051XX S MICHIGAN AVE</td>\n",
       "      <td>BATTERY</td>\n",
       "      <td>2.0</td>\n",
       "      <td>3.0</td>\n",
       "      <td>40.0</td>\n",
       "      <td>41.800802</td>\n",
       "      <td>-87.622619</td>\n",
       "    </tr>\n",
       "    <tr>\n",
       "      <th>2015-03-18</th>\n",
       "      <td>10000097</td>\n",
       "      <td>047XX W ADAMS ST</td>\n",
       "      <td>ROBBERY</td>\n",
       "      <td>11.0</td>\n",
       "      <td>28.0</td>\n",
       "      <td>25.0</td>\n",
       "      <td>41.878065</td>\n",
       "      <td>-87.743354</td>\n",
       "    </tr>\n",
       "    <tr>\n",
       "      <th>2015-03-18</th>\n",
       "      <td>10000098</td>\n",
       "      <td>049XX S DREXEL BLVD</td>\n",
       "      <td>BATTERY</td>\n",
       "      <td>2.0</td>\n",
       "      <td>4.0</td>\n",
       "      <td>39.0</td>\n",
       "      <td>41.805443</td>\n",
       "      <td>-87.604284</td>\n",
       "    </tr>\n",
       "    <tr>\n",
       "      <th>2015-03-18</th>\n",
       "      <td>10000099</td>\n",
       "      <td>070XX S MORGAN ST</td>\n",
       "      <td>BATTERY</td>\n",
       "      <td>7.0</td>\n",
       "      <td>17.0</td>\n",
       "      <td>68.0</td>\n",
       "      <td>41.766403</td>\n",
       "      <td>-87.649296</td>\n",
       "    </tr>\n",
       "    <tr>\n",
       "      <th>2015-03-18</th>\n",
       "      <td>10000100</td>\n",
       "      <td>042XX S PRAIRIE AVE</td>\n",
       "      <td>BATTERY</td>\n",
       "      <td>2.0</td>\n",
       "      <td>3.0</td>\n",
       "      <td>38.0</td>\n",
       "      <td>41.817553</td>\n",
       "      <td>-87.619819</td>\n",
       "    </tr>\n",
       "    <tr>\n",
       "      <th>2015-03-18</th>\n",
       "      <td>10000101</td>\n",
       "      <td>036XX S WOLCOTT AVE</td>\n",
       "      <td>NARCOTICS</td>\n",
       "      <td>9.0</td>\n",
       "      <td>11.0</td>\n",
       "      <td>59.0</td>\n",
       "      <td>41.828138</td>\n",
       "      <td>-87.672782</td>\n",
       "    </tr>\n",
       "    <tr>\n",
       "      <th>2015-03-18</th>\n",
       "      <td>10000104</td>\n",
       "      <td>097XX S PRAIRIE AVE</td>\n",
       "      <td>BATTERY</td>\n",
       "      <td>5.0</td>\n",
       "      <td>6.0</td>\n",
       "      <td>49.0</td>\n",
       "      <td>41.717455</td>\n",
       "      <td>-87.617663</td>\n",
       "    </tr>\n",
       "  </tbody>\n",
       "</table>\n",
       "</div>"
      ],
      "text/plain": [
       "                  ID                   Block   Primary Type  District  Ward  \\\n",
       "Date                                                                          \n",
       "2015-03-18  10000092         047XX W OHIO ST        BATTERY      11.0  28.0   \n",
       "2015-03-18  10000094  066XX S MARSHFIELD AVE  OTHER OFFENSE       7.0  15.0   \n",
       "2015-03-18  10000095   044XX S LAKE PARK AVE        BATTERY       2.0   4.0   \n",
       "2015-03-18  10000096    051XX S MICHIGAN AVE        BATTERY       2.0   3.0   \n",
       "2015-03-18  10000097        047XX W ADAMS ST        ROBBERY      11.0  28.0   \n",
       "2015-03-18  10000098     049XX S DREXEL BLVD        BATTERY       2.0   4.0   \n",
       "2015-03-18  10000099       070XX S MORGAN ST        BATTERY       7.0  17.0   \n",
       "2015-03-18  10000100     042XX S PRAIRIE AVE        BATTERY       2.0   3.0   \n",
       "2015-03-18  10000101     036XX S WOLCOTT AVE      NARCOTICS       9.0  11.0   \n",
       "2015-03-18  10000104     097XX S PRAIRIE AVE        BATTERY       5.0   6.0   \n",
       "\n",
       "            Community Area   Latitude  Longitude  \n",
       "Date                                              \n",
       "2015-03-18            25.0  41.891399 -87.744385  \n",
       "2015-03-18            67.0  41.773372 -87.665319  \n",
       "2015-03-18            39.0  41.813861 -87.596643  \n",
       "2015-03-18            40.0  41.800802 -87.622619  \n",
       "2015-03-18            25.0  41.878065 -87.743354  \n",
       "2015-03-18            39.0  41.805443 -87.604284  \n",
       "2015-03-18            68.0  41.766403 -87.649296  \n",
       "2015-03-18            38.0  41.817553 -87.619819  \n",
       "2015-03-18            59.0  41.828138 -87.672782  \n",
       "2015-03-18            49.0  41.717455 -87.617663  "
      ]
     },
     "execution_count": 4,
     "metadata": {},
     "output_type": "execute_result"
    }
   ],
   "source": [
    "fulldata.head(10)"
   ]
  },
  {
   "cell_type": "code",
   "execution_count": 5,
   "metadata": {
    "slideshow": {
     "slide_type": "skip"
    }
   },
   "outputs": [],
   "source": [
    "primary_types = ['TOTAL'] + fulldata[\"Primary Type\"].unique().tolist()"
   ]
  },
  {
   "cell_type": "code",
   "execution_count": 6,
   "metadata": {
    "slideshow": {
     "slide_type": "skip"
    }
   },
   "outputs": [],
   "source": [
    "def crime_viewer(crime=\"TOTAL\", year=2001):\n",
    "    crime_type = crime.lower().replace(\" \", \"_\")\n",
    "    png_title = \"crime_\" + crime_type + \"_\" + str(year) + \".png\"\n",
    "    plt.figure(figsize=(12, 6))\n",
    "    img = mpimg.imread(os.path.join(\"preprocessing\", \"maps\", png_title))\n",
    "    plt.imshow(img, aspect=\"auto\")\n",
    "    plt.gca().set_axis_off()\n",
    "    plt.subplots_adjust(top = 1, bottom = 0, right = 1, left = 0, \n",
    "                        hspace = 0, wspace = 0)\n",
    "    plt.margins(0,0)\n",
    "    plt.gca().xaxis.set_major_locator(plt.NullLocator())\n",
    "    plt.gca().yaxis.set_major_locator(plt.NullLocator())\n",
    "    "
   ]
  },
  {
   "cell_type": "markdown",
   "metadata": {
    "slideshow": {
     "slide_type": "slide"
    }
   },
   "source": [
    "### Chicago Crime Data\n",
    "\n",
    "Are there chronological patterns?\n",
    "\n",
    "<img src=\"analysis/figures/total_crime_over_time.png\">"
   ]
  },
  {
   "cell_type": "markdown",
   "metadata": {
    "slideshow": {
     "slide_type": "slide"
    }
   },
   "source": [
    "## Chicago Crime Data\n",
    "\n",
    "Are there geographical patterns?"
   ]
  },
  {
   "cell_type": "code",
   "execution_count": 7,
   "metadata": {
    "slideshow": {
     "slide_type": "fragment"
    }
   },
   "outputs": [
    {
     "data": {
      "application/vnd.jupyter.widget-view+json": {
       "model_id": "0a3422edb86c44c79c6f083b7c4fd6ad",
       "version_major": 2,
       "version_minor": 0
      },
      "text/plain": [
       "interactive(children=(Dropdown(description='crime', options=('TOTAL', 'BATTERY', 'OTHER OFFENSE', 'ROBBERY', '…"
      ]
     },
     "metadata": {},
     "output_type": "display_data"
    }
   ],
   "source": [
    "interactive(crime_viewer, crime = primary_types, year=(2001, 2017, 1))"
   ]
  },
  {
   "cell_type": "markdown",
   "metadata": {
    "slideshow": {
     "slide_type": "slide"
    }
   },
   "source": [
    "## Why do we need Recurrent Neural Networks? \n",
    "\n",
    "### Recap Feed Forward Network\n",
    "<img src=\"presentation/presentation_pics/neural_network1.png\" alt=\"NN\" style=\"width: 400px;\"/>\n",
    "[Source:  Alisa's Presentation on NN Primer]"
   ]
  },
  {
   "cell_type": "markdown",
   "metadata": {
    "slideshow": {
     "slide_type": "slide"
    }
   },
   "source": [
    "## Lets simplify\n",
    "\n",
    "<img src=\"presentation/presentation_pics/NN_simplified.png\" alt=\"NN\" style=\"width: 500px;\"/>\n",
    "\n",
    "### Input data:\n",
    "\n",
    "&nbsp;&nbsp;&nbsp;&nbsp;&nbsp;&nbsp; __“In France, I had a great time”__\n",
    "\n",
    "[Source: fast.ai](https://course.fast.ai/lessons/lesson6.html)\n"
   ]
  },
  {
   "cell_type": "markdown",
   "metadata": {
    "slideshow": {
     "slide_type": "notes"
    }
   },
   "source": [
    "- Changed from color to shape coding \n",
    "- got rid of dimensionality --> eachs symbol represents multiple activations\n",
    "- each arrow represents a Layer operation e.g. a matrix multiplication\n",
    "<br>\n",
    "<br>\n",
    "- Theory on Textanalysis example, bc intuitve understanding of sequential dependencies in Language"
   ]
  },
  {
   "cell_type": "markdown",
   "metadata": {
    "slideshow": {
     "slide_type": "slide"
    }
   },
   "source": [
    "## Use Case sentiment analysis\n",
    "### Is this a __positive__ or a __negative__ statement?\n",
    "\n",
    "__“In France, I had a great time”__\n",
    "\n",
    "<img src=\"presentation/presentation_pics/NN_simplified.png\" alt=\"NN\" style=\"height: 250px\"/>\n",
    "\n",
    "__One Solution:__\n",
    "\n",
    "- Turn sentence into vector (Bag-of-Words)\n",
    "- Use NN to predict the sentiment for each sentence independently\n",
    "\n",
    "[Source: fast.ai](https://course.fast.ai/lessons/lesson6.html)"
   ]
  },
  {
   "cell_type": "markdown",
   "metadata": {
    "slideshow": {
     "slide_type": "notes"
    }
   },
   "source": [
    "#### One Solution:\n",
    "- Use Bag-of_words to transfer sentence into a vector (Order doesnt matter)\n",
    "- Use a Feed Forward Network to predict the class of the given sentence\n",
    "\n",
    "<br>\n",
    "\n",
    "#### Notice:\n",
    "- The order of the words is not taken into account\n",
    "- Each sentence / document is a single observation\n",
    "- The classification of the next sentencen is independent from the last sentence\n",
    "\n"
   ]
  },
  {
   "cell_type": "markdown",
   "metadata": {
    "slideshow": {
     "slide_type": "slide"
    }
   },
   "source": [
    "## Let's change our classification task:\n",
    "\n",
    "### What will be the next word?\n",
    "__“In France, I had a great ...?”__\n",
    "\n",
    "<img src=\"presentation/presentation_pics/NN_simplified.png\" alt=\"NN\" style=\"width: 500px;\"/>\n",
    "\n",
    "\n",
    "__How can we include multiple observation vectors while preserving the order?__\n",
    "\n",
    "[Source: fast.ai](https://course.fast.ai/lessons/lesson6.html)"
   ]
  },
  {
   "cell_type": "markdown",
   "metadata": {
    "slideshow": {
     "slide_type": "notes"
    }
   },
   "source": [
    "#### Whats new:\n",
    "- Each word is an observation at a given point of time\n",
    "- The next word depends mainly on the previous words -> the order is important\n",
    "- Each word might be represented as a vector \n",
    "<br>"
   ]
  },
  {
   "cell_type": "markdown",
   "metadata": {
    "slideshow": {
     "slide_type": "slide"
    }
   },
   "source": [
    "## How to add annother preceding timestep\n",
    "\n",
    "### What will be the next word?\n",
    "\n",
    "__“a great ...?”__\n",
    "\n",
    "<img src=\"presentation/presentation_pics/RNN2.png\" alt=\"NN\" style=\"width: 600px;\"/>\n",
    "\n",
    "Prediction at time t:  $$y_t = softmax(W_{out}h_t)$$\n",
    "Activations for step t: $$h_t = tanh(W_{in}x_t + W_hh_{t-1})$$\n",
    "\n",
    "[Source: fast.ai](https://course.fast.ai/lessons/lesson6.html)\n",
    "\n"
   ]
  },
  {
   "cell_type": "markdown",
   "metadata": {
    "slideshow": {
     "slide_type": "notes"
    }
   },
   "source": [
    "W_in, W_h, W_out are equal across all steps --> reduces the number of parameters to learn\n",
    "http://www.wildml.com/2015/09/recurrent-neural-networks-tutorial-part-1-introduction-to-rnns/"
   ]
  },
  {
   "cell_type": "markdown",
   "metadata": {
    "slideshow": {
     "slide_type": "slide"
    }
   },
   "source": [
    "## How to add annother preceding timestep\n",
    "\n",
    "### What will be the next word?\n",
    "\n",
    "\n",
    "__“had a great ...?”__\n",
    "\n",
    "<img src=\"presentation/presentation_pics/RNN3.png\" alt=\"NN\" style=\"width: 650px;\"/>\n",
    "\n",
    "[Source: fast.ai](https://course.fast.ai/lessons/lesson6.html)\n",
    "\n",
    "\n"
   ]
  },
  {
   "cell_type": "markdown",
   "metadata": {
    "slideshow": {
     "slide_type": "slide"
    }
   },
   "source": [
    "## Adding an abitrary number of preceding words\n",
    "\n",
    "### What will be the next word?\n",
    "__“In France, I had a great ...?”__\n",
    "\n",
    "<img src=\"presentation/presentation_pics/RNN_loop.png\" alt=\"NN\" style=\"width: 600px;\"/>\n",
    "\n",
    "[Source: fast.ai](https://course.fast.ai/lessons/lesson6.html)"
   ]
  },
  {
   "cell_type": "markdown",
   "metadata": {
    "slideshow": {
     "slide_type": "slide"
    }
   },
   "source": [
    "## How to train a Recurrent Neural Net\n",
    "\n",
    "### Backpropagation through time (bptt)\n",
    "\n",
    "\n",
    "Total Loss: $$J(\\theta) = \\sum_t{J_t(\\theta)}$$\n",
    "Loss at time t: $$J_t(\\theta) = f(y_{t,true}, y_{t})$$\n",
    "\n",
    "\n",
    "Gradient: $$\\frac{\\partial J_t}{\\partial W_{in}} =\n",
    "\\frac{\\partial J_t}{\\partial y_{t}}\\frac{\\partial y_t}{\\partial W_{in}} = \n",
    "\\frac{\\partial J_t}{\\partial y_{t}}\\frac{\\partial y_t}{\\partial h_{t}}\\frac{\\partial h_t}{\\partial W_{in}}=\n",
    "\\frac{\\partial J_t}{\\partial y_{t}}\\frac{\\partial y_t}{\\partial h_{t}}\\frac{\\partial h_t}{\\partial h_{t-1}}\n",
    "\\frac{\\partial h_{t-1}}{\\partial W_{in}} = \n",
    "\\frac{\\partial J_t}{\\partial y_{t}}\\frac{\\partial y_t}{\\partial h_{t}}\\frac{\\partial h_t}{\\partial h_{t-1}}\n",
    "\\frac{\\partial h_{t-1}}{\\partial h_{t-2}} ...\\frac{\\partial h_{0}}{\\partial W_{in}}\n",
    "$$\n",
    "\n",
    "\n",
    "\n",
    "\n",
    "<img src=\"presentation/presentation_pics/RNN_loop.png\" alt=\"NN\" style=\"width: 600px;\"/>\n",
    "\n",
    "Sources:<br>\n",
    "[introtodeeplearning.com](http://introtodeeplearning.com/materials/2018_6S191_Lecture2.pdf) <br>\n",
    "[neuralnetworksanddeeplearning.com](http://neuralnetworksanddeeplearning.com/chap5.html)"
   ]
  },
  {
   "cell_type": "markdown",
   "metadata": {
    "slideshow": {
     "slide_type": "slide"
    }
   },
   "source": [
    "## Drawback of a simple Recurrent Network\n",
    "\n",
    "\n",
    "### Forgetting long-term dependencies:\n",
    "\n",
    "__“In France, I had a great time and I learnt some of the ...? [language]\"__ \n",
    " \n",
    "<img src=\"presentation/presentation_pics/vanishing_gradient.png\" alt=\"vanishing_gradient\" style=\"width: 600px;\"/>\n",
    "\n",
    "[Source: C. Olah](http://colah.github.io/posts/2015-08-Understanding-LSTMs/)\n",
    "\n"
   ]
  },
  {
   "cell_type": "markdown",
   "metadata": {
    "slideshow": {
     "slide_type": "notes"
    }
   },
   "source": [
    "- cannot connect information anymore\n",
    "- \"vanishing gradient problem\""
   ]
  },
  {
   "cell_type": "markdown",
   "metadata": {
    "slideshow": {
     "slide_type": "slide"
    }
   },
   "source": [
    "# Vanishing Gradient problem\n",
    "\n",
    "Gradient: $$\\frac{\\partial J_t}{\\partial W_{in}} =\\frac{\\partial J_t}{\\partial y_{t}}\\frac{\\partial y_t}{\\partial h_{t}}\\frac{\\partial h_t}{\\partial h_{t-1}}\n",
    "\\frac{\\partial h_{t-1}}{\\partial h_{t-2}} ...\\frac{\\partial h_{0}}{\\partial W_{in}}$$\n",
    "<br><br>\n",
    "It can be shown: $$\\frac{\\partial h_t}{\\partial h_{t-1}}\n",
    "= W_{in}^T diag[tanh^{ `}(W_{in}+W_h x_j)]$$\n",
    "<br>\n",
    "$tanh^{ `} \\in [0,1] $ <br><br>\n",
    "$W_{in}$ = sampled from standard normal distribution = mostly < 1\n",
    "<br>\n",
    "<br>\n",
    "Sources: <br>\n",
    "[introtodeeplearning.com](http://introtodeeplearning.com/materials/2018_6S191_Lecture2.pdf) <br>\n",
    "[neuralnetworksanddeeplearning.com](http://neuralnetworksanddeeplearning.com/chap5.html)"
   ]
  },
  {
   "cell_type": "markdown",
   "metadata": {
    "slideshow": {
     "slide_type": "notes"
    }
   },
   "source": [
    "- backpropagation through time\n",
    "- as gap between timesteps becomes bigger, product longer and we are multiplying very small numbers (small gradients)\n",
    "- due to activation function (tanh)\n",
    "- some crucial previous timesteps do not influence anymore in later timesteps: gradient vanishes..."
   ]
  },
  {
   "cell_type": "markdown",
   "metadata": {
    "slideshow": {
     "slide_type": "slide"
    }
   },
   "source": [
    "# Advanced RNNs: LSTM and GRU"
   ]
  },
  {
   "cell_type": "markdown",
   "metadata": {
    "slideshow": {
     "slide_type": "slide"
    }
   },
   "source": [
    "<img src=\"presentation/presentation_pics/overview_RNN_LSTM_GRU.png\" alt=\"LSTM\" style=\"width: 1000px;\"/>\n",
    "\n",
    "[Source: towardsdatascience.com](https://towardsdatascience.com/the-mostly-complete-chart-of-neural-networks-explained-3fb6f2367464)"
   ]
  },
  {
   "cell_type": "markdown",
   "metadata": {
    "slideshow": {
     "slide_type": "slide"
    }
   },
   "source": [
    "# LSTM Network - Long Short-Term Memory Network"
   ]
  },
  {
   "cell_type": "markdown",
   "metadata": {
    "slideshow": {
     "slide_type": "slide"
    }
   },
   "source": [
    "# LSTM\n",
    "<img src=\"presentation/presentation_pics/LSTM.png\" alt=\"LSTM\" style=\"width: 1000px;\"/>\n",
    "\n",
    "[Source: C. Olah](http://colah.github.io/posts/2015-08-Understanding-LSTMs/)"
   ]
  },
  {
   "cell_type": "markdown",
   "metadata": {
    "slideshow": {
     "slide_type": "slide"
    }
   },
   "source": [
    "# LSTM - Cell State and Hidden State\n",
    "\n",
    "<img src=\"presentation/presentation_pics/lstm_core_idea.png\" alt=\"LSTM\" style=\"width: 600px;\"/>\n",
    "\n",
    "\n"
   ]
  },
  {
   "cell_type": "markdown",
   "metadata": {
    "slideshow": {
     "slide_type": "slide"
    }
   },
   "source": [
    "# LSTM - 1.) Forget Gate\n",
    "\n",
    "<img src=\"presentation/presentation_pics/lstm_forget.png\" alt=\"LSTM\" style=\"width: 800px;\"/>\n",
    "\n",
    "# \"A man has dinner with his wife and her parents.\" "
   ]
  },
  {
   "cell_type": "markdown",
   "metadata": {
    "slideshow": {
     "slide_type": "slide"
    }
   },
   "source": [
    "# LSTM - 2.) Input Gate\n",
    "\n",
    "<img src=\"presentation/presentation_pics/lstm_input.png\" alt=\"LSTM\" style=\"width: 800px;\"/>\n",
    "\n",
    "# \"A man has dinner with his wife and her parents.\" "
   ]
  },
  {
   "cell_type": "markdown",
   "metadata": {
    "slideshow": {
     "slide_type": "slide"
    }
   },
   "source": [
    "# LSTM - 3.) New Cell State\n",
    "\n",
    "<img src=\"presentation/presentation_pics/lstm_new_cell_state.png\" alt=\"LSTM\" style=\"width: 800px;\"/>\n",
    "\n",
    "# \"A man has dinner with his wife and her parents.\" "
   ]
  },
  {
   "cell_type": "markdown",
   "metadata": {
    "slideshow": {
     "slide_type": "slide"
    }
   },
   "source": [
    "# LSTM - 4.) Output Gate\n",
    "\n",
    "<img src=\"presentation/presentation_pics/lstm_output.png\" alt=\"LSTM\" style=\"width: 800px;\"/>\n",
    "\n",
    "# \"A man has dinner with his wife and her parents.\" "
   ]
  },
  {
   "cell_type": "markdown",
   "metadata": {
    "slideshow": {
     "slide_type": "slide"
    }
   },
   "source": [
    "# LSTM Take Away\n",
    "1. forget\n",
    "2. update \n",
    "3. output \n",
    "\n",
    "\n",
    "# Why LSTM?\n",
    "- forget gate can let information pass through unchanged \n",
    "- cell state separate from output\n",
    "## “In France, I had a great time and I learnt some of the French language.”\n",
    "\n",
    "\n",
    "- cell states depend through addition: prevent vanishing gradient\n",
    "\n",
    "[Source: H. Suresh](http://harinisuresh.com/2016/10/09/lstms/)\n",
    "\n"
   ]
  },
  {
   "cell_type": "markdown",
   "metadata": {
    "slideshow": {
     "slide_type": "slide"
    }
   },
   "source": [
    "## GRU Network - Gated Recurrent Unit##"
   ]
  },
  {
   "cell_type": "markdown",
   "metadata": {
    "slideshow": {
     "slide_type": "slide"
    }
   },
   "source": [
    "## GRU\n",
    "<img src=\"presentation/presentation_pics/GRU.png\" alt=\"GRU\" style=\"width: 800px;\"/>\n",
    "\n",
    "simplified example:\n",
    "- 1. values of update gate $z_t = 0$ : ignore current state\n",
    "\n",
    "\\begin{align}\n",
    "\\mathbf{h_t = 1*h_{t-1} + 0*\\tilde{h}_t}\n",
    "\\end{align}\n",
    "\n",
    "- 2. values of update gate $z_t = 1$ : ignore previous state\n",
    "\n",
    "\\begin{align}\n",
    "\\mathbf{h_t = 0*h_{t-1} + 1*\\tilde{h}_t} \n",
    "\\end{align}\n",
    "\n",
    "\n",
    "\n",
    "[Source: C. Olah](http://colah.github.io/posts/2015-08-Understanding-LSTMs/)"
   ]
  },
  {
   "cell_type": "code",
   "execution_count": 8,
   "metadata": {
    "slideshow": {
     "slide_type": "skip"
    }
   },
   "outputs": [],
   "source": [
    "datapath = os.path.join(\"data\", \"crime_total.csv\")\n",
    "dataset = pd.read_csv(datapath, index_col=[\"date\"],\n",
    "                      dtype={\"crimes_total\": np.float32},\n",
    "                      parse_dates=[\"date\"])"
   ]
  },
  {
   "cell_type": "markdown",
   "metadata": {
    "slideshow": {
     "slide_type": "slide"
    }
   },
   "source": [
    "## Implementation\n",
    "\n",
    "### The `Recurrent` class\n",
    "\n",
    "* Convenient interface for all our models"
   ]
  },
  {
   "cell_type": "code",
   "execution_count": 27,
   "metadata": {
    "slideshow": {
     "slide_type": "fragment"
    }
   },
   "outputs": [
    {
     "name": "stdout",
     "output_type": "stream",
     "text": [
      "Epoch 1/1\n",
      "5209/5209 [==============================] - 12s 2ms/step - loss: 0.1097\n"
     ]
    },
    {
     "data": {
      "image/png": "[encoded data removed]",
      "text/plain": [
       "<Figure size 2160x360 with 1 Axes>"
      ]
     },
     "metadata": {
      "needs_background": "light"
     },
     "output_type": "display_data"
    }
   ],
   "source": [
    "lstm = Recurrent(dataset, 2, cell=LSTM, epochs=1)\n",
    "lstm.train()\n",
    "fig, ax = lstm.plot_fit(os.path.join(\"models\", \"lstm-whole-show-case.png\"),\n",
    "                        figsize=(30, 5))\n"
   ]
  },
  {
   "cell_type": "markdown",
   "metadata": {
    "slideshow": {
     "slide_type": "notes"
    }
   },
   "source": [
    "The life-cycle consists of:\n",
    "1. instantiation\n",
    "2. training\n",
    "3. prediction\n",
    "3. visual analysis"
   ]
  },
  {
   "cell_type": "markdown",
   "metadata": {
    "slideshow": {
     "slide_type": "slide"
    }
   },
   "source": [
    "### 1. \\_\\_init\\_\\_(\\*args, \\*\\*kwargs)\n",
    "\n",
    "* prepare all necessary attributes in `__stage()`\n",
    "* call parent class constructor\n",
    "\n",
    "\n",
    "```python\n",
    "class Recurrent(Sequential):\n",
    "    def __init__(...):\n",
    "        # save attributes\n",
    "        # ...\n",
    "        \n",
    "        self.X_train, self.X_test, self.y_train, self.y_test = self.__stage()\n",
    "        \n",
    "        super().__init__()\n",
    "```"
   ]
  },
  {
   "cell_type": "markdown",
   "metadata": {
    "slideshow": {
     "slide_type": "slide"
    }
   },
   "source": [
    "#### 1.1 __stage()\n",
    "\n",
    "* scale\n",
    "* store features\n",
    "\n",
    "```python\n",
    "def __stage(self):\n",
    "    # Separate train and test data\n",
    "    # ...\n",
    "    self.scaler = MinMaxScaler()\n",
    "    self.scaler.fit(train.values)\n",
    "    self.data.loc[:, \"y\"] = self.scaler.transform(self.data.values)\n",
    "    # ...\n",
    "    X, y = self.__get_features()\n",
    "    # ...\n",
    "    return X_train, X_test, y_train, y_test\n",
    "```"
   ]
  },
  {
   "cell_type": "markdown",
   "metadata": {
    "slideshow": {
     "slide_type": "slide"
    }
   },
   "source": [
    "#### 1.1.1 \\_\\_get_features()\n",
    "\n",
    "* construct features\n",
    "\n",
    "```python\n",
    "def __get_features(self):\n",
    "        cols = [\"lag_\" + str(i) for i in range(1, self.maxlag+1)]\n",
    "\n",
    "        for i, colname in enumerate(cols, 1):\n",
    "            if isinstance(self.data.index, pd.core.index.MultiIndex):\n",
    "                lag = self.data.groupby(self.cross_label)[\"y\"].shift(i)\n",
    "            else:\n",
    "                lag = self.data[\"y\"].shift(i)\n",
    "\n",
    "            self.data[colname] = lag\n",
    "\n",
    "        self.data = self.data.dropna(axis=0)\n",
    "\n",
    "        # Split into target and features\n",
    "        y = self.data.iloc[:, 1]\n",
    "        X = self.data.iloc[:, 2:]\n",
    "\n",
    "        return X, y\n",
    "```"
   ]
  },
  {
   "cell_type": "markdown",
   "metadata": {
    "slideshow": {
     "slide_type": "slide"
    }
   },
   "source": [
    "### 2. train()\n",
    "\n",
    "```python\n",
    "def train(self):\n",
    "    self.add(self.cell(self.cell_neurons,\n",
    "                       input_shape=(1, self.maxlag),\n",
    "                       **self.cellkwargs))\n",
    "    self.add(Dense(1))\n",
    "    self.add(Activation('relu'))\n",
    "\n",
    "    self.compile(loss=self.lossfunc,\n",
    "                 optimizer=self.optimizer)\n",
    "    self.fit(X_train, self.y_train,\n",
    "             epochs=self.epochs,\n",
    "             batch_size=self.batch_size,\n",
    "             verbose=self.verbose,\n",
    "             **self.fitkwargs)\n",
    "```"
   ]
  },
  {
   "cell_type": "markdown",
   "metadata": {
    "slideshow": {
     "slide_type": "slide"
    }
   },
   "source": [
    "### 3. forecast()\n",
    "\n",
    "* predict test data or completely new data.\n",
    "\n",
    "```python\n",
    "def forecast(self, X):\n",
    "        if X.shape[1] == self.maxlag:\n",
    "            X_ = self.__transform_shape(X)\n",
    "            return self.predict(X_)\n",
    "\n",
    "        else:\n",
    "            X_, _ = self.__get_features(X)\n",
    "            return self.predict(X_.values)\n",
    "```"
   ]
  },
  {
   "cell_type": "markdown",
   "metadata": {
    "slideshow": {
     "slide_type": "slide"
    }
   },
   "source": [
    "### Back to the crime dataset\n",
    "\n",
    "We look at two distinct questions:\n",
    "1. Can we accurately predict the development of the **whole** time series for the city of Chicago?\n",
    "2. Can we accurately predict the development of the series for **each district**?"
   ]
  },
  {
   "cell_type": "markdown",
   "metadata": {
    "slideshow": {
     "slide_type": "slide"
    }
   },
   "source": [
    "#### 1. Load the full series:\n",
    "\n",
    "The full series contains a single column of summed up incidents per day. We also parse the dates inside the `date` column and set them as the index of the `DataFrame`."
   ]
  },
  {
   "cell_type": "code",
   "execution_count": 10,
   "metadata": {
    "slideshow": {
     "slide_type": "fragment"
    }
   },
   "outputs": [
    {
     "data": {
      "text/html": [
       "<div>\n",
       "<style scoped>\n",
       "    .dataframe tbody tr th:only-of-type {\n",
       "        vertical-align: middle;\n",
       "    }\n",
       "\n",
       "    .dataframe tbody tr th {\n",
       "        vertical-align: top;\n",
       "    }\n",
       "\n",
       "    .dataframe thead th {\n",
       "        text-align: right;\n",
       "    }\n",
       "</style>\n",
       "<table border=\"1\" class=\"dataframe\">\n",
       "  <thead>\n",
       "    <tr style=\"text-align: right;\">\n",
       "      <th></th>\n",
       "      <th>crimes_total</th>\n",
       "    </tr>\n",
       "    <tr>\n",
       "      <th>date</th>\n",
       "      <th></th>\n",
       "    </tr>\n",
       "  </thead>\n",
       "  <tbody>\n",
       "    <tr>\n",
       "      <th>2001-01-01</th>\n",
       "      <td>1814.0</td>\n",
       "    </tr>\n",
       "    <tr>\n",
       "      <th>2001-01-02</th>\n",
       "      <td>1143.0</td>\n",
       "    </tr>\n",
       "    <tr>\n",
       "      <th>2001-01-03</th>\n",
       "      <td>1151.0</td>\n",
       "    </tr>\n",
       "    <tr>\n",
       "      <th>2001-01-04</th>\n",
       "      <td>1166.0</td>\n",
       "    </tr>\n",
       "    <tr>\n",
       "      <th>2001-01-05</th>\n",
       "      <td>1267.0</td>\n",
       "    </tr>\n",
       "  </tbody>\n",
       "</table>\n",
       "</div>"
      ],
      "text/plain": [
       "            crimes_total\n",
       "date                    \n",
       "2001-01-01        1814.0\n",
       "2001-01-02        1143.0\n",
       "2001-01-03        1151.0\n",
       "2001-01-04        1166.0\n",
       "2001-01-05        1267.0"
      ]
     },
     "execution_count": 10,
     "metadata": {},
     "output_type": "execute_result"
    }
   ],
   "source": [
    "datapath_whole = os.path.join(\"data\", \"crime_total.csv\")\n",
    "whole = pd.read_csv(datapath_whole, index_col=[\"date\"],\n",
    "                    dtype={\"crimes_total\": np.float32},\n",
    "                    parse_dates=[\"date\"])\n",
    "whole.head()"
   ]
  },
  {
   "cell_type": "markdown",
   "metadata": {
    "slideshow": {
     "slide_type": "slide"
    }
   },
   "source": [
    "#### 2. Load the series by district:\n",
    "\n",
    "Here we also parse the dates inside the `Date` column and specify a `MultiIndex` where the levels are `Date` and then `District`. This allows our `models.recurrent`-class to distinguish between the series for the whole of Chicago and the Chicago crime series by each district."
   ]
  },
  {
   "cell_type": "code",
   "execution_count": 11,
   "metadata": {
    "slideshow": {
     "slide_type": "fragment"
    }
   },
   "outputs": [
    {
     "data": {
      "text/html": [
       "<div>\n",
       "<style scoped>\n",
       "    .dataframe tbody tr th:only-of-type {\n",
       "        vertical-align: middle;\n",
       "    }\n",
       "\n",
       "    .dataframe tbody tr th {\n",
       "        vertical-align: top;\n",
       "    }\n",
       "\n",
       "    .dataframe thead th {\n",
       "        text-align: right;\n",
       "    }\n",
       "</style>\n",
       "<table border=\"1\" class=\"dataframe\">\n",
       "  <thead>\n",
       "    <tr style=\"text-align: right;\">\n",
       "      <th></th>\n",
       "      <th></th>\n",
       "      <th>Incidents</th>\n",
       "    </tr>\n",
       "    <tr>\n",
       "      <th>Date</th>\n",
       "      <th>District</th>\n",
       "      <th></th>\n",
       "    </tr>\n",
       "  </thead>\n",
       "  <tbody>\n",
       "    <tr>\n",
       "      <th rowspan=\"24\" valign=\"top\">2001-01-01</th>\n",
       "      <th>1.0</th>\n",
       "      <td>37.0</td>\n",
       "    </tr>\n",
       "    <tr>\n",
       "      <th>2.0</th>\n",
       "      <td>110.0</td>\n",
       "    </tr>\n",
       "    <tr>\n",
       "      <th>3.0</th>\n",
       "      <td>103.0</td>\n",
       "    </tr>\n",
       "    <tr>\n",
       "      <th>4.0</th>\n",
       "      <td>96.0</td>\n",
       "    </tr>\n",
       "    <tr>\n",
       "      <th>5.0</th>\n",
       "      <td>95.0</td>\n",
       "    </tr>\n",
       "    <tr>\n",
       "      <th>6.0</th>\n",
       "      <td>84.0</td>\n",
       "    </tr>\n",
       "    <tr>\n",
       "      <th>7.0</th>\n",
       "      <td>83.0</td>\n",
       "    </tr>\n",
       "    <tr>\n",
       "      <th>8.0</th>\n",
       "      <td>111.0</td>\n",
       "    </tr>\n",
       "    <tr>\n",
       "      <th>9.0</th>\n",
       "      <td>109.0</td>\n",
       "    </tr>\n",
       "    <tr>\n",
       "      <th>10.0</th>\n",
       "      <td>104.0</td>\n",
       "    </tr>\n",
       "    <tr>\n",
       "      <th>11.0</th>\n",
       "      <td>90.0</td>\n",
       "    </tr>\n",
       "    <tr>\n",
       "      <th>12.0</th>\n",
       "      <td>80.0</td>\n",
       "    </tr>\n",
       "    <tr>\n",
       "      <th>14.0</th>\n",
       "      <td>83.0</td>\n",
       "    </tr>\n",
       "    <tr>\n",
       "      <th>15.0</th>\n",
       "      <td>71.0</td>\n",
       "    </tr>\n",
       "    <tr>\n",
       "      <th>16.0</th>\n",
       "      <td>67.0</td>\n",
       "    </tr>\n",
       "    <tr>\n",
       "      <th>17.0</th>\n",
       "      <td>67.0</td>\n",
       "    </tr>\n",
       "    <tr>\n",
       "      <th>18.0</th>\n",
       "      <td>72.0</td>\n",
       "    </tr>\n",
       "    <tr>\n",
       "      <th>19.0</th>\n",
       "      <td>72.0</td>\n",
       "    </tr>\n",
       "    <tr>\n",
       "      <th>20.0</th>\n",
       "      <td>40.0</td>\n",
       "    </tr>\n",
       "    <tr>\n",
       "      <th>21.0</th>\n",
       "      <td>0.0</td>\n",
       "    </tr>\n",
       "    <tr>\n",
       "      <th>22.0</th>\n",
       "      <td>61.0</td>\n",
       "    </tr>\n",
       "    <tr>\n",
       "      <th>24.0</th>\n",
       "      <td>59.0</td>\n",
       "    </tr>\n",
       "    <tr>\n",
       "      <th>25.0</th>\n",
       "      <td>120.0</td>\n",
       "    </tr>\n",
       "    <tr>\n",
       "      <th>31.0</th>\n",
       "      <td>0.0</td>\n",
       "    </tr>\n",
       "  </tbody>\n",
       "</table>\n",
       "</div>"
      ],
      "text/plain": [
       "                     Incidents\n",
       "Date       District           \n",
       "2001-01-01 1.0            37.0\n",
       "           2.0           110.0\n",
       "           3.0           103.0\n",
       "           4.0            96.0\n",
       "           5.0            95.0\n",
       "           6.0            84.0\n",
       "           7.0            83.0\n",
       "           8.0           111.0\n",
       "           9.0           109.0\n",
       "           10.0          104.0\n",
       "           11.0           90.0\n",
       "           12.0           80.0\n",
       "           14.0           83.0\n",
       "           15.0           71.0\n",
       "           16.0           67.0\n",
       "           17.0           67.0\n",
       "           18.0           72.0\n",
       "           19.0           72.0\n",
       "           20.0           40.0\n",
       "           21.0            0.0\n",
       "           22.0           61.0\n",
       "           24.0           59.0\n",
       "           25.0          120.0\n",
       "           31.0            0.0"
      ]
     },
     "execution_count": 11,
     "metadata": {},
     "output_type": "execute_result"
    }
   ],
   "source": [
    "datapath_district = os.path.join(\"data\", \"crimes_district.csv\")\n",
    "district = pd.read_csv(datapath_district, index_col=[\"Date\", \"District\"],\n",
    "                       dtype={\"District\": object,\n",
    "                              \"Incidents\": np.float32},\n",
    "                       parse_dates=[\"Date\"])\n",
    "district.sort_index().head(24)"
   ]
  },
  {
   "cell_type": "markdown",
   "metadata": {
    "slideshow": {
     "slide_type": "fragment"
    }
   },
   "source": []
  },
  {
   "cell_type": "markdown",
   "metadata": {
    "slideshow": {
     "slide_type": "slide"
    }
   },
   "source": [
    "### Separate data and a holdout set.\n",
    "\n",
    "* We will use an algorithm that uses the test set.\n",
    "* Danger of overfitting.\n",
    "* so we separate a holdout set."
   ]
  },
  {
   "cell_type": "code",
   "execution_count": 12,
   "metadata": {
    "slideshow": {
     "slide_type": "fragment"
    }
   },
   "outputs": [],
   "source": [
    "cutoff = pd.to_datetime(\"2017-01-01\")\n",
    "whole_data = whole.loc[whole.index < cutoff]\n",
    "whole_holdout = whole.loc[whole.index >= cutoff]\n",
    "\n",
    "# As always with MultiIndices, things are a little more complicated.\n",
    "district_data = district.loc[district.index.map(lambda x: x[0] < cutoff)]\n",
    "district_holdout = district.loc[district.index.map(lambda x: x[0] > cutoff)]"
   ]
  },
  {
   "cell_type": "markdown",
   "metadata": {
    "slideshow": {
     "slide_type": "slide"
    }
   },
   "source": [
    "## Parameter Tuning with `hyperopt`"
   ]
  },
  {
   "cell_type": "markdown",
   "metadata": {
    "slideshow": {
     "slide_type": "slide"
    }
   },
   "source": [
    "### How does `hyperopt` work?\n",
    "\n",
    "We try to find our optimal set of hyperparameters through a *Tree of Parzen Estimators*\n",
    "\n",
    "1. Define a parameter space\n",
    "2. Define an objective function\n",
    "3. Minimize the objective"
   ]
  },
  {
   "cell_type": "markdown",
   "metadata": {
    "slideshow": {
     "slide_type": "subslide"
    }
   },
   "source": [
    "### What is a *Tree of Parzen Estimators?*\n",
    "\n",
    "\\begin{equation}\n",
    "p(x|y) = \\begin{cases}\n",
    "\\color{blue}{l(x)} \\text{ if } y<y^\\star \\\\\n",
    "\\color{red}{g(x)} \\text{ if } y \\geq y^\\star\n",
    "\\end{cases}\n",
    "\\end{equation}\n",
    "\n",
    "where:\n",
    "* $Y$ is a random variable corresponding to the loss of some real valued objective function (and $y$ is a realisation)\n",
    "* $y^\\star$ is some threshold\n",
    "* $x$ is a vector of hyperparameters"
   ]
  },
  {
   "cell_type": "markdown",
   "metadata": {
    "slideshow": {
     "slide_type": "subslide"
    }
   },
   "source": [
    "<img src=https://cdn-images-1.medium.com/max/800/1*H5pyf3G115WGJwPpg65yaQ.png style=\"width: 1000px;\">\n",
    "\n",
    "[Source: Koehrsen](https://cdn-images-1.medium.com/max/800/1*H5pyf3G115WGJwPpg65yaQ.png)"
   ]
  },
  {
   "cell_type": "markdown",
   "metadata": {
    "slideshow": {
     "slide_type": "subslide"
    }
   },
   "source": [
    "<img src=https://cdn-images-1.medium.com/max/800/1*6SH5O_ail54karro8j0NGg.png style=\"width: 1000px;\">\n",
    "\n",
    "[Source: Koehrsen](https://cdn-images-1.medium.com/max/800/1*6SH5O_ail54karro8j0NGg.png)\n"
   ]
  },
  {
   "cell_type": "markdown",
   "metadata": {
    "slideshow": {
     "slide_type": "subslide"
    }
   },
   "source": [
    "### What is a *Tree of Parzen Estimators*\n",
    "\n",
    "$$\n",
    "EI_{y^\\star}(x) = \\int\\limits_{-\\infty}^{y^\\star} (y^\\star-y)p(y|x)dy\n",
    "$$\n",
    "where\n",
    "$$\n",
    "p(y|x) = \\frac{p(x|y)p(y)}{p(x)}\n",
    "$$"
   ]
  },
  {
   "cell_type": "markdown",
   "metadata": {
    "slideshow": {
     "slide_type": "subslide"
    }
   },
   "source": [
    "also note that:\n",
    "\\begin{align}\n",
    "p(x) &= \\int \\underbrace{p(x|y)p(y)}_{p(x, y)}dy \\\\\n",
    "     &= \\int\\limits_{\\color{blue}{-\\infty}}^{\\color{blue}{y^\\star}}\\color{blue}{p(x|y)}p(y)dy +\n",
    "        \\int\\limits^{\\color{red}{\\infty}}_{\\color{red}{y^\\star}}\\color{red}{p(x|y)}p(y)dy \\\\\n",
    "     &= \\color{blue}{l(x)} \\int\\limits_{-\\infty}^{y^\\star}p(y)dy +\n",
    "        \\color{red}{g(x)} \\int\\limits^{\\infty}_{y^\\star}p(y)dy \\\\\n",
    "     &= l(x) \\underbrace{P(Y<y^\\star)}_{:=\\gamma} + g(x)    \\underbrace{P(Y \\geq y^\\star)}_{:=1-\\gamma} \\\\\n",
    "     &= \\gamma l(x) + (1-\\gamma)g(x)\n",
    "\\end{align}"
   ]
  },
  {
   "cell_type": "markdown",
   "metadata": {
    "slideshow": {
     "slide_type": "subslide"
    }
   },
   "source": [
    "Derivation:\n",
    "\\begin{align}\n",
    "EI_{y^\\star}(x) &= \\int\\limits_{-\\infty}^{y^\\star} (y^\\star-y)p(y|x)dy \\\\\n",
    "  &= \\int\\limits_{\\color{blue}{-\\infty}}^{\\color{blue}{y^\\star}}(y^\\star-y) \\frac{\\color{blue}{p(x|y)}p(y)}{p(x)}dy\n",
    "  = \\frac{\\color{blue}{l(x)}}{p(x)} \\int\\limits_{-\\infty}^{y^\\star}(y^\\star-y) p(y)dy \\\\\n",
    "  &= \\frac{l(x)}{p(x)} \\left[ y^\\star \\underbrace{\\int\\limits_{-\\infty}^{y^\\star} p(y)dy}_{P(Y < y^\\star) = \\gamma} - \\int\\limits_{-\\infty}^{y^\\star} y \\cdot p(y)dy \\right]\n",
    "  = \\frac{l(x)\\gamma y^\\star - l(x)\\int_{-\\infty}^{y^\\star} y \\cdot p(y) dy}{l(x) \\gamma + (1-\\gamma)g(x)} \n",
    "  \\propto \\color{orange}{\\left[\\gamma + (1-\\gamma) \\frac{g(x)}{l(x)}\\right]^{-1}}\n",
    "\\end{align}"
   ]
  },
  {
   "cell_type": "markdown",
   "metadata": {
    "slideshow": {
     "slide_type": "slide"
    }
   },
   "source": [
    "### `hyperopt` step 1: Define a parameter space\n",
    "\n",
    "* choose a prior distribution from which parameters are sampled.\n",
    "* we choose mostly from the uniform distribution."
   ]
  },
  {
   "cell_type": "code",
   "execution_count": 13,
   "metadata": {
    "slideshow": {
     "slide_type": "fragment"
    }
   },
   "outputs": [],
   "source": [
    "paramspace = {\"maxlag\": scope.int(hp.quniform(\"maxlag\", 1, 50, 1)),\n",
    "              \"cell_neurons\": scope.int(hp.quniform(\"cell_neurons\", 1, 30, 1)),\n",
    "              \"batch_size\": scope.int(hp.quniform(\"batch_size\", 1, 10, 1)),\n",
    "              \"optimizer\": hp.choice(\"optimizer\", [\"adam\", \"sgd\"])}"
   ]
  },
  {
   "cell_type": "markdown",
   "metadata": {
    "slideshow": {
     "slide_type": "slide"
    }
   },
   "source": [
    "* and create one dictionary for each cell we want to use. "
   ]
  },
  {
   "cell_type": "code",
   "execution_count": 14,
   "metadata": {
    "slideshow": {
     "slide_type": "fragment"
    }
   },
   "outputs": [
    {
     "name": "stdout",
     "output_type": "stream",
     "text": [
      "{'GRU': {'batch_size': <hyperopt.pyll.base.Apply object at 0x7f61c99338d0>,\n",
      "         'cell': <class 'keras.layers.recurrent.GRU'>,\n",
      "         'cell_neurons': <hyperopt.pyll.base.Apply object at 0x7f61c9ade780>,\n",
      "         'maxlag': <hyperopt.pyll.base.Apply object at 0x7f61c9ade5c0>,\n",
      "         'optimizer': <hyperopt.pyll.base.Apply object at 0x7f61c9933e48>},\n",
      " 'LSTM': {'batch_size': <hyperopt.pyll.base.Apply object at 0x7f61c99338d0>,\n",
      "          'cell': <class 'keras.layers.recurrent.LSTM'>,\n",
      "          'cell_neurons': <hyperopt.pyll.base.Apply object at 0x7f61c9ade780>,\n",
      "          'maxlag': <hyperopt.pyll.base.Apply object at 0x7f61c9ade5c0>,\n",
      "          'optimizer': <hyperopt.pyll.base.Apply object at 0x7f61c9933e48>},\n",
      " 'SimpleRNN': {'batch_size': <hyperopt.pyll.base.Apply object at 0x7f61c99338d0>,\n",
      "               'cell': <class 'keras.layers.recurrent.SimpleRNN'>,\n",
      "               'cell_neurons': <hyperopt.pyll.base.Apply object at 0x7f61c9ade780>,\n",
      "               'maxlag': <hyperopt.pyll.base.Apply object at 0x7f61c9ade5c0>,\n",
      "               'optimizer': <hyperopt.pyll.base.Apply object at 0x7f61c9933e48>}}\n"
     ]
    }
   ],
   "source": [
    "spacesdict ={}\n",
    "for cell in (SimpleRNN, LSTM, GRU):\n",
    "    spacesdict[cell.__name__] = {\"cell\": cell, **paramspace}\n",
    "\n",
    "pprint(spacesdict)"
   ]
  },
  {
   "cell_type": "markdown",
   "metadata": {
    "slideshow": {
     "slide_type": "slide"
    }
   },
   "source": [
    "#### Optional: set up `Trials`-object to store the results\n",
    "\n",
    "* We can later visualize the search process.\n",
    "* Based on that, we can make decisions if we want to keep the parameters or not."
   ]
  },
  {
   "cell_type": "code",
   "execution_count": 15,
   "metadata": {
    "slideshow": {
     "slide_type": "fragment"
    }
   },
   "outputs": [
    {
     "name": "stdout",
     "output_type": "stream",
     "text": [
      "{'district': {'GRU': <hyperopt.base.Trials object at 0x7f61c9937dd8>,\n",
      "              'LSTM': <hyperopt.base.Trials object at 0x7f61c9937518>,\n",
      "              'SimpleRNN': <hyperopt.base.Trials object at 0x7f61c99376d8>},\n",
      " 'whole': {'GRU': <hyperopt.base.Trials object at 0x7f61c99378d0>,\n",
      "           'LSTM': <hyperopt.base.Trials object at 0x7f61c9933a58>,\n",
      "           'SimpleRNN': <hyperopt.base.Trials object at 0x7f61c9933e10>}}\n"
     ]
    }
   ],
   "source": [
    "trialsdict = {key: {model: Trials() for model in (\"SimpleRNN\", \"LSTM\", \"GRU\")} for key in (\"whole\", \"district\")}\n",
    "pprint(trialsdict)"
   ]
  },
  {
   "cell_type": "markdown",
   "metadata": {
    "slideshow": {
     "slide_type": "slide"
    }
   },
   "source": [
    "### `hyperopt` step 2: Optimizing over the parameter space\n",
    "\n",
    "* We first define an objective function.\n",
    "* Then we pass it to the `fmin`-routine."
   ]
  },
  {
   "cell_type": "markdown",
   "metadata": {
    "slideshow": {
     "slide_type": "fragment"
    }
   },
   "source": [
    "* With 3 model classes and 2 different datasets we would need 6 of those.\n",
    "* So we do something different - we use `Python`s decorator syntax."
   ]
  },
  {
   "cell_type": "code",
   "execution_count": 16,
   "metadata": {
    "slideshow": {
     "slide_type": "fragment"
    }
   },
   "outputs": [],
   "source": [
    "def minimizer(objective):\n",
    "    def outer(paramspace, trials, max_evals=10):\n",
    "        pbar = tqdm(total=max_evals, desc=paramspace[\"cell\"].__name__)\n",
    "        def inner(*args, **kwargs):\n",
    "            pbar.update()\n",
    "            return objective(*args, **kwargs)\n",
    "\n",
    "        best = fmin(fn=inner,\n",
    "                    space=paramspace,\n",
    "                    algo=tpe.suggest,\n",
    "                    max_evals=max_evals,\n",
    "                    trials=trials)\n",
    "        pbar.close()\n",
    "        return best\n",
    "    return outer"
   ]
  },
  {
   "cell_type": "markdown",
   "metadata": {
    "slideshow": {
     "slide_type": "slide"
    }
   },
   "source": [
    "And now to the function we wish to decorate. It contains 3 steps:\n",
    "1. Create a model with a certain set of (yet undefined) parameters.\n",
    "2. Train the model.\n",
    "3. Calculate the loss on a test set and return a dictionary, that contains the loss and a flag indicating that everything went okay.\n",
    "\n",
    "We do this for the whole series:"
   ]
  },
  {
   "cell_type": "code",
   "execution_count": 17,
   "metadata": {
    "slideshow": {
     "slide_type": "fragment"
    }
   },
   "outputs": [],
   "source": [
    "@minimizer\n",
    "def whole_get_loss(params):\n",
    "    \"\"\"Return loss on test set.\"\"\"\n",
    "    model = Recurrent(whole_data, epochs=3, verbose=False, **params)\n",
    "    model.train()\n",
    "    predictions = model.forecast(model.X_test)\n",
    "    loss = mean_squared_error(y_true=model.y_test, y_pred=predictions)\n",
    "    return {'loss': loss, 'status': STATUS_OK}"
   ]
  },
  {
   "cell_type": "markdown",
   "metadata": {
    "slideshow": {
     "slide_type": "slide"
    }
   },
   "source": [
    "And for the series by district:"
   ]
  },
  {
   "cell_type": "code",
   "execution_count": 18,
   "metadata": {
    "slideshow": {
     "slide_type": "fragment"
    }
   },
   "outputs": [],
   "source": [
    "@minimizer\n",
    "def district_get_loss(params):\n",
    "    \"\"\"Return loss on test set.\"\"\"\n",
    "    model = Recurrent(district_data, epochs=3, verbose=False, **params)\n",
    "    model.train()\n",
    "    predictions = model.forecast(model.X_test)\n",
    "    loss = mean_squared_error(y_true=model.y_test, y_pred=predictions)\n",
    "    return {'loss': loss, 'status': STATUS_OK}"
   ]
  },
  {
   "cell_type": "code",
   "execution_count": 19,
   "metadata": {
    "slideshow": {
     "slide_type": "skip"
    }
   },
   "outputs": [],
   "source": [
    "import time\n",
    "@minimizer\n",
    "def district_get_loss(params):\n",
    "    time.sleep(0.2)\n",
    "    return {\"loss\": np.random.uniform(), \"status\": STATUS_OK}\n",
    "\n",
    "@minimizer\n",
    "def whole_get_loss(params):\n",
    "    time.sleep(0.1)\n",
    "    return {\"loss\": np.random.uniform(), \"status\": STATUS_OK}"
   ]
  },
  {
   "cell_type": "markdown",
   "metadata": {
    "slideshow": {
     "slide_type": "slide"
    }
   },
   "source": [
    "### Tune the parameters\n",
    "\n",
    "* We pass through all our models \n",
    "* for each dataset and finally\n",
    "* store the best hyperparameters in a dictionary."
   ]
  },
  {
   "cell_type": "code",
   "execution_count": 30,
   "metadata": {
    "slideshow": {
     "slide_type": "fragment"
    }
   },
   "outputs": [
    {
     "data": {
      "application/vnd.jupyter.widget-view+json": {
       "model_id": "cf1290d2d2cd477aa1dc7e6ec0b2a088",
       "version_major": 2,
       "version_minor": 0
      },
      "text/plain": [
       "HBox(children=(IntProgress(value=0, description='SimpleRNN', max=10, style=ProgressStyle(description_width='in…"
      ]
     },
     "metadata": {},
     "output_type": "display_data"
    },
    {
     "name": "stdout",
     "output_type": "stream",
     "text": [
      "\n"
     ]
    },
    {
     "data": {
      "application/vnd.jupyter.widget-view+json": {
       "model_id": "6a25286440704cc682a4ac286fa88c12",
       "version_major": 2,
       "version_minor": 0
      },
      "text/plain": [
       "HBox(children=(IntProgress(value=0, description='SimpleRNN', max=10, style=ProgressStyle(description_width='in…"
      ]
     },
     "metadata": {},
     "output_type": "display_data"
    },
    {
     "name": "stdout",
     "output_type": "stream",
     "text": [
      "\n"
     ]
    },
    {
     "data": {
      "application/vnd.jupyter.widget-view+json": {
       "model_id": "9d27291165c449378b423300c20a455a",
       "version_major": 2,
       "version_minor": 0
      },
      "text/plain": [
       "HBox(children=(IntProgress(value=0, description='LSTM', max=10, style=ProgressStyle(description_width='initial…"
      ]
     },
     "metadata": {},
     "output_type": "display_data"
    },
    {
     "name": "stdout",
     "output_type": "stream",
     "text": [
      "\n"
     ]
    },
    {
     "data": {
      "application/vnd.jupyter.widget-view+json": {
       "model_id": "c67568ec5b4f43a5ad1e318db938a4ef",
       "version_major": 2,
       "version_minor": 0
      },
      "text/plain": [
       "HBox(children=(IntProgress(value=0, description='LSTM', max=10, style=ProgressStyle(description_width='initial…"
      ]
     },
     "metadata": {},
     "output_type": "display_data"
    },
    {
     "name": "stdout",
     "output_type": "stream",
     "text": [
      "\n"
     ]
    },
    {
     "data": {
      "application/vnd.jupyter.widget-view+json": {
       "model_id": "1e3bcd310b74417ca1866ce62bc6bba9",
       "version_major": 2,
       "version_minor": 0
      },
      "text/plain": [
       "HBox(children=(IntProgress(value=0, description='GRU', max=10, style=ProgressStyle(description_width='initial'…"
      ]
     },
     "metadata": {},
     "output_type": "display_data"
    },
    {
     "name": "stdout",
     "output_type": "stream",
     "text": [
      "\n"
     ]
    },
    {
     "data": {
      "application/vnd.jupyter.widget-view+json": {
       "model_id": "e356ea8b326c4287baf91a91aeac1c0c",
       "version_major": 2,
       "version_minor": 0
      },
      "text/plain": [
       "HBox(children=(IntProgress(value=0, description='GRU', max=10, style=ProgressStyle(description_width='initial'…"
      ]
     },
     "metadata": {},
     "output_type": "display_data"
    },
    {
     "name": "stdout",
     "output_type": "stream",
     "text": [
      "\n"
     ]
    }
   ],
   "source": [
    "models = (\"SimpleRNN\", \"LSTM\", \"GRU\")\n",
    "best = {\"whole\": {},\n",
    "        \"district\": {}}\n",
    "trialsdict = {key: {model: Trials() for model in (\"SimpleRNN\", \"LSTM\", \"GRU\")} for key in (\"whole\", \"district\")}\n",
    "\n",
    "for model in models:\n",
    "    best[\"whole\"][model] = whole_get_loss(spacesdict[model], \n",
    "                                          trialsdict[\"whole\"][model])\n",
    "    best[\"district\"][model] = district_get_loss(spacesdict[model],\n",
    "                                                trialsdict[\"district\"][model])"
   ]
  },
  {
   "cell_type": "code",
   "execution_count": 20,
   "metadata": {
    "slideshow": {
     "slide_type": "skip"
    }
   },
   "outputs": [],
   "source": [
    "with open(\"analysis/best_params.json\") as file:\n",
    "    best = json.load(file)"
   ]
  },
  {
   "cell_type": "code",
   "execution_count": 21,
   "metadata": {
    "slideshow": {
     "slide_type": "slide"
    }
   },
   "outputs": [
    {
     "name": "stdout",
     "output_type": "stream",
     "text": [
      "{'district': {'GRU': {'batch_size': 4.0,\n",
      "                      'cell_neurons': 28.0,\n",
      "                      'maxlag': 44.0,\n",
      "                      'optimizer': 0},\n",
      "              'LSTM': {'batch_size': 1.0,\n",
      "                       'cell_neurons': 8.0,\n",
      "                       'maxlag': 50.0,\n",
      "                       'optimizer': 0},\n",
      "              'SimpleRNN': {'batch_size': 4.0,\n",
      "                            'cell_neurons': 7.0,\n",
      "                            'maxlag': 42.0,\n",
      "                            'optimizer': 0}},\n",
      " 'whole': {'GRU': {'batch_size': 1.0,\n",
      "                   'cell_neurons': 22.0,\n",
      "                   'maxlag': 26.0,\n",
      "                   'optimizer': 0},\n",
      "           'LSTM': {'batch_size': 1.0,\n",
      "                    'cell_neurons': 19.0,\n",
      "                    'maxlag': 23.0,\n",
      "                    'optimizer': 0},\n",
      "           'SimpleRNN': {'batch_size': 1.0,\n",
      "                         'cell_neurons': 27.0,\n",
      "                         'maxlag': 14.0,\n",
      "                         'optimizer': 0}}}\n"
     ]
    }
   ],
   "source": [
    "pprint(best)"
   ]
  },
  {
   "cell_type": "markdown",
   "metadata": {
    "slideshow": {
     "slide_type": "slide"
    }
   },
   "source": [
    "## Visualize the search Process\n",
    "\n",
    "First for the districts:"
   ]
  },
  {
   "cell_type": "markdown",
   "metadata": {
    "slideshow": {
     "slide_type": "subslide"
    }
   },
   "source": [
    "<img src=\"analysis/figures/district-hyperopt-SimpleRNN.png\">"
   ]
  },
  {
   "cell_type": "markdown",
   "metadata": {
    "slideshow": {
     "slide_type": "subslide"
    }
   },
   "source": [
    "<img src=\"analysis/figures/district-hyperopt-LSTM.png\">"
   ]
  },
  {
   "cell_type": "markdown",
   "metadata": {
    "slideshow": {
     "slide_type": "subslide"
    }
   },
   "source": [
    "<img src=\"analysis/figures/district-hyperopt-GRU.png\">"
   ]
  },
  {
   "cell_type": "markdown",
   "metadata": {
    "slideshow": {
     "slide_type": "subslide"
    }
   },
   "source": [
    "And for the whole series:"
   ]
  },
  {
   "cell_type": "markdown",
   "metadata": {
    "slideshow": {
     "slide_type": "subslide"
    }
   },
   "source": [
    "<img src=\"analysis/figures/whole-hyperopt-SimpleRNN.png\">"
   ]
  },
  {
   "cell_type": "markdown",
   "metadata": {
    "slideshow": {
     "slide_type": "subslide"
    }
   },
   "source": [
    "<img src=\"analysis/figures/whole-hyperopt-LSTM.png\">"
   ]
  },
  {
   "cell_type": "markdown",
   "metadata": {
    "slideshow": {
     "slide_type": "subslide"
    }
   },
   "source": [
    "<img src=\"analysis/figures/whole-hyperopt-GRU.png\">"
   ]
  },
  {
   "cell_type": "code",
   "execution_count": 22,
   "metadata": {
    "slideshow": {
     "slide_type": "skip"
    }
   },
   "outputs": [],
   "source": [
    "def typecast(params):\n",
    "    out = {}\n",
    "    optimizers = [\"adam\", \"sgd\"]\n",
    "    for key, val in params.items():\n",
    "        if key == \"optimizer\":\n",
    "            out[key] = optimizers[val]\n",
    "        else:\n",
    "            try:\n",
    "                out[key] = int(val)\n",
    "            except TypeError:\n",
    "                out[key] = val\n",
    "    return out"
   ]
  },
  {
   "cell_type": "markdown",
   "metadata": {
    "slideshow": {
     "slide_type": "slide"
    }
   },
   "source": [
    "### Evaluate the obtained Hyperparameters \n",
    "\n",
    "* We can compute the proportion of observations before our cutoff point\n",
    "* and use the remainder for the new test set."
   ]
  },
  {
   "cell_type": "code",
   "execution_count": 23,
   "metadata": {
    "slideshow": {
     "slide_type": "fragment"
    }
   },
   "outputs": [
    {
     "data": {
      "text/plain": [
       "0.8972823583602026"
      ]
     },
     "execution_count": 23,
     "metadata": {},
     "output_type": "execute_result"
    }
   ],
   "source": [
    "train_size = whole.index.get_loc(cutoff) / len(whole.index.unique())\n",
    "train_size"
   ]
  },
  {
   "cell_type": "code",
   "execution_count": 24,
   "metadata": {
    "slideshow": {
     "slide_type": "fragment"
    }
   },
   "outputs": [],
   "source": [
    "name2cell = {\"RNN\": SimpleRNN,\n",
    "             \"LSTM\": LSTM,\n",
    "             \"GRU\": GRU}\n",
    "series2data = {\"whole\": whole, \"district\": district}\n",
    "series_col = []\n",
    "cell_col = []\n",
    "loss_col = []"
   ]
  },
  {
   "cell_type": "code",
   "execution_count": null,
   "metadata": {
    "slideshow": {
     "slide_type": "slide"
    }
   },
   "outputs": [],
   "source": [
    "for series, data in tqdm(series2data.items(), desc=\"data loop\"):\n",
    "    for name, cell in tqdm(name2cell.items(), desc=\"model loop\"):\n",
    "        bestparams = typecast({\"cell\": cell,\n",
    "                               **best[series][cell.__name__]})\n",
    "        \n",
    "        model = Recurrent(data, epochs=3, train_size=train_size,\n",
    "                          **bestparams, verbose=False)\n",
    "        model.train()\n",
    "        \n",
    "        predictions = model.forecast(model.X_test)\n",
    "        loss = mean_squared_error(y_true=model.y_test,\n",
    "                                  y_pred=predictions)\n",
    "        series_col.append(series)\n",
    "        cell_col.append(name)\n",
    "        loss_col.append(loss)"
   ]
  },
  {
   "cell_type": "markdown",
   "metadata": {
    "slideshow": {
     "slide_type": "slide"
    }
   },
   "source": [
    "#### How does it fit?\n",
    "\n",
    "<img src=\"analysis/figures/best_whole_RNN.png\">"
   ]
  },
  {
   "cell_type": "markdown",
   "metadata": {
    "slideshow": {
     "slide_type": "subslide"
    }
   },
   "source": [
    "#### How does it fit?\n",
    "\n",
    "<img src=\"analysis/figures/best_whole_LSTM.png\">"
   ]
  },
  {
   "cell_type": "markdown",
   "metadata": {
    "slideshow": {
     "slide_type": "subslide"
    }
   },
   "source": [
    "#### How does it fit?\n",
    "\n",
    "<img src=\"analysis/figures/best_whole_GRU.png\">"
   ]
  },
  {
   "cell_type": "markdown",
   "metadata": {
    "slideshow": {
     "slide_type": "slide"
    }
   },
   "source": [
    "### Loss on the holdout set"
   ]
  },
  {
   "cell_type": "code",
   "execution_count": 25,
   "metadata": {
    "slideshow": {
     "slide_type": "skip"
    }
   },
   "outputs": [],
   "source": [
    "validation = pd.read_csv(\"analysis/loss.csv\",\n",
    "                         usecols=[\"Series\", \"Model\", \"Validation Loss\"],\n",
    "                         index_col=[\"Series\", \"Model\"])"
   ]
  },
  {
   "cell_type": "code",
   "execution_count": 29,
   "metadata": {
    "slideshow": {
     "slide_type": "fragment"
    }
   },
   "outputs": [
    {
     "data": {
      "text/html": [
       "<div>\n",
       "<style scoped>\n",
       "    .dataframe tbody tr th:only-of-type {\n",
       "        vertical-align: middle;\n",
       "    }\n",
       "\n",
       "    .dataframe tbody tr th {\n",
       "        vertical-align: top;\n",
       "    }\n",
       "\n",
       "    .dataframe thead tr th {\n",
       "        text-align: left;\n",
       "    }\n",
       "</style>\n",
       "<table border=\"1\" class=\"dataframe\">\n",
       "  <thead>\n",
       "    <tr>\n",
       "      <th>Series</th>\n",
       "      <th colspan=\"3\" halign=\"left\">whole</th>\n",
       "      <th colspan=\"3\" halign=\"left\">district</th>\n",
       "    </tr>\n",
       "    <tr>\n",
       "      <th>Model</th>\n",
       "      <th>RNN</th>\n",
       "      <th>LSTM</th>\n",
       "      <th>GRU</th>\n",
       "      <th>RNN</th>\n",
       "      <th>LSTM</th>\n",
       "      <th>GRU</th>\n",
       "    </tr>\n",
       "  </thead>\n",
       "  <tbody>\n",
       "    <tr>\n",
       "      <th>Validation Loss</th>\n",
       "      <td>0.001171</td>\n",
       "      <td>0.000847</td>\n",
       "      <td>0.000849</td>\n",
       "      <td>0.000247</td>\n",
       "      <td>0.000237</td>\n",
       "      <td>0.000216</td>\n",
       "    </tr>\n",
       "  </tbody>\n",
       "</table>\n",
       "</div>"
      ],
      "text/plain": [
       "Series              whole                      district                    \n",
       "Model                 RNN      LSTM       GRU       RNN      LSTM       GRU\n",
       "Validation Loss  0.001171  0.000847  0.000849  0.000247  0.000237  0.000216"
      ]
     },
     "execution_count": 29,
     "metadata": {},
     "output_type": "execute_result"
    }
   ],
   "source": [
    "validation.T"
   ]
  },
  {
   "cell_type": "code",
   "execution_count": null,
   "metadata": {
    "slideshow": {
     "slide_type": "skip"
    }
   },
   "outputs": [],
   "source": []
  }
 ],
 "metadata": {
  "celltoolbar": "Slideshow",
  "kernelspec": {
   "display_name": "Python 3",
   "language": "python",
   "name": "python3"
  },
  "language_info": {
   "codemirror_mode": {
    "name": "ipython",
    "version": 3
   },
   "file_extension": ".py",
   "mimetype": "text/x-python",
   "name": "python",
   "nbconvert_exporter": "python",
   "pygments_lexer": "ipython3",
   "version": "3.6.7"
  },
  "widgets": {
   "application/vnd.jupyter.widget-state+json": {
    "state": {
     "09eeb26a2c724b2f8a27053a1bfd599b": {
      "model_module": "@jupyter-widgets/base",
      "model_module_version": "1.1.0",
      "model_name": "LayoutModel",
      "state": {}
     },
     "0a3422edb86c44c79c6f083b7c4fd6ad": {
      "model_module": "@jupyter-widgets/controls",
      "model_module_version": "1.4.0",
      "model_name": "VBoxModel",
      "state": {
       "_dom_classes": [
        "widget-interact"
       ],
       "children": [
        "IPY_MODEL_8ba3dc0bf35f4d5b96bf7d9f455d8816",
        "IPY_MODEL_88bd0e5bc8ec4774b9bdb635c4d7aa5e",
        "IPY_MODEL_649ef01723714c44af7a397a79b08fba"
       ],
       "layout": "IPY_MODEL_39b8c5b88c7344dfad2b87dbffd52ca2"
      }
     },
     "1036c898675d4f9fb5f3bcfba923a67c": {
      "model_module": "@jupyter-widgets/controls",
      "model_module_version": "1.4.0",
      "model_name": "DescriptionStyleModel",
      "state": {
       "description_width": ""
      }
     },
     "39b8c5b88c7344dfad2b87dbffd52ca2": {
      "model_module": "@jupyter-widgets/base",
      "model_module_version": "1.1.0",
      "model_name": "LayoutModel",
      "state": {}
     },
     "57f7956153dc4370a6cb8a7757ec6a80": {
      "model_module": "@jupyter-widgets/controls",
      "model_module_version": "1.4.0",
      "model_name": "SliderStyleModel",
      "state": {
       "description_width": ""
      }
     },
     "649ef01723714c44af7a397a79b08fba": {
      "model_module": "@jupyter-widgets/output",
      "model_module_version": "1.0.0",
      "model_name": "OutputModel",
      "state": {
       "layout": "IPY_MODEL_a84a466b3fd349a5b384c0acfb5696e2",
       "outputs": [
        {
         "data": {
          "image/png": "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\n",
          "text/plain": "<Figure size 864x432 with 1 Axes>"
         },
         "metadata": {},
         "output_type": "display_data"
        }
       ]
      }
     },
     "88bd0e5bc8ec4774b9bdb635c4d7aa5e": {
      "model_module": "@jupyter-widgets/controls",
      "model_module_version": "1.4.0",
      "model_name": "IntSliderModel",
      "state": {
       "description": "year",
       "layout": "IPY_MODEL_a4309448e88144509ebaa0175ef80974",
       "max": 2017,
       "min": 2001,
       "style": "IPY_MODEL_57f7956153dc4370a6cb8a7757ec6a80",
       "value": 2001
      }
     },
     "8ba3dc0bf35f4d5b96bf7d9f455d8816": {
      "model_module": "@jupyter-widgets/controls",
      "model_module_version": "1.4.0",
      "model_name": "DropdownModel",
      "state": {
       "_options_labels": [
        "TOTAL",
        "BATTERY",
        "OTHER OFFENSE",
        "ROBBERY",
        "NARCOTICS",
        "CRIMINAL DAMAGE",
        "WEAPONS VIOLATION",
        "THEFT",
        "BURGLARY",
        "MOTOR VEHICLE THEFT",
        "PUBLIC PEACE VIOLATION",
        "DECEPTIVE PRACTICE",
        "ASSAULT",
        "CRIMINAL TRESPASS",
        "CRIM SEXUAL ASSAULT",
        "INTERFERENCE WITH PUBLIC OFFICER",
        "ARSON",
        "LIQUOR LAW VIOLATION",
        "KIDNAPPING",
        "SEX OFFENSE",
        "OFFENSE INVOLVING CHILDREN",
        "PROSTITUTION",
        "HOMICIDE",
        "GAMBLING",
        "INTIMIDATION",
        "STALKING",
        "OBSCENITY",
        "PUBLIC INDECENCY",
        "HUMAN TRAFFICKING",
        "CONCEALED CARRY LICENSE VIOLATION",
        "OTHER NARCOTIC VIOLATION",
        "NON - CRIMINAL",
        "NON-CRIMINAL",
        "RITUALISM",
        "NON-CRIMINAL (SUBJECT SPECIFIED)",
        "DOMESTIC VIOLENCE"
       ],
       "description": "crime",
       "index": 0,
       "layout": "IPY_MODEL_09eeb26a2c724b2f8a27053a1bfd599b",
       "style": "IPY_MODEL_1036c898675d4f9fb5f3bcfba923a67c"
      }
     },
     "a4309448e88144509ebaa0175ef80974": {
      "model_module": "@jupyter-widgets/base",
      "model_module_version": "1.1.0",
      "model_name": "LayoutModel",
      "state": {}
     },
     "a84a466b3fd349a5b384c0acfb5696e2": {
      "model_module": "@jupyter-widgets/base",
      "model_module_version": "1.1.0",
      "model_name": "LayoutModel",
      "state": {}
     }
    },
    "version_major": 2,
    "version_minor": 0
   }
  }
 },
 "nbformat": 4,
 "nbformat_minor": 2
}
