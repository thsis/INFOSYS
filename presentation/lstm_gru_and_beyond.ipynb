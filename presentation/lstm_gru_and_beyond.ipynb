{
 "cells": [
  {
   "cell_type": "markdown",
   "metadata": {
    "slideshow": {
     "slide_type": "slide"
    }
   },
   "source": [
    "# Crime and Neural Nets\n",
    "## RNN, LSTM, GRU\n",
    "\n",
    "Carolin Kunze <br>\n",
    "Marc Scheu <br>\n",
    "Thomas Siskos <br>\n",
    "\n",
    "Our code lives on [Github](https://github.com/thsis/INFOSYS)"
   ]
  },
  {
   "cell_type": "markdown",
   "metadata": {
    "slideshow": {
     "slide_type": "slide"
    }
   },
   "source": [
    "## Outline\n",
    "\n",
    "- Chicago Crime Data\n",
    "- Why do we need Recurrent Neural Networks?\n",
    "- Introduction to RNNs\n",
    "- Long Short Term Memory Cell **(LSTM)**\n",
    "- Gated Recurrent Unit **(GRU)**\n",
    "- Implementation of RNN, LSTM and GRU\n",
    "- Parameter Tuning and Evaluation"
   ]
  },
  {
   "cell_type": "code",
   "execution_count": 11,
   "metadata": {
    "slideshow": {
     "slide_type": "skip"
    }
   },
   "outputs": [],
   "source": [
    "import os\n",
    "import json\n",
    "import sys\n",
    "import time\n",
    "\n",
    "import numpy as np\n",
    "import pandas as pd\n",
    "\n",
    "from mpl_toolkits.basemap import Basemap\n",
    "from matplotlib import pyplot as plt\n",
    "from matplotlib import image as mpimg\n",
    "from ipywidgets import interactive\n",
    "\n",
    "from keras.layers import SimpleRNN, LSTM, GRU\n",
    "from models.recurrent import Recurrent\n",
    "\n",
    "from sklearn.metrics import mean_squared_error\n",
    "from hyperopt import tpe, hp, fmin, STATUS_OK, Trials\n",
    "from hyperopt.pyll.base import scope\n",
    "\n",
    "from tqdm import tqdm_notebook as tqdm\n",
    "from pprint import pprint\n",
    "\n",
    "%matplotlib inline"
   ]
  },
  {
   "cell_type": "code",
   "execution_count": 12,
   "metadata": {
    "slideshow": {
     "slide_type": "skip"
    }
   },
   "outputs": [],
   "source": [
    "datapath = os.path.join(\"data\", \"crimes.zip\")\n",
    "columns = [\"ID\", \"Date\", \"Block\", \"Primary Type\", \"Latitude\", \"Longitude\", \"District\", \"Ward\", \"Community Area\"]\n",
    "fulldata = pd.read_csv(datapath, usecols=columns)"
   ]
  },
  {
   "cell_type": "code",
   "execution_count": 13,
   "metadata": {
    "slideshow": {
     "slide_type": "skip"
    }
   },
   "outputs": [],
   "source": [
    "fulldata[\"Date\"] = pd.to_datetime(fulldata[\"Date\"],\n",
    "                                  format='%m/%d/%Y',\n",
    "                                  exact=False)\n",
    "fulldata = fulldata.set_index(\"Date\")"
   ]
  },
  {
   "cell_type": "markdown",
   "metadata": {
    "slideshow": {
     "slide_type": "slide"
    }
   },
   "source": [
    "## Chicago Crime Data\n",
    "\n",
    "Where should the head of the Chicago Police Force sent his patrols?"
   ]
  },
  {
   "cell_type": "code",
   "execution_count": 14,
   "metadata": {
    "slideshow": {
     "slide_type": "fragment"
    }
   },
   "outputs": [
    {
     "data": {
      "text/html": [
       "<div>\n",
       "<style scoped>\n",
       "    .dataframe tbody tr th:only-of-type {\n",
       "        vertical-align: middle;\n",
       "    }\n",
       "\n",
       "    .dataframe tbody tr th {\n",
       "        vertical-align: top;\n",
       "    }\n",
       "\n",
       "    .dataframe thead th {\n",
       "        text-align: right;\n",
       "    }\n",
       "</style>\n",
       "<table border=\"1\" class=\"dataframe\">\n",
       "  <thead>\n",
       "    <tr style=\"text-align: right;\">\n",
       "      <th></th>\n",
       "      <th>ID</th>\n",
       "      <th>Block</th>\n",
       "      <th>Primary Type</th>\n",
       "      <th>District</th>\n",
       "      <th>Ward</th>\n",
       "      <th>Community Area</th>\n",
       "      <th>Latitude</th>\n",
       "      <th>Longitude</th>\n",
       "    </tr>\n",
       "    <tr>\n",
       "      <th>Date</th>\n",
       "      <th></th>\n",
       "      <th></th>\n",
       "      <th></th>\n",
       "      <th></th>\n",
       "      <th></th>\n",
       "      <th></th>\n",
       "      <th></th>\n",
       "      <th></th>\n",
       "    </tr>\n",
       "  </thead>\n",
       "  <tbody>\n",
       "    <tr>\n",
       "      <th>2015-03-18</th>\n",
       "      <td>10000092</td>\n",
       "      <td>047XX W OHIO ST</td>\n",
       "      <td>BATTERY</td>\n",
       "      <td>11.0</td>\n",
       "      <td>28.0</td>\n",
       "      <td>25.0</td>\n",
       "      <td>41.891399</td>\n",
       "      <td>-87.744385</td>\n",
       "    </tr>\n",
       "    <tr>\n",
       "      <th>2015-03-18</th>\n",
       "      <td>10000094</td>\n",
       "      <td>066XX S MARSHFIELD AVE</td>\n",
       "      <td>OTHER OFFENSE</td>\n",
       "      <td>7.0</td>\n",
       "      <td>15.0</td>\n",
       "      <td>67.0</td>\n",
       "      <td>41.773372</td>\n",
       "      <td>-87.665319</td>\n",
       "    </tr>\n",
       "    <tr>\n",
       "      <th>2015-03-18</th>\n",
       "      <td>10000095</td>\n",
       "      <td>044XX S LAKE PARK AVE</td>\n",
       "      <td>BATTERY</td>\n",
       "      <td>2.0</td>\n",
       "      <td>4.0</td>\n",
       "      <td>39.0</td>\n",
       "      <td>41.813861</td>\n",
       "      <td>-87.596643</td>\n",
       "    </tr>\n",
       "    <tr>\n",
       "      <th>2015-03-18</th>\n",
       "      <td>10000096</td>\n",
       "      <td>051XX S MICHIGAN AVE</td>\n",
       "      <td>BATTERY</td>\n",
       "      <td>2.0</td>\n",
       "      <td>3.0</td>\n",
       "      <td>40.0</td>\n",
       "      <td>41.800802</td>\n",
       "      <td>-87.622619</td>\n",
       "    </tr>\n",
       "    <tr>\n",
       "      <th>2015-03-18</th>\n",
       "      <td>10000097</td>\n",
       "      <td>047XX W ADAMS ST</td>\n",
       "      <td>ROBBERY</td>\n",
       "      <td>11.0</td>\n",
       "      <td>28.0</td>\n",
       "      <td>25.0</td>\n",
       "      <td>41.878065</td>\n",
       "      <td>-87.743354</td>\n",
       "    </tr>\n",
       "    <tr>\n",
       "      <th>2015-03-18</th>\n",
       "      <td>10000098</td>\n",
       "      <td>049XX S DREXEL BLVD</td>\n",
       "      <td>BATTERY</td>\n",
       "      <td>2.0</td>\n",
       "      <td>4.0</td>\n",
       "      <td>39.0</td>\n",
       "      <td>41.805443</td>\n",
       "      <td>-87.604284</td>\n",
       "    </tr>\n",
       "    <tr>\n",
       "      <th>2015-03-18</th>\n",
       "      <td>10000099</td>\n",
       "      <td>070XX S MORGAN ST</td>\n",
       "      <td>BATTERY</td>\n",
       "      <td>7.0</td>\n",
       "      <td>17.0</td>\n",
       "      <td>68.0</td>\n",
       "      <td>41.766403</td>\n",
       "      <td>-87.649296</td>\n",
       "    </tr>\n",
       "    <tr>\n",
       "      <th>2015-03-18</th>\n",
       "      <td>10000100</td>\n",
       "      <td>042XX S PRAIRIE AVE</td>\n",
       "      <td>BATTERY</td>\n",
       "      <td>2.0</td>\n",
       "      <td>3.0</td>\n",
       "      <td>38.0</td>\n",
       "      <td>41.817553</td>\n",
       "      <td>-87.619819</td>\n",
       "    </tr>\n",
       "    <tr>\n",
       "      <th>2015-03-18</th>\n",
       "      <td>10000101</td>\n",
       "      <td>036XX S WOLCOTT AVE</td>\n",
       "      <td>NARCOTICS</td>\n",
       "      <td>9.0</td>\n",
       "      <td>11.0</td>\n",
       "      <td>59.0</td>\n",
       "      <td>41.828138</td>\n",
       "      <td>-87.672782</td>\n",
       "    </tr>\n",
       "    <tr>\n",
       "      <th>2015-03-18</th>\n",
       "      <td>10000104</td>\n",
       "      <td>097XX S PRAIRIE AVE</td>\n",
       "      <td>BATTERY</td>\n",
       "      <td>5.0</td>\n",
       "      <td>6.0</td>\n",
       "      <td>49.0</td>\n",
       "      <td>41.717455</td>\n",
       "      <td>-87.617663</td>\n",
       "    </tr>\n",
       "  </tbody>\n",
       "</table>\n",
       "</div>"
      ],
      "text/plain": [
       "                  ID                   Block   Primary Type  District  Ward  \\\n",
       "Date                                                                          \n",
       "2015-03-18  10000092         047XX W OHIO ST        BATTERY      11.0  28.0   \n",
       "2015-03-18  10000094  066XX S MARSHFIELD AVE  OTHER OFFENSE       7.0  15.0   \n",
       "2015-03-18  10000095   044XX S LAKE PARK AVE        BATTERY       2.0   4.0   \n",
       "2015-03-18  10000096    051XX S MICHIGAN AVE        BATTERY       2.0   3.0   \n",
       "2015-03-18  10000097        047XX W ADAMS ST        ROBBERY      11.0  28.0   \n",
       "2015-03-18  10000098     049XX S DREXEL BLVD        BATTERY       2.0   4.0   \n",
       "2015-03-18  10000099       070XX S MORGAN ST        BATTERY       7.0  17.0   \n",
       "2015-03-18  10000100     042XX S PRAIRIE AVE        BATTERY       2.0   3.0   \n",
       "2015-03-18  10000101     036XX S WOLCOTT AVE      NARCOTICS       9.0  11.0   \n",
       "2015-03-18  10000104     097XX S PRAIRIE AVE        BATTERY       5.0   6.0   \n",
       "\n",
       "            Community Area   Latitude  Longitude  \n",
       "Date                                              \n",
       "2015-03-18            25.0  41.891399 -87.744385  \n",
       "2015-03-18            67.0  41.773372 -87.665319  \n",
       "2015-03-18            39.0  41.813861 -87.596643  \n",
       "2015-03-18            40.0  41.800802 -87.622619  \n",
       "2015-03-18            25.0  41.878065 -87.743354  \n",
       "2015-03-18            39.0  41.805443 -87.604284  \n",
       "2015-03-18            68.0  41.766403 -87.649296  \n",
       "2015-03-18            38.0  41.817553 -87.619819  \n",
       "2015-03-18            59.0  41.828138 -87.672782  \n",
       "2015-03-18            49.0  41.717455 -87.617663  "
      ]
     },
     "execution_count": 14,
     "metadata": {},
     "output_type": "execute_result"
    }
   ],
   "source": [
    "fulldata.head(10)"
   ]
  },
  {
   "cell_type": "code",
   "execution_count": 15,
   "metadata": {
    "slideshow": {
     "slide_type": "skip"
    }
   },
   "outputs": [],
   "source": [
    "primary_types = ['TOTAL'] + fulldata[\"Primary Type\"].unique().tolist()"
   ]
  },
  {
   "cell_type": "code",
   "execution_count": 37,
   "metadata": {
    "slideshow": {
     "slide_type": "skip"
    }
   },
   "outputs": [],
   "source": [
    "def crime_viewer(crime=\"TOTAL\", year=2001):\n",
    "    crime_type = crime.lower().replace(\" \", \"_\")\n",
    "    png_title = \"crime_\" + crime_type + \"_\" + str(year) + \".png\"\n",
    "    plt.figure(figsize=(12, 6))\n",
    "    img = mpimg.imread(os.path.join(\"preprocessing\", \"maps\", png_title))\n",
    "    plt.imshow(img, aspect=\"auto\")\n",
    "    plt.gca().set_axis_off()\n",
    "    plt.subplots_adjust(top = 1, bottom = 0, right = 1, left = 0, \n",
    "                        hspace = 0, wspace = 0)\n",
    "    plt.margins(0,0)\n",
    "    plt.gca().xaxis.set_major_locator(plt.NullLocator())\n",
    "    plt.gca().yaxis.set_major_locator(plt.NullLocator())\n",
    "    "
   ]
  },
  {
   "cell_type": "markdown",
   "metadata": {
    "slideshow": {
     "slide_type": "slide"
    }
   },
   "source": [
    "## Chicago Crime Data\n",
    "\n",
    "Are there geographical patterns?"
   ]
  },
  {
   "cell_type": "code",
   "execution_count": 17,
   "metadata": {
    "slideshow": {
     "slide_type": "fragment"
    }
   },
   "outputs": [
    {
     "data": {
      "application/vnd.jupyter.widget-view+json": {
       "model_id": "437889913d384c3fad4a05f1e496afe4",
       "version_major": 2,
       "version_minor": 0
      },
      "text/plain": [
       "interactive(children=(Dropdown(description='crime', options=('TOTAL', 'BATTERY', 'OTHER OFFENSE', 'ROBBERY', '…"
      ]
     },
     "metadata": {},
     "output_type": "display_data"
    }
   ],
   "source": [
    "interactive(crime_viewer, crime = primary_types, year=(2001, 2017, 1))"
   ]
  },
  {
   "cell_type": "markdown",
   "metadata": {
    "slideshow": {
     "slide_type": "slide"
    }
   },
   "source": [
    "## Why do we need Recurrent Neural Networks? \n",
    "\n",
    "### Recap Feed Forward Network\n",
    "<img src=\"presentation/presentation_pics/neural_network1.png\" alt=\"NN\" style=\"width: 400px;\"/>\n",
    "[Source:  Alisa's Presentation on NN Primer]"
   ]
  },
  {
   "cell_type": "markdown",
   "metadata": {
    "slideshow": {
     "slide_type": "slide"
    }
   },
   "source": [
    "## Lets simplify\n",
    "\n",
    "<img src=\"presentation/presentation_pics/NN_simplified.png\" alt=\"NN\" style=\"width: 500px;\"/>\n",
    "\n",
    "### Input data:\n",
    "\n",
    "&nbsp;&nbsp;&nbsp;&nbsp;&nbsp;&nbsp; __“In France, I had a great time”__\n",
    "\n",
    "[Source: fast.ai](https://course.fast.ai/lessons/lesson6.html)\n"
   ]
  },
  {
   "cell_type": "markdown",
   "metadata": {
    "slideshow": {
     "slide_type": "notes"
    }
   },
   "source": [
    "- Changed from color to shape coding \n",
    "- got rid of dimensionality --> eachs symbol represents multiple activations\n",
    "- each arrow represents a Layer operation e.g. a matrix multiplication\n",
    "<br>\n",
    "<br>\n",
    "- Theory on Textanalysis example, bc intuitve understanding of sequential dependencies in Language"
   ]
  },
  {
   "cell_type": "markdown",
   "metadata": {
    "slideshow": {
     "slide_type": "slide"
    }
   },
   "source": [
    "## Use Case sentiment analysis\n",
    "### Is this a __positive__ or a __negative__ statement?\n",
    "\n",
    "__“In France, I had a great time”__\n",
    "\n",
    "<img src=\"presentation/presentation_pics/NN_simplified.png\" alt=\"NN\" style=\"height: 250px\"/>\n",
    "\n",
    "__One Solution:__\n",
    "\n",
    "- Turn sentence into vector (Bag-of-Words)\n",
    "- Use NN to predict the sentiment for each sentence independently\n",
    "\n",
    "[Source: fast.ai](https://course.fast.ai/lessons/lesson6.html)"
   ]
  },
  {
   "cell_type": "markdown",
   "metadata": {
    "slideshow": {
     "slide_type": "notes"
    }
   },
   "source": [
    "#### One Solution:\n",
    "- Use Bag-of_words to transfer sentence into a vector (Order doesnt matter)\n",
    "- Use a Feed Forward Network to predict the class of the given sentence\n",
    "\n",
    "<br>\n",
    "\n",
    "#### Notice:\n",
    "- The order of the words is not taken into account\n",
    "- Each sentence / document is a single observation\n",
    "- The classification of the next sentencen is independent from the last sentence\n",
    "\n"
   ]
  },
  {
   "cell_type": "markdown",
   "metadata": {
    "slideshow": {
     "slide_type": "slide"
    }
   },
   "source": [
    "## Let's change our classification task:\n",
    "\n",
    "### What will be the next word?\n",
    "__“In France, I had a great ...?”__\n",
    "\n",
    "<img src=\"presentation/presentation_pics/NN_simplified.png\" alt=\"NN\" style=\"width: 500px;\"/>\n",
    "\n",
    "\n",
    "__How can we include multiple observation vectors while preserving the order?__\n",
    "\n",
    "[Source: fast.ai](https://course.fast.ai/lessons/lesson6.html)"
   ]
  },
  {
   "cell_type": "markdown",
   "metadata": {
    "slideshow": {
     "slide_type": "notes"
    }
   },
   "source": [
    "#### Whats new:\n",
    "- Each word is an observation at a given point of time\n",
    "- The next word depends mainly on the previous words -> the order is important\n",
    "- Each word might be represented as a vector \n",
    "<br>"
   ]
  },
  {
   "cell_type": "markdown",
   "metadata": {
    "slideshow": {
     "slide_type": "slide"
    }
   },
   "source": [
    "## How to add annother preceding timestep\n",
    "\n",
    "### What will be the next word?\n",
    "\n",
    "__“a great ...?”__\n",
    "\n",
    "<img src=\"presentation/presentation_pics/RNN2.png\" alt=\"NN\" style=\"width: 600px;\"/>\n",
    "\n",
    "Prediction at time t:  $$y_t = softmax(W_{out}h_t)$$\n",
    "Activations for step t: $$h_t = tanh(W_{in}x_t + W_hh_{t-1})$$\n",
    "\n",
    "[Source: fast.ai](https://course.fast.ai/lessons/lesson6.html)\n",
    "\n"
   ]
  },
  {
   "cell_type": "markdown",
   "metadata": {
    "slideshow": {
     "slide_type": "notes"
    }
   },
   "source": [
    "W_in, W_h, W_out are equal across all steps --> reduces the number of parameters to learn\n",
    "http://www.wildml.com/2015/09/recurrent-neural-networks-tutorial-part-1-introduction-to-rnns/"
   ]
  },
  {
   "cell_type": "markdown",
   "metadata": {
    "slideshow": {
     "slide_type": "slide"
    }
   },
   "source": [
    "## How to add annother preceding timestep\n",
    "\n",
    "### What will be the next word?\n",
    "\n",
    "\n",
    "__“had a great ...?”__\n",
    "\n",
    "<img src=\"presentation/presentation_pics/RNN3.png\" alt=\"NN\" style=\"width: 650px;\"/>\n",
    "\n",
    "[Source: fast.ai](https://course.fast.ai/lessons/lesson6.html)\n",
    "\n",
    "\n"
   ]
  },
  {
   "cell_type": "markdown",
   "metadata": {
    "slideshow": {
     "slide_type": "slide"
    }
   },
   "source": [
    "## Adding an abitrary number of preceding words\n",
    "\n",
    "### What will be the next word?\n",
    "__“In France, I had a great ...?”__\n",
    "\n",
    "<img src=\"presentation/presentation_pics/RNN_loop.png\" alt=\"NN\" style=\"width: 600px;\"/>\n",
    "\n",
    "[Source: fast.ai](https://course.fast.ai/lessons/lesson6.html)"
   ]
  },
  {
   "cell_type": "markdown",
   "metadata": {
    "slideshow": {
     "slide_type": "slide"
    }
   },
   "source": [
    "## How to train a Recurrent Neural Net\n",
    "\n",
    "### Backpropagation through time (bptt)\n",
    "\n",
    "\n",
    "Total Loss: $$J(\\theta) = \\sum_t{J_t(\\theta)}$$\n",
    "Loss at time t: $$J_t(\\theta) = f(y_{t,true}, y_{t})$$\n",
    "\n",
    "\n",
    "Gradient: $$\\frac{\\partial J_t}{\\partial W_{in}} =\n",
    "\\frac{\\partial J_t}{\\partial y_{t}}\\frac{\\partial y_t}{\\partial W_{in}} = \n",
    "\\frac{\\partial J_t}{\\partial y_{t}}\\frac{\\partial y_t}{\\partial h_{t}}\\frac{\\partial h_t}{\\partial W_{in}}=\n",
    "\\frac{\\partial J_t}{\\partial y_{t}}\\frac{\\partial y_t}{\\partial h_{t}}\\frac{\\partial h_t}{\\partial h_{t-1}}\n",
    "\\frac{\\partial h_{t-1}}{\\partial W_{in}} = \n",
    "\\frac{\\partial J_t}{\\partial y_{t}}\\frac{\\partial y_t}{\\partial h_{t}}\\frac{\\partial h_t}{\\partial h_{t-1}}\n",
    "\\frac{\\partial h_{t-1}}{\\partial h_{t-2}} ...\\frac{\\partial h_{0}}{\\partial W_{in}}\n",
    "$$\n",
    "\n",
    "\n",
    "\n",
    "\n",
    "<img src=\"presentation/presentation_pics/RNN_loop.png\" alt=\"NN\" style=\"width: 600px;\"/>\n",
    "\n",
    "Sources:\n",
    "* [introtodeeplearning.com](http://introtodeeplearning.com/materials/2018_6S191_Lecture2.pdf)\n",
    "* [neuralnetworksanddeeplearning.com](http://neuralnetworksanddeeplearning.com/chap5.html)"
   ]
  },
  {
   "cell_type": "markdown",
   "metadata": {
    "slideshow": {
     "slide_type": "slide"
    }
   },
   "source": [
    "## Drawback of a simple Recurrent Network\n",
    "\n",
    "\n",
    "### Forgetting long-term dependencies:\n",
    "\n",
    "__“In France, I had a great time and I learnt some of the ...? [language]\"__ \n",
    " \n",
    "<img src=\"presentation/presentation_pics/vanishing_gradient.png\" alt=\"vanishing_gradient\" style=\"width: 600px;\"/>\n",
    "\n",
    "[Source: C. Olah](http://colah.github.io/posts/2015-08-Understanding-LSTMs/)\n",
    "\n"
   ]
  },
  {
   "cell_type": "markdown",
   "metadata": {
    "slideshow": {
     "slide_type": "notes"
    }
   },
   "source": [
    "- cannot connect information anymore\n",
    "- \"vanishing gradient problem\""
   ]
  },
  {
   "cell_type": "markdown",
   "metadata": {
    "slideshow": {
     "slide_type": "slide"
    }
   },
   "source": [
    "# Vanishing Gradient problem\n",
    "\n",
    "Gradient: $$\\frac{\\partial J_t}{\\partial W_{in}} =\\frac{\\partial J_t}{\\partial y_{t}}\\frac{\\partial y_t}{\\partial h_{t}}\\frac{\\partial h_t}{\\partial h_{t-1}}\n",
    "\\frac{\\partial h_{t-1}}{\\partial h_{t-2}} ...\\frac{\\partial h_{0}}{\\partial W_{in}}$$\n",
    "<br><br>\n",
    "It can be shown: $$\\frac{\\partial h_t}{\\partial h_{t-1}}\n",
    "= W_{in}^T diag[tanh^{ `}(W_{in}+W_h x_j)]$$\n",
    "<br>\n",
    "$tanh^{ `} \\in [0,1] $ <br><br>\n",
    "$W_{in}$ = sampled from standard normal distribution = mostly < 1\n",
    "<br>\n",
    "<br>\n",
    "Sources\n",
    "* [introtodeeplearning.com](http://introtodeeplearning.com/materials/2018_6S191_Lecture2.pdf)\n",
    "* [neuralnetworksanddeeplearning.com](http://neuralnetworksanddeeplearning.com/chap5.html)"
   ]
  },
  {
   "cell_type": "markdown",
   "metadata": {
    "slideshow": {
     "slide_type": "notes"
    }
   },
   "source": [
    "- backpropagation through time\n",
    "- as gap between timesteps becomes bigger, product longer and we are multiplying very small numbers (small gradients)\n",
    "- due to activation function (tanh)\n",
    "- some crucial previous timesteps do not influence anymore in later timesteps: gradient vanishes..."
   ]
  },
  {
   "cell_type": "markdown",
   "metadata": {
    "slideshow": {
     "slide_type": "slide"
    }
   },
   "source": [
    "# Advanced RNNs: LSTM and GRU"
   ]
  },
  {
   "cell_type": "markdown",
   "metadata": {
    "slideshow": {
     "slide_type": "slide"
    }
   },
   "source": [
    "<img src=\"https://cdn-images-1.medium.com/max/600/1*z380CENiF6G5NcQuXrw-hw.png\" alt=\"LSTM\" style=\"width: 1000px;\"/>\n",
    "\n",
    "[Source: towardsdatascience.com](https://towardsdatascience.com/the-mostly-complete-chart-of-neural-networks-explained-3fb6f2367464)"
   ]
  },
  {
   "cell_type": "markdown",
   "metadata": {
    "slideshow": {
     "slide_type": "slide"
    }
   },
   "source": [
    "# LSTM Network - Long Short-Term Memory Network"
   ]
  },
  {
   "cell_type": "markdown",
   "metadata": {
    "slideshow": {
     "slide_type": "slide"
    }
   },
   "source": [
    "# LSTM\n",
    "<img src=\"presentation/presentation_pics/LSTM.png\" alt=\"LSTM\" style=\"width: 1000px;\"/>\n",
    "\n",
    "[Source: C. Olah](http://colah.github.io/posts/2015-08-Understanding-LSTMs/)"
   ]
  },
  {
   "cell_type": "markdown",
   "metadata": {
    "slideshow": {
     "slide_type": "slide"
    }
   },
   "source": [
    "# LSTM - Cell State and Hidden State\n",
    "\n",
    "<img src=\"presentation/presentation_pics/lstm_core_idea.png\" alt=\"LSTM\" style=\"width: 600px;\"/>\n",
    "\n",
    "\n"
   ]
  },
  {
   "cell_type": "markdown",
   "metadata": {
    "slideshow": {
     "slide_type": "slide"
    }
   },
   "source": [
    "# LSTM - 1.) Forget Gate\n",
    "\n",
    "<img src=\"presentation/presentation_pics/lstm_forget.png\" alt=\"LSTM\" style=\"width: 800px;\"/>\n",
    "\n",
    "# \"A man has dinner with his wife and her parents.\" "
   ]
  },
  {
   "cell_type": "markdown",
   "metadata": {
    "slideshow": {
     "slide_type": "slide"
    }
   },
   "source": [
    "# LSTM - 2.) Input Gate\n",
    "\n",
    "<img src=\"presentation/presentation_pics/lstm_input.png\" alt=\"LSTM\" style=\"width: 800px;\"/>\n",
    "\n",
    "# \"A man has dinner with his wife and her parents.\" "
   ]
  },
  {
   "cell_type": "markdown",
   "metadata": {
    "slideshow": {
     "slide_type": "slide"
    }
   },
   "source": [
    "# LSTM - 3.) New Cell State\n",
    "\n",
    "<img src=\"presentation/presentation_pics/lstm_new_cell_state.png\" alt=\"LSTM\" style=\"width: 800px;\"/>\n",
    "\n",
    "# \"A man has dinner with his wife and her parents.\" "
   ]
  },
  {
   "cell_type": "markdown",
   "metadata": {
    "slideshow": {
     "slide_type": "slide"
    }
   },
   "source": [
    "# LSTM - 4.) Output Gate\n",
    "\n",
    "<img src=\"presentation/presentation_pics/lstm_output.png\" alt=\"LSTM\" style=\"width: 800px;\"/>\n",
    "\n",
    "# \"A man has dinner with his wife and her parents.\" "
   ]
  },
  {
   "cell_type": "markdown",
   "metadata": {
    "slideshow": {
     "slide_type": "slide"
    }
   },
   "source": [
    "# LSTM Take Away\n",
    "1. forget\n",
    "2. update \n",
    "3. output \n",
    "\n",
    "\n",
    "# Why LSTM?\n",
    "- forget gate can let information pass through unchanged \n",
    "- cell state separate from output\n",
    "## “In France, I had a great time and I learnt some of the French language.”\n",
    "\n",
    "\n",
    "- cell states depend through addition: prevent vanishing gradient\n",
    "\n",
    "[Source: H. Suresh](http://harinisuresh.com/2016/10/09/lstms/)\n",
    "\n"
   ]
  },
  {
   "cell_type": "markdown",
   "metadata": {
    "slideshow": {
     "slide_type": "slide"
    }
   },
   "source": [
    "## GRU Network - Gated Recurrent Unit##"
   ]
  },
  {
   "cell_type": "markdown",
   "metadata": {
    "slideshow": {
     "slide_type": "slide"
    }
   },
   "source": [
    "## GRU\n",
    "<img src=\"presentation/presentation_pics/GRU.png\" alt=\"GRU\" style=\"width: 800px;\"/>\n",
    "\n",
    "simplified example:\n",
    "- 1. values of update gate $z_t = 0$ : ignore current state\n",
    "\n",
    "\\begin{align}\n",
    "\\mathbf{h_t = 1*h_{t-1} + 0*h_t}\n",
    "\\end{align}\n",
    "\n",
    "- 2. values of update gate $z_t = 1$ : ignore previous state\n",
    "\n",
    "\\begin{align}\n",
    "\\mathbf{h_t = 0*h_{t-1} + 1*h_t} \n",
    "\\end{align}\n",
    "\n",
    "\n",
    "\n",
    "[Source: C. Olah](http://colah.github.io/posts/2015-08-Understanding-LSTMs/)"
   ]
  },
  {
   "cell_type": "code",
   "execution_count": 18,
   "metadata": {
    "slideshow": {
     "slide_type": "skip"
    }
   },
   "outputs": [],
   "source": [
    "datapath = os.path.join(\"data\", \"crime_total.csv\")\n",
    "dataset = pd.read_csv(datapath, index_col=[\"date\"],\n",
    "                      dtype={\"crimes_total\": np.float32},\n",
    "                      parse_dates=[\"date\"])"
   ]
  },
  {
   "cell_type": "markdown",
   "metadata": {
    "slideshow": {
     "slide_type": "slide"
    }
   },
   "source": [
    "## Implementation\n",
    "\n",
    "### The `Recurrent` class\n",
    "\n",
    "* Convenient interface for all our models"
   ]
  },
  {
   "cell_type": "code",
   "execution_count": 19,
   "metadata": {
    "slideshow": {
     "slide_type": "fragment"
    }
   },
   "outputs": [
    {
     "name": "stdout",
     "output_type": "stream",
     "text": [
      "Epoch 1/1\n",
      "5209/5209 [==============================] - 9s 2ms/step - loss: 0.0094\n"
     ]
    },
    {
     "data": {
      "image/png": "[encoded data removed]",
      "text/plain": [
       "<Figure size 2160x360 with 1 Axes>"
      ]
     },
     "metadata": {
      "needs_background": "light"
     },
     "output_type": "display_data"
    }
   ],
   "source": [
    "lstm = Recurrent(dataset, 2, cell=LSTM, epochs=1)\n",
    "lstm.train()\n",
    "fig, ax = lstm.plot_fit(os.path.join(\"models\", \"lstm-whole-show-case.png\"),\n",
    "                        figsize=(30, 5))\n"
   ]
  },
  {
   "cell_type": "markdown",
   "metadata": {
    "slideshow": {
     "slide_type": "notes"
    }
   },
   "source": [
    "The life-cycle consists of:\n",
    "1. instantiation\n",
    "2. training\n",
    "3. prediction\n",
    "3. visual analysis"
   ]
  },
  {
   "cell_type": "markdown",
   "metadata": {
    "slideshow": {
     "slide_type": "slide"
    }
   },
   "source": [
    "### 1. \\_\\_init\\_\\_\n",
    "\n",
    "* prepare all necessary attributes in `__stage()`\n",
    "* call\n",
    "\n",
    "\n",
    "```python\n",
    "class Recurrent(Sequential):\n",
    "    def __init__(...):\n",
    "        # save attributes\n",
    "        ...\n",
    "        self.X_train, self.X_test, self.y_train, self.y_test = self.__stage()\n",
    "        # run parent-class' constructor\n",
    "        super().__init__()\n",
    "```"
   ]
  },
  {
   "cell_type": "markdown",
   "metadata": {
    "slideshow": {
     "slide_type": "slide"
    }
   },
   "source": [
    "#### 1.1 __stage()\n",
    "\n",
    "* scale\n",
    "\n",
    "```python\n",
    "def __stage(self):\n",
    "    # Separate train and test data\n",
    "    ...\n",
    "    \n",
    "    self.scaler = MinMaxScaler()\n",
    "    self.scaler.fit(train.values)\n",
    "    self.data.loc[:, \"y\"] = self.scaler.transform(self.data.values)\n",
    "    ...\n",
    "    X, y = self.__get_features()\n",
    "```"
   ]
  },
  {
   "cell_type": "markdown",
   "metadata": {
    "slideshow": {
     "slide_type": "slide"
    }
   },
   "source": [
    "#### 1.1.1 \\_\\_get_features()\n",
    "\n",
    "* construct features\n",
    "\n",
    "```python\n",
    "def __get_features(self):\n",
    "        cols = [\"lag_\" + str(i) for i in range(1, self.maxlag+1)]\n",
    "\n",
    "        for i, colname in enumerate(cols, 1):\n",
    "            if isinstance(self.data.index, pd.core.index.MultiIndex):\n",
    "                lag = self.data.groupby(self.cross_label)[\"y\"].shift(i)\n",
    "            else:\n",
    "                lag = self.data[\"y\"].shift(i)\n",
    "\n",
    "            self.data[colname] = lag\n",
    "\n",
    "        self.data = self.data.dropna(axis=0)\n",
    "\n",
    "        # Split into target and features\n",
    "        y = self.data.iloc[:, 1]\n",
    "        X = self.data.iloc[:, 2:]\n",
    "\n",
    "        return X, y\n",
    "```"
   ]
  },
  {
   "cell_type": "markdown",
   "metadata": {
    "slideshow": {
     "slide_type": "slide"
    }
   },
   "source": [
    "### 2. train()\n",
    "\n",
    "```python\n",
    "def train(self):\n",
    "    self.add(self.cell(self.cell_neurons,\n",
    "                           input_shape=(1, self.maxlag),\n",
    "                           **self.cellkwargs))\n",
    "    self.add(Dense(1))\n",
    "    self.add(Activation('relu'))\n",
    "\n",
    "    self.compile(loss=self.lossfunc,\n",
    "                 optimizer=self.optimizer)\n",
    "    self.fit(X_train, self.y_train,\n",
    "             epochs=self.epochs,\n",
    "             batch_size=self.batch_size,\n",
    "             verbose=self.verbose,\n",
    "             **self.fitkwargs)\n",
    "```"
   ]
  },
  {
   "cell_type": "markdown",
   "metadata": {
    "slideshow": {
     "slide_type": "slide"
    }
   },
   "source": [
    "### 3. forecast()\n",
    "\n",
    "* predict test data or completely new data.\n",
    "\n",
    "```python\n",
    "def forecast(self, X):\n",
    "        if X.shape[1] == self.maxlag:\n",
    "            X_ = self.__transform_shape(X)\n",
    "            return self.predict(X_)\n",
    "\n",
    "        else:\n",
    "            X_, _ = self.__get_features(X)\n",
    "            return self.predict(X_.values)\n",
    "```"
   ]
  },
  {
   "cell_type": "markdown",
   "metadata": {
    "slideshow": {
     "slide_type": "slide"
    }
   },
   "source": [
    "### Back to the crime dataset\n",
    "\n",
    "We look at two distinct questions:\n",
    "1. Can we accurately predict the development of the **whole** time series for the city of Chicago?\n",
    "2. Can we accurately predict the development of the series for **each district**?"
   ]
  },
  {
   "cell_type": "markdown",
   "metadata": {
    "slideshow": {
     "slide_type": "slide"
    }
   },
   "source": [
    "#### 1. Load the full series:\n",
    "\n",
    "The full series contains a single column of summed up incidents per day. We also parse the dates inside the `date` column and set them as the index of the `DataFrame`."
   ]
  },
  {
   "cell_type": "code",
   "execution_count": 20,
   "metadata": {
    "slideshow": {
     "slide_type": "fragment"
    }
   },
   "outputs": [
    {
     "data": {
      "text/html": [
       "<div>\n",
       "<style scoped>\n",
       "    .dataframe tbody tr th:only-of-type {\n",
       "        vertical-align: middle;\n",
       "    }\n",
       "\n",
       "    .dataframe tbody tr th {\n",
       "        vertical-align: top;\n",
       "    }\n",
       "\n",
       "    .dataframe thead th {\n",
       "        text-align: right;\n",
       "    }\n",
       "</style>\n",
       "<table border=\"1\" class=\"dataframe\">\n",
       "  <thead>\n",
       "    <tr style=\"text-align: right;\">\n",
       "      <th></th>\n",
       "      <th>crimes_total</th>\n",
       "    </tr>\n",
       "    <tr>\n",
       "      <th>date</th>\n",
       "      <th></th>\n",
       "    </tr>\n",
       "  </thead>\n",
       "  <tbody>\n",
       "    <tr>\n",
       "      <th>2001-01-01</th>\n",
       "      <td>1814.0</td>\n",
       "    </tr>\n",
       "    <tr>\n",
       "      <th>2001-01-02</th>\n",
       "      <td>1143.0</td>\n",
       "    </tr>\n",
       "    <tr>\n",
       "      <th>2001-01-03</th>\n",
       "      <td>1151.0</td>\n",
       "    </tr>\n",
       "    <tr>\n",
       "      <th>2001-01-04</th>\n",
       "      <td>1166.0</td>\n",
       "    </tr>\n",
       "    <tr>\n",
       "      <th>2001-01-05</th>\n",
       "      <td>1267.0</td>\n",
       "    </tr>\n",
       "  </tbody>\n",
       "</table>\n",
       "</div>"
      ],
      "text/plain": [
       "            crimes_total\n",
       "date                    \n",
       "2001-01-01        1814.0\n",
       "2001-01-02        1143.0\n",
       "2001-01-03        1151.0\n",
       "2001-01-04        1166.0\n",
       "2001-01-05        1267.0"
      ]
     },
     "execution_count": 20,
     "metadata": {},
     "output_type": "execute_result"
    }
   ],
   "source": [
    "datapath_whole = os.path.join(\"data\", \"crime_total.csv\")\n",
    "whole = pd.read_csv(datapath_whole, index_col=[\"date\"],\n",
    "                    dtype={\"crimes_total\": np.float32},\n",
    "                    parse_dates=[\"date\"])\n",
    "whole.head()"
   ]
  },
  {
   "cell_type": "markdown",
   "metadata": {
    "slideshow": {
     "slide_type": "slide"
    }
   },
   "source": [
    "#### 2. Load the series by district:\n",
    "\n",
    "Here we also parse the dates inside the `Date` column and specify a `MultiIndex` where the levels are `Date` and then `District`. This allows our `models.recurrent`-class to distinguish between the series for the whole of Chicago and the Chicago crime series by each district."
   ]
  },
  {
   "cell_type": "code",
   "execution_count": 21,
   "metadata": {
    "slideshow": {
     "slide_type": "fragment"
    }
   },
   "outputs": [
    {
     "data": {
      "text/html": [
       "<div>\n",
       "<style scoped>\n",
       "    .dataframe tbody tr th:only-of-type {\n",
       "        vertical-align: middle;\n",
       "    }\n",
       "\n",
       "    .dataframe tbody tr th {\n",
       "        vertical-align: top;\n",
       "    }\n",
       "\n",
       "    .dataframe thead th {\n",
       "        text-align: right;\n",
       "    }\n",
       "</style>\n",
       "<table border=\"1\" class=\"dataframe\">\n",
       "  <thead>\n",
       "    <tr style=\"text-align: right;\">\n",
       "      <th></th>\n",
       "      <th></th>\n",
       "      <th>Incidents</th>\n",
       "    </tr>\n",
       "    <tr>\n",
       "      <th>Date</th>\n",
       "      <th>District</th>\n",
       "      <th></th>\n",
       "    </tr>\n",
       "  </thead>\n",
       "  <tbody>\n",
       "    <tr>\n",
       "      <th rowspan=\"24\" valign=\"top\">2001-01-01</th>\n",
       "      <th>1.0</th>\n",
       "      <td>37.0</td>\n",
       "    </tr>\n",
       "    <tr>\n",
       "      <th>2.0</th>\n",
       "      <td>110.0</td>\n",
       "    </tr>\n",
       "    <tr>\n",
       "      <th>3.0</th>\n",
       "      <td>103.0</td>\n",
       "    </tr>\n",
       "    <tr>\n",
       "      <th>4.0</th>\n",
       "      <td>96.0</td>\n",
       "    </tr>\n",
       "    <tr>\n",
       "      <th>5.0</th>\n",
       "      <td>95.0</td>\n",
       "    </tr>\n",
       "    <tr>\n",
       "      <th>6.0</th>\n",
       "      <td>84.0</td>\n",
       "    </tr>\n",
       "    <tr>\n",
       "      <th>7.0</th>\n",
       "      <td>83.0</td>\n",
       "    </tr>\n",
       "    <tr>\n",
       "      <th>8.0</th>\n",
       "      <td>111.0</td>\n",
       "    </tr>\n",
       "    <tr>\n",
       "      <th>9.0</th>\n",
       "      <td>109.0</td>\n",
       "    </tr>\n",
       "    <tr>\n",
       "      <th>10.0</th>\n",
       "      <td>104.0</td>\n",
       "    </tr>\n",
       "    <tr>\n",
       "      <th>11.0</th>\n",
       "      <td>90.0</td>\n",
       "    </tr>\n",
       "    <tr>\n",
       "      <th>12.0</th>\n",
       "      <td>80.0</td>\n",
       "    </tr>\n",
       "    <tr>\n",
       "      <th>14.0</th>\n",
       "      <td>83.0</td>\n",
       "    </tr>\n",
       "    <tr>\n",
       "      <th>15.0</th>\n",
       "      <td>71.0</td>\n",
       "    </tr>\n",
       "    <tr>\n",
       "      <th>16.0</th>\n",
       "      <td>67.0</td>\n",
       "    </tr>\n",
       "    <tr>\n",
       "      <th>17.0</th>\n",
       "      <td>67.0</td>\n",
       "    </tr>\n",
       "    <tr>\n",
       "      <th>18.0</th>\n",
       "      <td>72.0</td>\n",
       "    </tr>\n",
       "    <tr>\n",
       "      <th>19.0</th>\n",
       "      <td>72.0</td>\n",
       "    </tr>\n",
       "    <tr>\n",
       "      <th>20.0</th>\n",
       "      <td>40.0</td>\n",
       "    </tr>\n",
       "    <tr>\n",
       "      <th>21.0</th>\n",
       "      <td>0.0</td>\n",
       "    </tr>\n",
       "    <tr>\n",
       "      <th>22.0</th>\n",
       "      <td>61.0</td>\n",
       "    </tr>\n",
       "    <tr>\n",
       "      <th>24.0</th>\n",
       "      <td>59.0</td>\n",
       "    </tr>\n",
       "    <tr>\n",
       "      <th>25.0</th>\n",
       "      <td>120.0</td>\n",
       "    </tr>\n",
       "    <tr>\n",
       "      <th>31.0</th>\n",
       "      <td>0.0</td>\n",
       "    </tr>\n",
       "  </tbody>\n",
       "</table>\n",
       "</div>"
      ],
      "text/plain": [
       "                     Incidents\n",
       "Date       District           \n",
       "2001-01-01 1.0            37.0\n",
       "           2.0           110.0\n",
       "           3.0           103.0\n",
       "           4.0            96.0\n",
       "           5.0            95.0\n",
       "           6.0            84.0\n",
       "           7.0            83.0\n",
       "           8.0           111.0\n",
       "           9.0           109.0\n",
       "           10.0          104.0\n",
       "           11.0           90.0\n",
       "           12.0           80.0\n",
       "           14.0           83.0\n",
       "           15.0           71.0\n",
       "           16.0           67.0\n",
       "           17.0           67.0\n",
       "           18.0           72.0\n",
       "           19.0           72.0\n",
       "           20.0           40.0\n",
       "           21.0            0.0\n",
       "           22.0           61.0\n",
       "           24.0           59.0\n",
       "           25.0          120.0\n",
       "           31.0            0.0"
      ]
     },
     "execution_count": 21,
     "metadata": {},
     "output_type": "execute_result"
    }
   ],
   "source": [
    "datapath_district = os.path.join(\"data\", \"crimes_district.csv\")\n",
    "district = pd.read_csv(datapath_district, index_col=[\"Date\", \"District\"],\n",
    "                       dtype={\"District\": object,\n",
    "                              \"Incidents\": np.float32},\n",
    "                       parse_dates=[\"Date\"])\n",
    "district.sort_index().head(24)"
   ]
  },
  {
   "cell_type": "markdown",
   "metadata": {
    "slideshow": {
     "slide_type": "slide"
    }
   },
   "source": [
    "### Separate data and a holdout set.\n",
    "\n",
    "* We use an algorithm that uses the test set.\n",
    "* Danger of overfitting.\n",
    "* so we separate a holdout set."
   ]
  },
  {
   "cell_type": "code",
   "execution_count": 22,
   "metadata": {
    "slideshow": {
     "slide_type": "fragment"
    }
   },
   "outputs": [],
   "source": [
    "cutoff = pd.to_datetime(\"2017-01-01\")\n",
    "whole_data = whole.loc[whole.index < cutoff]\n",
    "whole_holdout = whole.loc[whole.index >= cutoff]\n",
    "\n",
    "# As always with MultiIndices, things are a little more complicated.\n",
    "district_data = district.loc[district.index.map(lambda x: x[0] < cutoff)]\n",
    "district_holdout = district.loc[district.index.map(lambda x: x[0] > cutoff)]"
   ]
  },
  {
   "cell_type": "markdown",
   "metadata": {
    "slideshow": {
     "slide_type": "slide"
    }
   },
   "source": [
    "## Parameter Tuning with `hyperopt`"
   ]
  },
  {
   "cell_type": "markdown",
   "metadata": {
    "slideshow": {
     "slide_type": "slide"
    }
   },
   "source": [
    "### How does `hyperopt` work?\n",
    "\n",
    "We try to find our optimal set of hyperparameters through a *Tree of Parzen Estimators*\n",
    "\n",
    "1. Define a parameter space\n",
    "2. Define an objective function\n",
    "3. Minimize the objective"
   ]
  },
  {
   "cell_type": "markdown",
   "metadata": {
    "slideshow": {
     "slide_type": "subslide"
    }
   },
   "source": [
    "### What is a *Tree of Parzen Estimators?*\n",
    "#### You just had to ask\n",
    "\n",
    "\\begin{equation}\n",
    "p(x|y) = \\begin{cases}\n",
    "\\color{blue}{l(x)} \\text{ if } y<y^\\star \\\\\n",
    "\\color{red}{g(x)} \\text{ if } y \\geq y^\\star\n",
    "\\end{cases}\n",
    "\\end{equation}"
   ]
  },
  {
   "cell_type": "markdown",
   "metadata": {
    "slideshow": {
     "slide_type": "subslide"
    }
   },
   "source": [
    "<img src=https://cdn-images-1.medium.com/max/800/1*H5pyf3G115WGJwPpg65yaQ.png style=\"width: 1000px;\">\n",
    "\n",
    "[Source: Koehrsen](https://cdn-images-1.medium.com/max/800/1*H5pyf3G115WGJwPpg65yaQ.png)"
   ]
  },
  {
   "cell_type": "markdown",
   "metadata": {
    "slideshow": {
     "slide_type": "subslide"
    }
   },
   "source": [
    "<img src=https://cdn-images-1.medium.com/max/800/1*6SH5O_ail54karro8j0NGg.png style=\"width: 1000px;\">\n",
    "\n",
    "[Source: Koehrsen](https://cdn-images-1.medium.com/max/800/1*6SH5O_ail54karro8j0NGg.png)\n"
   ]
  },
  {
   "cell_type": "markdown",
   "metadata": {
    "slideshow": {
     "slide_type": "subslide"
    }
   },
   "source": [
    "### What is a *Tree of Parzen Estimators*\n",
    "#### Man, you *really* want the details...\n",
    "\n",
    "$$\n",
    "EI_{y^\\star}(x) = \\int\\limits_{-\\infty}^{y^\\star} (y^\\star-y)p(y|x)dy\n",
    "$$\n",
    "where\n",
    "$$\n",
    "p(y|x) = \\frac{p(x|y)p(y)}{p(x)}\n",
    "$$"
   ]
  },
  {
   "cell_type": "markdown",
   "metadata": {
    "slideshow": {
     "slide_type": "subslide"
    }
   },
   "source": [
    "also note that:\n",
    "\\begin{align}\n",
    "p(x) &= \\int \\underbrace{p(x|y)p(y)}_{p(x, y)}dy \\\\\n",
    "     &= \\int\\limits_{\\color{blue}{-\\infty}}^{\\color{blue}{y^\\star}}\\color{blue}{p(x|y)}p(y)dy +\n",
    "        \\int\\limits^{\\color{red}{\\infty}}_{\\color{red}{y^\\star}}\\color{red}{p(x|y)}p(y)dy \\\\\n",
    "     &= \\color{blue}{l(x)} \\int\\limits_{-\\infty}^{y^\\star}p(y)dy +\n",
    "        \\color{red}{g(x)} \\int\\limits^{\\infty}_{y^\\star}p(y)dy \\\\\n",
    "     &= l(x) \\underbrace{P(Y<y^\\star)}_{:=\\gamma} + g(x)    \\underbrace{P(Y \\geq y^\\star)}_{:=1-\\gamma} \\\\\n",
    "     &= \\gamma l(x) + (1-\\gamma)g(x)\n",
    "\\end{align}"
   ]
  },
  {
   "cell_type": "markdown",
   "metadata": {
    "slideshow": {
     "slide_type": "subslide"
    }
   },
   "source": [
    "Derivation:\n",
    "\\begin{align}\n",
    "EI_{y^\\star}(x) &= \\int\\limits_{-\\infty}^{y^\\star} (y^\\star-y)p(y|x)dy \\\\\n",
    "  &= \\int\\limits_{\\color{blue}{-\\infty}}^{\\color{blue}{y^\\star}}(y^\\star-y) \\frac{\\color{blue}{p(x|y)}p(y)}{p(x)}dy\n",
    "  = \\frac{\\color{blue}{l(x)}}{p(x)} \\int\\limits_{-\\infty}^{y^\\star}(y^\\star-y) p(y)dy \\\\\n",
    "  &= \\frac{l(x)}{p(x)} \\left[ y^\\star \\underbrace{\\int\\limits_{-\\infty}^{y^\\star} p(y)dy}_{P(Y < y^\\star) = \\gamma} - \\int\\limits_{-\\infty}^{y^\\star} y \\cdot p(y)dy \\right]\n",
    "  = \\frac{l(x)\\gamma y^\\star - l(x)\\int_{-\\infty}^{y^\\star} y \\cdot p(y) dy}{l(x) \\gamma + (1-\\gamma)g(x)} \n",
    "  \\propto \\color{orange}{\\left[\\gamma + (1-\\gamma) \\frac{g(x)}{l(x)}\\right]^{-1}}\n",
    "\\end{align}"
   ]
  },
  {
   "cell_type": "markdown",
   "metadata": {
    "slideshow": {
     "slide_type": "slide"
    }
   },
   "source": [
    "### `hyperopt` step 1: Define a parameter space\n",
    "\n",
    "* choose a prior distribution from which parameters are sampled.\n",
    "* we choose mostly from the uniform distribution."
   ]
  },
  {
   "cell_type": "code",
   "execution_count": 23,
   "metadata": {
    "slideshow": {
     "slide_type": "fragment"
    }
   },
   "outputs": [],
   "source": [
    "# add optimizer, learn-rate, \n",
    "paramspace = {\"maxlag\": scope.int(hp.quniform(\"maxlag\", 1, 50, 1)),\n",
    "              \"cell_neurons\": scope.int(hp.quniform(\"cell_neurons\", 1, 30, 1)),\n",
    "              \"batch_size\": scope.int(hp.quniform(\"batch_size\", 1, 10, 1)),\n",
    "              \"optimizer\": hp.choice(\"optimizer\", [\"adam\", \"sgd\"])}"
   ]
  },
  {
   "cell_type": "markdown",
   "metadata": {
    "slideshow": {
     "slide_type": "slide"
    }
   },
   "source": [
    "* and create one dictionary for each cell we want to use. "
   ]
  },
  {
   "cell_type": "code",
   "execution_count": 24,
   "metadata": {
    "slideshow": {
     "slide_type": "fragment"
    }
   },
   "outputs": [
    {
     "name": "stdout",
     "output_type": "stream",
     "text": [
      "{'GRU': {'batch_size': <hyperopt.pyll.base.Apply object at 0x7fc6f47c2710>,\n",
      "         'cell': <class 'keras.layers.recurrent.GRU'>,\n",
      "         'cell_neurons': <hyperopt.pyll.base.Apply object at 0x7fc70d981ac8>,\n",
      "         'maxlag': <hyperopt.pyll.base.Apply object at 0x7fc70d981b70>,\n",
      "         'optimizer': <hyperopt.pyll.base.Apply object at 0x7fc6f47c2828>},\n",
      " 'LSTM': {'batch_size': <hyperopt.pyll.base.Apply object at 0x7fc6f47c2710>,\n",
      "          'cell': <class 'keras.layers.recurrent.LSTM'>,\n",
      "          'cell_neurons': <hyperopt.pyll.base.Apply object at 0x7fc70d981ac8>,\n",
      "          'maxlag': <hyperopt.pyll.base.Apply object at 0x7fc70d981b70>,\n",
      "          'optimizer': <hyperopt.pyll.base.Apply object at 0x7fc6f47c2828>},\n",
      " 'SimpleRNN': {'batch_size': <hyperopt.pyll.base.Apply object at 0x7fc6f47c2710>,\n",
      "               'cell': <class 'keras.layers.recurrent.SimpleRNN'>,\n",
      "               'cell_neurons': <hyperopt.pyll.base.Apply object at 0x7fc70d981ac8>,\n",
      "               'maxlag': <hyperopt.pyll.base.Apply object at 0x7fc70d981b70>,\n",
      "               'optimizer': <hyperopt.pyll.base.Apply object at 0x7fc6f47c2828>}}\n"
     ]
    }
   ],
   "source": [
    "spacesdict ={}\n",
    "for cell in (SimpleRNN, LSTM, GRU):\n",
    "    spacesdict[cell.__name__] = {\"cell\": cell, **paramspace}\n",
    "\n",
    "pprint(spacesdict)"
   ]
  },
  {
   "cell_type": "markdown",
   "metadata": {
    "slideshow": {
     "slide_type": "slide"
    }
   },
   "source": [
    "### Set up `Trials`-object to store the results\n",
    "\n",
    "* We can later visualize the search process.\n",
    "* Based on that, we can make decisions if we want to keep the parameters or not."
   ]
  },
  {
   "cell_type": "code",
   "execution_count": 25,
   "metadata": {
    "slideshow": {
     "slide_type": "fragment"
    }
   },
   "outputs": [
    {
     "name": "stdout",
     "output_type": "stream",
     "text": [
      "{'district': {'GRU': <hyperopt.base.Trials object at 0x7fc70d9819e8>,\n",
      "              'LSTM': <hyperopt.base.Trials object at 0x7fc70d9812b0>,\n",
      "              'SimpleRNN': <hyperopt.base.Trials object at 0x7fc70d9816a0>},\n",
      " 'whole': {'GRU': <hyperopt.base.Trials object at 0x7fc70d981898>,\n",
      "           'LSTM': <hyperopt.base.Trials object at 0x7fc70d9815c0>,\n",
      "           'SimpleRNN': <hyperopt.base.Trials object at 0x7fc70d981a90>}}\n"
     ]
    }
   ],
   "source": [
    "trialsdict = {key: {model: Trials() for model in (\"SimpleRNN\", \"LSTM\", \"GRU\")} for key in (\"whole\", \"district\")}\n",
    "pprint(trialsdict)"
   ]
  },
  {
   "cell_type": "markdown",
   "metadata": {
    "slideshow": {
     "slide_type": "slide"
    }
   },
   "source": [
    "### `hyperopt` step 2: Optimizing over the parameter space\n",
    "\n",
    "* We first define an objective function.\n",
    "* Then we pass it to the `fmin`-routine."
   ]
  },
  {
   "cell_type": "markdown",
   "metadata": {
    "slideshow": {
     "slide_type": "fragment"
    }
   },
   "source": [
    "* With 3 model classes and 2 different datasets we would need 6 of those.\n",
    "* So we do something different - we use `Python`s decorator syntax."
   ]
  },
  {
   "cell_type": "code",
   "execution_count": 26,
   "metadata": {
    "slideshow": {
     "slide_type": "fragment"
    }
   },
   "outputs": [],
   "source": [
    "def minimizer(objective):\n",
    "    def outer(paramspace, trials, max_evals=10):\n",
    "        pbar = tqdm(total=max_evals, desc=paramspace[\"cell\"].__name__)\n",
    "        def inner(*args, **kwargs):\n",
    "            pbar.update()\n",
    "            return objective(*args, **kwargs)\n",
    "\n",
    "        best = fmin(fn=inner,\n",
    "                    space=paramspace,\n",
    "                    algo=tpe.suggest,\n",
    "                    max_evals=max_evals,\n",
    "                    trials=trials)\n",
    "        pbar.close()\n",
    "        return best\n",
    "    return outer"
   ]
  },
  {
   "cell_type": "markdown",
   "metadata": {
    "slideshow": {
     "slide_type": "slide"
    }
   },
   "source": [
    "And now to the function we wish to decorate. It contains 3 steps:\n",
    "1. Create a model with a certain set of (yet undefined) parameters.\n",
    "2. Train the model.\n",
    "3. Calculate the loss on a test set and return a dictionary, that contains the loss and a flag indicating that everything went okay.\n",
    "\n",
    "We do this for the whole series:"
   ]
  },
  {
   "cell_type": "code",
   "execution_count": 27,
   "metadata": {
    "slideshow": {
     "slide_type": "fragment"
    }
   },
   "outputs": [],
   "source": [
    "@minimizer\n",
    "def whole_get_loss(params):\n",
    "    \"\"\"Return loss on test set.\"\"\"\n",
    "    model = Recurrent(whole_data, epochs=3, verbose=False, **params)\n",
    "    model.train()\n",
    "    predictions = model.forecast(model.X_test)\n",
    "    loss = mean_squared_error(y_true=model.y_test, y_pred=predictions)\n",
    "    return {'loss': loss, 'status': STATUS_OK}"
   ]
  },
  {
   "cell_type": "markdown",
   "metadata": {
    "slideshow": {
     "slide_type": "slide"
    }
   },
   "source": [
    "And for the series by district:"
   ]
  },
  {
   "cell_type": "code",
   "execution_count": 28,
   "metadata": {
    "slideshow": {
     "slide_type": "fragment"
    }
   },
   "outputs": [],
   "source": [
    "@minimizer\n",
    "def district_get_loss(params):\n",
    "    \"\"\"Return loss on test set.\"\"\"\n",
    "    model = Recurrent(district_data, epochs=3, verbose=False, **params)\n",
    "    model.train()\n",
    "    predictions = model.forecast(model.X_test)\n",
    "    loss = mean_squared_error(y_true=model.y_test, y_pred=predictions)\n",
    "    return {'loss': loss, 'status': STATUS_OK}"
   ]
  },
  {
   "cell_type": "code",
   "execution_count": 29,
   "metadata": {
    "slideshow": {
     "slide_type": "skip"
    }
   },
   "outputs": [],
   "source": [
    "import time\n",
    "@minimizer\n",
    "def district_get_loss(params):\n",
    "    time.sleep(0.2)\n",
    "    return {\"loss\": np.random.uniform(), \"status\": STATUS_OK}\n",
    "\n",
    "@minimizer\n",
    "def whole_get_loss(params):\n",
    "    time.sleep(0.1)\n",
    "    return {\"loss\": np.random.uniform(), \"status\": STATUS_OK}"
   ]
  },
  {
   "cell_type": "markdown",
   "metadata": {
    "slideshow": {
     "slide_type": "slide"
    }
   },
   "source": [
    "### Tune the parameters\n",
    "\n",
    "* We pass through all our models \n",
    "* for each dataset and finally\n",
    "* store the best hyperparameters in a dictionary."
   ]
  },
  {
   "cell_type": "code",
   "execution_count": 30,
   "metadata": {
    "slideshow": {
     "slide_type": "fragment"
    }
   },
   "outputs": [
    {
     "data": {
      "application/vnd.jupyter.widget-view+json": {
       "model_id": "07cb49ac959d46faaf36723e37eff665",
       "version_major": 2,
       "version_minor": 0
      },
      "text/plain": [
       "HBox(children=(IntProgress(value=0, description='SimpleRNN', max=10, style=ProgressStyle(description_width='in…"
      ]
     },
     "metadata": {},
     "output_type": "display_data"
    },
    {
     "name": "stdout",
     "output_type": "stream",
     "text": [
      "\n"
     ]
    },
    {
     "data": {
      "application/vnd.jupyter.widget-view+json": {
       "model_id": "82bd65890b1144219a5f83d1288a1120",
       "version_major": 2,
       "version_minor": 0
      },
      "text/plain": [
       "HBox(children=(IntProgress(value=0, description='SimpleRNN', max=10, style=ProgressStyle(description_width='in…"
      ]
     },
     "metadata": {},
     "output_type": "display_data"
    },
    {
     "name": "stdout",
     "output_type": "stream",
     "text": [
      "\n"
     ]
    },
    {
     "data": {
      "application/vnd.jupyter.widget-view+json": {
       "model_id": "3217393b1ee44a97a8e28756729f87bb",
       "version_major": 2,
       "version_minor": 0
      },
      "text/plain": [
       "HBox(children=(IntProgress(value=0, description='LSTM', max=10, style=ProgressStyle(description_width='initial…"
      ]
     },
     "metadata": {},
     "output_type": "display_data"
    },
    {
     "name": "stdout",
     "output_type": "stream",
     "text": [
      "\n"
     ]
    },
    {
     "data": {
      "application/vnd.jupyter.widget-view+json": {
       "model_id": "8448ec46e9bb491f84eeb1e1b7722f2a",
       "version_major": 2,
       "version_minor": 0
      },
      "text/plain": [
       "HBox(children=(IntProgress(value=0, description='LSTM', max=10, style=ProgressStyle(description_width='initial…"
      ]
     },
     "metadata": {},
     "output_type": "display_data"
    },
    {
     "name": "stdout",
     "output_type": "stream",
     "text": [
      "\n"
     ]
    },
    {
     "data": {
      "application/vnd.jupyter.widget-view+json": {
       "model_id": "445915fda8eb40f5beb9428b80142433",
       "version_major": 2,
       "version_minor": 0
      },
      "text/plain": [
       "HBox(children=(IntProgress(value=0, description='GRU', max=10, style=ProgressStyle(description_width='initial'…"
      ]
     },
     "metadata": {},
     "output_type": "display_data"
    },
    {
     "name": "stdout",
     "output_type": "stream",
     "text": [
      "\n"
     ]
    },
    {
     "data": {
      "application/vnd.jupyter.widget-view+json": {
       "model_id": "09b53ee278c3449db15afc0dc72d2370",
       "version_major": 2,
       "version_minor": 0
      },
      "text/plain": [
       "HBox(children=(IntProgress(value=0, description='GRU', max=10, style=ProgressStyle(description_width='initial'…"
      ]
     },
     "metadata": {},
     "output_type": "display_data"
    },
    {
     "name": "stdout",
     "output_type": "stream",
     "text": [
      "\n"
     ]
    }
   ],
   "source": [
    "models = (\"SimpleRNN\", \"LSTM\", \"GRU\")\n",
    "best = {\"whole\": {},\n",
    "        \"district\": {}}\n",
    "trialsdict = {key: {model: Trials() for model in (\"SimpleRNN\", \"LSTM\", \"GRU\")} for key in (\"whole\", \"district\")}\n",
    "\n",
    "for model in models:\n",
    "    best[\"whole\"][model] = whole_get_loss(spacesdict[model], \n",
    "                                          trialsdict[\"whole\"][model])\n",
    "    best[\"district\"][model] = district_get_loss(spacesdict[model],\n",
    "                                                trialsdict[\"district\"][model])"
   ]
  },
  {
   "cell_type": "code",
   "execution_count": 31,
   "metadata": {
    "slideshow": {
     "slide_type": "skip"
    }
   },
   "outputs": [],
   "source": [
    "with open(\"analysis/best_params.json\") as file:\n",
    "    best = json.load(file)"
   ]
  },
  {
   "cell_type": "code",
   "execution_count": 32,
   "metadata": {
    "slideshow": {
     "slide_type": "slide"
    }
   },
   "outputs": [
    {
     "name": "stdout",
     "output_type": "stream",
     "text": [
      "{'district': {'GRU': {'batch_size': 4.0,\n",
      "                      'cell_neurons': 28.0,\n",
      "                      'maxlag': 44.0,\n",
      "                      'optimizer': 0},\n",
      "              'LSTM': {'batch_size': 1.0,\n",
      "                       'cell_neurons': 8.0,\n",
      "                       'maxlag': 50.0,\n",
      "                       'optimizer': 0},\n",
      "              'SimpleRNN': {'batch_size': 4.0,\n",
      "                            'cell_neurons': 7.0,\n",
      "                            'maxlag': 42.0,\n",
      "                            'optimizer': 0}},\n",
      " 'whole': {'GRU': {'batch_size': 1.0,\n",
      "                   'cell_neurons': 22.0,\n",
      "                   'maxlag': 26.0,\n",
      "                   'optimizer': 0},\n",
      "           'LSTM': {'batch_size': 1.0,\n",
      "                    'cell_neurons': 19.0,\n",
      "                    'maxlag': 23.0,\n",
      "                    'optimizer': 0},\n",
      "           'SimpleRNN': {'batch_size': 1.0,\n",
      "                         'cell_neurons': 27.0,\n",
      "                         'maxlag': 14.0,\n",
      "                         'optimizer': 0}}}\n"
     ]
    }
   ],
   "source": [
    "pprint(best)"
   ]
  },
  {
   "cell_type": "markdown",
   "metadata": {
    "slideshow": {
     "slide_type": "slide"
    }
   },
   "source": [
    "## Visualize the search Process\n",
    "\n",
    "First for the districts:"
   ]
  },
  {
   "cell_type": "markdown",
   "metadata": {
    "slideshow": {
     "slide_type": "subslide"
    }
   },
   "source": [
    "<img src=\"analysis/figures/district-hyperopt-SimpleRNN.png\">"
   ]
  },
  {
   "cell_type": "markdown",
   "metadata": {
    "slideshow": {
     "slide_type": "subslide"
    }
   },
   "source": [
    "<img src=\"analysis/figures/district-hyperopt-LSTM.png\">"
   ]
  },
  {
   "cell_type": "markdown",
   "metadata": {
    "slideshow": {
     "slide_type": "subslide"
    }
   },
   "source": [
    "<img src=\"analysis/figures/district-hyperopt-GRU.png\">"
   ]
  },
  {
   "cell_type": "markdown",
   "metadata": {
    "slideshow": {
     "slide_type": "subslide"
    }
   },
   "source": [
    "And for the whole series:"
   ]
  },
  {
   "cell_type": "markdown",
   "metadata": {
    "slideshow": {
     "slide_type": "subslide"
    }
   },
   "source": [
    "<img src=\"analysis/figures/whole-hyperopt-SimpleRNN.png\">"
   ]
  },
  {
   "cell_type": "markdown",
   "metadata": {
    "slideshow": {
     "slide_type": "subslide"
    }
   },
   "source": [
    "<img src=\"analysis/figures/whole-hyperopt-LSTM.png\">"
   ]
  },
  {
   "cell_type": "markdown",
   "metadata": {
    "slideshow": {
     "slide_type": "subslide"
    }
   },
   "source": [
    "<img src=\"analysis/figures/whole-hyperopt-GRU.png\">"
   ]
  },
  {
   "cell_type": "code",
   "execution_count": 33,
   "metadata": {
    "slideshow": {
     "slide_type": "skip"
    }
   },
   "outputs": [],
   "source": [
    "def typecast(params):\n",
    "    out = {}\n",
    "    optimizers = [\"adam\", \"sgd\"]\n",
    "    for key, val in params.items():\n",
    "        if key == \"optimizer\":\n",
    "            out[key] = optimizers[val]\n",
    "        else:\n",
    "            try:\n",
    "                out[key] = int(val)\n",
    "            except TypeError:\n",
    "                out[key] = val\n",
    "    return out"
   ]
  },
  {
   "cell_type": "markdown",
   "metadata": {
    "slideshow": {
     "slide_type": "slide"
    }
   },
   "source": [
    "### Evaluate the obtained Hyperparameters \n",
    "\n",
    "* We can compute the proportion of observations before our cutoff point\n",
    "* and use the remainder for the new test set."
   ]
  },
  {
   "cell_type": "code",
   "execution_count": 34,
   "metadata": {
    "slideshow": {
     "slide_type": "fragment"
    }
   },
   "outputs": [
    {
     "data": {
      "text/plain": [
       "0.8972823583602026"
      ]
     },
     "execution_count": 34,
     "metadata": {},
     "output_type": "execute_result"
    }
   ],
   "source": [
    "train_size = whole.index.get_loc(cutoff) /len(whole.index.unique())\n",
    "train_size"
   ]
  },
  {
   "cell_type": "code",
   "execution_count": 35,
   "metadata": {
    "slideshow": {
     "slide_type": "fragment"
    }
   },
   "outputs": [],
   "source": [
    "name2cell = {\"RNN\": SimpleRNN,\n",
    "             \"LSTM\": LSTM,\n",
    "             \"GRU\": GRU}\n",
    "series2data = {\"whole\": whole, \"district\": district}\n",
    "series_col = []\n",
    "cell_col = []\n",
    "loss_col = []"
   ]
  },
  {
   "cell_type": "code",
   "execution_count": 36,
   "metadata": {
    "slideshow": {
     "slide_type": "slide"
    }
   },
   "outputs": [
    {
     "data": {
      "application/vnd.jupyter.widget-view+json": {
       "model_id": "8cf1e6d7b3e042c7a0aa854077ad04f5",
       "version_major": 2,
       "version_minor": 0
      },
      "text/plain": [
       "HBox(children=(IntProgress(value=0, description='data loop', max=2, style=ProgressStyle(description_width='ini…"
      ]
     },
     "metadata": {},
     "output_type": "display_data"
    },
    {
     "data": {
      "application/vnd.jupyter.widget-view+json": {
       "model_id": "fbbcd9d0caa44256bf75703bbb288f30",
       "version_major": 2,
       "version_minor": 0
      },
      "text/plain": [
       "HBox(children=(IntProgress(value=0, description='model loop', max=3, style=ProgressStyle(description_width='in…"
      ]
     },
     "metadata": {},
     "output_type": "display_data"
    },
    {
     "data": {
      "application/vnd.jupyter.widget-view+json": {
       "model_id": "d9cb2573ef0d41ff9fc778ca1589d8bb",
       "version_major": 2,
       "version_minor": 0
      },
      "text/plain": [
       "HBox(children=(IntProgress(value=0, description='model loop', max=3, style=ProgressStyle(description_width='in…"
      ]
     },
     "metadata": {},
     "output_type": "display_data"
    },
    {
     "name": "stdout",
     "output_type": "stream",
     "text": [
      "\n"
     ]
    }
   ],
   "source": [
    "for series, data in tqdm(series2data.items(), desc=\"data loop\"):\n",
    "    for name, cell in tqdm(name2cell.items(), desc=\"model loop\"):\n",
    "        bestparams = typecast({\"cell\": cell,\n",
    "                               **best[series][cell.__name__]})\n",
    "        \n",
    "        model = Recurrent(data, epochs=3, train_size=train_size,\n",
    "                          **bestparams, verbose=False)\n",
    "        model.train()\n",
    "        \n",
    "        predictions = model.forecast(model.X_test)\n",
    "        loss = mean_squared_error(y_true=model.y_test,\n",
    "                                  y_pred=predictions)\n",
    "        series_col.append(series)\n",
    "        cell_col.append(name)\n",
    "        loss_col.append(loss)"
   ]
  },
  {
   "cell_type": "markdown",
   "metadata": {
    "slideshow": {
     "slide_type": "slide"
    }
   },
   "source": [
    "#### How does it fit?\n",
    "\n",
    "<img src=\"analysis/figures/best_whole_RNN.png\">"
   ]
  },
  {
   "cell_type": "markdown",
   "metadata": {
    "slideshow": {
     "slide_type": "subslide"
    }
   },
   "source": [
    "#### How does it fit?\n",
    "\n",
    "<img src=\"analysis/figures/best_whole_LSTM.png\">"
   ]
  },
  {
   "cell_type": "markdown",
   "metadata": {
    "slideshow": {
     "slide_type": "subslide"
    }
   },
   "source": [
    "#### How does it fit?\n",
    "\n",
    "<img src=\"analysis/figures/best_whole_GRU.png\">"
   ]
  },
  {
   "cell_type": "markdown",
   "metadata": {
    "slideshow": {
     "slide_type": "slide"
    }
   },
   "source": [
    "### Loss on the holdout set"
   ]
  },
  {
   "cell_type": "code",
   "execution_count": 9,
   "metadata": {
    "slideshow": {
     "slide_type": "skip"
    }
   },
   "outputs": [],
   "source": [
    "validation = pd.read_csv(\"analysis/loss.csv\",\n",
    "                         usecols=[\"Series\", \"Model\", \"Validation Loss\"],\n",
    "                         index_col=[\"Series\", \"Model\"])"
   ]
  },
  {
   "cell_type": "code",
   "execution_count": 10,
   "metadata": {
    "slideshow": {
     "slide_type": "fragment"
    }
   },
   "outputs": [
    {
     "data": {
      "text/html": [
       "<div>\n",
       "<style scoped>\n",
       "    .dataframe tbody tr th:only-of-type {\n",
       "        vertical-align: middle;\n",
       "    }\n",
       "\n",
       "    .dataframe tbody tr th {\n",
       "        vertical-align: top;\n",
       "    }\n",
       "\n",
       "    .dataframe thead tr th {\n",
       "        text-align: left;\n",
       "    }\n",
       "</style>\n",
       "<table border=\"1\" class=\"dataframe\">\n",
       "  <thead>\n",
       "    <tr>\n",
       "      <th>Series</th>\n",
       "      <th colspan=\"3\" halign=\"left\">whole</th>\n",
       "      <th colspan=\"3\" halign=\"left\">district</th>\n",
       "    </tr>\n",
       "    <tr>\n",
       "      <th>Model</th>\n",
       "      <th>RNN</th>\n",
       "      <th>LSTM</th>\n",
       "      <th>GRU</th>\n",
       "      <th>RNN</th>\n",
       "      <th>LSTM</th>\n",
       "      <th>GRU</th>\n",
       "    </tr>\n",
       "  </thead>\n",
       "  <tbody>\n",
       "    <tr>\n",
       "      <th>Validation Loss</th>\n",
       "      <td>0.001171</td>\n",
       "      <td>0.000847</td>\n",
       "      <td>0.000849</td>\n",
       "      <td>0.000247</td>\n",
       "      <td>0.000237</td>\n",
       "      <td>0.000216</td>\n",
       "    </tr>\n",
       "  </tbody>\n",
       "</table>\n",
       "</div>"
      ],
      "text/plain": [
       "Series              whole                      district                    \n",
       "Model                 RNN      LSTM       GRU       RNN      LSTM       GRU\n",
       "Validation Loss  0.001171  0.000847  0.000849  0.000247  0.000237  0.000216"
      ]
     },
     "execution_count": 10,
     "metadata": {},
     "output_type": "execute_result"
    }
   ],
   "source": [
    "validation.T"
   ]
  },
  {
   "cell_type": "code",
   "execution_count": null,
   "metadata": {
    "slideshow": {
     "slide_type": "skip"
    }
   },
   "outputs": [],
   "source": []
  }
 ],
 "metadata": {
  "celltoolbar": "Slideshow",
  "kernelspec": {
   "display_name": "Python 3",
   "language": "python",
   "name": "python3"
  },
  "language_info": {
   "codemirror_mode": {
    "name": "ipython",
    "version": 3
   },
   "file_extension": ".py",
   "mimetype": "text/x-python",
   "name": "python",
   "nbconvert_exporter": "python",
   "pygments_lexer": "ipython3",
   "version": "3.6.7"
  }
 },
 "nbformat": 4,
 "nbformat_minor": 2
}
