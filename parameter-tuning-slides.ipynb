{
 "cells": [
  {
   "cell_type": "markdown",
   "metadata": {
    "slideshow": {
     "slide_type": "slide"
    }
   },
   "source": [
    "## Parameter Tuning with `hyperopt`"
   ]
  },
  {
   "cell_type": "code",
   "execution_count": 36,
   "metadata": {
    "slideshow": {
     "slide_type": "skip"
    }
   },
   "outputs": [],
   "source": [
    "import os\n",
    "import json\n",
    "import sys\n",
    "\n",
    "import numpy as np\n",
    "import pandas as pd\n",
    "\n",
    "from keras.layers import SimpleRNN, LSTM, GRU\n",
    "from models.recurrent import Recurrent\n",
    "\n",
    "from sklearn.metrics import mean_squared_error\n",
    "from hyperopt import tpe, hp, fmin, STATUS_OK, Trials\n",
    "from hyperopt.pyll.base import scope\n",
    "\n",
    "\n",
    "from tqdm import tqdm_notebook as tqdm\n",
    "from pprint import pprint\n",
    "from matplotlib import pyplot as plt"
   ]
  },
  {
   "cell_type": "markdown",
   "metadata": {
    "slideshow": {
     "slide_type": "slide"
    }
   },
   "source": [
    "### Back to the crime dataset\n",
    "\n",
    "We look at two distinct questions:\n",
    "1. Can we accurately predict the development of the **whole** time series for the city of Chicago?\n",
    "2. Can we accurately predict the development of the series for **each district**?"
   ]
  },
  {
   "cell_type": "markdown",
   "metadata": {
    "slideshow": {
     "slide_type": "slide"
    }
   },
   "source": [
    "#### 1. Load the full series:\n",
    "\n",
    "The full series contains a single column of summed up incidents per day. We also parse the dates inside the `date` column and set them as the index of the `DataFrame`."
   ]
  },
  {
   "cell_type": "code",
   "execution_count": 37,
   "metadata": {
    "slideshow": {
     "slide_type": "fragment"
    }
   },
   "outputs": [
    {
     "data": {
      "text/html": [
       "<div>\n",
       "<style scoped>\n",
       "    .dataframe tbody tr th:only-of-type {\n",
       "        vertical-align: middle;\n",
       "    }\n",
       "\n",
       "    .dataframe tbody tr th {\n",
       "        vertical-align: top;\n",
       "    }\n",
       "\n",
       "    .dataframe thead th {\n",
       "        text-align: right;\n",
       "    }\n",
       "</style>\n",
       "<table border=\"1\" class=\"dataframe\">\n",
       "  <thead>\n",
       "    <tr style=\"text-align: right;\">\n",
       "      <th></th>\n",
       "      <th>crimes_total</th>\n",
       "    </tr>\n",
       "    <tr>\n",
       "      <th>date</th>\n",
       "      <th></th>\n",
       "    </tr>\n",
       "  </thead>\n",
       "  <tbody>\n",
       "    <tr>\n",
       "      <th>2001-01-01</th>\n",
       "      <td>1814.0</td>\n",
       "    </tr>\n",
       "    <tr>\n",
       "      <th>2001-01-02</th>\n",
       "      <td>1143.0</td>\n",
       "    </tr>\n",
       "    <tr>\n",
       "      <th>2001-01-03</th>\n",
       "      <td>1151.0</td>\n",
       "    </tr>\n",
       "    <tr>\n",
       "      <th>2001-01-04</th>\n",
       "      <td>1166.0</td>\n",
       "    </tr>\n",
       "    <tr>\n",
       "      <th>2001-01-05</th>\n",
       "      <td>1267.0</td>\n",
       "    </tr>\n",
       "  </tbody>\n",
       "</table>\n",
       "</div>"
      ],
      "text/plain": [
       "            crimes_total\n",
       "date                    \n",
       "2001-01-01        1814.0\n",
       "2001-01-02        1143.0\n",
       "2001-01-03        1151.0\n",
       "2001-01-04        1166.0\n",
       "2001-01-05        1267.0"
      ]
     },
     "execution_count": 37,
     "metadata": {},
     "output_type": "execute_result"
    }
   ],
   "source": [
    "datapath_whole = os.path.join(\"data\", \"crime_total.csv\")\n",
    "whole = pd.read_csv(datapath_whole, index_col=[\"date\"],\n",
    "                    dtype={\"crimes_total\": np.float32},\n",
    "                    parse_dates=[\"date\"])\n",
    "whole.head()"
   ]
  },
  {
   "cell_type": "markdown",
   "metadata": {
    "slideshow": {
     "slide_type": "slide"
    }
   },
   "source": [
    "#### 2. Load the series by district:\n",
    "\n",
    "Here we also parse the dates inside the `Date` column and specify a `MultiIndex` where the levels are `Date` and then `District`. This allows our `models.recurrent`-class to distinguish between the series for the whole of Chicago and the Chicago crime series by each district."
   ]
  },
  {
   "cell_type": "code",
   "execution_count": 38,
   "metadata": {
    "slideshow": {
     "slide_type": "fragment"
    }
   },
   "outputs": [
    {
     "data": {
      "text/html": [
       "<div>\n",
       "<style scoped>\n",
       "    .dataframe tbody tr th:only-of-type {\n",
       "        vertical-align: middle;\n",
       "    }\n",
       "\n",
       "    .dataframe tbody tr th {\n",
       "        vertical-align: top;\n",
       "    }\n",
       "\n",
       "    .dataframe thead tr th {\n",
       "        text-align: left;\n",
       "    }\n",
       "</style>\n",
       "<table border=\"1\" class=\"dataframe\">\n",
       "  <thead>\n",
       "    <tr>\n",
       "      <th>Date</th>\n",
       "      <th colspan=\"21\" halign=\"left\">2001-01-01</th>\n",
       "    </tr>\n",
       "    <tr>\n",
       "      <th>District</th>\n",
       "      <th>1.0</th>\n",
       "      <th>2.0</th>\n",
       "      <th>3.0</th>\n",
       "      <th>4.0</th>\n",
       "      <th>5.0</th>\n",
       "      <th>6.0</th>\n",
       "      <th>7.0</th>\n",
       "      <th>8.0</th>\n",
       "      <th>9.0</th>\n",
       "      <th>10.0</th>\n",
       "      <th>...</th>\n",
       "      <th>16.0</th>\n",
       "      <th>17.0</th>\n",
       "      <th>18.0</th>\n",
       "      <th>19.0</th>\n",
       "      <th>20.0</th>\n",
       "      <th>21.0</th>\n",
       "      <th>22.0</th>\n",
       "      <th>24.0</th>\n",
       "      <th>25.0</th>\n",
       "      <th>31.0</th>\n",
       "    </tr>\n",
       "  </thead>\n",
       "  <tbody>\n",
       "    <tr>\n",
       "      <th>Incidents</th>\n",
       "      <td>37.0</td>\n",
       "      <td>110.0</td>\n",
       "      <td>103.0</td>\n",
       "      <td>96.0</td>\n",
       "      <td>95.0</td>\n",
       "      <td>84.0</td>\n",
       "      <td>83.0</td>\n",
       "      <td>111.0</td>\n",
       "      <td>109.0</td>\n",
       "      <td>104.0</td>\n",
       "      <td>...</td>\n",
       "      <td>67.0</td>\n",
       "      <td>67.0</td>\n",
       "      <td>72.0</td>\n",
       "      <td>72.0</td>\n",
       "      <td>40.0</td>\n",
       "      <td>0.0</td>\n",
       "      <td>61.0</td>\n",
       "      <td>59.0</td>\n",
       "      <td>120.0</td>\n",
       "      <td>0.0</td>\n",
       "    </tr>\n",
       "  </tbody>\n",
       "</table>\n",
       "<p>1 rows × 24 columns</p>\n",
       "</div>"
      ],
      "text/plain": [
       "Date      2001-01-01                                                      \\\n",
       "District        1.0    2.0    3.0   4.0   5.0   6.0   7.0    8.0    9.0    \n",
       "Incidents       37.0  110.0  103.0  96.0  95.0  84.0  83.0  111.0  109.0   \n",
       "\n",
       "Date             ...                                                         \\\n",
       "District    10.0 ...   16.0  17.0  18.0  19.0  20.0 21.0  22.0  24.0   25.0   \n",
       "Incidents  104.0 ...   67.0  67.0  72.0  72.0  40.0  0.0  61.0  59.0  120.0   \n",
       "\n",
       "Date            \n",
       "District  31.0  \n",
       "Incidents  0.0  \n",
       "\n",
       "[1 rows x 24 columns]"
      ]
     },
     "execution_count": 38,
     "metadata": {},
     "output_type": "execute_result"
    }
   ],
   "source": [
    "datapath_district = os.path.join(\"data\", \"crimes_district.csv\")\n",
    "district = pd.read_csv(datapath_district, index_col=[\"Date\", \"District\"],\n",
    "                       dtype={\"District\": object,\n",
    "                              \"Incidents\": np.float32},\n",
    "                       parse_dates=[\"Date\"])\n",
    "district.sort_index().head(24).T"
   ]
  },
  {
   "cell_type": "markdown",
   "metadata": {
    "slideshow": {
     "slide_type": "slide"
    }
   },
   "source": [
    "### Separate data and a holdout set.\n",
    "\n",
    "* We use an algorithm that uses the test set.\n",
    "* Danger of overfitting.\n",
    "* so we separate a holdout set."
   ]
  },
  {
   "cell_type": "code",
   "execution_count": 39,
   "metadata": {
    "slideshow": {
     "slide_type": "fragment"
    }
   },
   "outputs": [],
   "source": [
    "cutoff = pd.to_datetime(\"2018-10-01\")\n",
    "whole_data = whole.loc[whole.index < cutoff]\n",
    "whole_holdout = whole.loc[whole.index >= cutoff]\n",
    "\n",
    "# As always with MultiIndices, things are a little more complicated.\n",
    "district_data = district.loc[district.index.map(lambda x: x[0] < cutoff)]\n",
    "district_holdout = district.loc[district.index.map(lambda x: x[0] > cutoff)]"
   ]
  },
  {
   "cell_type": "markdown",
   "metadata": {
    "slideshow": {
     "slide_type": "slide"
    }
   },
   "source": [
    "### Define a parameter space\n",
    "\n",
    "* choose a prior distribution from which parameters are sampled.\n",
    "* we choose mostly from the uniform distribution."
   ]
  },
  {
   "cell_type": "code",
   "execution_count": 40,
   "metadata": {
    "slideshow": {
     "slide_type": "fragment"
    }
   },
   "outputs": [],
   "source": [
    "# add optimizer, learn-rate, \n",
    "paramspace = {\"maxlag\": scope.int(hp.quniform(\"maxlag\", 1, 3, 1)),\n",
    "              \"cell_neurons\": scope.int(hp.quniform(\"cell_neurons\", 1, 30, 1)),\n",
    "              \"batch_size\": scope.int(hp.quniform(\"batch_size\", 1, 10, 1)),\n",
    "              \"optimizer\": hp.choice(\"optimizer\", [\"adam\", \"sgd\"])}"
   ]
  },
  {
   "cell_type": "markdown",
   "metadata": {
    "slideshow": {
     "slide_type": "slide"
    }
   },
   "source": [
    "* and create one dictionary for each cell we want to use. "
   ]
  },
  {
   "cell_type": "code",
   "execution_count": 41,
   "metadata": {
    "slideshow": {
     "slide_type": "fragment"
    }
   },
   "outputs": [
    {
     "name": "stdout",
     "output_type": "stream",
     "text": [
      "{'GRU': {'batch_size': <hyperopt.pyll.base.Apply object at 0x7f8b06b8b400>,\n",
      "         'cell': <class 'keras.layers.recurrent.GRU'>,\n",
      "         'cell_neurons': <hyperopt.pyll.base.Apply object at 0x7f8b06b3f8d0>,\n",
      "         'maxlag': <hyperopt.pyll.base.Apply object at 0x7f8b06b3f828>,\n",
      "         'optimizer': <hyperopt.pyll.base.Apply object at 0x7f8b06b80048>},\n",
      " 'LSTM': {'batch_size': <hyperopt.pyll.base.Apply object at 0x7f8b06b8b400>,\n",
      "          'cell': <class 'keras.layers.recurrent.LSTM'>,\n",
      "          'cell_neurons': <hyperopt.pyll.base.Apply object at 0x7f8b06b3f8d0>,\n",
      "          'maxlag': <hyperopt.pyll.base.Apply object at 0x7f8b06b3f828>,\n",
      "          'optimizer': <hyperopt.pyll.base.Apply object at 0x7f8b06b80048>},\n",
      " 'SimpleRNN': {'batch_size': <hyperopt.pyll.base.Apply object at 0x7f8b06b8b400>,\n",
      "               'cell': <class 'keras.layers.recurrent.SimpleRNN'>,\n",
      "               'cell_neurons': <hyperopt.pyll.base.Apply object at 0x7f8b06b3f8d0>,\n",
      "               'maxlag': <hyperopt.pyll.base.Apply object at 0x7f8b06b3f828>,\n",
      "               'optimizer': <hyperopt.pyll.base.Apply object at 0x7f8b06b80048>}}\n"
     ]
    }
   ],
   "source": [
    "spacesdict ={}\n",
    "for cell in (SimpleRNN, LSTM, GRU):\n",
    "    spacesdict[cell.__name__] = {\"cell\": cell, **paramspace}\n",
    "\n",
    "pprint(spacesdict)"
   ]
  },
  {
   "cell_type": "markdown",
   "metadata": {
    "slideshow": {
     "slide_type": "slide"
    }
   },
   "source": [
    "### Set up `Trials`-object to store the results\n",
    "\n",
    "* We can later visualize the search process.\n",
    "* Based on that, we can make decisions if we want to keep the parameters or not."
   ]
  },
  {
   "cell_type": "code",
   "execution_count": 42,
   "metadata": {
    "slideshow": {
     "slide_type": "fragment"
    }
   },
   "outputs": [
    {
     "name": "stdout",
     "output_type": "stream",
     "text": [
      "{'district': {'GRU': <hyperopt.base.Trials object at 0x7f8b06b46240>,\n",
      "              'LSTM': <hyperopt.base.Trials object at 0x7f8b06b462e8>,\n",
      "              'SimpleRNN': <hyperopt.base.Trials object at 0x7f8b06b46278>},\n",
      " 'whole': {'GRU': <hyperopt.base.Trials object at 0x7f8b06b46198>,\n",
      "           'LSTM': <hyperopt.base.Trials object at 0x7f8b06b46eb8>,\n",
      "           'SimpleRNN': <hyperopt.base.Trials object at 0x7f8b3c5c53c8>}}\n"
     ]
    }
   ],
   "source": [
    "trialsdict = {key: {model: Trials() for model in (\"SimpleRNN\", \"LSTM\", \"GRU\")} for key in (\"whole\", \"district\")}\n",
    "pprint(trialsdict)"
   ]
  },
  {
   "cell_type": "markdown",
   "metadata": {
    "slideshow": {
     "slide_type": "slide"
    }
   },
   "source": [
    "### Optimizing over the parameter space\n",
    "\n",
    "* We first define an objective function.\n",
    "* Then we pass it to the `fmin`-routine."
   ]
  },
  {
   "cell_type": "markdown",
   "metadata": {
    "slideshow": {
     "slide_type": "fragment"
    }
   },
   "source": [
    "* With 3 model classes and 2 different datasets we would need 6 of those.\n",
    "* So we do something different - we use `Python`s decorator syntax."
   ]
  },
  {
   "cell_type": "code",
   "execution_count": 43,
   "metadata": {
    "slideshow": {
     "slide_type": "fragment"
    }
   },
   "outputs": [],
   "source": [
    "def minimizer(objective):\n",
    "    def outer(paramspace, trials, max_evals=3):\n",
    "        pbar = tqdm(total=max_evals, desc=paramspace[\"cell\"].__name__)\n",
    "        def inner(*args, **kwargs):\n",
    "            pbar.update()\n",
    "            return objective(*args, **kwargs)\n",
    "\n",
    "        best = fmin(fn=inner,\n",
    "                    space=paramspace,\n",
    "                    algo=tpe.suggest,\n",
    "                    max_evals=max_evals,\n",
    "                    trials=trials)\n",
    "        pbar.close()\n",
    "        return best\n",
    "    return outer"
   ]
  },
  {
   "cell_type": "markdown",
   "metadata": {
    "slideshow": {
     "slide_type": "slide"
    }
   },
   "source": [
    "And now to the function we wish to decorate. It contains 3 steps:\n",
    "1. Create a model with a certain set of (yet undefined) parameters.\n",
    "2. Train the model.\n",
    "3. Calculate the loss on a test set and return a dictionary, that contains the loss and a flag indicating that everything went okay.\n",
    "\n",
    "We do this for the whole series:"
   ]
  },
  {
   "cell_type": "code",
   "execution_count": 44,
   "metadata": {
    "slideshow": {
     "slide_type": "fragment"
    }
   },
   "outputs": [],
   "source": [
    "@minimizer\n",
    "def whole_get_loss(params):\n",
    "    \"\"\"Return loss on test set.\"\"\"\n",
    "    model = Recurrent(whole_data, epochs=3, verbose=False, **params)\n",
    "    model.train()\n",
    "    predictions = model.forecast(model.X_test)\n",
    "    loss = mean_squared_error(y_true=model.y_test, y_pred=predictions)\n",
    "    return {'loss': loss, 'status': STATUS_OK}"
   ]
  },
  {
   "cell_type": "markdown",
   "metadata": {
    "slideshow": {
     "slide_type": "slide"
    }
   },
   "source": [
    "And for the series by district:"
   ]
  },
  {
   "cell_type": "code",
   "execution_count": 45,
   "metadata": {
    "slideshow": {
     "slide_type": "fragment"
    }
   },
   "outputs": [],
   "source": [
    "@minimizer\n",
    "def district_get_loss(params):\n",
    "    \"\"\"Return loss on test set.\"\"\"\n",
    "    model = Recurrent(district_data, epochs=3, verbose=False, **params)\n",
    "    model.train()\n",
    "    predictions = model.forecast(model.X_test)\n",
    "    loss = mean_squared_error(y_true=model.y_test, y_pred=predictions)\n",
    "    return {'loss': loss, 'status': STATUS_OK}"
   ]
  },
  {
   "cell_type": "code",
   "execution_count": 46,
   "metadata": {
    "slideshow": {
     "slide_type": "skip"
    }
   },
   "outputs": [],
   "source": [
    "import time\n",
    "@minimizer\n",
    "def district_get_loss(params):\n",
    "    time.sleep(1)\n",
    "    return {\"loss\": np.random.uniform(), \"status\": STATUS_OK}\n",
    "@minimizer\n",
    "def whole_get_loss(params):\n",
    "    time.sleep(2)\n",
    "    return {\"loss\": np.random.uniform(), \"status\": STATUS_OK}"
   ]
  },
  {
   "cell_type": "markdown",
   "metadata": {
    "slideshow": {
     "slide_type": "slide"
    }
   },
   "source": [
    "### Tune the parameters\n",
    "\n",
    "* We pass through all our models \n",
    "* for each dataset and finally\n",
    "* store the best hyperparameters in a dictionary."
   ]
  },
  {
   "cell_type": "code",
   "execution_count": 47,
   "metadata": {
    "slideshow": {
     "slide_type": "fragment"
    }
   },
   "outputs": [
    {
     "data": {
      "application/vnd.jupyter.widget-view+json": {
       "model_id": "69214907cebc4f27b1893ff0e446456e",
       "version_major": 2,
       "version_minor": 0
      },
      "text/plain": [
       "HBox(children=(IntProgress(value=0, description='SimpleRNN', max=3, style=ProgressStyle(description_width='ini…"
      ]
     },
     "metadata": {},
     "output_type": "display_data"
    },
    {
     "name": "stdout",
     "output_type": "stream",
     "text": [
      "\n"
     ]
    },
    {
     "data": {
      "application/vnd.jupyter.widget-view+json": {
       "model_id": "1ef62cb59e9741f18cb1fea99a84c890",
       "version_major": 2,
       "version_minor": 0
      },
      "text/plain": [
       "HBox(children=(IntProgress(value=0, description='SimpleRNN', max=3, style=ProgressStyle(description_width='ini…"
      ]
     },
     "metadata": {},
     "output_type": "display_data"
    },
    {
     "name": "stdout",
     "output_type": "stream",
     "text": [
      "\n"
     ]
    },
    {
     "data": {
      "application/vnd.jupyter.widget-view+json": {
       "model_id": "73b8aae795cd46ee8a88726d043f7ae5",
       "version_major": 2,
       "version_minor": 0
      },
      "text/plain": [
       "HBox(children=(IntProgress(value=0, description='LSTM', max=3, style=ProgressStyle(description_width='initial'…"
      ]
     },
     "metadata": {},
     "output_type": "display_data"
    },
    {
     "name": "stdout",
     "output_type": "stream",
     "text": [
      "\n"
     ]
    },
    {
     "data": {
      "application/vnd.jupyter.widget-view+json": {
       "model_id": "e21c9db4fe25483085c8d9fad3c2dc37",
       "version_major": 2,
       "version_minor": 0
      },
      "text/plain": [
       "HBox(children=(IntProgress(value=0, description='LSTM', max=3, style=ProgressStyle(description_width='initial'…"
      ]
     },
     "metadata": {},
     "output_type": "display_data"
    },
    {
     "name": "stdout",
     "output_type": "stream",
     "text": [
      "\n"
     ]
    },
    {
     "data": {
      "application/vnd.jupyter.widget-view+json": {
       "model_id": "2058cb5eb8ec4425b0293090ff7851ae",
       "version_major": 2,
       "version_minor": 0
      },
      "text/plain": [
       "HBox(children=(IntProgress(value=0, description='GRU', max=3, style=ProgressStyle(description_width='initial')…"
      ]
     },
     "metadata": {},
     "output_type": "display_data"
    },
    {
     "name": "stdout",
     "output_type": "stream",
     "text": [
      "\n"
     ]
    },
    {
     "data": {
      "application/vnd.jupyter.widget-view+json": {
       "model_id": "68a5205559d840cb974741c93db7714e",
       "version_major": 2,
       "version_minor": 0
      },
      "text/plain": [
       "HBox(children=(IntProgress(value=0, description='GRU', max=3, style=ProgressStyle(description_width='initial')…"
      ]
     },
     "metadata": {},
     "output_type": "display_data"
    },
    {
     "name": "stdout",
     "output_type": "stream",
     "text": [
      "\n"
     ]
    }
   ],
   "source": [
    "models = (\"SimpleRNN\", \"LSTM\", \"GRU\")\n",
    "best = {\"whole\": {},\n",
    "        \"district\": {}}\n",
    "\n",
    "for model in models:\n",
    "    best[\"whole\"][model] = whole_get_loss(spacesdict[model], \n",
    "                                          trialsdict[\"whole\"][model])\n",
    "    best[\"district\"][model] = district_get_loss(spacesdict[model],\n",
    "                                                trialsdict[\"district\"][model])"
   ]
  },
  {
   "cell_type": "code",
   "execution_count": 53,
   "metadata": {
    "slideshow": {
     "slide_type": "skip"
    }
   },
   "outputs": [],
   "source": [
    "with open(\"analysis/best_params.json\") as file:\n",
    "    best = json.load(file)"
   ]
  },
  {
   "cell_type": "code",
   "execution_count": 54,
   "metadata": {
    "slideshow": {
     "slide_type": "slide"
    }
   },
   "outputs": [
    {
     "name": "stdout",
     "output_type": "stream",
     "text": [
      "{'district': {'GRU': {'batch_size': 7.0,\n",
      "                      'cell_neurons': 30.0,\n",
      "                      'maxlag': 2.0,\n",
      "                      'optimizer': 0},\n",
      "              'LSTM': {'batch_size': 7.0,\n",
      "                       'cell_neurons': 3.0,\n",
      "                       'maxlag': 2.0,\n",
      "                       'optimizer': 0},\n",
      "              'SimpleRNN': {'batch_size': 6.0,\n",
      "                            'cell_neurons': 14.0,\n",
      "                            'maxlag': 3.0,\n",
      "                            'optimizer': 0}},\n",
      " 'whole': {'GRU': {'batch_size': 1.0,\n",
      "                   'cell_neurons': 21.0,\n",
      "                   'maxlag': 3.0,\n",
      "                   'optimizer': 1},\n",
      "           'LSTM': {'batch_size': 1.0,\n",
      "                    'cell_neurons': 17.0,\n",
      "                    'maxlag': 3.0,\n",
      "                    'optimizer': 1},\n",
      "           'SimpleRNN': {'batch_size': 5.0,\n",
      "                         'cell_neurons': 14.0,\n",
      "                         'maxlag': 3.0,\n",
      "                         'optimizer': 1}}}\n"
     ]
    }
   ],
   "source": [
    "pprint(best)"
   ]
  },
  {
   "cell_type": "markdown",
   "metadata": {
    "slideshow": {
     "slide_type": "slide"
    }
   },
   "source": [
    "## Visualize the search Process\n",
    "\n",
    "First for the districts:"
   ]
  },
  {
   "cell_type": "markdown",
   "metadata": {
    "slideshow": {
     "slide_type": "subslide"
    }
   },
   "source": [
    "<img src=\"analysis/district-hyperopt-SimpleRNN.png\">"
   ]
  },
  {
   "cell_type": "markdown",
   "metadata": {
    "slideshow": {
     "slide_type": "subslide"
    }
   },
   "source": [
    "<img src=\"analysis/district-hyperopt-LSTM.png\">"
   ]
  },
  {
   "cell_type": "markdown",
   "metadata": {
    "slideshow": {
     "slide_type": "subslide"
    }
   },
   "source": [
    "<img src=\"analysis/district-hyperopt-GRU.png\">"
   ]
  },
  {
   "cell_type": "markdown",
   "metadata": {
    "slideshow": {
     "slide_type": "subslide"
    }
   },
   "source": [
    "And for the whole series:"
   ]
  },
  {
   "cell_type": "markdown",
   "metadata": {
    "slideshow": {
     "slide_type": "subslide"
    }
   },
   "source": [
    "<img src=\"analysis/whole-hyperopt-SimpleRNN.png\">"
   ]
  },
  {
   "cell_type": "markdown",
   "metadata": {
    "slideshow": {
     "slide_type": "subslide"
    }
   },
   "source": [
    "<img src=\"analysis/whole-hyperopt-LSTM.png\">"
   ]
  },
  {
   "cell_type": "markdown",
   "metadata": {
    "slideshow": {
     "slide_type": "subslide"
    }
   },
   "source": [
    "<img src=\"analysis/whole-hyperopt-GRU.png\">"
   ]
  },
  {
   "cell_type": "code",
   "execution_count": 55,
   "metadata": {
    "slideshow": {
     "slide_type": "skip"
    }
   },
   "outputs": [],
   "source": [
    "def typecast(params):\n",
    "    out = {}\n",
    "    optimizers = [\"adam\", \"sgd\"]\n",
    "    for key, val in params.items():\n",
    "        if key == \"optimizer\":\n",
    "            out[key] = optimizers[val]\n",
    "        else:\n",
    "            try:\n",
    "                out[key] = int(val)\n",
    "            except TypeError:\n",
    "                out[key] = val\n",
    "    return out"
   ]
  },
  {
   "cell_type": "markdown",
   "metadata": {
    "slideshow": {
     "slide_type": "slide"
    }
   },
   "source": [
    "### Evaluate the obtained Hyperparameters \n",
    "\n",
    "* We can compute the proportion of observations before our cutoff point\n",
    "* and use the remainder for the new test set."
   ]
  },
  {
   "cell_type": "code",
   "execution_count": 56,
   "metadata": {
    "slideshow": {
     "slide_type": "fragment"
    }
   },
   "outputs": [],
   "source": [
    "train_size = whole.index.get_loc(cutoff) /len(whole.index.unique())"
   ]
  },
  {
   "cell_type": "code",
   "execution_count": 57,
   "metadata": {
    "slideshow": {
     "slide_type": "fragment"
    }
   },
   "outputs": [],
   "source": [
    "name2cell = {\"RNN\": SimpleRNN,\n",
    "             \"LSTM\": LSTM,\n",
    "             \"GRU\": GRU}\n",
    "series2data = {\"whole\": whole, \"district\": district}\n",
    "series_col = []\n",
    "cell_col = []\n",
    "loss_col = []"
   ]
  },
  {
   "cell_type": "code",
   "execution_count": 64,
   "metadata": {
    "slideshow": {
     "slide_type": "slide"
    }
   },
   "outputs": [
    {
     "data": {
      "application/vnd.jupyter.widget-view+json": {
       "model_id": "e1b7da169ab245019731068427974f68",
       "version_major": 2,
       "version_minor": 0
      },
      "text/plain": [
       "HBox(children=(IntProgress(value=0, description='data loop', max=2, style=ProgressStyle(description_width='ini…"
      ]
     },
     "metadata": {},
     "output_type": "display_data"
    },
    {
     "data": {
      "application/vnd.jupyter.widget-view+json": {
       "model_id": "9822152f319c4bd0bd05fc8744e99e4e",
       "version_major": 2,
       "version_minor": 0
      },
      "text/plain": [
       "HBox(children=(IntProgress(value=0, description='cell loop', max=3, style=ProgressStyle(description_width='ini…"
      ]
     },
     "metadata": {},
     "output_type": "display_data"
    },
    {
     "data": {
      "application/vnd.jupyter.widget-view+json": {
       "model_id": "391024abfd0b48e5b1f842091b017fad",
       "version_major": 2,
       "version_minor": 0
      },
      "text/plain": [
       "HBox(children=(IntProgress(value=0, description='cell loop', max=3, style=ProgressStyle(description_width='ini…"
      ]
     },
     "metadata": {},
     "output_type": "display_data"
    }
   ],
   "source": [
    "for series, data in tqdm(series2data.items(), desc=\"data loop\"):\n",
    "    for name, cell in tqdm(name2cell.items(), desc=name):\n",
    "        bestparams = typecast({\"cell\": cell,\n",
    "                               **best[series][cell.__name__]})\n",
    "        \n",
    "        model = Recurrent(data, epochs=3, train_size=train_size,\n",
    "                          **bestparams, verbose=False)\n",
    "        model.train()\n",
    "        \n",
    "        predictions = model.forecast(model.X_test)\n",
    "        loss = mean_squared_error(y_true=model.y_test,\n",
    "                                  y_pred=predictions)\n",
    "        series_col.append(series)\n",
    "        cell_col.append(name)\n",
    "        loss_col.append(loss)"
   ]
  },
  {
   "cell_type": "markdown",
   "metadata": {
    "slideshow": {
     "slide_type": "slide"
    }
   },
   "source": [
    "#### How does it fit?\n",
    "\n",
    "<img src=\"analysis/best_RNN.png\">"
   ]
  },
  {
   "cell_type": "markdown",
   "metadata": {
    "slideshow": {
     "slide_type": "subslide"
    }
   },
   "source": [
    "#### How does it fit?\n",
    "\n",
    "<img src=\"analysis/best_LSTM.png\">"
   ]
  },
  {
   "cell_type": "markdown",
   "metadata": {
    "slideshow": {
     "slide_type": "subslide"
    }
   },
   "source": [
    "#### How does it fit?\n",
    "\n",
    "<img src=\"analysis/best_GRU.png\">"
   ]
  },
  {
   "cell_type": "markdown",
   "metadata": {
    "slideshow": {
     "slide_type": "slide"
    }
   },
   "source": [
    "### Loss on the holdout set"
   ]
  },
  {
   "cell_type": "code",
   "execution_count": 62,
   "metadata": {
    "slideshow": {
     "slide_type": "skip"
    }
   },
   "outputs": [],
   "source": [
    "validation = pd.read_csv(\"analysis/loss.csv\",\n",
    "                         usecols=[\"Series\", \"Model\", \"Validation Loss\"],\n",
    "                         index_col=[\"Series\", \"Model\"])"
   ]
  },
  {
   "cell_type": "code",
   "execution_count": 66,
   "metadata": {
    "slideshow": {
     "slide_type": "fragment"
    }
   },
   "outputs": [
    {
     "data": {
      "text/html": [
       "<div>\n",
       "<style scoped>\n",
       "    .dataframe tbody tr th:only-of-type {\n",
       "        vertical-align: middle;\n",
       "    }\n",
       "\n",
       "    .dataframe tbody tr th {\n",
       "        vertical-align: top;\n",
       "    }\n",
       "\n",
       "    .dataframe thead tr th {\n",
       "        text-align: left;\n",
       "    }\n",
       "</style>\n",
       "<table border=\"1\" class=\"dataframe\">\n",
       "  <thead>\n",
       "    <tr>\n",
       "      <th>Series</th>\n",
       "      <th colspan=\"3\" halign=\"left\">whole</th>\n",
       "      <th colspan=\"3\" halign=\"left\">district</th>\n",
       "    </tr>\n",
       "    <tr>\n",
       "      <th>Model</th>\n",
       "      <th>RNN</th>\n",
       "      <th>LSTM</th>\n",
       "      <th>GRU</th>\n",
       "      <th>RNN</th>\n",
       "      <th>LSTM</th>\n",
       "      <th>GRU</th>\n",
       "    </tr>\n",
       "  </thead>\n",
       "  <tbody>\n",
       "    <tr>\n",
       "      <th>Validation Loss</th>\n",
       "      <td>0.001171</td>\n",
       "      <td>0.000847</td>\n",
       "      <td>0.000849</td>\n",
       "      <td>0.000247</td>\n",
       "      <td>0.000237</td>\n",
       "      <td>0.000216</td>\n",
       "    </tr>\n",
       "  </tbody>\n",
       "</table>\n",
       "</div>"
      ],
      "text/plain": [
       "Series              whole                      district                    \n",
       "Model                 RNN      LSTM       GRU       RNN      LSTM       GRU\n",
       "Validation Loss  0.001171  0.000847  0.000849  0.000247  0.000237  0.000216"
      ]
     },
     "execution_count": 66,
     "metadata": {},
     "output_type": "execute_result"
    }
   ],
   "source": [
    "validation.T"
   ]
  }
 ],
 "metadata": {
  "celltoolbar": "Slideshow",
  "kernelspec": {
   "display_name": "Python 3",
   "language": "python",
   "name": "python3"
  },
  "language_info": {
   "codemirror_mode": {
    "name": "ipython",
    "version": 3
   },
   "file_extension": ".py",
   "mimetype": "text/x-python",
   "name": "python",
   "nbconvert_exporter": "python",
   "pygments_lexer": "ipython3",
   "version": "3.6.7"
  }
 },
 "nbformat": 4,
 "nbformat_minor": 2
}
