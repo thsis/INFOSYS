{
 "cells": [
  {
   "cell_type": "markdown",
   "metadata": {},
   "source": [
    "# References\n",
    "1. Jeremy Howard (2018): Introduction to practical Deep Learning for Coders – Lesson 6: RNNs. http://course18.fast.ai/lessons/lesson6.html (accessed: 06.02.2019)\n",
    "1. Thomas Fischer & Christopher Krauss, (2018): Deep learning with long short-term memory networks for financial market predictions. European Journal of Operation Research Vol 270 Issue 2\n",
    "1. Jason Brownlee, 2016: Stateful and Stateless LSTM for Time Series Forecasting with Python. https://machinelearningmastery.com/stateful-stateless-lstm-time-series-forecasting-python/ (accessed: 06.02.2019)\n",
    "1. Yumi (2018) : Stateful LSTM model training in Keras. https://fairyonice.github.io/Stateful-LSTM-model-training-in-Keras.html (accessed: 06.02.2019)\n",
    "1. Philippe Remey (2016): Stateful LSTM in Keras. http://philipperemy.github.io/keras-stateful-lstm/ (accessed: 06.02.2019)\n",
    "1. Cathy O'Neil, (2016): Weapons of Math Destruction. How Big Data increases inequality and threatens democracy. \n"
   ]
  },
  {
   "cell_type": "code",
   "execution_count": null,
   "metadata": {},
   "outputs": [],
   "source": []
  }
 ],
 "metadata": {
  "kernelspec": {
   "display_name": "Python 3",
   "language": "python",
   "name": "python3"
  },
  "language_info": {
   "codemirror_mode": {
    "name": "ipython",
    "version": 3
   },
   "file_extension": ".py",
   "mimetype": "text/x-python",
   "name": "python",
   "nbconvert_exporter": "python",
   "pygments_lexer": "ipython3",
   "version": "3.6.5"
  }
 },
 "nbformat": 4,
 "nbformat_minor": 2
}
