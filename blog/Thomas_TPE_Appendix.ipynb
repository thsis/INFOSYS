{
 "cells": [
  {
   "cell_type": "markdown",
   "metadata": {},
   "source": [
    "# Appendix\n",
    "\n",
    "## Tree of Parzen Estimators\n",
    "\n",
    "### What is a *Tree of Parzen Estimators?*\n",
    "\n",
    "\\begin{equation}\n",
    "p(x|y) = \\begin{cases}\n",
    "\\color{blue}{l(x)} \\text{ if } y<y^\\star \\\\\n",
    "\\color{red}{g(x)} \\text{ if } y \\geq y^\\star\n",
    "\\end{cases}\n",
    "\\end{equation}\n",
    "\n",
    "where:\n",
    "* $Y$ is a random variable corresponding to the loss of some real valued objective function (and $y$ is a realisation)\n",
    "* $y^\\star$ is some threshold\n",
    "* $x$ is a vector of hyperparameters"
   ]
  },
  {
   "cell_type": "markdown",
   "metadata": {},
   "source": [
    "### What is a *Tree of Parzen Estimators*\n",
    "\n",
    "$$\n",
    "EI_{y^\\star}(x) = \\int\\limits_{-\\infty}^{y^\\star} (y^\\star-y)p(y|x)dy\n",
    "$$\n",
    "where\n",
    "$$\n",
    "p(y|x) = \\frac{p(x|y)p(y)}{p(x)}\n",
    "$$"
   ]
  },
  {
   "cell_type": "markdown",
   "metadata": {},
   "source": [
    "also note that:\n",
    "\\begin{align}\n",
    "p(x) &= \\int \\underbrace{p(x|y)p(y)}_{p(x, y)}dy \\\\\n",
    "     &= \\int\\limits_{\\color{blue}{-\\infty}}^{\\color{blue}{y^\\star}}\\color{blue}{p(x|y)}p(y)dy +\n",
    "        \\int\\limits^{\\color{red}{\\infty}}_{\\color{red}{y^\\star}}\\color{red}{p(x|y)}p(y)dy \\\\\n",
    "     &= \\color{blue}{l(x)} \\int\\limits_{-\\infty}^{y^\\star}p(y)dy +\n",
    "        \\color{red}{g(x)} \\int\\limits^{\\infty}_{y^\\star}p(y)dy \\\\\n",
    "     &= l(x) \\underbrace{P(Y<y^\\star)}_{:=\\gamma} + g(x)    \\underbrace{P(Y \\geq y^\\star)}_{:=1-\\gamma} \\\\\n",
    "     &= \\gamma l(x) + (1-\\gamma)g(x)\n",
    "\\end{align}"
   ]
  },
  {
   "cell_type": "markdown",
   "metadata": {},
   "source": [
    "Derivation:\n",
    "\\begin{align}\n",
    "EI_{y^\\star}(x) &= \\int\\limits_{-\\infty}^{y^\\star} (y^\\star-y)p(y|x)dy \\\\\n",
    "  &= \\int\\limits_{\\color{blue}{-\\infty}}^{\\color{blue}{y^\\star}}(y^\\star-y) \\frac{\\color{blue}{p(x|y)}p(y)}{p(x)}dy\n",
    "  = \\frac{\\color{blue}{l(x)}}{p(x)} \\int\\limits_{-\\infty}^{y^\\star}(y^\\star-y) p(y)dy \\\\\n",
    "  &= \\frac{l(x)}{p(x)} \\left[ y^\\star \\underbrace{\\int\\limits_{-\\infty}^{y^\\star} p(y)dy}_{P(Y < y^\\star) = \\gamma} - \\int\\limits_{-\\infty}^{y^\\star} y \\cdot p(y)dy \\right]\n",
    "  = \\frac{l(x)\\gamma y^\\star - l(x)\\int_{-\\infty}^{y^\\star} y \\cdot p(y) dy}{l(x) \\gamma + (1-\\gamma)g(x)} \n",
    "  \\propto \\color{orange}{\\left[\\gamma + (1-\\gamma) \\frac{g(x)}{l(x)}\\right]^{-1}}\n",
    "\\end{align}"
   ]
  },
  {
   "cell_type": "code",
   "execution_count": null,
   "metadata": {},
   "outputs": [],
   "source": []
  }
 ],
 "metadata": {
  "kernelspec": {
   "display_name": "infosys",
   "language": "python",
   "name": "infosys"
  },
  "language_info": {
   "codemirror_mode": {
    "name": "ipython",
    "version": 3
   },
   "file_extension": ".py",
   "mimetype": "text/x-python",
   "name": "python",
   "nbconvert_exporter": "python",
   "pygments_lexer": "ipython3",
   "version": "3.6.7"
  }
 },
 "nbformat": 4,
 "nbformat_minor": 2
}
