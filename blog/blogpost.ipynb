{
 "cells": [
  {
   "cell_type": "markdown",
   "metadata": {},
   "source": [
    "# Crime and Neural Nets\n",
    "## Or: Introducing Recurrent Neural Networks with Long-Short-Term Memory and Gated Recurrent Unit to predict reported Crime Incidents\n",
    "#### *Carolin Kunze, Marc Scheu, Thomas Siskos*\n",
    "\n",
    "\n",
    "<img align=\"right\" src=\"pics/crime_intro.png\" alt=\"NN\" style=\"width: 500px;\"/>\n",
    "Several police departments across the Unites States have been experimenting with software for crime prdiction. This  started a controversial debate: Critics are questioning the predictiv power of the underlying machine learning models and point out biases towards certain crime typs and neighborhoods. We took this as occacion to look into the publicly available <a href=\"https://catalog.data.gov/dataset/crimes-2001-to-present-398a4\">crime records of the city of chicago</a>. The data set contains close to 7 milliom reported crime incidences starting from 2001 until the precceding week of the data download. It includes 22 columns with detailed information, such as type of the offence,  geo location,  district and the time of crime occurence. We will focus on temporal patterns in the data by predicting crime frequencies per day on the district level. Such a model may be used in practice to faciliate personel planning across the districts for the chigaco police force. We generate the input data for model building by counting the reported crimes by day and district. This results in a table with three columns containing date, district and the respective counts. \n",
    "\n",
    "\n"
   ]
  },
  {
   "cell_type": "code",
   "execution_count": 1,
   "metadata": {},
   "outputs": [
    {
     "data": {
      "text/html": [
       "<div>\n",
       "<style scoped>\n",
       "    .dataframe tbody tr th:only-of-type {\n",
       "        vertical-align: middle;\n",
       "    }\n",
       "\n",
       "    .dataframe tbody tr th {\n",
       "        vertical-align: top;\n",
       "    }\n",
       "\n",
       "    .dataframe thead th {\n",
       "        text-align: right;\n",
       "    }\n",
       "</style>\n",
       "<table border=\"1\" class=\"dataframe\">\n",
       "  <thead>\n",
       "    <tr style=\"text-align: right;\">\n",
       "      <th></th>\n",
       "      <th>District</th>\n",
       "      <th>Date</th>\n",
       "      <th>Incidents</th>\n",
       "    </tr>\n",
       "  </thead>\n",
       "  <tbody>\n",
       "    <tr>\n",
       "      <th>0</th>\n",
       "      <td>1.0</td>\n",
       "      <td>2001-01-01</td>\n",
       "      <td>37.0</td>\n",
       "    </tr>\n",
       "    <tr>\n",
       "      <th>1</th>\n",
       "      <td>1.0</td>\n",
       "      <td>2001-01-02</td>\n",
       "      <td>44.0</td>\n",
       "    </tr>\n",
       "    <tr>\n",
       "      <th>2</th>\n",
       "      <td>1.0</td>\n",
       "      <td>2001-01-03</td>\n",
       "      <td>44.0</td>\n",
       "    </tr>\n",
       "    <tr>\n",
       "      <th>3</th>\n",
       "      <td>1.0</td>\n",
       "      <td>2001-01-04</td>\n",
       "      <td>41.0</td>\n",
       "    </tr>\n",
       "    <tr>\n",
       "      <th>4</th>\n",
       "      <td>1.0</td>\n",
       "      <td>2001-01-05</td>\n",
       "      <td>67.0</td>\n",
       "    </tr>\n",
       "  </tbody>\n",
       "</table>\n",
       "</div>"
      ],
      "text/plain": [
       "   District        Date  Incidents\n",
       "0       1.0  2001-01-01       37.0\n",
       "1       1.0  2001-01-02       44.0\n",
       "2       1.0  2001-01-03       44.0\n",
       "3       1.0  2001-01-04       41.0\n",
       "4       1.0  2001-01-05       67.0"
      ]
     },
     "execution_count": 1,
     "metadata": {},
     "output_type": "execute_result"
    }
   ],
   "source": [
    "import pandas as pd\n",
    "\n",
    "data = pd.read_csv('../data/crimes_district.csv')\n",
    "data.head()"
   ]
  },
  {
   "cell_type": "markdown",
   "metadata": {},
   "source": [
    "By changing this aggregation on the time or the locational level a similar model for more granular predictions might be build. This is under the assumption of enough representative data on a more detailed aggregation level. We will take the described use case as an example to introduce Recurrent Neural Networks (RNNs) with Long-Short-Term memory (LSTM) and Gated Recurrent Unit (GRU). First we explain the general concept behind RNNs and train a simple network using different input formats. We then introduce RNNs with LSTM and GRU to overcome the vanishing gradient problem. After explaining the forward pass and the derivation of LSTM and GRU we tune the hyperparameters for the three introduced RNN variants and compare their performance."
   ]
  },
  {
   "cell_type": "markdown",
   "metadata": {},
   "source": [
    "### Introduction to Recurrent Neural Networks\n",
    "\n",
    "Many machine learning tasks are based on the assumption of identically independent distributed (i.i.d.) samples. Thus a prediction for a label $y_i$ only depends on the corresponding feature vector $\\vec{x_i}$, where $i$ denotes the index of the sample. When working with sequential data, one typically wants to predict a future outcome $\\vec{y_{t+1}}$, which often equals the following observable vector $\\vec{x_{t+1}}$, from a sequence of previously observed vectors $\\vec{x_t}$, …, $\\vec{x_{t-T}}$. $t$ denotes the last observed point of time and $T$  the number of observations since the start of the sequence.\n",
    "While the vectors within a sequence are assumed to be dependent, we might still work with multiple mutually independent time series in a dataset. In this case one could use de notation $\\vec{x_{ti}}$, corresponding to the observed vector at time $t$ from the sample sequence $i$. For simplicity we omit the sample index below. Note that many sequential prediction tasks are based on one dimensional time series, in that case one may also omit the vector notation. However, we stick to the more general form. <br>\n",
    "A simple feedforward network may be used to make predictions under the i.i.d assumption by passing one feature vector $\\vec{x_i}$ at a time through the network. However, if one wants to account for temporal dependencies between the observed vectors $\\vec{x_t}$, …, $\\vec{x_{t-T}}$ the network needs some kind of memory. That’s the concept behind recurrent neural networks: They use hidden activations, referred to as hidden state, to carry information within the network from one observation to the following one.\n",
    "\n",
    "\n",
    "<img align=\"center\" src=\"pics/RNN_t2.png\" alt=\"NN\" style=\"width: 500px;\"/>\n",
    "<p style='text-align: center;'>Image 1: Recurrent Neural Network with a sequence length of two.</p>\n",
    "\n",
    "Image 1 illustrates how a simple RNN may be used to predict $\\vec{y_{t+1}} (:= \\vec{x_{t+1})} $ given a sequence of two observed vectors $\\vec{x_t}$ and $\\vec{x_{t-1}}$. The rectangles represent the input vectors. Each circle represents a vector of hidden activations and the triangle represents the output i.e. the predicted label. The arrows illustrate layer operations, i.e. the multiplication of the previous vector with one of the weight matrices $W_{in}$, $W_h$, or $W_{out}$, denoted by different colours. To make a prediction for $\\vec{y_{t+1}}$, the first vector in the sequence $\\vec{x_{t-1}}$ gets multiplied with the input weights $W_{in}$ and the activation function is applied to produce the first hidden state $\\vec{h_{t-1}}$. Since $\\vec{x_{t-1}}$ is the first observation in the sequence, $\\vec{h_{t-1}}$ represents all available information at the time step $t-1$. To carry this information to the next hidden state $\\vec{h_t}$, $\\vec{h_{t-1}}$ gets multiplied with the hidden weight matrix $W_h$. Consecutively the new input $\\vec{x_t}$ is multiplied with the input matrix $W_{in}$. The resulting vector carries the new information extracted from $\\vec{x_t}$. This newly available information needs to be combined with the knowledge about previous observations to create $\\vec{h_t}$. This can be done by summing up the two outputs from the matrix products and the bias $b_h$ and applying the  hyperbolic tangents as activation function to the vector sum (Equation 1). This is illustrated by the intersect of the green and the orange arrow. Conceptually the weights in $W_h$ represent the importance of previous observations and the weights in $W_{in}$ represent the importance of new information for the prediction task.\n",
    "All available information at the time step $t$ is now aggregated in $\\vec{h_t}$. To make a prediction for $\\vec{y_{t+1}}$ it gets multiplied with the output weight matrix $W_{out}$ (Eqation 2). The size of $W_{out}$ and the corresponding activation function are, as usually, defined by the prediction task (regression or classification). This steps cover the forward pass in a simple RNN.\n",
    "<br>\n",
    "<br>\n",
    "$\\vec{h_t} = tanh(W_{in} * \\vec{h_{t-1}} +  \\vec{x_{t}} +\\vec{b_{h}} )$  (Eqation 1)\n",
    "<br>\n",
    "$\\vec{y_{t+1}} = ReLu(W_{out} * \\vec{h_t} + \\vec{b_{out}} )$ (Eqation 2)\n",
    "<br>\n",
    "<br>\n",
    "If we want to look back more time steps when making a prediction for $\\vec{y_{t+1}}$, we just need to add another hidden state and another input for every additional time step. Image 3 illustrates how this may look for a sequence of length three. Interestingly, even though RNNs can get quite deep along the time dimension, they have relatively few parameters. This is the case because all inputs or hidden states represent the same thing, another time step in the series or another aggregation of past observations. Thus, we only have to train three different weight matrices, one for the input, one for the hidden state and one for the output.<br>\n",
    "\n",
    "<img  src=\"pics/RNN_t3.png\" alt=\"NN\" style=\"width: 550px;\"/>\n",
    "<p style='text-align: center;'>Image 2: Recurrent neural network with a sequence length of three.</p>\n",
    "\n",
    "Drawing RNNs with more time steps becomes cumbersome. We have to keep adding inputs and hidden states. The same holds true if we would like to construct them in in python. A more elegant and flexible representation is given in Image 4. Compared to Image 3 the repetitive elements have been put into a loop. For every time step in the sequence length $T$, the new input is feed into the network and combined with the previous hidden state. The new hidden state is passed back to the start of the loop as input to the next iteration. The loop stops at the end of the sequence and the last hidden state is put through the output layer. To include the first timestep within the loop representation, an initial hidden state $\\vec{h_0}$ is defined as a vector of zeros.\n",
    "\n",
    "\n",
    "<img  src=\"pics/RNN_Loop.png\" alt=\"NN\" style=\"width: 350px;\"/>\n",
    "<p style='text-align: center;'>Image 3: Recurrent neural network with a loop and a sequence length of $T$.</p>\n"
   ]
  },
  {
   "cell_type": "markdown",
   "metadata": {},
   "source": [
    "Keras provides a predefined model layer that constructs the described RNN behind the scenes. However, to emphasise the described operations, we demonstrate how to construct it by yourself using fully connected layers and the keras functional API. In keras a layer refers to a set of layer operations, typically a matrix multiplication and the application of an activation function, that output a new vector of activations. We follow this notation below.<br>\n",
    "The functional  API allows to define a list of inputs and put them through several layers to produce a (list of) output(s). It then connects inputs and output(s) so the keras backend can be used to derive the gradients and train the model. We start implementing the RNN by initializing the `input_list`. The basic properties of a simple RNN are defined by the number of the hidden activations `H_SZ` , the sequence length `SEQ_LEN` and the number of features `FEAT_SZ` per time step. By choosing `H_SZ`, the shape of the three weight matrices is sufficiently defined: The second and first dimension of $W_{in}$ and $W_{out}$ are respectively defined by the shape of the input data and the labels. Moreover, the first dimension of $W_{in}$ must match the first dimension of $W_h$, so their outputs can be added together. $W_h$ must be squared because the result of the matrix product $W_h$ x $h_t$ gets again multiplied with $W_h$. Since $h_t$ gets also multiplied by $W_{out}$ the second dimension of $W_{out}$ must also be `H_SZ`. We set `H_SZ` to five and `SEQ_LEN` to ten after little manual tuning. In general, the parameters did not seem to have a great impact on the model performance. Since the crime data consists of one-dimensional time series `FEAT_SZ` is given as one."
   ]
  },
  {
   "cell_type": "code",
   "execution_count": 2,
   "metadata": {},
   "outputs": [
    {
     "name": "stderr",
     "output_type": "stream",
     "text": [
      "Using TensorFlow backend.\n"
     ]
    }
   ],
   "source": [
    "import keras.backend as K\n",
    "from keras import metrics\n",
    "\n",
    "from keras.layers import Input, Dense, add, Activation, SimpleRNN, TimeDistributed\n",
    "from keras.models import Model, Sequential\n",
    "\n",
    "\n",
    "# create list to keep track of inputs\n",
    "input_list = []\n",
    "\n",
    "# initialize RNN properties\n",
    "H_SZ = 5\n",
    "SEQ_LEN = 10\n",
    "FEAT_SZ = 1"
   ]
  },
  {
   "cell_type": "markdown",
   "metadata": {},
   "source": [
    "The `Dense()` layer in keras holds the weights of a fully connected layer. It is initialized by passing the output dimension to the `Dense()` class. The input dimension will be interfered from the first input. After initialization, it can be called on a tensor which will return the resulting output activations. The three layers of the network are initialized by passing the respective number of output activations `H_SZ`, `H_SZ` and `FEAT_SZ` to the `Dense()` class."
   ]
  },
  {
   "cell_type": "code",
   "execution_count": 3,
   "metadata": {},
   "outputs": [],
   "source": [
    "# initilize fully connected layers and the activation function of the hidden state\n",
    "first_layer = Dense(H_SZ, name = 'first_layer')\n",
    "hidden_layer = Dense(H_SZ , name = 'hidden_layer')\n",
    "tanh = Activation('tanh')\n",
    "output_layer = Dense(FEAT_SZ, activation='relu', name = 'output_layer')"
   ]
  },
  {
   "cell_type": "markdown",
   "metadata": {},
   "source": [
    "We  loop through the sequence length and create for every time step a new input `x` and append it to the input list. The input activations `act_in` are calculated for every time step by putting the input variable `x` through the first layer. We additionally initialize `h0` as a vector of zeros with the same (variable) shape as the input activations at the first time step. The new hidden state `ht` gets updated implementing Equation 1. After the loop the final hidden state is put through the output layer to make a prediction. Finally the functional API `Model()` connects input and output variables to create `myRNN`. Since keras typically works with tensors a function that splits a three-dimensional tensor along the second dimension, which corresponds to time dimension in keras, is defined."
   ]
  },
  {
   "cell_type": "code",
   "execution_count": 4,
   "metadata": {
    "colab": {
     "base_uri": "https://localhost:8080/",
     "height": 799
    },
    "colab_type": "code",
    "executionInfo": {
     "elapsed": 567,
     "status": "ok",
     "timestamp": 1549013725328,
     "user": {
      "displayName": "Marc Scheu",
      "photoUrl": "",
      "userId": "04250369743767764432"
     },
     "user_tz": -60
    },
    "id": "rrej41PP2IyI",
    "outputId": "7d3eea3a-6d1c-43ed-8e5e-2bea1b7ac509",
    "scrolled": true
   },
   "outputs": [],
   "source": [
    "for i in range(SEQ_LEN):\n",
    "  \n",
    "  # get input vector and append it to input list\n",
    "  x = Input(shape = (FEAT_SZ,))\n",
    "  input_list.append(x)\n",
    "  \n",
    "  # calculate input actiavtions\n",
    "  act_in = first_layer(x)\n",
    "  \n",
    "  if(i == 0):\n",
    "  # initialize h0 with zeros and append it to input list\n",
    "    h0 = K.zeros_like(act_in)\n",
    "    input_list.append(h0)  \n",
    "    ht = Input(tensor = h0, name = 'h0')\n",
    "  \n",
    "  # calculate hidden activations\n",
    "  ht = tanh(add([hidden_layer(ht), act_in])) \n",
    "  \n",
    "# calculate output\n",
    "out = output_layer(ht)\n",
    "\n",
    "myRNN = Model(inputs=input_list, outputs=out)"
   ]
  },
  {
   "cell_type": "code",
   "execution_count": 5,
   "metadata": {
    "colab": {},
    "colab_type": "code",
    "id": "a_FPjJwKfAiK",
    "scrolled": true
   },
   "outputs": [],
   "source": [
    "def get_input(X):\n",
    "  # slice 3-dim tensor along 2nd axis into list of inputs\n",
    "  return([X[:,i,:] for i in range(X.shape[1])])"
   ]
  },
  {
   "cell_type": "markdown",
   "metadata": {
    "colab_type": "text",
    "id": "1NalVgUG_tCe"
   },
   "source": [
    "### Formatting sequential data\n",
    "\n",
    "We load the reported crimes, counte by district and day and change the long-format in wide-format to get a matrix of 24 districts by 6513 timsteps.\n",
    "By training one model on the time series from all districts, we assume each series to be a different realization of the same underlying sequential pattern. An obvious alternative would be to train a separate model for each district. \n",
    "Before further formatting we split the data into a train and a validation set. The validation set should resemble the data, the model would see in production. We therefore use the data from 2015 - 2017 as validation set. We will later use the most resent crime counts from 2017 as test set.\n",
    "One can not simply train a neural network on 24 long time series.\n",
    "It is common practice to split long time series into sub-sequences, treating them as independent samples. The simplest way to do this is, to slide a window of length `SEQ_LEN` through each series and treat each subseries contained in the window as one sample. The direct successor after the window defines the respective label for the sub-series (Image 4). \n",
    "Note that we will use the terms sample sequence and sub-sequence to a certain degree interchangable. Sample is used refering to the sequential counts in a row of the data matrix used for model training. Sub-sequence also refers to such a row, but it shall emphasis the row beeing a sub-sequence of a longer time series over the whole observation period.\n",
    "<img align=\"center\" src=\"pics/Format1.png\" alt=\"NN\" style=\"width: 500px;\"/>\n",
    "<p style='text-align: center;'>Image 4: Formatting data input for recurrent neural networks.</p>\n"
   ]
  },
  {
   "cell_type": "code",
   "execution_count": 6,
   "metadata": {},
   "outputs": [],
   "source": [
    "full_seqs = data.pivot(index='District', columns='Date', values='Incidents')"
   ]
  },
  {
   "cell_type": "code",
   "execution_count": 7,
   "metadata": {},
   "outputs": [],
   "source": [
    "dates = pd.to_datetime(full_seqs.columns)\n",
    "\n",
    "lower = pd.to_datetime(\"2015-01-01\")\n",
    "upper = pd.to_datetime(\"2017-01-01\")\n",
    "end = pd.to_datetime(\"2018-01-01\")"
   ]
  },
  {
   "cell_type": "code",
   "execution_count": 8,
   "metadata": {},
   "outputs": [
    {
     "data": {
      "text/plain": [
       "((24, 5113), (24, 731))"
      ]
     },
     "execution_count": 8,
     "metadata": {},
     "output_type": "execute_result"
    }
   ],
   "source": [
    "tr_idx = full_seqs.columns[dates < lower]\n",
    "val_idx = full_seqs.columns[(dates >=lower) == (dates < upper)]\n",
    "\n",
    "full_seqs_tr = full_seqs[tr_idx].values\n",
    "full_seqs_val = full_seqs[val_idx].values\n",
    "\n",
    "full_seqs_tr.shape, full_seqs_val.shape"
   ]
  },
  {
   "cell_type": "markdown",
   "metadata": {},
   "source": [
    "We implement the sliding window by looping through the 24 full sequences and use array slicing withn a list comprehension to create the sub-sequences. The resulting sub-sequences are stacked vertically. Recurrent layers in keras and `MyRNN` above expect an input tensor of the dimensions `[batch_size, timesteps, input_dim]`. Since we work with one dimensional series, we have ignored the third dimension so far. In order to match the required input shape a thrid dimension of size one is added to the array."
   ]
  },
  {
   "cell_type": "code",
   "execution_count": 9,
   "metadata": {},
   "outputs": [],
   "source": [
    "def cut_sequences(long_seqs, SEQ_LEN):\n",
    "  # input matrix of long sequences [sequences, timesteps]\n",
    "  # returns matrix of subsequences X [subsequences, SEQ_LEN, 1], and labels y[subsequences,1]\n",
    "  X = []\n",
    "  y = []\n",
    "\n",
    "  for long_seq in long_seqs:\n",
    "    n = long_seq.shape[0]\n",
    "    # slide window of SEQ_LEN over full sequence\n",
    "    seq_stacked = np.stack([long_seq[i:i+SEQ_LEN] for i in range(n-SEQ_LEN)])\n",
    "    labels = np.array([long_seq[i] for i in np.arange(SEQ_LEN, n)]).reshape(-1,1)\n",
    "    X.append(seq_stacked)\n",
    "    y.append(labels)\n",
    "\n",
    "  X =  np.vstack(X)\n",
    "  #add axis for number of features per time step = 1  \n",
    "  X = X[:,:,np.newaxis]\n",
    "  y =  np.vstack(y)\n",
    "  \n",
    "  return(X,y)"
   ]
  },
  {
   "cell_type": "code",
   "execution_count": 10,
   "metadata": {
    "colab": {},
    "colab_type": "code",
    "id": "LQaphkyk39Du",
    "scrolled": true
   },
   "outputs": [
    {
     "data": {
      "text/plain": [
       "((122472, 10, 1), (122472, 1), (17304, 10, 1), (17304, 1))"
      ]
     },
     "execution_count": 10,
     "metadata": {},
     "output_type": "execute_result"
    }
   ],
   "source": [
    "import numpy as np\n",
    "\n",
    "# cut sequences in sub sequences of length SEQ_LEN\n",
    "X_tr, y_tr = cut_sequences(full_seqs_tr, SEQ_LEN)\n",
    "X_val, y_val = cut_sequences(full_seqs_val, SEQ_LEN)\n",
    "\n",
    "X_tr.shape, y_tr.shape, X_val.shape, y_val.shape"
   ]
  },
  {
   "cell_type": "markdown",
   "metadata": {
    "colab_type": "text",
    "id": "X80CGhAGkULk"
   },
   "source": [
    "### Evaluation metric and benchmark\n",
    "Before training a model one should consider how the prediction error may be evaluated w.r.t. the application objective. We use the mean squared error (MSE) as loss function, which is common for regression tasks. \n",
    "For user of the model, MSE is hard to interpret in the context of the model application. The mean absolute error (MAE) seems more interpretable: In combination with average crime counts it provides some intuition about the uncertainty included in model predictions. To get a basic feeling for model performance while building the model we establish as naive benchmark: We calculate the MAE using the last observed crime count as prediction for the succeeding crime count. This results in a MAE of 6.65.  Given the mean of 46 crimes per day and district this does not seem to bad for  a simple heuristic."
   ]
  },
  {
   "cell_type": "code",
   "execution_count": 11,
   "metadata": {
    "colab": {},
    "colab_type": "code",
    "id": "nJrYaadcgSNB",
    "scrolled": true
   },
   "outputs": [
    {
     "name": "stdout",
     "output_type": "stream",
     "text": [
      "Average daily crime count by district: 46\n",
      "MAE predict last value: 6.652\n"
     ]
    }
   ],
   "source": [
    "# naive benchmark: predict last observed count\n",
    "AVG = y_tr.mean().round(3)\n",
    "y_true = full_seqs_val[:,1:]\n",
    "preds = full_seqs_val[:,:-1]\n",
    "\n",
    "MAE_last_val = np.abs(preds - y_true ).mean().round(3)\n",
    "\n",
    "print(\"Average daily crime count by district: \" + str(int(AVG)))\n",
    "print(\"MAE predict last value: \" + str(MAE_last_val))"
   ]
  },
  {
   "cell_type": "markdown",
   "metadata": {},
   "source": [
    "### Training\n",
    "Like other neural networks, RNNs are trained trough back propagation. To derive the gradient for an RNN one must calculate the impact on the loss considering all inputs back to the first time step. This is called backpropagation through time (bptt). We look in more detail into the derivation when introducing the vanishing gradient problem and deriving the gradient for RNNs with Long-Short-Term Memory. Here we use the keras `.compile` method to pass the loss function, the optimizer and MAE as evaluation metric to `myRNN`.  <br>\n",
    "We then train `myRNN`on the described input format. Subsequently we demonstrate a different data format using input and output sequences. We train two new models, one with and one without the `stateful` property. Subsequently we compare their training time and behaviour. Therfore we fit each model for 50 epochs, they converge relativ quickly, and save the results to a `Histroy` object. We focus on the concepts behind the models and their implementation. To keep things simple we use the same hyperparameter set for every model and briefly evaluate the MAE on the validation set over different epochs. We will look into more detail into hyperparameter tuning after introducing more complex RNNs with LSTM and GRU."
   ]
  },
  {
   "cell_type": "code",
   "execution_count": 12,
   "metadata": {},
   "outputs": [],
   "source": [
    "B_SZ = 30\n",
    "EP =  50\n",
    "\n",
    "myRNN.compile(loss='mean_squared_error', optimizer='adam', metrics = ['mae'])\n",
    "myRNN_hist = myRNN.fit(get_input(X_tr), y_tr, batch_size = B_SZ, epochs = EP , validation_data = (get_input(X_val), y_val), verbose = 0)"
   ]
  },
  {
   "cell_type": "markdown",
   "metadata": {
    "colab_type": "text",
    "id": "0mBIylkIPNJm"
   },
   "source": [
    "### Alternative formatting with prediction sequence\n",
    "\n",
    "The way we created sample sequences so far, seems quite inefficient in terms of data usage: By sliding a window one step at time through the sequences we create mostly redundant sample sequences. A more efficient way of presenting data to the model is illustrated in Image 6. Instead of changing one value in each sample sequence, they are now defined by disjunct sub-sequences of lenght `SEQ_LEN`. Instead of predicting one label after observing a complete sub-sequence, we assigne a corresponding label sequences of the same length to each sample sequence. Each label sequence starts one time step ahead of the sample sequence.\n",
    "The remaining values, i.e. the remainder of the full sequence length divided by `SEQ_LEN`, are dropped. This reduced the size of the data set by a factor of `SEQ_LEN`, without losing any information compared to the previous formatting.\n",
    "<img align=\"center\" src=\"pics/Format2.png\" alt=\"NN\" style=\"width: 500px;\"/>\n",
    "<p style='text-align: center;'> Image 5: Input format with prediction sequence.</p>"
   ]
  },
  {
   "cell_type": "code",
   "execution_count": 13,
   "metadata": {
    "colab": {},
    "colab_type": "code",
    "id": "r7bZsiAXfMv-",
    "scrolled": true
   },
   "outputs": [],
   "source": [
    "def cut_sequence_return_state(long_seqs, SEQ_LEN, cut_seq_start = True):\n",
    "  long_seqs_X = long_seqs[:,:-1]\n",
    "  long_seqs_y = long_seqs[:,1:]\n",
    "  if(cut_seq_start):\n",
    "    start = long_seqs_X.shape[1] % SEQ_LEN\n",
    "    X = [long_seqs_X[:,i:i+SEQ_LEN] for i in np.arange(start,long_seqs_X.shape[1],SEQ_LEN)]\n",
    "    y = [long_seqs_y[:,i:i+SEQ_LEN] for i in np.arange(start,long_seqs_y.shape[1],SEQ_LEN)]\n",
    "  else:\n",
    "    start = 0\n",
    "    X = [long_seqs_X[:,i:i+SEQ_LEN] for i in np.arange(start,long_seqs_X.shape[1],SEQ_LEN)]\n",
    "    y = [long_seqs_y[:,i:i+SEQ_LEN] for i in np.arange(start,long_seqs_y.shape[1],SEQ_LEN)]\n",
    "    if X[-1].shape[1] != SEQ_LEN:\n",
    "      X.pop()\n",
    "      y.pop()\n",
    "    \n",
    "  X = np.vstack(X)[:,:,np.newaxis]\n",
    "  y = np.vstack(y)[:,:,np.newaxis]\n",
    "  return X, y\n",
    "\n",
    "X_tr, y_tr = cut_sequence_return_state(full_seqs_tr, SEQ_LEN)\n",
    "X_val, y_val = cut_sequence_return_state(full_seqs_val, SEQ_LEN, cut_seq_start = False)"
   ]
  },
  {
   "cell_type": "markdown",
   "metadata": {},
   "source": [
    "We now replace `myRNN` by the keras `SimpleRNN()` layer in combination with a `Dense()` output layer. While this implements the same behaviour as `myRNN` it allows for additional functionality. By setting the `return_sequence` parameter to true it passes all hidden states, not only the last one, to the following layer. In the `myRRN` code above, this could have been implemented, by appending all hidden states to a list instead of updating the variable `ht`. The hidden states within the list are then passed through the output layer. The outputlayer returns for every time step in this hidden state sequence a prediction for the following time step in the label sequence. To implement this above, the output layer may be included in de loop (Image 3). The predictions then need to be save in a new output list. In keras this can be done more conviniently, by wrapping the output layer in the `TimeDistributed()` Wrapper. Image 9 shows the unrolled illustration of an RNN predicting sequences.\n",
    "<img align=\"center\" src=\"pics/RNN_Ret_Seq.png\" alt=\"NN\" style=\"width: 500px;\"/>\n",
    "<p style='text-align: center;'> Image 6: Recurrent neural network with return sequence</p>\n"
   ]
  },
  {
   "cell_type": "code",
   "execution_count": 14,
   "metadata": {},
   "outputs": [],
   "source": [
    "# simple RNN with return sequence\n",
    "model = Sequential()\n",
    "model.add(SimpleRNN(H_SZ, input_shape=(SEQ_LEN,FEAT_SZ), return_sequences=True) )\n",
    "model.add(TimeDistributed(Dense(FEAT_SZ)))\n",
    "model.compile(loss='mean_squared_error', optimizer='adam', metrics = ['mae'])\n",
    "seqRNN_hist = model.fit(X_tr, y_tr, batch_size = B_SZ,  epochs = EP, validation_data = (X_val, y_val), verbose = 0)"
   ]
  },
  {
   "cell_type": "markdown",
   "metadata": {},
   "source": [
    "### Stateful recurrent neural networks\n",
    "When comparing Image 6 and Image 2 you may notice a disadvatage of the return sequence formatting: In both cases, when making a prediction for $y_{t+1}$ the network has seen the inputs $x_{t-2}$, $x_{t-1}$ and $x_{t}$. When using a return sequences to make a prediction for $y_{t-1}$ in Image 6 the only network input is $x_{t-2}$. The hidden state has been initialized with zeros. Therefore we might suspect the error for the predictions on the beginning of the sequence to be higher than at the end. This problem occurs because we need to cut the full sequences into sub-sequences treated as independet samples. One way to avoid that is by saving the last hidden state of one sub-sequence and use it as inizialization of $h_{t}$ when passing the following subsequence (from the initial full sequence) through the network. In keras this can be done by setting the `stateful` parameter of the RNN to true. To memorize which subsequences belongt to the same district the batch size is used. It needs to be set equal to the number of independen full series, e.g here the number of districts. Note that the return sequence formatting is ordered by time and district: The first sub-sequence of the first district is in the first row and the first sub-sequence of the second district in the second row. The 25th row contains the second sub-sequence of the first district and so on. The samples within on batch get passed through the network in paralell. Thus the last hidden state of one row index in a batch is used to initialize the initial hidden state of the same row index in the next batch. When calling the `.fit` method keras shuffles the rows in the training data by defaul at the beginning of every training epoch. To make use of the stateful property the `shuffle` is set to false. Moreover the hidden states needs to be reset after every epoch. Otherwise the hidden state of the last time step of the full sequence would be passed on to the first time step at the next epoch. To do this we train the network in a for loop one epoch at a time and reset the state. "
   ]
  },
  {
   "cell_type": "code",
   "execution_count": 15,
   "metadata": {
    "colab": {},
    "colab_type": "code",
    "id": "PNEw5TKBiQj1",
    "scrolled": true
   },
   "outputs": [],
   "source": [
    "# stateful RNN\n",
    "B_SZ = 24\n",
    "\n",
    "model = Sequential()\n",
    "model.add(SimpleRNN(H_SZ, batch_input_shape=(B_SZ, SEQ_LEN, FEAT_SZ), return_sequences=True, stateful=True))\n",
    "model.add(TimeDistributed(Dense(FEAT_SZ)))\n",
    "model.compile(loss='mean_squared_error', optimizer='adam', metrics = ['mae'])"
   ]
  },
  {
   "cell_type": "code",
   "execution_count": 16,
   "metadata": {},
   "outputs": [],
   "source": [
    "stateful_val_mae = []\n",
    "stateful_loss = []\n",
    "stateful_val_loss = []\n",
    "\n",
    "for i in range(EP):\n",
    "    stateRNN_hist = model.fit(X_tr, y_tr, batch_size = B_SZ, epochs = 1, validation_data = (X_val, y_val), verbose = 0, shuffle=False)\n",
    "    model.reset_states()\n",
    "    stateful_val_mae.append(stateRNN_hist.history['val_mean_absolute_error'])\n",
    "    stateful_loss.append(stateRNN_hist.history['loss'])\n",
    "    stateful_val_loss.append(stateRNN_hist.history['val_loss'])"
   ]
  },
  {
   "cell_type": "markdown",
   "metadata": {},
   "source": [
    "### Comparing training behaviour"
   ]
  },
  {
   "cell_type": "markdown",
   "metadata": {},
   "source": [
    "When training a stateful RNN it is important to understand that the value of the last state is simply copied to the initial hidden state of the next subsequence. This may improve the prediction error, but when deriving the gradient, they are treated as constant. The inputs considered when updating the weights are still restricted to the sub-sequence length. Therefore, [some practitioners](https://fairyonice.github.io/Stateful-LSTM-model-training-in-Keras.html) argue that \"unstateful” RNNs achieve in many application better results. Reasons for this include the loss of randomness by stopping to shuffle the data between epochs and the fixed batch size, which is a parameter to which RNNs might be sensitive.\n",
    "[Brownlee](https://machinelearningmastery.com/understanding-stateful-lstm-recurrent-neural-networks-python-keras/) gives as a rule of thumb to use stateful RNNs when the output mainly depends on the occurence of a certain input. This may be the case in many natural language tasks. If the outputs represent a complex function of the previous time steps, increasing the subsequence length may be necessary instead. We will evaluate the behaviour of the MAE for the three models on the validation set over the training epochs. <br>\n"
   ]
  },
  {
   "cell_type": "code",
   "execution_count": 19,
   "metadata": {},
   "outputs": [
    {
     "data": {
      "image/png": "[encoded data removed]",
      "text/plain": [
       "<Figure size 576x432 with 1 Axes>"
      ]
     },
     "metadata": {},
     "output_type": "display_data"
    }
   ],
   "source": [
    "import matplotlib.pyplot as plt\n",
    "\n",
    "plt.plot(np.repeat(MAE_last_val,50))\n",
    "plt.plot(myRNN_hist.history['val_mean_absolute_error'])\n",
    "plt.plot(seqRNN_hist.history['val_mean_absolute_error'])\n",
    "plt.plot(stateful_val_mae)\n",
    "\n",
    "plt.title('Mean absolut error on validation set')\n",
    "plt.ylabel('MAE')\n",
    "plt.xlabel('epoch')\n",
    "axes = plt.gca()\n",
    "axes.set_ylim([4,20])\n",
    "plt.rcParams[\"figure.figsize\"] = (8, 6) # (w, h)\n",
    "\n",
    "plt.legend(['predict last count', 'myRNN', 'returnSeq', 'statefulRNN'], loc='upper right')\n",
    "plt.plot()\n",
    "plt.show()"
   ]
  },
  {
   "cell_type": "markdown",
   "metadata": {},
   "source": [
    "The first thing to notice is, that `myRRN` converges clearly faster than the two other models. It reaches already after the first epoch an MAE around six. This makes sense because the size of the training set was ten times bigger. However the `seqRNN` has not converged after ten epochs. So basically we make up for the reduced redundancy in the new data format by training for more epochs. \n",
    "All models perform better than the naive benchmark of 6.65. However, the improvment seems moderate given the additional model complexity. `seqRNN` and `statefulRNN` seem to converge against a value above five, while `seqRNN` only reaches a value close to six. The higher value of `statefulRNN` was expected due to the missing information at the start of the sample sequences. The stateful property could reduce the MAE back to the level of `myRNN` but it does not clearly improve it. Due to this result and the additional restrictions when building a stateful model we continue to work with the \"stateless\" variant and the first data format.<br>\n",
    "So far we have been using a relativ small `SEQ_LEN` of ten. A simpler way of providing more information on past observations than the stateful option would be to increase the sample sequence length. We have not considered that so far because simple RNNs are hard to train on long sequences. The reason for this is the vanishing gradient problem."
   ]
  },
  {
   "cell_type": "markdown",
   "metadata": {},
   "source": [
    "### The Vanishing Gradient Problem\n",
    "\n",
    "Even though RNNs cover the memory problem of simple neural networks, in practice we still face issues. The introduced Simple RNNs do have problems with long-term dependencies which they seem to forget.\n",
    "\n",
    "Let us have a look at the following sentence as a sequence.\n",
    "\n",
    "##### “In France, I had a great time and I learnt some of the ...? [language]\" \n",
    "\n",
    "In this case, we would need the word \"France\" to remember to later on predict the word \"French\" at the end of the sentence. RNNs will have problems to still refer to the word \"France\" although they consider the previous timesteps in the current one. This problem refers to the so called vanishing (or exploding) gradient problem which is captured in the formulas below. In practice this means that crucial information of very far back timesteps do not have an influence on the current or future timesteps anymore or that irrelevant information gets too much influence.\n",
    " \n",
    "<img src=\"pics/vanishing_gradient.png\" alt=\"vanishing_gradient\" style=\"width: 600px;\"/>\n",
    "<br>\n",
    "\n",
    "[(Olah, 2015)](http://colah.github.io/posts/2015-08-Understanding-LSTMs)\n",
    "\n",
    "\n",
    "During backpropagation through time the gradient of the loss function can be represented as follows.\n",
    "\n",
    "$$\\frac{\\partial J_t}{\\partial W_{in}} =\\frac{\\partial J_t}{\\partial y_{t}}\\frac{\\partial y_t}{\\partial h_{t}}\\frac{\\partial h_t}{\\partial h_{t-1}}\n",
    "\\frac{\\partial h_{t-1}}{\\partial h_{t-2}}\\space\\space ...\\frac{\\partial h_{0}}{\\partial W_{in}}$$\n",
    "\n",
    "It can be shown that as the gap between the timesteps gets bigger the product of the gradients of the hidden states w.r.t. the previous states\n",
    "$$\\frac{\\partial h_t}{\\partial h_{t-1}}\\frac{\\partial h_{t-1}}{\\partial h_{t-2}}\\frac{\\partial h_{t-2}}{\\partial h_{t-3}}\\space\\space...$$\n",
    "<br>\n",
    "gets longer and longer and a lot of very small numbers are multiplied. This can also be seen in the following equation. Since the weights $W_in$ are sampled from a standard normal distribution this term will mostly be smaller than one. Similarly, the absolute value of the tanh will also be between zero and one. [(Suresh, 2017)](http://introtodeeplearning.com/2017/Sequence%20Modeling.pdf)\n",
    "\n",
    "\n",
    "$$\\frac{\\partial h_t}{\\partial h_{t-1}}\n",
    "= W_{in}^T diag[tanh^{ `}(W_{in}+W_h x_j)]$$\n",
    "\n"
   ]
  },
  {
   "cell_type": "markdown",
   "metadata": {},
   "source": [
    "### Literature Review\n",
    "\n",
    "As suggested by [(Fischer et. al, 2017)]( https://www.econstor.eu/bitstream/10419/157808/1/886576210.pdf) one can make good use of an LSTM network for financial market prediction since it is a state-of-the art technique for sequence learning. Even though this is not the same domain as our crime use case, the authors of the paper still demonstrate that LSTM networks can extract relevant information from the underlying noisy data. The LSTM network was primarily introduced by [(Hochreiter and Schmidhuber, 1997)](https://www.bioinf.jku.at/publications/older/2604.pdf) to overcome the vanishing gradient problem and to learn long-term dependencies since the simple RNN is not capable of doing that. We know that predicting crime rates is not the typical use case for introducing LSTM and GRU networks. Nevertheless, our crime data is also sequential since we are looking at a certain period of time to predict the future crime incidences and in addition, we expect to need the capability of learning long-term dependencies. Furthermore, there have already been some successful approaches forecasting crime with LSTM networks [(Stec et. al, 2018)](https://arxiv.org/pdf/1806.01486.pdf). The Gated Recurrent Unit network, which is also a Recurrent Neural Network, is also getting more and more popular for the task of prediction when having sequential data. It was only introduced a few years ago [(Cho et. al, 2014)](https://arxiv.org/pdf/1406.1078.pdf ) and it has been shown that the GRU performs similar or even better, depending on the data and the setup. For instance, traffic flow has been predicted by an LSTM and a GRU network whereby the GRU performed slightly better than the LSTM model [(Fu et. al,  2016)](https://www.researchgate.net/profile/Li_Li240/publication/312402649_Using_LSTM_and_GRU_neural_network_methods_for_traffic_flow_prediction/links/5c20d38d299bf12be3971696/Using-LSTM-and-GRU-neural-network-methods-for-traffic-flow-prediction.pdf). That is why usually both models are built to see which one performs better in the given use case\n",
    "[(Nguyen, 2018)](https://towardsdatascience.com/illustrated-guide-to-lstms-and-gru-s-a-step-by-step-explanation-44e9eb85bf21)."
   ]
  },
  {
   "cell_type": "markdown",
   "metadata": {},
   "source": [
    "### Advanced RNNs: LSTMs and GRUs\n",
    "\n",
    "<img src=\"pics/overview_RNN_LSTM_GRU.png\" alt=\"LSTM\" style=\"width: 800px;\"/>\n",
    "\n",
    "[(Tch, 2017)](https://towardsdatascience.com/the-mostly-complete-chart-of-neural-networks-explained-3fb6f2367464)"
   ]
  },
  {
   "cell_type": "markdown",
   "metadata": {},
   "source": [
    "As already suggested, there are more advanced solutions than the simple RNN for the prediction of the next step in a sequence. To overcome the problem of the vanishing (and exploding) gradient, i.e. having crucial information in a very far back timestep that might vanish or irrelevant information might happen to have too much influence on the current time step, we suggest to use LSTM (Long Short-Term Memory) and the GRU (Gated Recurrent Unit) networks. In the following, we will tackle these popular approaches. Instead of the RNN cells the LSTM and GRU have more complex cells in the hidden states. The idea is to control the information flow and regulate what is passed through and what not and decide what the relevant information is from the current as well as the previous timestep. This is done by the different gates in the gated cells. "
   ]
  },
  {
   "cell_type": "markdown",
   "metadata": {},
   "source": [
    "### LSTM Networks - Long Short-Term Memory Networks\n",
    "\n",
    "<img src=\"pics/LSTM.png\" alt=\"LSTM\" style=\"width: 800px;\"/>\n",
    "\n",
    "The LSTM is a special type of RNN which can learn long-term dependencies. Instead of having only one tanh layer as in the RNN, more layers as can be seen as the yellow rectangles. The LSTM has 3 gates which are represented as the sigmoid layers. The output of sigmoid function is alsways something in between zero and one, i.e. to decide if information is let through or not. We will refer to Christopher Olah's graphics and explanations in this part [(Olah, 2015)](http://colah.github.io/posts/2015-08-Understanding-LSTMs). Let us walk you through the complex LSTM cell step by step."
   ]
  },
  {
   "cell_type": "markdown",
   "metadata": {},
   "source": [
    "<img src=\"pics/lstm_core_idea.png\" alt=\"LSTM\" style=\"width: 400px;\"/>\n",
    "\n",
    "There is always a horizontal line running through all cells between the previous cell state $C_t-1$ and the current cell state $C_t$ and in between there happen a few interactions. A very important fact about the LSTM cell is that there is the cell state on the one hand which is often referred to as a memory. On the other hand, there is also a hidden state which is often referred to as the output. One can maybe think of the hidden state $h_t$ as a filtered version of the cell state, whereas the cell state has the ability to hold on to information that is not necessary for the current output. For instance, when we want to output the next word, we might not need all the information of this word to output but maybe we want to save the information of this word, such as if it is singular or plural or a noun or a verb, to predict words in a future timestep. \n",
    "Therefore, the cell state can hold on to information that might be useful in upcoming timesteps. \n",
    "\n",
    "The key things for now are that we have three gates in the LSTM cell and that the hidden state is separate from the cell state. Furthermore, by the gates information can be removed or added from the cell state."
   ]
  },
  {
   "cell_type": "code",
   "execution_count": 3,
   "metadata": {},
   "outputs": [],
   "source": [
    "# Initialize sample data and weights\n",
    "\n",
    "import numpy as np\n",
    "\n",
    "x = np.array([0.2, 0.3, 0.4])\n",
    "y = 7.0\n",
    "\n",
    "Wi = np.array([[3.1], [0.1]])\n",
    "Ui = np.array([[1.5,2.6], [2.1,0.2]])\n",
    "\n",
    "Wf = np.array([[2.3], [0.2]])\n",
    "Uf = np.array([[3.6,4.1], [1.0,0.9]])\n",
    "\n",
    "Wo = np.array([[0.1], [3.1]])\n",
    "Uo = np.array([[0.1,0.9], [0.7,4.3]])\n",
    "\n",
    "Wc = np.array([[0.2], [0.4]])\n",
    "Uc = np.array([[1.8,3.6], [4.7,2.9]])\n",
    "\n",
    "w = np.array([2.0,4.0])\n",
    "\n",
    "h0 = np.array([0.0,0.0])"
   ]
  },
  {
   "cell_type": "markdown",
   "metadata": {},
   "source": [
    "### The Forget Gate\n",
    "\n",
    "<img src=\"pics/lstm_forget.png\" alt=\"LSTM\" style=\"width: 700px;\"/>"
   ]
  },
  {
   "cell_type": "markdown",
   "metadata": {},
   "source": [
    "First, there is a forget gate which decides what information to forget or even to leave everything through as it is.\n",
    "As input the output of the previous cell $h_t-1$ and input of the current timestep are fed into the cell. The output will be something in between zero and one, i.e. one means that everything is kept from the previous timestep whereas zero means that everything from the previous timestep will be forgotten."
   ]
  },
  {
   "cell_type": "code",
   "execution_count": 4,
   "metadata": {},
   "outputs": [
    {
     "data": {
      "text/plain": [
       "array([0.61301418, 0.50999867])"
      ]
     },
     "execution_count": 4,
     "metadata": {},
     "output_type": "execute_result"
    }
   ],
   "source": [
    "inner_f1 = np.dot(Wf,x[[0]])+ np.dot(Uf,h0)\n",
    "\n",
    "f1 = 1/(1+np.exp(-inner_f1))\n",
    "f1"
   ]
  },
  {
   "cell_type": "markdown",
   "metadata": {},
   "source": [
    "### The Input Gate\n",
    "\n",
    "<img src=\"pics/lstm_input.png\" alt=\"LSTM\" style=\"width: 700px;\"/>\n",
    "\n",
    "\n",
    "In the next step, it will be decided selectively what information to update in the cell state. This is done in two steps. First, it is determined which values to update and second, the vector with the values of the new candidates for the cell state is calculated."
   ]
  },
  {
   "cell_type": "code",
   "execution_count": 5,
   "metadata": {},
   "outputs": [
    {
     "data": {
      "text/plain": [
       "array([0.65021855, 0.50499983])"
      ]
     },
     "execution_count": 5,
     "metadata": {},
     "output_type": "execute_result"
    }
   ],
   "source": [
    "inner_i1 = np.dot(Wi,x[[0]]) + np.dot(Ui,h0)\n",
    "\n",
    "i1 = 1/(1+np.exp(-inner_i1))\n",
    "i1"
   ]
  },
  {
   "cell_type": "code",
   "execution_count": 6,
   "metadata": {},
   "outputs": [
    {
     "data": {
      "text/plain": [
       "array([0.03997868, 0.07982977])"
      ]
     },
     "execution_count": 6,
     "metadata": {},
     "output_type": "execute_result"
    }
   ],
   "source": [
    "inner_c1_tilde = np.dot(Wc, x[[0]]) + np.dot(Uc, h0)\n",
    "\n",
    "c1_tilde = np.tanh(inner_c1_tilde)\n",
    "c1_tilde"
   ]
  },
  {
   "cell_type": "markdown",
   "metadata": {},
   "source": [
    "### The Update of the Cell State\n",
    "\n",
    "<img src=\"pics/lstm_new_cell_state.png\" alt=\"LSTM\" style=\"width: 600px;\"/>\n",
    "\n",
    "Now, the new cell state can be computed as follows. The cell state of the previous timestep is multipliead by the values we want to forget, i.e. this first term of the equation gives us the part, that we want to remember from the previous timestep. Then, one adds the proportion determined by the input gate (of what we want to update) of the values of the new candidates. Basically, this is about how much is kept from the previous cell state and how much we take from the candidates for the new cell state to actually calculate the cell state of timestep t. "
   ]
  },
  {
   "cell_type": "code",
   "execution_count": 7,
   "metadata": {},
   "outputs": [
    {
     "data": {
      "text/plain": [
       "array([0.02599488, 0.04031402])"
      ]
     },
     "execution_count": 7,
     "metadata": {},
     "output_type": "execute_result"
    }
   ],
   "source": [
    "c0 = np.array([0.0,0.0])\n",
    "\n",
    "c1 = f1 * c0 + i1 * c1_tilde\n",
    "c1"
   ]
  },
  {
   "cell_type": "markdown",
   "metadata": {},
   "source": [
    "### The Output Gate\n",
    "\n",
    "<img src=\"pics/lstm_output.png\" alt=\"LSTM\" style=\"width: 600px;\"/>\n",
    "\n",
    "So what is the ouput of the cell? Basically, it is a filtered version of the cell state. The sigmoid layer (the output gate) filters what parts of the cell state will be included in the output $h_t$. The cell state is put through a tanh layer and ultimately multiplied by the values of the output gate. Thus, the output is a filtered version of the cell state."
   ]
  },
  {
   "cell_type": "code",
   "execution_count": 8,
   "metadata": {},
   "outputs": [
    {
     "data": {
      "text/plain": [
       "array([0.50499983, 0.65021855])"
      ]
     },
     "execution_count": 8,
     "metadata": {},
     "output_type": "execute_result"
    }
   ],
   "source": [
    "# outpute gate\n",
    "inner_o1 = np.dot(Wo, x[[0]]) + np.dot(Uo, h0)\n",
    "\n",
    "o1 = 1/(1+np.exp(-inner_o1))\n",
    "o1"
   ]
  },
  {
   "cell_type": "code",
   "execution_count": 9,
   "metadata": {},
   "outputs": [
    {
     "data": {
      "text/plain": [
       "array([0.01312445, 0.02619873])"
      ]
     },
     "execution_count": 9,
     "metadata": {},
     "output_type": "execute_result"
    }
   ],
   "source": [
    "h1 = o1 * np.tanh(c1)\n",
    "h1"
   ]
  },
  {
   "cell_type": "markdown",
   "metadata": {},
   "source": [
    "Now, that we know how to calculate all the values of one time step in an LSTM cell, we can just plug in the new updated values of the input $x_t$, the hidden state $h_{t-1}$ and the cell state $c_t$ for the second and third time step into the same equations. Usually, one would implement this in a loop, but for the purpose of demonstration we show you the steps in detail."
   ]
  },
  {
   "cell_type": "markdown",
   "metadata": {},
   "source": [
    "### Second time step"
   ]
  },
  {
   "cell_type": "code",
   "execution_count": 10,
   "metadata": {},
   "outputs": [
    {
     "data": {
      "text/plain": [
       "array([0.07524102, 0.11116973])"
      ]
     },
     "execution_count": 10,
     "metadata": {},
     "output_type": "execute_result"
    }
   ],
   "source": [
    "# forget gate \n",
    "inner_f2 = Wf.dot(x[[1]])+ Uf.dot(h1)\n",
    "f2 = 1/(1+np.exp(-inner_f2))\n",
    "\n",
    "# input gate\n",
    "inner_i2 = Wi.dot(x[[1]]) + Ui.dot(h1)\n",
    "i2 = 1/(1+np.exp(-inner_i2))\n",
    "\n",
    "inner_c2_tilde = Wc.dot(x[[1]]) + Uc.dot(h1)\n",
    "c2_tilde = np.tanh(inner_c2_tilde)\n",
    "\n",
    "# update of the cell state\n",
    "c2 = f2 * c1 + i2 * c2_tilde\n",
    "\n",
    "# output gate\n",
    "inner_o2 = Wo.dot(x[[1]]) + Uo.dot(h1)\n",
    "o2 = 1/(1+np.exp(-inner_o2))\n",
    "\n",
    "h2 = o2 * np.tanh(c2)\n",
    "h2"
   ]
  },
  {
   "cell_type": "markdown",
   "metadata": {},
   "source": [
    "### Third time step"
   ]
  },
  {
   "cell_type": "code",
   "execution_count": 11,
   "metadata": {},
   "outputs": [
    {
     "data": {
      "text/plain": [
       "array([0.28170128, 0.37065888])"
      ]
     },
     "execution_count": 11,
     "metadata": {},
     "output_type": "execute_result"
    }
   ],
   "source": [
    "# forget gate \n",
    "inner_f3 = Wf.dot(x[[2]])+ Uf.dot(h2)\n",
    "f3 = 1/(1+np.exp(-inner_f3))\n",
    "\n",
    "# input gate\n",
    "inner_i3 = Wi.dot(x[[2]]) + Ui.dot(h2)\n",
    "i3 = 1/(1+np.exp(-inner_i3))\n",
    "\n",
    "inner_c3_tilde = Wc.dot(x[[2]]) + Uc.dot(h2)\n",
    "c3_tilde = np.tanh(inner_c3_tilde)\n",
    "\n",
    "# update of the cell state\n",
    "c3 = f3 * c2 + i3 * c3_tilde\n",
    "\n",
    "# output gate\n",
    "inner_o3 = Wo.dot(x[[2]]) + Uo.dot(h2)\n",
    "o3 = 1/(1+np.exp(-inner_o3))\n",
    "\n",
    "h3 = o3 * np.tanh(c3)\n",
    "h3"
   ]
  },
  {
   "cell_type": "markdown",
   "metadata": {},
   "source": [
    "### Prediction\n",
    "\n",
    "After running through all the time steps, we predict our target variable."
   ]
  },
  {
   "cell_type": "code",
   "execution_count": 12,
   "metadata": {},
   "outputs": [
    {
     "data": {
      "text/plain": [
       "2.046038096901425"
      ]
     },
     "execution_count": 12,
     "metadata": {},
     "output_type": "execute_result"
    }
   ],
   "source": [
    "y_ = w.dot(h3)\n",
    "y_"
   ]
  },
  {
   "cell_type": "markdown",
   "metadata": {},
   "source": [
    "### GRU Networks - Gated Recurrent Unit Networks\n",
    "\n",
    "<img src=\"pics/GRU.png\" alt=\"GRU\" style=\"width: 600px;\"/>\n",
    "\n",
    "[(Olah, 2015)](http://colah.github.io/posts/2015-08-Understanding-LSTMs)"
   ]
  },
  {
   "cell_type": "markdown",
   "metadata": {},
   "source": [
    "The GRU network is a variation of the LSTM network and looks similar. Instead of having three gates, it only has two gates, the update and the reset gate which also work similar to the gates in the LSTM cell. "
   ]
  },
  {
   "cell_type": "code",
   "execution_count": 13,
   "metadata": {},
   "outputs": [],
   "source": [
    "# Initialize sample data and weights\n",
    "\n",
    "x = np.array([0.2, 0.3, 0.4])\n",
    "y = 7.0\n",
    "\n",
    "Wz = np.array([[0.1], [3.1]])\n",
    "Uz = np.array([[0.1,4.1], [0.2,1.0]])\n",
    "\n",
    "Wr = np.array([[2.3], [0.5]])\n",
    "Ur = np.array([[1.3,7.1], [9.1,4.5]])\n",
    "\n",
    "Wh = np.array([[0.2], [0.9]])\n",
    "Uh = np.array([[1.5,2.6], [1.8,3.6]])\n",
    "\n",
    "w = np.array([2.0,4.0])"
   ]
  },
  {
   "cell_type": "markdown",
   "metadata": {},
   "source": [
    "As input, the cell gets the input of the current timestep and the previous output $h_t-1$. An important difference to the LSTM is that there is no separate cell state: the hidden state and cell state are kind of \"merged\" so that there only remains a hidden state $h_t$."
   ]
  },
  {
   "cell_type": "markdown",
   "metadata": {},
   "source": [
    "### Update Gate\n",
    "\n",
    "In the update gate $z_t$ it is determined what values to update from the past and the reset gate decides what information should be reset, i.e. removed from the past."
   ]
  },
  {
   "cell_type": "code",
   "execution_count": 14,
   "metadata": {},
   "outputs": [
    {
     "data": {
      "text/plain": [
       "array([0.50499983, 0.65021855])"
      ]
     },
     "execution_count": 14,
     "metadata": {},
     "output_type": "execute_result"
    }
   ],
   "source": [
    "h0 = np.array([0.0,0.0])\n",
    "\n",
    "z1 = 1/(1+np.exp(-(Wz.dot(x[[0]])+ Uz.dot(h0))))\n",
    "z1"
   ]
  },
  {
   "cell_type": "markdown",
   "metadata": {},
   "source": [
    "### Reset gate"
   ]
  },
  {
   "cell_type": "code",
   "execution_count": 15,
   "metadata": {},
   "outputs": [
    {
     "data": {
      "text/plain": [
       "array([0.61301418, 0.52497919])"
      ]
     },
     "execution_count": 15,
     "metadata": {},
     "output_type": "execute_result"
    }
   ],
   "source": [
    "r1 = 1/(1+np.exp(-(Wr.dot(x[[0]])+ Ur.dot(h0))))\n",
    "r1"
   ]
  },
  {
   "cell_type": "markdown",
   "metadata": {},
   "source": [
    "### New candidates for current hidden state\n",
    "\n",
    "The new candidates for the current cell state are calculated by taking information from the reset gate. "
   ]
  },
  {
   "cell_type": "code",
   "execution_count": 16,
   "metadata": {},
   "outputs": [
    {
     "data": {
      "text/plain": [
       "array([0.03997868, 0.17808087])"
      ]
     },
     "execution_count": 16,
     "metadata": {},
     "output_type": "execute_result"
    }
   ],
   "source": [
    "h1_tilde = np.tanh(Wh.dot(x[[0]])+ Uh.dot(r1* h0))\n",
    "h1_tilde"
   ]
  },
  {
   "cell_type": "markdown",
   "metadata": {},
   "source": [
    "### New hidden state: the output\n",
    "\n",
    "The new output $h_t$ is defined by the proportion $1-z_t$ of the previous hidden state $h_t-1$ and by the proportion $z_t$ of the new candidates for the current hidden state."
   ]
  },
  {
   "cell_type": "code",
   "execution_count": 17,
   "metadata": {},
   "outputs": [
    {
     "data": {
      "text/plain": [
       "array([0.02018923, 0.11579148])"
      ]
     },
     "execution_count": 17,
     "metadata": {},
     "output_type": "execute_result"
    }
   ],
   "source": [
    "h1 = (1-z1)*h0 + (z1*h1_tilde)\n",
    "h1"
   ]
  },
  {
   "cell_type": "markdown",
   "metadata": {},
   "source": [
    "Again, we plug in all the updated values for the next time steps into the same equations like we did for the LSTM forward pass."
   ]
  },
  {
   "cell_type": "markdown",
   "metadata": {},
   "source": [
    "### Second time step"
   ]
  },
  {
   "cell_type": "code",
   "execution_count": 18,
   "metadata": {},
   "outputs": [
    {
     "data": {
      "text/plain": [
       "array([0.18717827, 0.42379445])"
      ]
     },
     "execution_count": 18,
     "metadata": {},
     "output_type": "execute_result"
    }
   ],
   "source": [
    "z2 = 1/(1+np.exp(-(Wz.dot(x[[1]])+ Uz.dot(h1))))\n",
    "\n",
    "r2 = 1/(1+np.exp(-(Wr.dot(x[[1]])+ Ur.dot(h1))))\n",
    "\n",
    "h2_tilde = np.tanh(Wh.dot(x[[1]])+ Uh.dot(r2* h1))\n",
    "\n",
    "h2 = (1-z2)*h1+ (z2*h2_tilde)\n",
    "h2"
   ]
  },
  {
   "cell_type": "markdown",
   "metadata": {},
   "source": [
    "### Third time step"
   ]
  },
  {
   "cell_type": "code",
   "execution_count": 19,
   "metadata": {},
   "outputs": [
    {
     "data": {
      "text/plain": [
       "array([0.79220277, 0.8899337 ])"
      ]
     },
     "execution_count": 19,
     "metadata": {},
     "output_type": "execute_result"
    }
   ],
   "source": [
    "z3 = 1/(1+np.exp(-(Wz.dot(x[[2]])+ Uz.dot(h2))))\n",
    "\n",
    "r3 = 1/(1+np.exp(-(Wr.dot(x[[2]])+ Ur.dot(h2))))\n",
    "\n",
    "h3_tilde = np.tanh(Wh.dot(x[[2]])+ Uh.dot(r3* h2))\n",
    "\n",
    "h3 = (1-z3)*h2+ z3*h3_tilde\n",
    "h3"
   ]
  },
  {
   "cell_type": "markdown",
   "metadata": {},
   "source": [
    "### Prediction\n",
    "\n",
    "After running through all the time steps, we predict our target variable."
   ]
  },
  {
   "cell_type": "code",
   "execution_count": 20,
   "metadata": {},
   "outputs": [
    {
     "data": {
      "text/plain": [
       "5.144140350766751"
      ]
     },
     "execution_count": 20,
     "metadata": {},
     "output_type": "execute_result"
    }
   ],
   "source": [
    "y_ = w.dot(h3) \n",
    "y_"
   ]
  },
  {
   "cell_type": "code",
   "execution_count": 2,
   "metadata": {},
   "outputs": [],
   "source": [
    "import pandas as pd\n",
    "import numpy as np\n",
    "from numpy import tanh"
   ]
  },
  {
   "cell_type": "markdown",
   "metadata": {},
   "source": [
    "### Backpropagation LSTM\n",
    "$\n",
    "% Forget-Gate\n",
    "\\newcommand{\\F}{\\color{orange}{f_t}}\n",
    "\\newcommand{\\Ffull}[1][]{\\color{orange}{\\sigma^{#1} \\left( W_f + U_f \\cdot h_{t-1} \\right)}}\n",
    "\\newcommand{\\f}[1]{\\color{orange}{f^t_{#1}}}\n",
    "\\newcommand{\\ffull}[2][]{\\color{orange}{\\sigma^{#1} \\left(w^f_{#2} x_t + u^f_{#2 1} h^{t-1}_1 + u^f_{#2 2}h^{t-1}_2 \\right)}}\n",
    "\\newcommand{\\Wf}{\\color{orange}{W_f}}\n",
    "\\newcommand{\\Uf}{\\color{orange}{U_f}}\n",
    "\\newcommand{\\wf}[1]{\\color{orange}{w_{#1}^f}}\n",
    "\\newcommand{\\uf}[2]{\\color{orange}{u_{#1 #2}^f}}\n",
    "% Input-Gate\n",
    "\\newcommand{\\I}{\\color{red}{i_t}}\n",
    "\\newcommand{\\Ifull}[1][]{\\color{red}{\\sigma^{#1} \\left( W_i + U_i \\cdot h_{t-1} \\right)}}\n",
    "\\newcommand{\\i}[1]{\\color{red}{i^t_{#1}}}\n",
    "\\newcommand{\\ifull}[2][]{\\color{red}{\\sigma^{#1} \\left( w^i_{#2} x_t + u^i_{#2 1} h^{t-1}_1 + u^i_{#2 2} h^{t-1}_2 \\right)}}\n",
    "\\newcommand{\\Wi}{\\color{red}{W_i}}\n",
    "\\newcommand{\\Ui}{\\color{red}{U_i}}\n",
    "\\newcommand{\\wi}[1]{\\color{red}{w_{#1}^i}}\n",
    "\\newcommand{\\ui}[2]{\\color{red}{u_{#1 #2}^i}}\n",
    "% Output-Gate\n",
    "\\newcommand{\\O}{\\color{blue}{o_t}}\n",
    "\\newcommand{\\Ofull}[1][]{\\color{blue}{\\sigma^{#1} \\left( W_o + U_o \\cdot h_{t-1} \\right)}}\n",
    "\\newcommand{\\o}[1]{\\color{blue}{o^t_{#1}}}\n",
    "\\newcommand{\\ofull}[2][]{\\color{blue}{\\sigma^{#1} \\left( w^o_{#2} x_t + u^o_{#2 1} h^{t-1}_1 + u^o_{#2 2} h^{t-1}_2 \\right)}}\n",
    "\\newcommand{\\Wo}{\\color{blue}{W_o}}\n",
    "\\newcommand{\\Uo}{\\color{blue}{U_o}}\n",
    "\\newcommand{\\wo}[1]{\\color{blue}{w_{#1}^o}}\n",
    "\\newcommand{\\uo}[2]{\\color{blue}{u_{#1 #2}^o}}\n",
    "% Cell (c without tilde - or however the fuck it's supposed to be called)\n",
    "\\newcommand{\\C}[1][]{\\color{lime}{c_{t #1}}}\n",
    "\\newcommand{\\Cfull}{\\F * \\C[-1] + \\I * \\Ctil}\n",
    "\\newcommand{\\c}[2][]{\\color{lime}{c^{t #1}_{#2}}}\n",
    "% Candidate (c with tilde - again: whatever, it's fine.)\n",
    "\\newcommand{\\Ctil}{\\color{green}{\\tilde{c}_t}}\n",
    "\\newcommand{\\Ctilfull}[1][]{\\color{green}{g^{#1} \\left( W_c x_t + U_c \\cdot h_{t-1} \\right)}}\n",
    "\\newcommand{\\ctil}[2][]{\\color{green}{g^{#1} \\left( w^c_{#2} x_t + u^c_{#2 1} h^{t-1}_1 + u^c_{#2 2} h^{t-1}_2 \\right)}}\n",
    "\\newcommand{\\ctils}[1]{\\color{green}{\\tilde{c}_{#1}}}\n",
    "\\newcommand{\\Wc}{\\color{green}{W_c}}\n",
    "\\newcommand{\\Uc}{\\color{green}{U_c}}\n",
    "\\newcommand{\\wc}[1]{\\color{green}{w_{#1}^c}}\n",
    "\\newcommand{\\uc}[2]{\\color{green}{u_{#1 #2}^c}}\n",
    "% Miscellaneous\n",
    "\\newcommand{\\yhat}{\\hat{y}_t}\n",
    "\\newcommand{\\error}{\\left(y - \\yhat \\right)}\n",
    "\\newcommand{\\deriv}[2]{\\frac{\\partial #1}{\\partial #2}}\n",
    "\\newcommand{\\dxt}[1]{\\color{#1}{x_t}}\n",
    "\\DeclareMathOperator{\\diag}{diag}\n",
    "\\newcommand{\\myH}[2][-1]{\\color{#2}{h_{t #1}}}\n",
    "\\newcommand{\\myh}[2][red]{\\color{#1}{h^{t-1}_{#2}}}\n",
    "$\n",
    "In order to demonstrate how the backpropagation on the LSTM works we will further investigate our previous example. Remember, that we used a $3 \\times 1$ vector for our single sample. Additionally, we looked at a very simple neural network that has only 2 neurons. Typically, we want to find better weights in each consecutive training iteration and in order to achieve that we follow a fraction of the negative gradient of a loss function.\n",
    "\n",
    "So right now, we need two things:\n",
    "1. a loss function\n",
    "1. and its gradients with respect to each of the weight matrices.\n",
    "\n",
    "Regarding the loss function we can make our lives easier by picking one, that is fit for our regression task while also being easy to derive. One of the easiest loss functions for that matter is the sum of squared errors, which we scale by a convenient constant:\n",
    "\n",
    "$$loss_t = \\frac{1}{2}\\left( y - \\yhat \\right)^2.$$\n",
    "\n",
    "Where $\\yhat$ is the prediction at timestep $t$. When taking the derivative with respect to $\\yhat$ one can easily see:\n",
    "\n",
    "$$\\deriv{loss_t}{\\yhat} = \\left( y - \\yhat \\right) (-1)$$\n",
    "\n",
    "We define our total loss to be the sum of the losses at each timestep:\n",
    "\n",
    "$$loss = \\sum loss_t$$\n",
    "\n",
    "which of course gives\n",
    "\n",
    "$$\\deriv{loss}{\\yhat} = \\sum\\deriv{loss_t}{\\yhat}$$.\n",
    "\n",
    "This is also the reason, why the LSTM architecture remedies the vanishing or exploding gradients. Instead of resulting in a huge product as in the backpropagation through time, we will simply add the gradients of each timestep's contribution \\[[Mallya 2017](http://arunmallya.github.io/writeups/nn/lstm/index.html)\\]."
   ]
  },
  {
   "cell_type": "markdown",
   "metadata": {},
   "source": [
    "Now that we know what function we want to derive we also need to know which weights we want to tune. We define the weight matrices as\n",
    "\n",
    "\\begin{alignat}{2}\n",
    "% Weight matrices\n",
    "\\Wo &= \\begin{bmatrix} \\wo{1} \\\\ \\wo{2} \\end{bmatrix} \\quad \\Uo &&= \\begin{bmatrix} \\uo{1}{1} & \\uo{1}{2} \\\\ \\uo{2}{1} & \\uo{2}{2} \\end{bmatrix} \\\\\n",
    "\\Wf &= \\begin{bmatrix} \\wf{1} \\\\ \\wf{2} \\end{bmatrix} \\quad \\Uf &&= \\begin{bmatrix} \\uf{1}{1} & \\uf{1}{2} \\\\ \\uf{2}{1} & \\uf{2}{2} \\end{bmatrix} \\\\\n",
    "\\Wi &= \\begin{bmatrix} \\wi{1} \\\\ \\wi{2} \\end{bmatrix} \\quad \\Ui &&= \\begin{bmatrix} \\ui{1}{1} & \\ui{1}{2} \\\\ \\ui{2}{1} & \\ui{2}{2} \\end{bmatrix} \\\\\n",
    "\\Wc &= \\begin{bmatrix} \\wc{1} \\\\ \\wc{2} \\end{bmatrix} \\quad \\Uc &&= \\begin{bmatrix} \\uc{1}{1} & \\uc{1}{2} \\\\ \\uc{2}{1} & \\uc{2}{2} \\end{bmatrix}\n",
    "\\end{alignat}"
   ]
  },
  {
   "cell_type": "markdown",
   "metadata": {},
   "source": [
    "Additionally, define the LSTM-forward pass as\n",
    "\n",
    "\\begin{align}\n",
    "% Forward pass\n",
    "\\myH[]{red} &= \\O * g(\\C) \\tag{1} \\\\\n",
    "\\C &= \\F * \\C[-1] + \\I * \\Ctil \\tag{2} \\\\\n",
    "\\Ctil &= \\Ctilfull\\tag{3} \\\\\n",
    "\\I &= \\begin{pmatrix} \n",
    "           \\i{1} \\\\ \\i{2} \n",
    "      \\end{pmatrix} \n",
    "   = \\Ifull \\tag{4} \\\\\n",
    "\\F &= \\begin{pmatrix} \n",
    "          \\f{1} \\\\ \\f{2} \n",
    "      \\end{pmatrix} \n",
    "   = \\Ffull  \\tag{5} \\\\\n",
    "\\O &= \\begin{pmatrix} \n",
    "          \\o{1} \\\\ \\o{2} \n",
    "      \\end{pmatrix} \n",
    "   = \\Ofull \\tag{6}\n",
    "\\end{align}\n",
    "\n",
    "Where we choose the activation functions $\\sigma$ as the sigmoid function and $g$ as the hyperbolic function \\[[cp Dey, Salem 2017](https://arxiv.org/pdf/1701.05923.pdf)\\].\n",
    "\n",
    "\\begin{alignat}{3}\n",
    "\\sigma(x) &= \\frac{\\exp(-x)}{1 + \\exp(-x} &&\\quad\\text{with}\\quad \\deriv{\\sigma(x)}{x} &&&= \\sigma(x) (1-\\sigma(x)) \\\\\n",
    "g(x) &= \\tanh(x) &&\\quad\\text{with}\\quad \\deriv{g(x)}{x} &&&= 1 - \\tanh^2(x)\n",
    "\\end{alignat}"
   ]
  },
  {
   "cell_type": "code",
   "execution_count": 3,
   "metadata": {},
   "outputs": [],
   "source": [
    "# Define activation functions\n",
    "def sigmoid(x):\n",
    "    \"\"\"Sigmoid activation function.\"\"\"\n",
    "    return 1 / (1 + np.exp(-x))\n",
    "\n",
    "\n",
    "def dsigmoid(x):\n",
    "    \"\"\"Derivative of sigmoid function.\"\"\"\n",
    "    return sigmoid(x) * (1 - sigmoid(x))\n",
    "\n",
    "\n",
    "def dtanh(x):\n",
    "    \"\"\"Derivative of tanh function.\"\"\"\n",
    "    return 1 - np.tanh(x)**2"
   ]
  },
  {
   "cell_type": "markdown",
   "metadata": {},
   "source": [
    "Let's also, for our purposes define the forward pass again, this time with a small change. This time, we want to store the results of every operation that depends on the timestep $t$ in their own lists. And we want to define a function that we can call later in a more convenient fashion."
   ]
  },
  {
   "cell_type": "code",
   "execution_count": 4,
   "metadata": {},
   "outputs": [],
   "source": [
    "# Redefine forward pass\n",
    "h = []\n",
    "o = []\n",
    "f = []\n",
    "i = []\n",
    "c_ = []\n",
    "c = []\n",
    "y_ = []\n",
    "\n",
    "def LSTM_forward():\n",
    "    \"\"\"Perform forward pass\"\"\"\n",
    "    \n",
    "    # First, set hidden state to zero\n",
    "    h.append(np.zeros_like(Wc))\n",
    "    c.append(np.zeros_like(Wc))\n",
    "    \n",
    "    # Set `start` so that future calls don't have to reset the above lists\n",
    "    for t, xt in enumerate(x, start=len(y_)):\n",
    "        # Calculate values of gates (equations 4, 5, 6)\n",
    "        it = sigmoid(Wi.dot(xt) + Ui.dot(h[t]))\n",
    "        ft = sigmoid(Wf.dot(xt) + Uf.dot(h[t]))\n",
    "        ot = sigmoid(Wo.dot(xt) + Uo.dot(h[t]))\n",
    "\n",
    "        # Calculate candidate update (equations 3 and 2)\n",
    "        c_t = tanh(Wc.dot(xt) + Uc.dot(h[t]))\n",
    "        ct = ft * c[t] + it * c_t\n",
    "\n",
    "        # Calculate hidden state (equation 1)\n",
    "        ht = ot * tanh(ct)\n",
    "\n",
    "        # Prediction at step t (output layer)\n",
    "        y_t = w.dot(ht)\n",
    "\n",
    "        # Save variables to container, these will\n",
    "        # persist outside of the function's scope\n",
    "        h.append(ht)\n",
    "        o.append(ot)\n",
    "        f.append(ft)\n",
    "        i.append(it)\n",
    "        c_.append(c_t)\n",
    "        c.append(ct)\n",
    "        y_.append(y_t)\n",
    "    \n",
    "    # Return final prediction\n",
    "    return y_[-1]\n",
    "\n",
    "yhat_before = LSTM_forward()"
   ]
  },
  {
   "cell_type": "markdown",
   "metadata": {},
   "source": [
    "Now, in order to derive the loss function, we need to figure out how we obtain our predictions. We know that the output layer is just a linear combination of the hidden state and a vector of weights which, in our case, we denote by $w \\in \\mathbb{R}^2$.\n",
    "\n",
    "\\begin{equation}\n",
    "\\yhat = w^T \\cdot \\myH[]{red}\n",
    "\\end{equation}\n",
    "\n",
    "Of course, if you are familiar with matrix derivatives and know that the element-wise multiplication of two vectors can be written as\n",
    "\n",
    "\\begin{equation}\n",
    "a * b = \\diag(a) \\cdot b = \\begin{bmatrix} \n",
    "                               a_1 & \\dots & 0 \\\\\n",
    "                               \\vdots & \\ddots & \\vdots \\\\\n",
    "                               0 & \\dots & a_n\n",
    "                           \\end{bmatrix} \\cdot\n",
    "                           \\begin{pmatrix} \n",
    "                                b_1 \\\\\n",
    "                                \\vdots \\\\\n",
    "                                b_n\n",
    "                           \\end{pmatrix}\n",
    "\\end{equation}\n",
    "\n",
    "then you're all set. For a derivation of all gradients using high-school-level math only, consider the appendix."
   ]
  },
  {
   "cell_type": "markdown",
   "metadata": {},
   "source": [
    "### Weights of the output gate\n",
    "\n",
    "By following the logic of the backpropagation we obtain:\n",
    "\n",
    "\\begin{align}\n",
    "\\frac{\\partial {loss}}{\\partial W_o} &= \\sum\\frac{\\partial {loss}_t}{\\partial \\hat{y}_t} \\overbrace{\\frac{\\partial \\hat{y}_t}{\\partial h_t} \\frac{\\partial h_t}{\\partial o_t} \\frac{\\partial o_t}{\\partial \\Wo}}^{\\deriv{\\yhat}{\\Wo}}\\\\\n",
    "                                   &= \\sum -(y - \\hat{y}_t)\\ w * g(\\C) * \\Ofull[\\prime] * \\Ctil x_t.\n",
    "\\end{align}\n",
    "\n",
    "Which we can implement in a straightforward manner."
   ]
  },
  {
   "cell_type": "code",
   "execution_count": 5,
   "metadata": {},
   "outputs": [],
   "source": [
    "dLossdWo = np.zeros_like(Wo)\n",
    "\n",
    "for t, xt in enumerate(x):\n",
    "    # Note that c = (c0, c1, c2, c3), whereas y_ = (y_1, y_2, y_3)\n",
    "    # thus we need to index c differently\n",
    "    dLossdWo += -(y-y_[t]) * w *dsigmoid(Wo.dot(xt) + Uo.dot(h[t])) * tanh(c[t+1]) * c_[t] * xt"
   ]
  },
  {
   "cell_type": "markdown",
   "metadata": {},
   "source": [
    "Similarly, we obtain the gradient with respect to $\\Uo$:\n",
    "\n",
    "\\begin{align}\n",
    "\\frac{\\partial loss}{\\partial U_o} &= \\sum\\frac{\\partial {loss}_t}{\\partial \\hat{y}_t} \\overbrace{\\frac{\\partial \\hat{y}_t}{\\partial h_t} \\frac{\\partial h_t}{\\partial o_t} \\frac{\\partial o_t}{\\partial \\Uo}}^{\\deriv{\\yhat}{\\Uo}} \\\\\n",
    "                                   &= \\sum -(y - \\hat{y}_t)\\ \\begin{bmatrix} w & w \\end{bmatrix} *\n",
    "                     \\begin{bmatrix} g(\\C) & g(\\C) \\end{bmatrix} *\n",
    "                     \\begin{bmatrix} \\Ofull[\\prime] & \\Ofull[\\prime] \\end{bmatrix} *\n",
    "                     \\begin{bmatrix} \\Ctil & \\Ctil \\end{bmatrix} *\n",
    "                     \\begin{bmatrix} \\myH{blue}^T \\\\ \\myH{blue}^T \\end{bmatrix}.\n",
    "\\end{align}\n",
    "\n",
    "Note, that the first four of our matrix valued factors of that multiplication are obtained by combining copies of a vector in a column-wise fashion. In contrast to that, the last factor is obtained by row-wise stacking copies of a vector. In `numpy` one can obtain this behavior by a simple broadcasting operation. We simply need to `reshape` the first four factors, the expansion will then be performed automatically."
   ]
  },
  {
   "cell_type": "code",
   "execution_count": 6,
   "metadata": {},
   "outputs": [],
   "source": [
    "dLossdUo = np.zeros_like(Uo)\n",
    "\n",
    "for t, xt in enumerate(x):\n",
    "    dy_dot = w * tanh(c[t+1]) * dsigmoid(Wo.dot(xt) + Uo.dot(h[t])) * c_[t]\n",
    "    # Expand so that the above multiplication can be performed element-wise\n",
    "    dLossdUo += (y-y_[t]) * dy_dot.reshape(-1, 1) * h[t]"
   ]
  },
  {
   "cell_type": "markdown",
   "metadata": {},
   "source": [
    "### Weights of the forget gate\n",
    "\n",
    "By the same token we obtain the partial gradient of $loss_t$ with respect to the elements of $\\Wf$\n",
    "\n",
    "\\begin{align}\n",
    "\\frac{\\partial loss}{\\partial W_f} &= \n",
    "    \\sum\\frac{\\partial loss_t}{\\partial \\hat{y}_t}\\overbrace{\\frac{\\partial \\hat{y}_t}{\\partial h_t}\\frac{\\partial h_t}{\\partial c_t} \\frac{\\partial c_t}{\\partial f_t}\\frac{\\partial f_t}{\\partial W_f}}^{\\deriv{\\yhat}{\\Wf}} \\\\\n",
    "                                   &= \\sum -(y-\\hat{y}_t) w * \\left[\\O * g^\\prime(\\C)\\right] * \\C * \\Ffull[\\prime] \\dxt{orange}\n",
    "\\end{align}\n",
    "\n",
    "Which we, can implement as easily as before."
   ]
  },
  {
   "cell_type": "code",
   "execution_count": 7,
   "metadata": {},
   "outputs": [],
   "source": [
    "dLossdWf = np.zeros_like(Wf)\n",
    "\n",
    "for t, xt in enumerate(x):\n",
    "    dLossdWf += -(y-y_[t]) * w * (o[t] * dtanh(c[t+1])) * c[t] * dsigmoid(Wf.dot(xt) + Uf.dot(h[t])) * xt"
   ]
  },
  {
   "cell_type": "markdown",
   "metadata": {},
   "source": [
    "For the gradient of $loss_t$ with respect to $\\Uf$ we obtain:\n",
    "\n",
    "\\begin{align}\n",
    "\\frac{\\partial loss}{\\partial U_f} &= \\sum\\frac{\\partial loss_t}{\\partial \\hat{y}_t} \\overbrace{\\frac{\\partial \\hat{y}_t}{\\partial h_t} \\frac{\\partial h_t}{\\partial c_t} \\frac{\\partial c_t}{\\partial f_t} \\frac{\\partial f_t}{\\partial U_f}}^{\\deriv{\\yhat}{\\Uf}} \\\\\n",
    "                                   &= \\sum -(y-\\hat{y}_t)\\ \\begin{bmatrix} w & w \\end{bmatrix} *\n",
    "                     \\begin{bmatrix} \\O & \\O \\end{bmatrix} *\n",
    "                     g^\\prime( \\begin{bmatrix} \\C & \\C \\end{bmatrix}) *\n",
    "                     \\begin{bmatrix} \\Ffull[\\prime] & \\Ffull[\\prime] \\end{bmatrix} *\n",
    "                     \\begin{bmatrix} \\C[-1] & \\C[-1] \\end{bmatrix} *\n",
    "                     \\begin{bmatrix} \\myH{orange}^T \\\\ \\myH{orange}^T \\end{bmatrix}\n",
    "\\end{align}\n",
    "\n",
    "Which we can implement, making use of `numpy`'s broadcasting operations, just as before."
   ]
  },
  {
   "cell_type": "code",
   "execution_count": 8,
   "metadata": {},
   "outputs": [],
   "source": [
    "dLossdUf = np.zeros_like(Uf)\n",
    "\n",
    "for t, xt in enumerate(x):\n",
    "    dy_dft = w*(o[t]*dtanh(c[t+1])) * c[t] * dsigmoid(Wf.dot(xt)+Uf.dot(h[t]))\n",
    "    dLossdUf += -(y-y_[t]) * dy_dft.reshape(-1, 1) * h[t]"
   ]
  },
  {
   "cell_type": "markdown",
   "metadata": {},
   "source": [
    "### Weights of the input gate\n",
    "\n",
    "Looking at the weights of the input gate we can proceed in the familiar fashion. We procure the gradients of $loss_t$ with respect to $\\Wi$ as\n",
    "\n",
    "\\begin{align}\n",
    "\\frac{\\partial loss}{\\partial W_i} &= \\sum\\frac{\\partial loss_t}{\\partial \\hat{y}_t} \\overbrace{\\frac{\\partial \\hat{y}_t}{\\partial h_t}\\frac{\\partial h_t}{\\partial c_t} \\frac{\\partial c_t}{\\partial i_t}\\frac{\\partial i_t}{\\partial \\Wi}}^{\\deriv{\\yhat}{\\Wi}} \\\\\n",
    "                                   &= \\sum -(y-\\hat{y}_t)\\ w * \\O * g^\\prime(\\C) * \\Ctil * \\Ifull[\\prime] \\dxt{red}.\n",
    "\\end{align}\n",
    "\n",
    "Subsequently, we can implement the computation of the gradient."
   ]
  },
  {
   "cell_type": "code",
   "execution_count": 9,
   "metadata": {},
   "outputs": [],
   "source": [
    "dLossdWi = np.zeros_like(Wi)\n",
    "\n",
    "for t, xt in enumerate(x):\n",
    "    dLossdWi += -(y-y_[t]) * w * (o[t] * dtanh(c[t+1])) * c_[t] * dsigmoid(Wi.dot(xt) + Ui.dot(h[t])) * xt"
   ]
  },
  {
   "cell_type": "markdown",
   "metadata": {},
   "source": [
    "Equivalently we proceed with the gradient of $loss_t$ with respect to $\\Ui$, which are given by\n",
    "\n",
    "\\begin{align}\n",
    "\\frac{\\partial loss}{\\partial U_i} &= \\sum\\frac{\\partial loss_t}{\\partial \\hat{y}_t} \\overbrace{\\frac{\\partial \\hat{y}_t}{\\partial h_t} \\frac{\\partial h_t}{\\partial c_t} \\frac{\\partial c_t}{\\partial i_t} \\frac{\\partial i_t}{\\partial U_i}}^{\\deriv{\\yhat}{\\Ui}} \\\\\n",
    "                                   &= \\sum(y-\\hat{y}_t)\\ \\begin{bmatrix} w & w \\end{bmatrix} *\n",
    "                      \\begin{bmatrix} \\O & \\O \\end{bmatrix} *\n",
    "                      g^\\prime\\left(\\begin{bmatrix} \\C & \\C \\end{bmatrix}\\right) *\n",
    "                      \\begin{bmatrix} \\Ctil & \\Ctil \\end{bmatrix} * \\\\\n",
    "                      &\\quad\\quad\\begin{bmatrix} \\Ifull[\\prime] & \\Ifull[\\prime] \\end{bmatrix} *\n",
    "                      \\begin{bmatrix} \\myH{red}^T \\\\ \\myH{red}^T \\end{bmatrix}\n",
    "\\end{align}\n",
    "\n",
    "Which we implement by making use of `numpy`'s broadcasting functionality."
   ]
  },
  {
   "cell_type": "code",
   "execution_count": 10,
   "metadata": {},
   "outputs": [],
   "source": [
    "dLossdUi = np.zeros_like(Ui)\n",
    "\n",
    "for t, xt in enumerate(x):\n",
    "    dy_dit = w * (o[t]*dtanh(c[t])) * c_[t] * dsigmoid(Wi.dot(xt)+Ui.dot(h[t]))\n",
    "    dLossdUi += -(y-y_[t]) * dy_dit.reshape(-1, 1) * h[t]"
   ]
  },
  {
   "cell_type": "markdown",
   "metadata": {},
   "source": [
    "### Weights of the candidate update\n",
    "\n",
    "Again we begin by computint the gradient of $loss_t$ with respect to $\\Wc$, such that we get\n",
    "\n",
    "\\begin{align}\n",
    "\\frac{\\partial loss}{\\partial W_c} &= \\sum\\frac{\\partial loss_t}{\\partial \\hat{y}_t}\\overbrace{\\frac{\\partial \\hat{y}_t}{\\partial h_t}\\frac{\\partial h_t}{\\partial c_t}\\frac{\\partial c_t}{\\partial \\tilde{c}_t} \\frac{\\partial \\tilde{c}_t}{\\partial W_c}}^{\\deriv{\\yhat}{\\Wc}} \\\\\n",
    "                                   &= \\sum(y - \\hat{y}_t)\\ w * \\O * g^\\prime(\\C) * \\I * \\Ctilfull[\\prime]\\ \\dxt{green}\n",
    "\\end{align}\n",
    "\n",
    "which we implement in the same unequivocal manner as before."
   ]
  },
  {
   "cell_type": "code",
   "execution_count": 11,
   "metadata": {},
   "outputs": [],
   "source": [
    "dLossdWc = np.zeros_like(Wc)\n",
    "\n",
    "for t, xt in enumerate(x):\n",
    "    dLossdWc += -(y-y_[t]) * w * (o[t] * dtanh(c[t+1])) * i[t] * dtanh(Wc.dot(xt) + Uc.dot(h[t])) * xt"
   ]
  },
  {
   "cell_type": "markdown",
   "metadata": {},
   "source": [
    "Similarly, we obtain the gradient of the loss function with respect to $\\Uc$ as\n",
    "\n",
    "\\begin{align}\n",
    "\\frac{\\partial loss}{\\partial U_c} &= \\sum\\frac{\\partial loss_t}{\\partial \\hat{y}_t}\\overbrace{\\frac{\\partial \\hat{y}_t}{\\partial h_t}\\frac{\\partial h_t}{\\partial c_t}\\frac{\\partial c_t}{\\partial \\tilde{c}_t}\\frac{\\partial \\tilde{c}_t}{\\partial U_c}}^{\\deriv{\\yhat}{\\Uc}} \\\\\n",
    "                          &= \\sum(y_t - \\hat{y}_t)\\ w * \\O * g^\\prime(\\C) * \\I * \\Ctilfull[\\prime]\\ * \\begin{bmatrix} h^T_{t-1} \\\\ h^T_{t-1} \\end{bmatrix},\n",
    "\\end{align}\n",
    "\n",
    "which by now should be easy to implement."
   ]
  },
  {
   "cell_type": "code",
   "execution_count": 12,
   "metadata": {},
   "outputs": [],
   "source": [
    "dLossdUc = np.zeros_like(Uc)\n",
    "\n",
    "for t, xt in enumerate(x):\n",
    "    dc_tdf = w * (o[t] * dtanh(c[t+1])) * i[t] * dtanh(Wc.dot(xt)+Uc.dot(h[t]))\n",
    "    dLossdUc += -(y-y_[t]) * dc_tdf.reshape(-1, 1) * h[t]"
   ]
  },
  {
   "cell_type": "markdown",
   "metadata": {},
   "source": [
    "### Weights of the output layer"
   ]
  },
  {
   "cell_type": "markdown",
   "metadata": {},
   "source": [
    "Finally, we need to adjust the weights of the output layer. The gradient of the loss function is simply\n",
    "\n",
    "\\begin{equation}\n",
    "\\deriv{loss}{w} = \\sum\\deriv{loss_t}{w} = \\sum\\deriv{loss_t}{\\yhat}\\deriv{\\yhat}{w} = \\sum -(y - \\yhat) \\myH[]{red}.\n",
    "\\end{equation}\n",
    "\n",
    "Which can be readily implemented."
   ]
  },
  {
   "cell_type": "code",
   "execution_count": 13,
   "metadata": {},
   "outputs": [],
   "source": [
    "dLossdw = np.zeros_like(w)\n",
    "\n",
    "for t, xt in enumerate(x):\n",
    "    dLossdw += -(y - y_[t]) * h[t+1]"
   ]
  },
  {
   "cell_type": "markdown",
   "metadata": {},
   "source": [
    "### LSTM: Update the weights\n",
    "\n",
    "With all gradients being computed, we can use them in order to update our weights. Typically, when using gradient descent, we follow the direction of the negative gradient, multiplied by some fraction."
   ]
  },
  {
   "cell_type": "code",
   "execution_count": 14,
   "metadata": {},
   "outputs": [],
   "source": [
    "eta = 0.01\n",
    "\n",
    "Wc -= eta * dLossdWc\n",
    "Wo -= eta * dLossdWo\n",
    "Wf -= eta * dLossdWf\n",
    "Wi -= eta * dLossdWi\n",
    "\n",
    "Uc -= eta * dLossdUc\n",
    "Uo -= eta * dLossdUo\n",
    "Uf -= eta * dLossdUf\n",
    "Ui -= eta * dLossdUi\n",
    "\n",
    "w -= eta * dLossdw"
   ]
  },
  {
   "cell_type": "markdown",
   "metadata": {},
   "source": [
    "With the new weights we can compute the updated prediction."
   ]
  },
  {
   "cell_type": "code",
   "execution_count": 15,
   "metadata": {},
   "outputs": [],
   "source": [
    "yhat_after = LSTM_forward()"
   ]
  },
  {
   "cell_type": "code",
   "execution_count": 16,
   "metadata": {},
   "outputs": [
    {
     "data": {
      "text/html": [
       "<div>\n",
       "<style scoped>\n",
       "    .dataframe tbody tr th:only-of-type {\n",
       "        vertical-align: middle;\n",
       "    }\n",
       "\n",
       "    .dataframe tbody tr th {\n",
       "        vertical-align: top;\n",
       "    }\n",
       "\n",
       "    .dataframe thead th {\n",
       "        text-align: right;\n",
       "    }\n",
       "</style>\n",
       "<table border=\"1\" class=\"dataframe\">\n",
       "  <thead>\n",
       "    <tr style=\"text-align: right;\">\n",
       "      <th></th>\n",
       "      <th>$\\hat{y}_{before}$</th>\n",
       "      <th>$\\hat{y}_{after}$</th>\n",
       "      <th>$y$</th>\n",
       "    </tr>\n",
       "  </thead>\n",
       "  <tbody>\n",
       "    <tr>\n",
       "      <th>1</th>\n",
       "      <td>2.046038</td>\n",
       "      <td>4.956741</td>\n",
       "      <td>7.0</td>\n",
       "    </tr>\n",
       "  </tbody>\n",
       "</table>\n",
       "</div>"
      ],
      "text/plain": [
       "   $\\hat{y}_{before}$  $\\hat{y}_{after}$  $y$\n",
       "1            2.046038           4.956741  7.0"
      ]
     },
     "execution_count": 16,
     "metadata": {},
     "output_type": "execute_result"
    }
   ],
   "source": [
    "pd.DataFrame({r\"$\\hat{y}_{before}$\": yhat_before, r\"$\\hat{y}_{after}$\": yhat_after, r\"$y$\": y}, index=[1])"
   ]
  },
  {
   "cell_type": "markdown",
   "metadata": {},
   "source": [
    "As we can clearly see, we are getting close to the real $y$. In a real application one would of course evaluate the gradients at multiple samples and use an average gradient in order to update the weight matrices."
   ]
  },
  {
   "cell_type": "markdown",
   "metadata": {},
   "source": [
    "### Backpropagation GRU\n",
    "$\n",
    "% Vector shortcuts\n",
    "\\newcommand{\\Htil}{\\color{green}{\\tilde{h}_t}}\n",
    "\\newcommand{\\H}{\\color{green}{h_{t-1}}}\n",
    "\\newcommand{\\R}{\\color{blue}{r_t}}\n",
    "\\newcommand{\\Z}{\\color{red}{z_t}}\n",
    "% Gates Matrix Notation\n",
    "\\newcommand{\\Gfull}[1][]{\\color{green}{g^{#1}\\left( W_h x_t + U_h \\cdot ( \\R * \\H)\\right)}}\n",
    "\\newcommand{\\Zfull}[1][]{\\color{red}{\\sigma^{#1} \\left( W_z x_t + U_z \\cdot h_{t-1} \\right)}}\n",
    "\\newcommand{\\Rfull}[1][]{\\color{blue}{\\sigma^{#1} \\left( W_r x_t + U_r \\cdot h_{t-1} \\right)}}\n",
    "% Vector Elements\n",
    "\\newcommand{\\htil}[1]{\\color{green}{\\tilde{h}^t_{#1}}}\n",
    "\\newcommand{\\h}[1]{\\color{green}{h_{#1}^{t-1}}}\n",
    "\\newcommand{\\z}[1]{\\color{red}{z_{#1}^{t}}}\n",
    "\\newcommand{\\r}[1]{\\color{blue}{r_{#1}^{t}}}\n",
    "% Explicit Vector Elements\n",
    "\\newcommand{\\gfull}[2][]{\\color{green}{g^{#1} \\left( w^h_{#2} x_t + u^h_{#2 1} \\r{1} \\h{1} + u^h_{#2 2} \\r{2} \\h{2} \\right)}}\n",
    "\\newcommand{\\zfull}[2][]{\\color{red}{\\sigma^{#1} \\left(w^z_{#2} x_t + u^z_{#2 1}h_1^{t-1}+u^z_{#2 2} h_2^{t-1}\\right)}}\n",
    "\\newcommand{\\rfull}[2][]{\\color{blue}{\\sigma^{#1} \\left(w^r_{#2} x_t + u^r_{#2 1}h_1^{t-1}+u^r_{#2 2} h_2^{t-1}\\right)}}\n",
    "\\newcommand{\\gfullfull}[2][]{\\color{green}{g^{#1} \\left( w^h_{#2} x_t + u^h_{#2 1} \\rfull{1} \\h{1} + u^h_{#2 2} \\rfull{2} \\h{2} \\right)}}\n",
    "% Weight Matrices\n",
    "\\newcommand{\\Wh}{\\color{green}{W_h}}\n",
    "\\newcommand{\\Wz}{\\color{red}{W_z}}\n",
    "\\newcommand{\\Wr}{\\color{blue}{W_r}}\n",
    "\\newcommand{\\Uh}{\\color{green}{U_h}}\n",
    "\\newcommand{\\Uz}{\\color{red}{U_z}}\n",
    "\\newcommand{\\Ur}{\\color{blue}{U_r}}\n",
    "% Weight Matrix Elements\n",
    "\\newcommand{\\wh}[1]{\\color{green}{w^h_{#1}}}\n",
    "\\newcommand{\\wz}[1]{\\color{red}{w^z_{#1}}}\n",
    "\\newcommand{\\wr}[1]{\\color{blue}{w^r_{#1}}}\n",
    "\\newcommand{\\uh}[2]{\\color{green}{u^h_{#1 #2}}}\n",
    "\\newcommand{\\uz}[2]{\\color{red}{u^z_{#1 #2}}}\n",
    "\\newcommand{\\ur}[2]{\\color{blue}{u^r_{#1 #2}}}\n",
    "% Miscellaneous\n",
    "\\newcommand{\\dxt}[1]{\\color{#1}{x_t}}\n",
    "\\newcommand{\\yhat}{\\hat{y}_t}\n",
    "\\newcommand{\\deriv}[2]{\\frac{\\partial #1}{\\partial #2}}\n",
    "\\DeclareMathOperator{\\diag}{diag}\n",
    "$\n",
    "Consider again, our low-dimensional numerical example with only one case with features $x = \\begin{pmatrix}x_1, & x_2, & x_3 \\end{pmatrix}^T$ and label $y$. Additionally let's again assume we only have two neurons in our network. This means for the weight matrices \n",
    "\n",
    "\\begin{alignat}{2}\n",
    "\\color{green}{W_h} &= \\begin{bmatrix} \\wh{1} \\\\ \\wh{2} \\end{bmatrix}  \\quad\n",
    "\\color{green}{U_h} &&= \\begin{bmatrix} \\uh{1}{1} & \\uh{1}{2} \\\\ \\uh{2}{1} & \\uh{2}{2}\\end{bmatrix}\\\\ \n",
    "\\color{red}{W_z} &= \\begin{bmatrix} \\wz{1} \\\\ \\wz{2} \\end{bmatrix}  \\quad\n",
    "\\color{red}{U_z} &&= \\begin{bmatrix} \\uz{1}{1} & \\uz{1}{2} \\\\ \\uz{2}{1} & \\uz{2}{2} \\end{bmatrix}\\\\\n",
    "\\color{blue}{W_r} &= \\begin{bmatrix} \\wr{1} \\\\ \\wr{2} \\end{bmatrix} \\quad\n",
    "\\color{blue}{U_r} &&= \\begin{bmatrix} \\ur{1}{1} & \\ur{1}{2} \\\\ \\ur{2}{1} & \\ur{2}{2} \\end{bmatrix} \n",
    "\\end{alignat}\n",
    "\n",
    "We define the potential candidate update as\n",
    "\\begin{equation}\n",
    "\\Htil = \\Gfull,\n",
    "\\end{equation}\n",
    "\n",
    "the gates as\n",
    "\n",
    "\\begin{align}\n",
    "\\Z &= \\Zfull \\quad\\text{and}\\\\\n",
    "\\R &= \\Rfull,\n",
    "\\end{align}\n",
    "\n",
    "where as before, $g$ is the $tanh$-function and $\\sigma$ the sigmoid function.\n",
    "\n",
    "Finally, we define the update of the hidden state as\n",
    "\\begin{equation}\n",
    "h_t = \\color{red}{1-\\Z} * h_{t-1} + \\Z * \\Htil\n",
    "\\end{equation} \\[[cp Rey, Salem, 2017](https://arxiv.org/pdf/1701.05923.pdf)\\].\n",
    "\n",
    "For the actual prediction at a step $t$, we connect every output of our hidden state in a dense layer. Which means that we are taking a weighted sum of all two of them.\n",
    "\n",
    "\\begin{equation}\n",
    "\\hat{y}_t = W^T h_t,\n",
    "\\end{equation}\n",
    "\n",
    "Where $W = \\begin{pmatrix} w_1 \\\\ w_2 \\end{pmatrix}$ is the matrix that contains the weights for the outer layer. In our case this is just a $2\\times 1$ vector."
   ]
  },
  {
   "cell_type": "markdown",
   "metadata": {},
   "source": [
    "Consider the same simple example containing just one sample $x \\in \\mathbb{R}^2$, from before."
   ]
  },
  {
   "cell_type": "markdown",
   "metadata": {},
   "source": [
    "We can implement the forward pass like that:"
   ]
  },
  {
   "cell_type": "code",
   "execution_count": 20,
   "metadata": {},
   "outputs": [],
   "source": [
    "h = []\n",
    "h_ = []\n",
    "z = []\n",
    "r = []\n",
    "y_ = []\n",
    "\n",
    "def GRU_forward():\n",
    "    \"\"\"Perform forward pass.\"\"\"\n",
    "    h.append(np.zeros_like(Wh))\n",
    "    \n",
    "    for t, xt in enumerate(x, start=len(y_)):\n",
    "        # Calculate values of the gates\n",
    "        zt = sigmoid(Wz.dot(xt) + Uz.dot(h[t]))\n",
    "        rt = sigmoid(Wr.dot(xt) + Ur.dot(h[t]))\n",
    "\n",
    "        # Calculate candidate update\n",
    "        h_t = tanh(Wh.dot(xt) + Uh.dot(rt * h[t]))\n",
    "\n",
    "        # Calculate hidden state\n",
    "        ht = (1-zt) * h[t] + zt * h_t\n",
    "\n",
    "        # Calculate prediction at step t\n",
    "        y_t = w.dot(ht)\n",
    "\n",
    "        # Save variables to container\n",
    "        h.append(ht)\n",
    "        h_.append(h_t)\n",
    "        z.append(zt)\n",
    "        r.append(rt)\n",
    "        y_.append(y_t)\n",
    "    \n",
    "    return y_[-1]\n",
    "\n",
    "yhat_before = GRU_forward()"
   ]
  },
  {
   "cell_type": "markdown",
   "metadata": {},
   "source": [
    "Where we want to keep track of the prediction before updating the weights, such that we can compare it with the prediction we obtain after we update our weight matrices."
   ]
  },
  {
   "cell_type": "markdown",
   "metadata": {},
   "source": [
    "### Weights for the candidate $\\tilde{h}_t$\n",
    "\n",
    "Let's start with investigating the gradient of $loss_t$ with respect to $\\Wh$:\n",
    "\n",
    "\\begin{align}\n",
    "\\frac{\\partial {loss}_t}{\\partial W_h} &= \\frac{\\partial {loss}_t}{\\partial \\hat{y}_t}\\frac{\\partial \\hat{y}_t}{\\partial h_t}\\frac{\\partial h_t}{\\partial \\tilde{h}_t}\\frac{\\partial \\tilde{h}_t}{\\partial \\Wh} \\\\\n",
    "                                   &= -(y-\\hat{y}_t) W * \\Z * \\Gfull[\\prime] \\color{green}{x_t}\n",
    "\\end{align}"
   ]
  },
  {
   "cell_type": "code",
   "execution_count": 21,
   "metadata": {},
   "outputs": [],
   "source": [
    "dLossdWh = np.zeros_like(Wh)\n",
    "\n",
    "for t, xt in enumerate(x):\n",
    "    # Note that `h` has an entry at start, so indexing at t accesses h_{t-1}\n",
    "    dh_tdWh = dtanh(Wh.dot(xt) + Uh.dot(r[t] * h[t])) * xt\n",
    "    dLossdWh += -(y-y_[t]) * w * z[t] * dh_tdWh"
   ]
  },
  {
   "cell_type": "markdown",
   "metadata": {},
   "source": [
    "Again, following the logic of the backpropagation algorithm for the gradient of $loss_t$ with respect to $\\Uh$, we obtain\n",
    "\n",
    "\\begin{align}\n",
    "\\frac{\\partial {loss}_t}{\\partial \\Uh} &= \\frac{\\partial {loss}_t}{\\partial \\hat{y}_t}\\frac{\\partial \\hat{y}_t}{\\partial h_t}\\frac{\\partial h_t}{\\partial \\tilde{h}_t}\\frac{\\partial \\tilde{h}_t}{\\partial \\Uh} \\\\\n",
    "                                    &= -(y-\\hat{y}_t)\\ \\diag \\left[ w * \\Z * \\Gfull[\\prime]\\right] \\cdot  \\begin{bmatrix} (\\R * \\H)^T \\\\ (\\R * \\H)^T \\end{bmatrix}\n",
    "\\end{align}"
   ]
  },
  {
   "cell_type": "code",
   "execution_count": 22,
   "metadata": {},
   "outputs": [],
   "source": [
    "dLossdUh = np.zeros_like(Uh)\n",
    "\n",
    "for t, xt in enumerate(x):\n",
    "    dy_dh_t = w * z[t] * dtanh(Wh.dot(xt) + Uh.dot(r[t] * h[t]))\n",
    "    dLossdUh += -(y-y_[t]) * dy_dh_t.reshape(-1, 1) * h[t]"
   ]
  },
  {
   "cell_type": "markdown",
   "metadata": {},
   "source": [
    "### Weights for the update gate $z_t$\n",
    "\n",
    "Using the same logic, we calculate the gradient of $loss_t$ with respect to $\\Wz$, which gives \n",
    "\n",
    "\\begin{align}\n",
    "\\frac{\\partial {loss}_t}{\\partial W_z} &= \\frac{\\partial {loss}_t}{\\partial \\hat{y}_t}\\frac{\\partial \\hat{y}_t}{\\partial h_t}\\frac{\\partial h_t}{\\partial z_t}\\frac{\\partial z_t}{\\partial W_z} \\\\\n",
    "                                   &= -(y-\\hat{y}_t)\\ w * \\begin{bmatrix} -\\H + \\Htil \\end{bmatrix} * \\Zfull[\\prime] \\dxt{red}.\n",
    "\\end{align}\n",
    "\n",
    "Which in turn we can translate into `Python` code."
   ]
  },
  {
   "cell_type": "code",
   "execution_count": 23,
   "metadata": {},
   "outputs": [],
   "source": [
    "dLossdWz = np.zeros_like(Wz)\n",
    "\n",
    "for t, xt in enumerate(x):\n",
    "    dztdWz = dsigmoid(Wz.dot(xt) + Uz.dot(h[t])) * xt\n",
    "    dLossdWz += -(y-y_[t]) * w * (-h[t+1] - h_[t]) * dztdWz"
   ]
  },
  {
   "cell_type": "markdown",
   "metadata": {},
   "source": [
    "By now this should be getting old. We use the previous derivations in order to find the gradient of the loss function with respect to $\\Uz$, where now one can easily see that:\n",
    "\n",
    "\\begin{align}\n",
    "\\frac{\\partial {loss}_t}{\\partial \\Uz} &= \\frac{\\partial loss}{\\partial \\hat{y}_t}\\frac{\\partial \\hat{y}_t}{\\partial h_t}\\frac{\\partial h_t}{\\partial z_t}\\frac{\\partial z_t}{\\partial \\Uz} \\\\\n",
    "                                   &= -(y-\\hat{y}_t)\\ \\diag \\left[ w * [-\\H + \\Htil] * \\Zfull[\\prime]\\right] \\cdot \\begin{bmatrix} \\H^T \\\\ \\H^T \\end{bmatrix}.\n",
    "\\end{align}\n",
    "\n",
    "Having done that, we can implement it in the now too familiar way."
   ]
  },
  {
   "cell_type": "code",
   "execution_count": 24,
   "metadata": {},
   "outputs": [],
   "source": [
    "dLossdUz = np.zeros_like(Uz)\n",
    "\n",
    "for t, xt in enumerate(x):\n",
    "    dy_dzt = w * [-h[t+1] + h_[t] * dsigmoid(Wz.dot(xt) + Uz.dot(h[t]))]\n",
    "    dLossdUz += -(y-y_[t]) * dy_dzt.reshape(-1, 1) * h[t]"
   ]
  },
  {
   "cell_type": "markdown",
   "metadata": {},
   "source": [
    "### Weights for the reset gate $r_t$\n",
    "\n",
    "Similarly, we can proceed with obtaining the gradients of $loss_t$ with respect to the elements of the reset gate.\n",
    "\n",
    "\\begin{align}\n",
    "\\frac{\\partial {loss}_t}{\\partial \\Wr} &= \\frac{\\partial {loss}_t}{\\partial \\hat{y}_t}\\frac{\\partial \\hat{y}_t}{\\partial h_t}\\frac{\\partial h_t}{\\partial \\tilde{h}_t}\\frac{\\partial \\tilde{h}_t}{\\partial \\Wr} \\\\\n",
    "                                   &= -(y-\\hat{y}_t)\\ w^T \\cdot \\left(\n",
    "\\begin{bmatrix} \\Z & \\Z \\end{bmatrix} * \n",
    "\\begin{bmatrix} \\Gfull[\\prime] & \\Gfull[\\prime] \\end{bmatrix} * \n",
    "\\Uh *\n",
    "\\begin{bmatrix} \\H^T \\\\ \\H^T \\end{bmatrix} *\n",
    "\\begin{bmatrix} \\Rfull[\\prime]^T \\\\ \\Rfull[\\prime]^T \\end{bmatrix}\n",
    "\\right) \\dxt{blue}.\n",
    "\\end{align}\n",
    "\n",
    "Which we also implement in `Python`."
   ]
  },
  {
   "cell_type": "code",
   "execution_count": 25,
   "metadata": {},
   "outputs": [],
   "source": [
    "dLossdWr = np.zeros_like(Wr)\n",
    "\n",
    "for t, xt in enumerate(x):\n",
    "    z_dg = z[t] * dtanh(Wh.dot(xt) + Uh.dot(r[t] * h[t]))\n",
    "    d_rt = dsigmoid(Wr.dot(xt) + Ur.dot(h[t]))\n",
    "    dLossdWr += -(y-y_[t]) * w.dot(z_dg.reshape(-1, 1) * Uh * h[t] * d_rt) * xt"
   ]
  },
  {
   "cell_type": "markdown",
   "metadata": {},
   "source": [
    "Finally, we compute the gradient of $loss_t$ with respect to $\\Ur$\n",
    "\n",
    "\\begin{align}\n",
    "\\deriv{loss_t}{\\Ur} &= -(y-\\yhat) \\begin{bmatrix}(w * \\Z * \\Gfull[\\prime])^T \\\\ (w * \\Z * \\Gfull[\\prime])^T \\end{bmatrix} \\cdot \\Uh^T  * \n",
    "\\begin{bmatrix} \\H \\cdot \\H^T \\end{bmatrix} *\n",
    "\\begin{bmatrix} \\Rfull[\\prime] & \\Rfull[\\prime] \\end{bmatrix}.\n",
    "\\end{align}\n",
    "\n",
    "We implement this gradient in the following way:"
   ]
  },
  {
   "cell_type": "code",
   "execution_count": 26,
   "metadata": {},
   "outputs": [],
   "source": [
    "dLossdUr = np.zeros_like(Ur)\n",
    "\n",
    "for t, xt in enumerate(x):\n",
    "    w_z_dg = w * z[t] * dtanh(Wh.dot(xt) + Uh.dot(r[t] * h[t]))\n",
    "    outer_h = np.outer(h[t], h[t])\n",
    "    dr = dsigmoid(Wr.dot(xt)+Ur.dot(h[t])).reshape(-1, 1)\n",
    "\n",
    "    dLossdUr += -(y - y_[t]) * w_z_dg.dot(Uh.T)*outer_h * dr\n"
   ]
  },
  {
   "cell_type": "markdown",
   "metadata": {},
   "source": [
    "### GRU: Update the weights\n",
    "\n",
    "Now that we have computed the gradients of the loss function with respect to any of the weight matrices, we can update the weights and then see if this did indeed improve the prediction of our toy example."
   ]
  },
  {
   "cell_type": "code",
   "execution_count": 27,
   "metadata": {},
   "outputs": [],
   "source": [
    "eta = 0.1\n",
    "Wr -= eta * dLossdWr\n",
    "Wz -= eta * dLossdWz\n",
    "Wh -= eta * dLossdWh\n",
    "\n",
    "Ur -= eta * dLossdUr\n",
    "Uz -= eta * dLossdUz\n",
    "Uh -= eta * dLossdUh"
   ]
  },
  {
   "cell_type": "markdown",
   "metadata": {},
   "source": [
    "Now we perform the forward pass again with the updated weights."
   ]
  },
  {
   "cell_type": "code",
   "execution_count": 28,
   "metadata": {},
   "outputs": [],
   "source": [
    "yhat_after = GRU_forward()"
   ]
  },
  {
   "cell_type": "code",
   "execution_count": 29,
   "metadata": {},
   "outputs": [
    {
     "data": {
      "text/html": [
       "<div>\n",
       "<style scoped>\n",
       "    .dataframe tbody tr th:only-of-type {\n",
       "        vertical-align: middle;\n",
       "    }\n",
       "\n",
       "    .dataframe tbody tr th {\n",
       "        vertical-align: top;\n",
       "    }\n",
       "\n",
       "    .dataframe thead th {\n",
       "        text-align: right;\n",
       "    }\n",
       "</style>\n",
       "<table border=\"1\" class=\"dataframe\">\n",
       "  <thead>\n",
       "    <tr style=\"text-align: right;\">\n",
       "      <th></th>\n",
       "      <th>$\\hat{y}_{before}$</th>\n",
       "      <th>$\\hat{y}_{after}$</th>\n",
       "      <th>$y$</th>\n",
       "    </tr>\n",
       "  </thead>\n",
       "  <tbody>\n",
       "    <tr>\n",
       "      <th>1</th>\n",
       "      <td>5.14414</td>\n",
       "      <td>5.986334</td>\n",
       "      <td>7.0</td>\n",
       "    </tr>\n",
       "  </tbody>\n",
       "</table>\n",
       "</div>"
      ],
      "text/plain": [
       "   $\\hat{y}_{before}$  $\\hat{y}_{after}$  $y$\n",
       "1             5.14414           5.986334  7.0"
      ]
     },
     "execution_count": 29,
     "metadata": {},
     "output_type": "execute_result"
    }
   ],
   "source": [
    "pd.DataFrame({r\"$\\hat{y}_{before}$\": yhat_before, r\"$\\hat{y}_{after}$\": yhat_after, r\"$y$\": y}, index=[1])"
   ]
  },
  {
   "cell_type": "markdown",
   "metadata": {},
   "source": [
    "And indeed, we are better than before. If we were to reiterate these steps multiple times we could get arbitrarily close to the true value of $7$."
   ]
  },
  {
   "cell_type": "code",
   "execution_count": 25,
   "metadata": {
    "colab": {
     "base_uri": "https://localhost:8080/",
     "height": 145
    },
    "colab_type": "code",
    "executionInfo": {
     "elapsed": 37464,
     "status": "ok",
     "timestamp": 1545031948062,
     "user": {
      "displayName": "Thomas Siskos",
      "photoUrl": "",
      "userId": "07314453599490335660"
     },
     "user_tz": -60
    },
    "id": "brnADKcIMsmj",
    "outputId": "3d54f8c1-81e0-4786-d202-782d6c296ea7"
   },
   "outputs": [],
   "source": [
    "import os\n",
    "import json\n",
    "import copy\n",
    "\n",
    "from keras.layers import SimpleRNN, LSTM, GRU\n",
    "from models.recurrent import Recurrent\n",
    "\n",
    "from tqdm import tqdm_notebook as tqdm\n",
    "\n",
    "from sklearn.metrics import mean_squared_error, mean_absolute_error\n",
    "from hyperopt import tpe, hp, fmin, STATUS_OK, Trials\n",
    "from hyperopt.pyll.base import scope\n",
    "\n",
    "from pprint import pprint"
   ]
  },
  {
   "cell_type": "markdown",
   "metadata": {
    "colab_type": "text",
    "id": "UIZeKG-hMsmT"
   },
   "source": [
    "## Parameter Tuning using `hyperopt`\n",
    "\n",
    "Since we now know what we are doing and how our models work it's time to turn our attention back to our initial problem at hand and to fine tune our neural nets. Since we want to be able to make a fair comparison among the three different types of neural networks we need to tune them in a similar fashion, and to be precise we should also tune the same hyperparameters for them. A nice way to do that is to use the `hyperopt` module. With it, we will use a Tree of Parzen Estimators to find the optimal set of hyperparameters (for more information regarting Tree of Parzen Estimators consider the Appendix).\n",
    "\n",
    "Additionally, to facilitate the fitting of numerous models we opted to automate the data generation process and to gather other assorted functionality in a custom built subclass of the `keras.Sequential` class. We will explain selected features of this handcrafted `models.Recurrent` class along the way. There is also a full [documentation](https://github.com/thsis/INFOSYS/blob/master/README.md) available."
   ]
  },
  {
   "cell_type": "markdown",
   "metadata": {
    "colab_type": "text",
    "id": "q46OZEhvMsmz"
   },
   "source": [
    "### Load the series by district:\n",
    "\n",
    "First we want to load the data and here we want to explicitly parse the dates inside the `Date` column and specify a `MultiIndex` where the levels are `Date` and then `District`. This allows our `models.Recurrent`-class to distinguish between the series for the whole of Chicago and the Chicago crime series by each district. "
   ]
  },
  {
   "cell_type": "code",
   "execution_count": 26,
   "metadata": {
    "colab": {
     "base_uri": "https://localhost:8080/",
     "height": 111
    },
    "colab_type": "code",
    "executionInfo": {
     "elapsed": 1358,
     "status": "ok",
     "timestamp": 1545032014547,
     "user": {
      "displayName": "Thomas Siskos",
      "photoUrl": "",
      "userId": "07314453599490335660"
     },
     "user_tz": -60
    },
    "id": "reOGQNIHMsm0",
    "outputId": "95d06ada-8c47-49e1-a0df-63ce8d71f7b1"
   },
   "outputs": [
    {
     "data": {
      "text/html": [
       "<div>\n",
       "<style scoped>\n",
       "    .dataframe tbody tr th:only-of-type {\n",
       "        vertical-align: middle;\n",
       "    }\n",
       "\n",
       "    .dataframe tbody tr th {\n",
       "        vertical-align: top;\n",
       "    }\n",
       "\n",
       "    .dataframe thead tr th {\n",
       "        text-align: left;\n",
       "    }\n",
       "</style>\n",
       "<table border=\"1\" class=\"dataframe\">\n",
       "  <thead>\n",
       "    <tr>\n",
       "      <th>Date</th>\n",
       "      <th colspan=\"21\" halign=\"left\">2001-01-01</th>\n",
       "    </tr>\n",
       "    <tr>\n",
       "      <th>District</th>\n",
       "      <th>1.0</th>\n",
       "      <th>2.0</th>\n",
       "      <th>3.0</th>\n",
       "      <th>4.0</th>\n",
       "      <th>5.0</th>\n",
       "      <th>6.0</th>\n",
       "      <th>7.0</th>\n",
       "      <th>8.0</th>\n",
       "      <th>9.0</th>\n",
       "      <th>10.0</th>\n",
       "      <th>...</th>\n",
       "      <th>16.0</th>\n",
       "      <th>17.0</th>\n",
       "      <th>18.0</th>\n",
       "      <th>19.0</th>\n",
       "      <th>20.0</th>\n",
       "      <th>21.0</th>\n",
       "      <th>22.0</th>\n",
       "      <th>24.0</th>\n",
       "      <th>25.0</th>\n",
       "      <th>31.0</th>\n",
       "    </tr>\n",
       "  </thead>\n",
       "  <tbody>\n",
       "    <tr>\n",
       "      <th>Incidents</th>\n",
       "      <td>37.0</td>\n",
       "      <td>110.0</td>\n",
       "      <td>103.0</td>\n",
       "      <td>96.0</td>\n",
       "      <td>95.0</td>\n",
       "      <td>84.0</td>\n",
       "      <td>83.0</td>\n",
       "      <td>111.0</td>\n",
       "      <td>109.0</td>\n",
       "      <td>104.0</td>\n",
       "      <td>...</td>\n",
       "      <td>67.0</td>\n",
       "      <td>67.0</td>\n",
       "      <td>72.0</td>\n",
       "      <td>72.0</td>\n",
       "      <td>40.0</td>\n",
       "      <td>0.0</td>\n",
       "      <td>61.0</td>\n",
       "      <td>59.0</td>\n",
       "      <td>120.0</td>\n",
       "      <td>0.0</td>\n",
       "    </tr>\n",
       "  </tbody>\n",
       "</table>\n",
       "<p>1 rows × 24 columns</p>\n",
       "</div>"
      ],
      "text/plain": [
       "Date      2001-01-01                                                      \\\n",
       "District        1.0    2.0    3.0   4.0   5.0   6.0   7.0    8.0    9.0    \n",
       "Incidents       37.0  110.0  103.0  96.0  95.0  84.0  83.0  111.0  109.0   \n",
       "\n",
       "Date             ...                                                         \\\n",
       "District    10.0 ...   16.0  17.0  18.0  19.0  20.0 21.0  22.0  24.0   25.0   \n",
       "Incidents  104.0 ...   67.0  67.0  72.0  72.0  40.0  0.0  61.0  59.0  120.0   \n",
       "\n",
       "Date            \n",
       "District  31.0  \n",
       "Incidents  0.0  \n",
       "\n",
       "[1 rows x 24 columns]"
      ]
     },
     "execution_count": 26,
     "metadata": {},
     "output_type": "execute_result"
    }
   ],
   "source": [
    "datapath_district = os.path.join(\"..\", \"data\", \"crimes_district.csv\")\n",
    "district = pd.read_csv(datapath_district, index_col=[\"Date\", \"District\"],\n",
    "                       dtype={\"District\": object,\n",
    "                              \"Incidents\": np.float32},\n",
    "                       parse_dates=[\"Date\"])\n",
    "district.sort_index().head(24).T"
   ]
  },
  {
   "cell_type": "markdown",
   "metadata": {},
   "source": [
    "However, this is just a series and not exactly a matrix of features, as we know it from traditional statistics or even other architectures for neural networks. Therefore we take the series as it is to be our **target** variable and we construct multiple columns by lagging the series by up to $l$ days, where $l \\in \\mathbb{N}$. If the maximum number of lags is, for example, $l = 3$ this means that we try to predict the number of cases today, just by knowing the number of cases that occured the previous day, the day before that and the day before that day. This is handily included in the `models.Recurrent` class."
   ]
  },
  {
   "cell_type": "markdown",
   "metadata": {},
   "source": [
    "```python\n",
    "class Recurrent(Sequential):\n",
    "    def __init__(self, ...):\n",
    "        # Lots of code...\n",
    "    \n",
    "    def __get_features(self):\n",
    "        cols = [\"lag_\" + str(i) for i in range(1, self.maxlag+1)]\n",
    "\n",
    "        for i, colname in enumerate(cols, 1):\n",
    "            if isinstance(self.data.index, pd.core.index.MultiIndex):\n",
    "                lag = self.data.groupby(self.cross_label)[\"y\"].shift(i)\n",
    "            else:\n",
    "                lag = self.data[\"y\"].shift(i)\n",
    "\n",
    "            self.data[colname] = lag\n",
    "\n",
    "        self.data = self.data.dropna(axis=0)\n",
    "        # Even more code...        \n",
    "```"
   ]
  },
  {
   "cell_type": "markdown",
   "metadata": {},
   "source": [
    "We include the maximum number of lags as another hyperparameter, in order to cut down on training time. Besides, we have no reason to believe that the number of crime incidents in the far past, say more than a year ago, would be a good indicator for the number of occuring acts of crime tomorrow."
   ]
  },
  {
   "cell_type": "markdown",
   "metadata": {
    "colab_type": "text",
    "id": "JhYEx224Msm6"
   },
   "source": [
    "### Separate data and a holdout set.\n",
    "\n",
    "Because we use a library that tunes parameters with regards to the test set, we need to separate a holdout set. On this set, which we will not expose to our models we can evaluate the performance of our tuned models."
   ]
  },
  {
   "cell_type": "code",
   "execution_count": 27,
   "metadata": {
    "colab": {},
    "colab_type": "code",
    "id": "Q4-q0b1DMsm6"
   },
   "outputs": [],
   "source": [
    "# Define breaking points for train and holdout set.\n",
    "lower = pd.to_datetime(\"2015-01-01\")\n",
    "upper = pd.to_datetime(\"2017-01-01\")\n",
    "end = pd.to_datetime(\"2018-01-01\")\n",
    "# Divide dataset.\n",
    "district_data = copy.deepcopy(district.loc[district.index.map(lambda x: lower <= x[0] < upper), :])\n",
    "district_holdout = copy.deepcopy(district.loc[district.index.map(lambda x: upper <= x[0] < end), :])"
   ]
  },
  {
   "cell_type": "markdown",
   "metadata": {
    "colab_type": "text",
    "id": "uHf-qUidMsnE"
   },
   "source": [
    "### Hyperopt parameter spaces\n",
    "\n",
    "Most of our models have similar parameters which we want to tune. For the sampling of the subspace we use mostly uniform distributions, since they impose the least a-priori assumptions on where the optimal parameters lie. Additionally, mostly due to hardware limitations, we restrict the number of maximum lags to be no higher than $100$."
   ]
  },
  {
   "cell_type": "code",
   "execution_count": 5,
   "metadata": {
    "colab": {},
    "colab_type": "code",
    "id": "PgJDORp9MsnF"
   },
   "outputs": [],
   "source": [
    "# add optimizer, learn-rate, \n",
    "paramspace = {\"maxlag\": scope.int(hp.quniform(\"maxlag\", 1, 100, 1)),\n",
    "              \"cell_neurons\": scope.int(hp.quniform(\"cell_neurons\", 1, 30, 1)),\n",
    "              \"batch_size\": scope.int(hp.quniform(\"batch_size\", 1, 100, 1)),\n",
    "              \"optimizer\": hp.choice(\"optimizer\", [\"adam\", \"sgd\"])}"
   ]
  },
  {
   "cell_type": "markdown",
   "metadata": {
    "colab_type": "text",
    "id": "T9XaIyMxMsnK"
   },
   "source": [
    "We have defined a base parameter space dictionary which we update with the parameters which are more specific to each cell. This can get out of hand pretty fast, therefore we generate a dictionary through a loop:"
   ]
  },
  {
   "cell_type": "code",
   "execution_count": 6,
   "metadata": {
    "colab": {
     "base_uri": "https://localhost:8080/",
     "height": 287
    },
    "colab_type": "code",
    "executionInfo": {
     "elapsed": 393,
     "status": "ok",
     "timestamp": 1545032025243,
     "user": {
      "displayName": "Thomas Siskos",
      "photoUrl": "",
      "userId": "07314453599490335660"
     },
     "user_tz": -60
    },
    "id": "1zohqnNLMsnL",
    "outputId": "3a090bda-192b-4a23-da4c-dcd4a22d1628"
   },
   "outputs": [
    {
     "name": "stdout",
     "output_type": "stream",
     "text": [
      "{'GRU': {'batch_size': <hyperopt.pyll.base.Apply object at 0x7fae81b2f9b0>,\n",
      "         'cell': <class 'keras.layers.recurrent.GRU'>,\n",
      "         'cell_neurons': <hyperopt.pyll.base.Apply object at 0x7fae81b2f7f0>,\n",
      "         'maxlag': <hyperopt.pyll.base.Apply object at 0x7fae81b28e10>,\n",
      "         'optimizer': <hyperopt.pyll.base.Apply object at 0x7fae81b2fa90>},\n",
      " 'LSTM': {'batch_size': <hyperopt.pyll.base.Apply object at 0x7fae81b2f9b0>,\n",
      "          'cell': <class 'keras.layers.recurrent.LSTM'>,\n",
      "          'cell_neurons': <hyperopt.pyll.base.Apply object at 0x7fae81b2f7f0>,\n",
      "          'maxlag': <hyperopt.pyll.base.Apply object at 0x7fae81b28e10>,\n",
      "          'optimizer': <hyperopt.pyll.base.Apply object at 0x7fae81b2fa90>},\n",
      " 'SimpleRNN': {'batch_size': <hyperopt.pyll.base.Apply object at 0x7fae81b2f9b0>,\n",
      "               'cell': <class 'keras.layers.recurrent.SimpleRNN'>,\n",
      "               'cell_neurons': <hyperopt.pyll.base.Apply object at 0x7fae81b2f7f0>,\n",
      "               'maxlag': <hyperopt.pyll.base.Apply object at 0x7fae81b28e10>,\n",
      "               'optimizer': <hyperopt.pyll.base.Apply object at 0x7fae81b2fa90>}}\n"
     ]
    }
   ],
   "source": [
    "spacesdict ={}\n",
    "for cell in (SimpleRNN, LSTM, GRU):\n",
    "    spacesdict[cell.__name__] = {\"cell\": cell, **paramspace}\n",
    "\n",
    "pprint(spacesdict)"
   ]
  },
  {
   "cell_type": "markdown",
   "metadata": {
    "colab_type": "text",
    "id": "OUrdVXZKMsnR"
   },
   "source": [
    "In order to store the results of each `hyperopt`-search we can create a `hyperopt.Trials`-object, which is very similar to a native Python `dictionary`."
   ]
  },
  {
   "cell_type": "code",
   "execution_count": 7,
   "metadata": {
    "colab": {
     "base_uri": "https://localhost:8080/",
     "height": 125
    },
    "colab_type": "code",
    "executionInfo": {
     "elapsed": 1075,
     "status": "ok",
     "timestamp": 1545032028697,
     "user": {
      "displayName": "Thomas Siskos",
      "photoUrl": "",
      "userId": "07314453599490335660"
     },
     "user_tz": -60
    },
    "id": "CSGL-pKDMsnS",
    "outputId": "d17860c2-bb79-45a3-893f-c212672904c9"
   },
   "outputs": [
    {
     "name": "stdout",
     "output_type": "stream",
     "text": [
      "{'GRU': <hyperopt.base.Trials object at 0x7fae9e4e7978>,\n",
      " 'LSTM': <hyperopt.base.Trials object at 0x7fae9e4e77b8>,\n",
      " 'SimpleRNN': <hyperopt.base.Trials object at 0x7fae9e4e7908>}\n"
     ]
    }
   ],
   "source": [
    "trialsdict = {model: Trials() for model in (\"SimpleRNN\", \"LSTM\", \"GRU\")}\n",
    "pprint(trialsdict)"
   ]
  },
  {
   "cell_type": "markdown",
   "metadata": {
    "colab_type": "text",
    "id": "HKjvtKXRMsnZ"
   },
   "source": [
    "### Optimizing over the parameter space\n",
    "\n",
    "The design of the `hyperopt`-module demands of us to define an objective function, which we then optimize by calling the `hyperopt.fmin` function. And of course, we could do that. However, the objective function will be extremely costly to evaluate - and there is nothing to be done about that - we only add a progress bar, since there is no visual representation of the algorithms' progress. That's why we will use the `Python`-decorator syntax, where we decorate our model call with the progress bar from the `tqdm` module and the `fmin`-function from `hyperopt`."
   ]
  },
  {
   "cell_type": "code",
   "execution_count": 36,
   "metadata": {
    "colab": {},
    "colab_type": "code",
    "id": "x8StfQyQMsnc"
   },
   "outputs": [],
   "source": [
    "def minimizer(objective):\n",
    "    def outer(paramspace, trials, max_evals=100):\n",
    "        \"\"\"Generate an inner objective-function and optimize it.\"\"\"\n",
    "        pbar = tqdm(total=max_evals, desc=paramspace[\"cell\"].__name__)\n",
    "        def inner(*args, **kwargs):\n",
    "            \"\"\"Update the progress bar and call the objective function.\"\"\"\n",
    "            pbar.update()\n",
    "            return objective(*args, **kwargs)\n",
    "\n",
    "        best = fmin(fn=inner,\n",
    "                    space=paramspace,\n",
    "                    algo=tpe.suggest,\n",
    "                    max_evals=max_evals,\n",
    "                    trials=trials)\n",
    "        pbar.close()\n",
    "        return best\n",
    "    return outer"
   ]
  },
  {
   "cell_type": "markdown",
   "metadata": {},
   "source": [
    "This way, each time the nested function `inner` gets called, it will update the progress bar. Giving us a rough idea on how long it will take until we get our results (unfortunately it does not seem to render correctly in HTML). "
   ]
  },
  {
   "cell_type": "markdown",
   "metadata": {
    "colab_type": "text",
    "id": "uyUt7nxxMsnm"
   },
   "source": [
    "And now to the function we wish to decorate. It contains 3 steps:\n",
    "1. Create a model with a certain set of (yet undefined) parameters.\n",
    "2. Train the model.\n",
    "3. Calculate the loss on a test set and return a dictionary, that contains the loss and a flag indicating that everything went okay.\n",
    "\n",
    "We choose a very simplistic architecture, where we have only the input layer, a hidden layer which we call - in accordance to the `keras` documentation - a *cell*. This *cell* can be a `keras.SimpleRNN`, a `keras.LSTM` or a `keras.GRU` object. Finally, we add a densely connected output layer, that we provide with a Rectified Linear Unit (ReLu) activation function, this step is just a precaution, since we do not want our model to generate predictions which are lower than zero.\n",
    "\n",
    "```python\n",
    "class Recurrent(Sequential):\n",
    "    def __init__(self, ...):\n",
    "        # Lots of code...\n",
    "       \n",
    "    def train(self):\n",
    "        \"\"\"Train the model based on parameters passed to `__init__`.\"\"\"\n",
    "        X_train = self.__transform_shape(self.X_train)\n",
    "\n",
    "        self.add(self.cell(self.cell_neurons,\n",
    "                           input_shape=(1, self.maxlag),\n",
    "                           **self.cellkwargs))\n",
    "        self.add(Dense(1))\n",
    "        self.add(Activation('relu'))\n",
    "\n",
    "        self.compile(loss=self.lossfunc,\n",
    "                     optimizer=self.optimizer,\n",
    "                     metrics=self.metrics)\n",
    "        self.fit(X_train, self.y_train,\n",
    "                 epochs=self.epochs,\n",
    "                 batch_size=self.batch_size,\n",
    "                 verbose=self.verbose,\n",
    "                 **self.fitkwargs)\n",
    "        \n",
    "    # Further code...\n",
    "```\n",
    "\n",
    "And while defining the function, we can pass it directly to our decorator."
   ]
  },
  {
   "cell_type": "code",
   "execution_count": 37,
   "metadata": {
    "colab": {},
    "colab_type": "code",
    "id": "RBmT4lysMsn3"
   },
   "outputs": [],
   "source": [
    "@minimizer\n",
    "def district_get_loss(params):\n",
    "    \"\"\"Return loss on test set.\"\"\"\n",
    "    model = Recurrent(district_data, epochs=3, verbose=False, **params)\n",
    "    model.train()\n",
    "    predictions = model.forecast(model.X_test)\n",
    "    loss = mean_squared_error(y_true=model.y_test, y_pred=predictions)\n",
    "    return {'loss': loss, 'status': STATUS_OK}"
   ]
  },
  {
   "cell_type": "markdown",
   "metadata": {
    "colab_type": "text",
    "id": "O5mNxCx_MsoA"
   },
   "source": [
    "The above syntax is just a shortcut for\n",
    "```python\n",
    "district_get_loss = minimizer(district_get_loss)\n",
    "```\n",
    "\n",
    "And now to tuning the hyperparameters. Again we pass through all our models and store the best hyperparameters in a dictionary."
   ]
  },
  {
   "cell_type": "code",
   "execution_count": 38,
   "metadata": {
    "colab": {
     "base_uri": "https://localhost:8080/",
     "height": 2568
    },
    "colab_type": "code",
    "executionInfo": {
     "elapsed": 12589980,
     "status": "error",
     "timestamp": 1544988819688,
     "user": {
      "displayName": "Thomas Siskos",
      "photoUrl": "",
      "userId": "07314453599490335660"
     },
     "user_tz": -60
    },
    "id": "A44sibRMMsoB",
    "outputId": "61e6aab6-87e0-4226-c925-e6ec52477ee3"
   },
   "outputs": [
    {
     "data": {
      "application/vnd.jupyter.widget-view+json": {
       "model_id": "855ba9167bb64727bea92e98c8159619",
       "version_major": 2,
       "version_minor": 0
      },
      "text/plain": [
       "HBox(children=(IntProgress(value=0, description='SimpleRNN', style=ProgressStyle(description_width='initial'))…"
      ]
     },
     "metadata": {},
     "output_type": "display_data"
    },
    {
     "name": "stdout",
     "output_type": "stream",
     "text": [
      "\n"
     ]
    },
    {
     "data": {
      "application/vnd.jupyter.widget-view+json": {
       "model_id": "5eae0e52b965416795ca91eb2c0c9f85",
       "version_major": 2,
       "version_minor": 0
      },
      "text/plain": [
       "HBox(children=(IntProgress(value=0, description='LSTM', style=ProgressStyle(description_width='initial')), HTM…"
      ]
     },
     "metadata": {},
     "output_type": "display_data"
    },
    {
     "name": "stdout",
     "output_type": "stream",
     "text": [
      "\n"
     ]
    },
    {
     "data": {
      "application/vnd.jupyter.widget-view+json": {
       "model_id": "c4aaccebcf7e4d56bccbc2ae6954cc11",
       "version_major": 2,
       "version_minor": 0
      },
      "text/plain": [
       "HBox(children=(IntProgress(value=0, description='GRU', style=ProgressStyle(description_width='initial')), HTML…"
      ]
     },
     "metadata": {},
     "output_type": "display_data"
    },
    {
     "name": "stdout",
     "output_type": "stream",
     "text": [
      "\n"
     ]
    }
   ],
   "source": [
    "best = {}\n",
    "\n",
    "for model in \"SimpleRNN\", \"LSTM\", \"GRU\":\n",
    "    best[model] = district_get_loss(spacesdict[model], \n",
    "                                    trialsdict[model])"
   ]
  },
  {
   "cell_type": "markdown",
   "metadata": {
    "colab_type": "text",
    "id": "NYu-PTXYMsoL"
   },
   "source": [
    "The reason why we use dictionaries so much is, because we can easily save them as a `json`-file."
   ]
  },
  {
   "cell_type": "code",
   "execution_count": 39,
   "metadata": {
    "colab": {},
    "colab_type": "code",
    "id": "jqEriUrWMsoN"
   },
   "outputs": [],
   "source": [
    "with open(os.path.join(\"..\", 'analysis', \"models\", 'best_params.json'), 'w') as outfile:\n",
    "    json.dump(best, outfile)"
   ]
  },
  {
   "cell_type": "code",
   "execution_count": 9,
   "metadata": {
    "colab": {
     "base_uri": "https://localhost:8080/",
     "height": 107
    },
    "colab_type": "code",
    "executionInfo": {
     "elapsed": 626,
     "status": "ok",
     "timestamp": 1544988825300,
     "user": {
      "displayName": "Thomas Siskos",
      "photoUrl": "",
      "userId": "07314453599490335660"
     },
     "user_tz": -60
    },
    "id": "51tPczCBMsoE",
    "outputId": "a49c8c84-b708-4d22-8a1b-01ffd0045896"
   },
   "outputs": [
    {
     "name": "stdout",
     "output_type": "stream",
     "text": [
      "{'GRU': {'batch_size': 2.0,\n",
      "         'cell_neurons': 26.0,\n",
      "         'maxlag': 44.0,\n",
      "         'optimizer': 1},\n",
      " 'LSTM': {'batch_size': 5.0,\n",
      "          'cell_neurons': 17.0,\n",
      "          'maxlag': 84.0,\n",
      "          'optimizer': 1},\n",
      " 'SimpleRNN': {'batch_size': 39.0,\n",
      "               'cell_neurons': 24.0,\n",
      "               'maxlag': 22.0,\n",
      "               'optimizer': 1}}\n"
     ]
    }
   ],
   "source": [
    "pprint(best)"
   ]
  },
  {
   "cell_type": "markdown",
   "metadata": {},
   "source": [
    "We see that the optimal hyperparameters for our different models do not differ too much. Especially the number of neurons stays roughly the same accross architectures. However, that does **not** mean that the number of weights is similar, by construction the *LSTM* has the most weights, followed by the *GRU*, the *RNN* has the least amount of weights that need to be trained. The most remarkable difference lies in the batch size, where both *LSTM* and *GRU* needed a smaller batch size to be trained effectively, which subsequently increases the time it needs to train them. Also it seams that the LSTM made use of much longer sequences than the GRU."
   ]
  },
  {
   "cell_type": "markdown",
   "metadata": {
    "colab_type": "text",
    "id": "DgR2IpNCHtVn"
   },
   "source": [
    "### Evaluate on Holdout set\n",
    "\n",
    "In order to properly evaluate our models we retrain them, using the optimal parameters as well as the data which until now has been left untouched. We can easily do that from within our custom `models.Recurrent` class. We just need to find the size of our new train set as a percentage of the original dataset. "
   ]
  },
  {
   "cell_type": "code",
   "execution_count": 10,
   "metadata": {
    "colab": {},
    "colab_type": "code",
    "id": "N2wFC7Jq0XUm"
   },
   "outputs": [],
   "source": [
    "train_size = len(district_data) / (len(district_data) + len(district_holdout))\n",
    "data = district.loc[district.index.map(lambda x: lower <= x[0] <= end)]"
   ]
  },
  {
   "cell_type": "markdown",
   "metadata": {},
   "source": [
    "Then we can train the final models and calculate the mean absolute and the mean squared error on the holdout set."
   ]
  },
  {
   "cell_type": "code",
   "execution_count": 11,
   "metadata": {
    "colab": {},
    "colab_type": "code",
    "id": "4Im1peOq9tzK"
   },
   "outputs": [
    {
     "data": {
      "application/vnd.jupyter.widget-view+json": {
       "model_id": "ccc7c14d541c4615a0c96992dfce1ec2",
       "version_major": 2,
       "version_minor": 0
      },
      "text/plain": [
       "HBox(children=(IntProgress(value=0, max=3), HTML(value='')))"
      ]
     },
     "metadata": {},
     "output_type": "display_data"
    },
    {
     "name": "stdout",
     "output_type": "stream",
     "text": [
      "\n"
     ]
    }
   ],
   "source": [
    "def typecast(params):\n",
    "    \"\"\"Fix types of hyperopt.Trials\"\"\"\n",
    "    out = {}\n",
    "    optimizers = [\"adam\", \"sgd\"]\n",
    "    for key, val in params.items():\n",
    "        if key == \"optimizer\":\n",
    "            # val is 0 or 1, transform into string\n",
    "            out[key] = optimizers[val]\n",
    "        else:\n",
    "            try:\n",
    "                # take a float, turn it into an int\n",
    "                out[key] = int(val)\n",
    "            except TypeError:\n",
    "                out[key] = val\n",
    "    return out\n",
    "\n",
    "name2cell = {\"RNN\": SimpleRNN,\n",
    "             \"LSTM\": LSTM,\n",
    "             \"GRU\": GRU}\n",
    "\n",
    "series_col = []\n",
    "cell_col = []\n",
    "loss_L1_col = []\n",
    "loss_L2_col = []\n",
    "\n",
    "for name, cell in tqdm(name2cell.items()):\n",
    "    bestparams = typecast({\"cell\": cell,\n",
    "                          **best[cell.__name__]})\n",
    "        \n",
    "    model = Recurrent(data, epochs=3, train_size=train_size,\n",
    "                      **bestparams, verbose=False)\n",
    "    model.train()\n",
    "        \n",
    "    y_pred = model.forecast(model.X_test)\n",
    "    \n",
    "    loss_L1 = mean_absolute_error(y_true=model.y_test,\n",
    "                                  y_pred=y_pred)\n",
    "    loss_L2 = mean_squared_error(y_true=model.y_test,\n",
    "                                 y_pred=y_pred)\n",
    "\n",
    "    cell_col.append(name)\n",
    "    loss_L2_col.append(loss_L2)\n",
    "    loss_L1_col.append(loss_L1);"
   ]
  },
  {
   "cell_type": "markdown",
   "metadata": {},
   "source": [
    "Additionally, we compare the models to a naive model, that simply outputs the previous days' number of reported crimes."
   ]
  },
  {
   "cell_type": "code",
   "execution_count": 28,
   "metadata": {},
   "outputs": [],
   "source": [
    "# Naive Model: prediction equal to previous day.\n",
    "district_holdout[\"Baseline\"] = district_holdout.groupby(\"District\").shift(1)\n",
    "district_holdout.dropna(axis=0, inplace=True)\n",
    "\n",
    "# Calculate baseline model performance.\n",
    "cell_col.insert(0, \"Baseline\")\n",
    "baseline_L1 = mean_absolute_error(y_true=district_holdout.Incidents,\n",
    "                                  y_pred=district_holdout.Baseline)\n",
    "loss_L1_col.insert(0, baseline_L1)\n",
    "baseline_L2 = mean_squared_error(y_true=district_holdout.Incidents,\n",
    "                                 y_pred=district_holdout.Baseline)\n",
    "loss_L2_col.insert(0, baseline_L2)"
   ]
  },
  {
   "cell_type": "markdown",
   "metadata": {},
   "source": [
    "And we save everything to a `pd.DataFrame`."
   ]
  },
  {
   "cell_type": "code",
   "execution_count": 29,
   "metadata": {
    "colab": {},
    "colab_type": "code",
    "id": "ksXPv6NB0dFb"
   },
   "outputs": [],
   "source": [
    "validation = pd.DataFrame({\"Model\": cell_col,\n",
    "                           \"Validation L1 Loss\": loss_L1_col,\n",
    "                           \"Validation L2 Loss\": loss_L2_col})\n",
    "validation.to_csv(os.path.join(\"..\", \"analysis\", \"models\", \"loss.csv\"), index=False)"
   ]
  },
  {
   "cell_type": "markdown",
   "metadata": {},
   "source": [
    "### Results and Comparison of the Models\n",
    "\n",
    "After testing all our models, we get to the results represented in the below table. We evaluate our models by computing the Mean Absolute Error (L1 loss) and Mean Squared Error (L2 loss). As a baseline model, we use a model that only predicts the last day, i.e. the number of crimes of today are equal to the number of crimes of yesterday."
   ]
  },
  {
   "cell_type": "markdown",
   "metadata": {},
   "source": [
    "|Model   |Validation L1 Loss|Validation L2 Loss|\n",
    "|--------|------------------|------------------|\n",
    "|Baseline|6.57              |78.39             |\n",
    "|RNN     |5.13              |48.67             |\n",
    "|LSTM    |4.97              |46.15             |\n",
    "|GRU     |4.96              |45.57             |"
   ]
  },
  {
   "cell_type": "markdown",
   "metadata": {},
   "source": [
    "All our models perform around 23 percent better than the baseline model when looking at the L1 Loss, i.e. the loss by absolute number of crime incidences. The models perform similar whereas the results of the simple RNN are not as good as of the LSTM and the GRU model. This might be due to the vanishing gradient problem that can be prevented with LSTM and GRU. Furthermore, these two have very similar loss values.\n",
    "\n",
    "In general, the GRU can be seen as less complex and faster when having lots of data. The LSTM and GRU perform similar, but usually both models are tested to see what performs better for the given data. The LSTM often times reaches better performance than the GRU. This can be argued to be due to the additional cell state which can hold on to information that is not needed for the output and thus can remember information better regarding long-term dependencies."
   ]
  },
  {
   "cell_type": "markdown",
   "metadata": {},
   "source": [
    "## Appendix\n",
    "\n",
    "### Tree of Parzen Estimators\n",
    "#### General Idea\n",
    "Typically, researchers are confronted with the problem that it takes considerable amounts of time when trying to evaluate a cost function. This problem is especially aggravating, when the optimization of that costly objective function is performed over a large grid of hyperparameters. \n",
    "\n",
    "The general idea of the tree of Parzen Estimators is remarkably simple. When we evaluate the objective function on multiple sets of hyperparameters $x$, we can always fix a threshold $y^\\star$ such that some evaluations are below that threshold, and some lie above. Effectively this means, that we have split our different evaluations into two parts: a good one, where the evaluated objective function lies below $y^\\star$ and a second part that leads to a worse loss larger than $y^\\star$, which is bad in our case.\n",
    "\n",
    "Mathematically speaking, we can split the conditional densities of our hyperparameters $x$ into two parts, such that"
   ]
  },
  {
   "cell_type": "markdown",
   "metadata": {},
   "source": [
    "\\begin{equation}\n",
    "p(x|y) = \\begin{cases}\n",
    "\\color{blue}{l(x)} \\text{ if } y<y^\\star \\\\\n",
    "\\color{red}{g(x)} \\text{ if } y \\geq y^\\star.\n",
    "\\end{cases}\n",
    "\\end{equation}"
   ]
  },
  {
   "cell_type": "markdown",
   "metadata": {},
   "source": [
    "This means, that when we want to consider a new set of hyperparamters, we would like to draw it from the distribution that seems to produce lower values for our objective function, i.e. we want to draw from $\\color{blue}{l(x)}$ \\[[cp. Bergstra et al 2011](https://papers.nips.cc/paper/4443-algorithms-for-hyper-parameter-optimization.pdf)\\]. "
   ]
  },
  {
   "cell_type": "markdown",
   "metadata": {},
   "source": [
    "![title](pictures/tpe.png)\n",
    "\\[[cp. Koehrsen 2018](https://towardsdatascience.com/a-conceptual-explanation-of-bayesian-model-based-hyperparameter-optimization-for-machine-learning-b8172278050f)\\]"
   ]
  },
  {
   "cell_type": "markdown",
   "metadata": {},
   "source": [
    "In the figure above we see an (artificial) example from evaluating the loss function of a Random Forest, where $x$ is simply the number of estimators we wish to use. As expected, we see that, the higher the number of trees we include in our Random Forest, the lower the loss we can achieve. When we fix $y^\\star=120$ we can separate two subsets from all the values of $x$ that we tried. When plotting their separate Kernel-Density estimates the red density corresponds to the values of $x$ that led to a high loss, whereas the blue distribution is formed by the values of $x$ which led to a low loss. Given that knowledge, when one is to choose a value of $x$ for the next evaluation common sense, and the Tree-structured Parzen Estimator approach encourage us to consider a value that is similar to the blue dots. Therefore we sample from $\\color{blue}{l(x)}$, since these values seem to have worked in the previous iterations."
   ]
  },
  {
   "cell_type": "markdown",
   "metadata": {},
   "source": [
    "#### Mathematical Derivation\n",
    "\n",
    "As stated, the general idea is remarkably simple. However, the mathematical derivation is a little more convoluted. Formally, the Tree-structured Parzen Estimator's goal is to maximize the Expected Information gain $EI_{y^\\star}$ for some fixed $y^\\star$"
   ]
  },
  {
   "cell_type": "markdown",
   "metadata": {},
   "source": [
    "\n",
    "$$\n",
    "EI_{y^\\star}(x) = \\int\\limits_{-\\infty}^{y^\\star} (y^\\star-y)p(y|x)dy.\n",
    "$$\n"
   ]
  },
  {
   "cell_type": "markdown",
   "metadata": {},
   "source": [
    "The expected information gain is a function of the hyperparameters, where we try to integrate out all interesting, values for y, i.e. those which are smaller than $y^\\star$. We can also use Bayes' formula to find a different expression for $p(y|x)$\n",
    "\n",
    "$$\n",
    "p(y|x) = \\frac{p(x|y)p(y)}{p(x)}.\n",
    "$$"
   ]
  },
  {
   "cell_type": "markdown",
   "metadata": {},
   "source": [
    "But before we continue, it will become useful to note some things about the unconditional density of $p(x)$"
   ]
  },
  {
   "cell_type": "markdown",
   "metadata": {},
   "source": [
    "\n",
    "\\begin{align}\n",
    "p(x) &= \\int p(x, y) dy \\\\\n",
    "     &= \\int p(x|y)p(y) dy \\\\\n",
    "     &= \\int\\limits_{\\color{blue}{-\\infty}}^{\\color{blue}{y^\\star}}\\color{blue}{p(x|y)}p(y)dy +\n",
    "        \\int\\limits^{\\color{red}{\\infty}}_{\\color{red}{y^\\star}}\\color{red}{p(x|y)}p(y)dy \\\\\n",
    "     &= \\color{blue}{l(x)} \\int\\limits_{-\\infty}^{y^\\star}p(y)dy +\n",
    "        \\color{red}{g(x)} \\int\\limits^{\\infty}_{y^\\star}p(y)dy \\\\\n",
    "     &= l(x) \\underbrace{P(Y<y^\\star)}_{:=\\gamma} + g(x)    \\underbrace{P(Y \\geq y^\\star)}_{:=1-\\gamma} \\\\\n",
    "     &= \\gamma l(x) + (1-\\gamma)g(x)\n",
    "\\end{align}\n",
    "\\[[cp. Bergstra et al 2011](https://papers.nips.cc/paper/4443-algorithms-for-hyper-parameter-optimization.pdf)\\]"
   ]
  },
  {
   "cell_type": "markdown",
   "metadata": {},
   "source": [
    "What does this all mean? First, we can get the unconditional density of $x$ if we integrate out the influence of $y$ from the joint density $p(x, y)$. Second, we can replace the joint density with an expression we get from the definition of the conditional density of \n",
    "\n",
    "$$p(x|y) = \\frac{p(x, y)}{p(y)} \\Leftrightarrow p(x, y) = p(x|y)\\ p(y).$$\n",
    "\n",
    "Third, now that we have an expression that contains $p(x|y)$ we can make use of our definition from the beginning, i.e. we can split the integral into the '$\\color{blue}{good}$' and '$\\color{red}{bad}$' parts of the real line. And since $\\color{blue}{l(x)}$ and $\\color{red}{g(x)}$ do not depend on $y$, we can pull them out of the integral in the fourth line. This leaves us with integrals over the unconditional density of $y$ which is just how probabilities are defined. Summing up, this means we can describe the unconditional distribution of the hyperparameters as a weighted sum, where the weights are the probabilities of lying below or above the threshold $y^\\star$. "
   ]
  },
  {
   "cell_type": "markdown",
   "metadata": {},
   "source": [
    "Coming back to our problem: we want to further investigate the information gain"
   ]
  },
  {
   "cell_type": "markdown",
   "metadata": {},
   "source": [
    "\\begin{align}\n",
    "EI_{y^\\star}(x) &= \\int\\limits_{-\\infty}^{y^\\star} (y^\\star-y)p(y|x)dy \\\\\n",
    "  &= \\int\\limits_{\\color{blue}{-\\infty}}^{\\color{blue}{y^\\star}}(y^\\star-y) \\frac{\\color{blue}{p(x|y)}p(y)}{p(x)}dy\n",
    "  = \\frac{\\color{blue}{l(x)}}{p(x)} \\int\\limits_{-\\infty}^{y^\\star}(y^\\star-y) p(y)dy \\\\\n",
    "  &= \\frac{l(x)}{p(x)} \\left[ y^\\star \\underbrace{\\int\\limits_{-\\infty}^{y^\\star} p(y)dy}_{P(Y < y^\\star) = \\gamma} - \\int\\limits_{-\\infty}^{y^\\star} y \\cdot p(y)dy \\right]\n",
    "  = \\frac{l(x)\\gamma y^\\star - l(x)\\int_{-\\infty}^{y^\\star} y \\cdot p(y) dy}{l(x) \\gamma + (1-\\gamma)g(x)} \n",
    "  \\propto \\color{orange}{\\left[\\gamma + (1-\\gamma) \\frac{g(x)}{l(x)}\\right]^{-1}}\n",
    "\\end{align}\n",
    "\\[[cp. Bergstra et al 2011](https://papers.nips.cc/paper/4443-algorithms-for-hyper-parameter-optimization.pdf)\\]"
   ]
  },
  {
   "cell_type": "markdown",
   "metadata": {},
   "source": [
    "We start by applying Bayes rule to the conditional density of y $p(y|x)$ inside the interval and we note that this leaves us with an expression which is similar to the '$\\color{blue}{good}$' part of the conditional density of $x$ given $y$. We pull all terms that do not depend on $y$ out of the integral and multiply out the parenthesis inside it. After multiplying we note that we can replace the integral over the unconditional density of $y$ with the probability that $P(Y<y^\\star):= \\gamma$ and we note that we can replace $p(x)$ by the expression we derived previously. Unfortunately, we cannot further simplify the remaining integral, even if it looks like an expected value (in it's limits it is missing one half of the real line). Thus we can only factor out $l(x)$ in the numerator and denominator of the second last step such that it - almost - cancels out. Nonetheless, we can state that the numerator will just be a constant which means that the Expected Information Gain is proportional to the orange expression. This means that, as we outlined in the intuitive explanation, the Expected Information Gain grows if we are more likely to sample from the '$\\color{blue}{good}$' density $\\color{blue}{l(x)}$ than the '$\\color{red}{bad}$' density $\\color{red}{g(x)}$ \\[[cp. Koehrsen 2018](https://towardsdatascience.com/a-conceptual-explanation-of-bayesian-model-based-hyperparameter-optimization-for-machine-learning-b8172278050f)\\]."
   ]
  },
  {
   "cell_type": "markdown",
   "metadata": {},
   "source": [
    "## Backpropagation\n",
    "\n",
    "In this section we derive the backwards pass for both LSTM and GRU using high-school level calculus only. \n",
    "### LSTM\n",
    "$\n",
    "% Forget-Gate\n",
    "\\newcommand{\\F}{\\color{orange}{f_t}}\n",
    "\\newcommand{\\Ffull}[1][]{\\color{orange}{\\sigma^{#1} \\left( W_f + U_f \\cdot h_{t-1} \\right)}}\n",
    "\\newcommand{\\f}[1]{\\color{orange}{f^t_{#1}}}\n",
    "\\newcommand{\\ffull}[2][]{\\color{orange}{\\sigma^{#1} \\left(w^f_{#2} x_t + u^f_{#2 1} h^{t-1}_1 + u^f_{#2 2}h^{t-1}_2 \\right)}}\n",
    "\\newcommand{\\Wf}{\\color{orange}{W_f}}\n",
    "\\newcommand{\\Uf}{\\color{orange}{U_f}}\n",
    "\\newcommand{\\wf}[1]{\\color{orange}{w_{#1}^f}}\n",
    "\\newcommand{\\uf}[2]{\\color{orange}{u_{#1 #2}^f}}\n",
    "% Input-Gate\n",
    "\\newcommand{\\I}{\\color{red}{i_t}}\n",
    "\\newcommand{\\Ifull}[1][]{\\color{red}{\\sigma^{#1} \\left( W_i + U_i \\cdot h_{t-1} \\right)}}\n",
    "\\newcommand{\\i}[1]{\\color{red}{i^t_{#1}}}\n",
    "\\newcommand{\\ifull}[2][]{\\color{red}{\\sigma^{#1} \\left( w^i_{#2} x_t + u^i_{#2 1} h^{t-1}_1 + u^i_{#2 2} h^{t-1}_2 \\right)}}\n",
    "\\newcommand{\\Wi}{\\color{red}{W_i}}\n",
    "\\newcommand{\\Ui}{\\color{red}{U_i}}\n",
    "\\newcommand{\\wi}[1]{\\color{red}{w_{#1}^i}}\n",
    "\\newcommand{\\ui}[2]{\\color{red}{u_{#1 #2}^i}}\n",
    "% Output-Gate\n",
    "\\newcommand{\\O}{\\color{blue}{o_t}}\n",
    "\\newcommand{\\Ofull}[1][]{\\color{blue}{\\sigma^{#1} \\left( W_o + U_o \\cdot h_{t-1} \\right)}}\n",
    "\\newcommand{\\o}[1]{\\color{blue}{o^t_{#1}}}\n",
    "\\newcommand{\\ofull}[2][]{\\color{blue}{\\sigma^{#1} \\left( w^o_{#2} x_t + u^o_{#2 1} h^{t-1}_1 + u^o_{#2 2} h^{t-1}_2 \\right)}}\n",
    "\\newcommand{\\Wo}{\\color{blue}{W_o}}\n",
    "\\newcommand{\\Uo}{\\color{blue}{U_o}}\n",
    "\\newcommand{\\wo}[1]{\\color{blue}{w_{#1}^o}}\n",
    "\\newcommand{\\uo}[2]{\\color{blue}{u_{#1 #2}^o}}\n",
    "% Cell (c without tilde - or however the fuck it's supposed to be called)\n",
    "\\newcommand{\\C}[1][]{\\color{lime}{c_{t #1}}}\n",
    "\\newcommand{\\Cfull}{\\F * \\C[-1] + \\I * \\Ctil}\n",
    "\\newcommand{\\c}[2][]{\\color{lime}{c^{t #1}_{#2}}}\n",
    "% Candidate (c with tilde - again: whatever, it's fine.)\n",
    "\\newcommand{\\Ctil}{\\color{green}{\\tilde{c}_t}}\n",
    "\\newcommand{\\Ctilfull}[1][]{\\color{green}{g^{#1} \\left( W_c x_t + U_c \\cdot h_{t-1} \\right)}}\n",
    "\\newcommand{\\ctil}[2][]{\\color{green}{g^{#1} \\left( w^c_{#2} x_t + u^c_{#2 1} h^{t-1}_1 + u^c_{#2 2} h^{t-1}_2 \\right)}}\n",
    "\\newcommand{\\ctils}[1]{\\color{green}{\\tilde{c}_{#1}}}\n",
    "\\newcommand{\\Wc}{\\color{green}{W_c}}\n",
    "\\newcommand{\\Uc}{\\color{green}{U_c}}\n",
    "\\newcommand{\\wc}[1]{\\color{green}{w_{#1}^c}}\n",
    "\\newcommand{\\uc}[2]{\\color{green}{u_{#1 #2}^c}}\n",
    "% Miscellaneous\n",
    "\\newcommand{\\yhat}{\\hat{y}_t}\n",
    "\\newcommand{\\error}{\\left(y - \\yhat \\right)}\n",
    "\\newcommand{\\deriv}[2]{\\frac{\\partial #1}{\\partial #2}}\n",
    "\\newcommand{\\dxt}[1]{\\color{#1}{x_t}}\n",
    "\\DeclareMathOperator{\\diag}{diag}\n",
    "\\newcommand{\\myH}[2][-1]{\\color{#2}{h_{t #1}}}\n",
    "\\newcommand{\\myh}[2][red]{\\color{#1}{h^{t-1}_{#2}}}\n",
    "$\n",
    "We first start by taking the neatly separated equations $(1)$ to $(6)$ and plug them all in, in order to get a more granular understanding of how our predictions are formed.\n",
    "\n",
    "\\begin{equation}\n",
    "\\begin{split}\n",
    "\\yhat &= w^T \\cdot \\myH[]{red}\n",
    "      = w^T \\cdot \\left[ \\O * g(\\C) \\right] \\\\\n",
    "      &= w^T \\left[ \\Ofull * g(\\Cfull) \\right] \\\\\n",
    "      &= w^T \\cdot \\Bigg[ \\begin{pmatrix} \\ofull{1} \\\\ \\ofull{2} \\end{pmatrix} \\\\ \n",
    "      &\\quad\\quad* g \n",
    "                         \\begin{pmatrix} \n",
    "                             \\ffull{1} \\c[-1]{1} + \\ifull{1} + \\ctil{1} \\\\ \n",
    "                             \\ffull{2} \\c[-1]{2} + \\ifull{2} + \\ctil{2}\n",
    "                         \\end{pmatrix} \\Bigg]\n",
    "\\end{split}\n",
    "\\end{equation}\n",
    "\n",
    "which, if written in its single equation form, gives\n",
    "\n",
    "\\begin{alignat}{2}\n",
    "\\yhat &= w_1 \\ofull{1} g\\left(\\ffull{1} \\c[-1]{1} + \\\\ \\ifull{1} \\ctil{1}\\right)\\\\ \n",
    "      &+ w_2 \\ofull{2} g\\left(\\ffull{2} \\c[-1]{2} + \\\\ \\ifull{2} \\ctil{2}\\right) \\tag{7}\n",
    "\\end{alignat}\n",
    "\n",
    "Now this is arguably neither neat, nor pretty. However, since we are looking at a very low dimensional example it is a good opportunity to look into the backpropagation algorithm using high-school math only. And we can do that in a straightforward manner looking at equation $(7)$."
   ]
  },
  {
   "cell_type": "markdown",
   "metadata": {},
   "source": [
    "In this section we are going to take the partial derivative of $(7)$ with respect to each weight and using these results we will piece the gradients together. Moreover, once we have done that we will try to find a set of matrix operations, that will result in the gradients we previously puzzled together."
   ]
  },
  {
   "cell_type": "markdown",
   "metadata": {},
   "source": [
    "#### Weights of the output gate\n",
    "\n",
    "Let's start with the weights of the output gate. If we take the partial derivatives with respect to $\\wo{1}$ and $\\wo{2}$ respectively we obtain:\n",
    "\n",
    "\\begin{equation}\n",
    "\\deriv{\\yhat}{\\wo{1}} = w_1 g(\\c{1}) \\ofull[\\prime]{1} \\ctil{1} \\dxt{blue}\n",
    "\\end{equation}\n",
    "\n",
    "\\begin{equation}\n",
    "\\deriv{\\yhat}{\\wo{2}} = w_2 g(\\c{2}) \\ofull[\\prime]{2} \\ctil{2} \\dxt{blue}\n",
    "\\end{equation}\n",
    "\n",
    "Which we now only need to combine in order to get the gradient of $\\yhat$ with respect to $\\Wo$.\n",
    "\n",
    "\\begin{align}\n",
    "\\deriv{\\yhat}{\\Wo} &= \\begin{bmatrix} \\deriv{\\yhat}{\\wo{1}} \\\\ \\deriv{\\yhat}{\\wo{2}} \\end{bmatrix} \\\\\n",
    "                   &= w * g(\\C) * \\Ofull[\\prime] * \\Ctil\\ \\dxt{blue} \\\\\n",
    "                   &= \\diag(w) \\cdot \\diag(g(\\C)) \\cdot \\diag(\\Ofull[\\prime]) \\cdot \\Ctil \\ \\dxt{blue}\n",
    "\\end{align}\n",
    "\n",
    "The last line is just a way of describing the same formula, without the use of element-wise multiplication, relying just on scalar and dot products. However, while this satisfies more conventional algebraic notational standards it is computationally more efficient to implement the gradients using Hadamard products."
   ]
  },
  {
   "cell_type": "markdown",
   "metadata": {},
   "source": [
    "Similarly, we obtain the partial derivatives for each element of $\\Uo$.\n",
    "\n",
    "\\begin{equation}\n",
    "\\deriv{\\yhat}{\\uo{1}{1}} = w_1 g(\\c{1}) \\ofull[\\prime]{1} \\ctil{1} \\myh[blue]{1}\n",
    "\\end{equation}\n",
    "\n",
    "\\begin{equation}\n",
    "\\deriv{\\yhat}{\\uo{1}{2}} = w_1 g(\\c{1}) \\ofull[\\prime]{1} \\ctil{1} \\myh[blue]{2}\n",
    "\\end{equation}\n",
    "\n",
    "\\begin{equation}\n",
    "\\deriv{\\yhat}{\\uo{2}{1}} = w_2 g(\\c{2}) \\ofull[\\prime]{2} \\ctil{2} \\myh[blue]{1}\n",
    "\\end{equation}\n",
    "\n",
    "\\begin{equation}\n",
    "\\deriv{\\yhat}{\\uo{2}{2}} = w_2 g(\\c{2}) \\ofull[\\prime]{2} \\ctil{2} \\myh[blue]{2}\n",
    "\\end{equation}\n",
    "\n",
    "And by combining them into the jacobian of $\\yhat$ with respect to $\\Uo$ we get\n",
    "\n",
    "\\begin{align}\n",
    "\\deriv{\\yhat}{\\Uo} &= \\begin{bmatrix}\n",
    "                         \\deriv{\\yhat}{\\uo{1}{1}} & \\deriv{\\yhat}{\\uo{1}{2}} \\\\\n",
    "                         \\deriv{\\yhat}{\\uo{2}{1}} & \\deriv{\\yhat}{\\uo{2}{2}}\n",
    "                     \\end{bmatrix} \\\\\n",
    "                   &= \\begin{bmatrix}\n",
    "                         w_1 g(\\c{1}) \\ofull[\\prime]{1} \\ctils{1} \\myh[blue]{1} &\n",
    "                         w_1 g(\\c{1}) \\ofull[\\prime]{1} \\ctils{1} \\myh[blue]{2} \\\\\n",
    "                         w_2 g(\\c{2}) \\ofull[\\prime]{2} \\ctils{2} \\myh[blue]{1} &\n",
    "                         w_2 g(\\c{2}) \\ofull[\\prime]{2} \\ctils{2} \\myh[blue]{2} \\\\\n",
    "                     \\end{bmatrix}  \\\\\n",
    "                  &= \\begin{bmatrix} w & w \\end{bmatrix} *\n",
    "                     \\begin{bmatrix} g(\\C) & g(\\C) \\end{bmatrix} *\n",
    "                     \\begin{bmatrix} \\Ofull[\\prime] & \\Ofull[\\prime] \\end{bmatrix} *\n",
    "                     \\begin{bmatrix} \\Ctil & \\Ctil \\end{bmatrix} *\n",
    "                     \\begin{bmatrix} \\myH{blue}^T \\\\ \\myH{blue}^T \\end{bmatrix} \n",
    "                     \\\\\n",
    "                  &= \\diag(w) \\cdot \\diag(g(\\C)) \\cdot \\diag(\\Ofull[\\prime]) \\cdot \\diag(\\Ctil) \\cdot \\mathbb{1} \\mathbb{1}^T \\cdot \\diag(\\myH{blue}).\n",
    "\\end{align}"
   ]
  },
  {
   "cell_type": "markdown",
   "metadata": {},
   "source": [
    "#### Weights of the forget gate\n",
    "\n",
    "By the same token we obtain the partial derivatives of $\\yhat$ with respect to the elements of $\\Wf$\n",
    "\n",
    "\\begin{equation}\n",
    "\\deriv{\\yhat}{\\wf{1}} = w_1 \\o{1} g^\\prime(\\c{1}) \\ffull[\\prime]{1} \\c[-1]{1} \\dxt{orange}\n",
    "\\end{equation}\n",
    "\n",
    "\\begin{equation}\n",
    "\\deriv{\\yhat}{\\wf{2}} = w_2 \\o{2} g^\\prime(\\c{2}) \\ffull[\\prime]{2} \\c[-1]{2} \\dxt{orange}\n",
    "\\end{equation}\n",
    "\n",
    "and combine them to retrieve the gradient\n",
    "\n",
    "\\begin{align}\n",
    "\\deriv{\\yhat}{\\Wf} &= w * \\O * g^\\prime(\\C) * \\Ffull[\\prime] * \\C[-1] \\ \\dxt{orange} \\\\\n",
    "                   &= \\diag(w) \\cdot \\diag(\\O) \\cdot \\diag\\left(g^\\prime(\\C)\\right) \\cdot \\diag(\\Ffull[\\prime]) \\cdot \\C[-1] \\ \\dxt{orange}.\n",
    "\\end{align}\n"
   ]
  },
  {
   "cell_type": "markdown",
   "metadata": {},
   "source": [
    "For the partial derivatives of $\\yhat$ with respect to the elements of $\\Uf$ we obtain:\n",
    "\n",
    "\\begin{equation}\n",
    "\\deriv{\\yhat}{\\uf{1}{1}} = w_1 g^\\prime(\\c{1}) \\ffull[\\prime]{1} \\c[-1]{1} \\myh[orange]{1}\n",
    "\\end{equation}\n",
    "\n",
    "\\begin{equation}\n",
    "\\deriv{\\yhat}{\\uf{1}{2}} = w_1 g^\\prime(\\c{1}) \\ffull[\\prime]{1} \\c[-1]{1} \\myh[orange]{2}\n",
    "\\end{equation}\n",
    "\n",
    "\\begin{equation}\n",
    "\\deriv{\\yhat}{\\uf{2}{1}} = w_2 g^\\prime(\\c{2}) \\ffull[\\prime]{2} \\c[-1]{2} \\myh[orange]{1}\n",
    "\\end{equation}\n",
    "\n",
    "\\begin{equation}\n",
    "\\deriv{\\yhat}{\\uf{2}{2}} = w_2 g^\\prime(\\c{2}) \\ffull[\\prime]{2} \\c[-1]{2} \\myh[orange]{2}.\n",
    "\\end{equation}\n",
    "\n",
    "Which we can combine in order to acquire the jacobian of $\\yhat$ with respect to $\\Uf$.\n",
    "\n",
    "\\begin{align}\n",
    "\\deriv{\\yhat}{\\Uf} &= \\begin{bmatrix}\n",
    "                         \\deriv{\\yhat}{\\uf{1}{1}} & \\deriv{\\yhat}{\\uf{1}{2}} \\\\\n",
    "                         \\deriv{\\yhat}{\\uf{2}{1}} & \\deriv{\\yhat}{\\uf{2}{2}}\n",
    "                     \\end{bmatrix}\n",
    "                   = \\begin{bmatrix}\n",
    "                          w_1 g^\\prime(\\c{1}) \\ffull[\\prime]{1} \\c[-1]{1} \\myh[orange]{1} &\n",
    "                          w_1 g^\\prime(\\c{1}) \\ffull[\\prime]{1} \\c[-1]{1} \\myh[orange]{2} \\\\\n",
    "                          w_2 g^\\prime(\\c{2}) \\ffull[\\prime]{2} \\c[-1]{2} \\myh[orange]{1} &\n",
    "                          w_2 g^\\prime(\\c{2}) \\ffull[\\prime]{2} \\c[-1]{2} \\myh[orange]{2}\n",
    "                     \\end{bmatrix}\n",
    "                  \\\\\n",
    "                  &= \\begin{bmatrix} w & w \\end{bmatrix} *\n",
    "                     \\begin{bmatrix} \\O & \\O \\end{bmatrix} *\n",
    "                     g^\\prime( \\begin{bmatrix} \\C & \\C \\end{bmatrix}) *\n",
    "                     \\begin{bmatrix} \\Ffull[\\prime] & \\Ffull[\\prime] \\end{bmatrix} *\n",
    "                     \\begin{bmatrix} \\C[-1] & \\C[-1] \\end{bmatrix} *\n",
    "                     \\begin{bmatrix} \\myH{orange}^T \\\\ \\myH{orange}^T \\end{bmatrix} \\\\\n",
    "                  &= \\diag(w) \\cdot \\diag(\\O) \\cdot \\diag\\left(g^\\prime(\\C)\\right) \\cdot \\diag(\\Ffull[\\prime]) \\cdot \\diag(\\C[-1]) \\cdot \\mathbb{1} \\mathbb{1}^T \\cdot \\diag(\\myH{orange})\n",
    "\\end{align}\n"
   ]
  },
  {
   "cell_type": "markdown",
   "metadata": {},
   "source": [
    "#### Weights of the input gate\n",
    "\n",
    "Looking at the weights of the input gate we can proceed in the familiar fashion. We procure the partial derivatives of $\\yhat$ with respect to $\\wi{1}$ and $\\wi{2}$\n",
    "\n",
    "\\begin{equation}\n",
    "\\deriv{\\yhat}{\\wi{1}} = w_1 \\o{1} g^\\prime(\\c{1}) \\ctil{1} \\ifull[\\prime]{1} \\dxt{red},\n",
    "\\end{equation}\n",
    "\n",
    "\n",
    "\\begin{equation}\n",
    "\\deriv{\\yhat}{\\wi{2}} = w_2 \\o{2} g^\\prime(\\c{2}) \\ctil{2} \\ifull[\\prime]{2} \\dxt{red}\n",
    "\\end{equation}\n",
    "\n",
    "and proceed by collecting them in order to form the gradient of $\\yhat$ with respect to $\\Wi$\n",
    "\n",
    "\\begin{align}\n",
    "\\deriv{\\yhat}{\\Ui} &= w * \\O * g^\\prime(\\C) * \\Ctil * \\Ifull[\\prime] \\dxt{red} \\\\\n",
    "                   &= \\diag(w) \\cdot \\diag(\\O) \\cdot \\diag(g^\\prime(\\C)) \\cdot \\diag(\\Ctil) \\cdot \\Ifull[\\prime] \\dxt{red}.\n",
    "\\end{align}\n"
   ]
  },
  {
   "cell_type": "markdown",
   "metadata": {},
   "source": [
    "Equivalently we proceed with the partial derivatives of $\\yhat$ with respect to the elements of $\\Ui$, which are\n",
    "\n",
    "\\begin{equation}\n",
    "\\deriv{\\yhat}{\\ui{1}{1}} = w_1 \\o{1} g^\\prime(\\c{1}) \\ctil{1} \\ifull[\\prime]{1} \\myh[red]{1},\n",
    "\\end{equation}\n",
    "\n",
    "\\begin{equation}\n",
    "\\deriv{\\yhat}{\\ui{1}{2}} = w_1 \\o{1} g^\\prime(\\c{1}) \\ctil{1} \\ifull[\\prime]{1} \\myh[red]{2},\n",
    "\\end{equation}\n",
    "\n",
    "\\begin{equation}\n",
    "\\deriv{\\yhat}{\\ui{2}{1}} = w_2 \\o{2} g^\\prime(\\c{2}) \\ctil{2} \\ifull[\\prime]{2} \\myh[red]{1},\n",
    "\\end{equation}\n",
    "and\n",
    "\\begin{equation}\n",
    "\\deriv{\\yhat}{\\ui{2}{2}} = w_2 \\o{2} g^\\prime(\\c{2}) \\ctil{2} \\ifull[\\prime]{2} \\myh[red]{2}.\n",
    "\\end{equation}\n",
    "\n",
    "By collecting them into a matrix we obtain the jacobian of $\\yhat$ with respect to $\\Ui$\n",
    "\n",
    "\\begin{align}\n",
    "\\deriv{\\yhat}{\\Ui} &= \\begin{bmatrix}\n",
    "                          \\deriv{\\yhat}{\\ui{1}{1}} & \\deriv{\\yhat}{\\ui{1}{2}} \\\\\n",
    "                          \\deriv{\\yhat}{\\ui{2}{1}} & \\deriv{\\yhat}{\\ui{2}{2}} \n",
    "                      \\end{bmatrix} \\\\ \n",
    "                   &= \\begin{bmatrix}\n",
    "                          w_1 \\o{1} g^\\prime(\\c{1}) \\ctils{1} \\ifull[\\prime]{1} \\myh[red]{1} &\n",
    "                          w_1 \\o{1} g^\\prime(\\c{1}) \\ctils{1} \\ifull[\\prime]{1} \\myh[red]{2} \\\\\n",
    "                          w_2 \\o{2} g^\\prime(\\c{2}) \\ctils{2} \\ifull[\\prime]{2} \\myh[red]{1} &\n",
    "                          w_2 \\o{2} g^\\prime(\\c{2}) \\ctils{2} \\ifull[\\prime]{2} \\myh[red]{2} \\\\\n",
    "                      \\end{bmatrix} \\\\\n",
    "                   &= \\begin{bmatrix} w & w \\end{bmatrix} *\n",
    "                      \\begin{bmatrix} \\O & \\O \\end{bmatrix} *\n",
    "                      g^\\prime\\left(\\begin{bmatrix} \\C & \\C \\end{bmatrix}\\right) *\n",
    "                      \\begin{bmatrix} \\Ctil & \\Ctil \\end{bmatrix} *\n",
    "                      \\begin{bmatrix} \\Ifull[\\prime] & \\Ifull[\\prime] \\end{bmatrix} *\n",
    "                      \\begin{bmatrix} \\myH{red}^T \\\\ \\myH{red}^T \\end{bmatrix} \\\\\n",
    "                   &= \\diag(w) \\cdot \\diag(\\O) \\cdot \\diag\\left(g^\\prime(\\C)\\right) \\cdot \\diag(\\Ctil) \\cdot \\diag(\\Ifull[\\prime]) \\cdot \\mathbb{1} \\mathbb{1}^T \\cdot \\diag(\\myH{red})\n",
    "\\end{align}\n"
   ]
  },
  {
   "cell_type": "markdown",
   "metadata": {},
   "source": [
    "### Weights of the candidate update\n",
    "\n",
    "Again we begin by taking partial derivatives of $\\yhat$ with respect to $\\Wc$'s elements, such that we get\n",
    "\n",
    "\\begin{align}\n",
    "\\deriv{\\yhat}{\\wc{1}} = w_1 \\o{1} g^\\prime(\\c{1}) \\ifull{1} \\ctil[\\prime]{1} \\dxt{green}\n",
    "\\end{align}\n",
    "\n",
    "and\n",
    "\n",
    "\\begin{align}\n",
    "\\deriv{\\yhat}{\\wc{2}} = w_2 \\o{2} g^\\prime(\\c{2}) \\ifull{2} \\ctil[\\prime]{2} \\dxt{green}.\n",
    "\\end{align}\n",
    "\n",
    "Arranging the partial derivatives, we obtain the gradient of $\\yhat$ with respect to $\\Wc$\n",
    "\n",
    "\\begin{align}\n",
    "\\deriv{\\yhat}{\\Wc} = w * \\O * g^\\prime(\\C) * \\I * \\Ctilfull[\\prime]\\ \\dxt{green},\n",
    "\\end{align}"
   ]
  },
  {
   "cell_type": "markdown",
   "metadata": {},
   "source": [
    "Similarly, we start by obtaining the partial derivatives of $\\yhat$ with respect to each of $\\Wc$'s elements.\n",
    "\n",
    "\\begin{equation}\n",
    "\\deriv{\\yhat}{\\uc{1}{1}} = w_1 \\o{1} g^\\prime(\\c{1}) \\i{1} \\ctil[\\prime]{1} \\myh[green]{1},\n",
    "\\end{equation}\n",
    "\n",
    "\\begin{equation}\n",
    "\\deriv{\\yhat}{\\uc{1}{2}} = w_1 \\o{1} g^\\prime(\\c{1}) \\i{1} \\ctil[\\prime]{1} \\myh[green]{2},\n",
    "\\end{equation}\n",
    "\n",
    "\\begin{equation}\n",
    "\\deriv{\\yhat}{\\uc{2}{1}} = w_2 \\o{2} g^\\prime(\\c{2}) \\i{2} \\ctil[\\prime]{2} \\myh[green]{1}\n",
    "\\end{equation}\n",
    "and\n",
    "\\begin{equation}\n",
    "\\deriv{\\yhat}{\\uc{2}{2}} = w_2 \\o{2} g^\\prime(\\c{2}) \\i{2} \\ctil[\\prime]{2} \\myh[green]{2}.\n",
    "\\end{equation}\n",
    "\n",
    "And by organizing these partial derivatives, we can form the jacobian of $\\yhat$ with respect to $\\Uc$\n",
    "\n",
    "\\begin{align}\n",
    "\\deriv{\\yhat}{\\Uc} &= \\begin{bmatrix} \n",
    "                          \\deriv{\\yhat}{\\uc{1}{1}} & \\deriv{\\yhat}{\\uc{1}{2}} \\\\\n",
    "                          \\deriv{\\yhat}{\\uc{2}{1}} & \\deriv{\\yhat}{\\uc{2}{2}}\n",
    "                      \\end{bmatrix} = \n",
    "                      \\begin{bmatrix}\n",
    "                          w_1 \\o{1} g^\\prime(\\c{1}) \\i{1} \\ctil[\\prime]{1} \\myh[green]{1} &\n",
    "                          w_1 \\o{1} g^\\prime(\\c{1}) \\i{1} \\ctil[\\prime]{1} \\myh[green]{2} \\\\\n",
    "                          w_2 \\o{2} g^\\prime(\\c{2}) \\i{2} \\ctil[\\prime]{2} \\myh[green]{1} &\n",
    "                          w_2 \\o{2} g^\\prime(\\c{2}) \\i{2} \\ctil[\\prime]{2} \\myh[green]{2} \n",
    "                      \\end{bmatrix} \\\\\n",
    "                   &= \\begin{bmatrix} w & w \\end{bmatrix} *\n",
    "                      \\begin{bmatrix} \\O & \\O \\end{bmatrix} *\n",
    "                      g^\\prime(\\begin{bmatrix} \\C & \\C \\end{bmatrix}) *\n",
    "                      \\begin{bmatrix} \\I & \\I \\end{bmatrix} *\n",
    "                      \\begin{bmatrix} \\Ctilfull[\\prime] & \\Ctilfull[\\prime] \\end{bmatrix} *\n",
    "                      \\begin{bmatrix} \\myH{green}^T \\\\ \\myH{green}^T \\end{bmatrix} \\\\\n",
    "                   &= \\diag(w) \\cdot \n",
    "                      \\diag(\\O) \\cdot \n",
    "                      \\diag\\left(g^\\prime(\\C)\\right) \\cdot \n",
    "                      \\diag(\\I) \\cdot \n",
    "                      \\diag(\\Ctilfull[\\prime]) \\cdot \n",
    "                      \\mathbb{1} \\mathbb{1}^T \\cdot \n",
    "                      \\diag(\\myH{green})\n",
    "\\end{align}"
   ]
  },
  {
   "cell_type": "markdown",
   "metadata": {},
   "source": [
    "### GRU\n",
    "$\n",
    "% Vector shortcuts\n",
    "\\newcommand{\\Htil}{\\color{green}{\\tilde{h}_t}}\n",
    "\\newcommand{\\H}{\\color{green}{h_{t-1}}}\n",
    "\\newcommand{\\R}{\\color{blue}{r_t}}\n",
    "\\newcommand{\\Z}{\\color{red}{z_t}}\n",
    "% Gates Matrix Notation\n",
    "\\newcommand{\\Gfull}[1][]{\\color{green}{g^{#1}\\left( W_h x_t + U_h \\cdot ( \\R * \\H)\\right)}}\n",
    "\\newcommand{\\Zfull}[1][]{\\color{red}{\\sigma^{#1} \\left( W_z x_t + U_z \\cdot h_{t-1} \\right)}}\n",
    "\\newcommand{\\Rfull}[1][]{\\color{blue}{\\sigma^{#1} \\left( W_r x_t + U_r \\cdot h_{t-1} \\right)}}\n",
    "% Vector Elements\n",
    "\\newcommand{\\htil}[1]{\\color{green}{\\tilde{h}^t_{#1}}}\n",
    "\\newcommand{\\h}[1]{\\color{green}{h_{#1}^{t-1}}}\n",
    "\\newcommand{\\z}[1]{\\color{red}{z_{#1}^{t}}}\n",
    "\\newcommand{\\r}[1]{\\color{blue}{r_{#1}^{t}}}\n",
    "% Explicit Vector Elements\n",
    "\\newcommand{\\gfull}[2][]{\\color{green}{g^{#1} \\left( w^h_{#2} x_t + u^h_{#2 1} \\r{1} \\h{1} + u^h_{#2 2} \\r{2} \\h{2} \\right)}}\n",
    "\\newcommand{\\zfull}[2][]{\\color{red}{\\sigma^{#1} \\left(w^z_{#2} x_t + u^z_{#2 1}h_1^{t-1}+u^z_{#2 2} h_2^{t-1}\\right)}}\n",
    "\\newcommand{\\rfull}[2][]{\\color{blue}{\\sigma^{#1} \\left(w^r_{#2} x_t + u^r_{#2 1}h_1^{t-1}+u^r_{#2 2} h_2^{t-1}\\right)}}\n",
    "\\newcommand{\\gfullfull}[2][]{\\color{green}{g^{#1} \\left( w^h_{#2} x_t + u^h_{#2 1} \\rfull{1} \\h{1} + u^h_{#2 2} \\rfull{2} \\h{2} \\right)}}\n",
    "% Weight Matrices\n",
    "\\newcommand{\\Wh}{\\color{green}{W_h}}\n",
    "\\newcommand{\\Wz}{\\color{red}{W_z}}\n",
    "\\newcommand{\\Wr}{\\color{blue}{W_r}}\n",
    "\\newcommand{\\Uh}{\\color{green}{U_h}}\n",
    "\\newcommand{\\Uz}{\\color{red}{U_z}}\n",
    "\\newcommand{\\Ur}{\\color{blue}{U_r}}\n",
    "% Weight Matrix Elements\n",
    "\\newcommand{\\wh}[1]{\\color{green}{w^h_{#1}}}\n",
    "\\newcommand{\\wz}[1]{\\color{red}{w^z_{#1}}}\n",
    "\\newcommand{\\wr}[1]{\\color{blue}{w^r_{#1}}}\n",
    "\\newcommand{\\uh}[2]{\\color{green}{u^h_{#1 #2}}}\n",
    "\\newcommand{\\uz}[2]{\\color{red}{u^z_{#1 #2}}}\n",
    "\\newcommand{\\ur}[2]{\\color{blue}{u^r_{#1 #2}}}\n",
    "% Miscellaneous\n",
    "\\newcommand{\\dxt}[1]{\\color{#1}{x_t}}\n",
    "\\newcommand{\\yhat}{\\hat{y}_t}\n",
    "\\newcommand{\\deriv}[2]{\\frac{\\partial #1}{\\partial #2}}\n",
    "\\DeclareMathOperator{\\diag}{diag}\n",
    "$\n",
    "Consider again, our low-dimensional numerical example with only one case with features $x = \\begin{pmatrix}x_1, & x_2, & x_3 \\end{pmatrix}^T$ and label $y$. Additionally let's again assume we only have two neurons in our network. This means for the weight matrices \n",
    "\n",
    "\\begin{alignat}{2}\n",
    "\\color{green}{W_h} &= \\begin{bmatrix} \\wh{1} \\\\ \\wh{2} \\end{bmatrix}  \\quad\n",
    "\\color{green}{U_h} &&= \\begin{bmatrix} \\uh{1}{1} & \\uh{1}{2} \\\\ \\uh{2}{1} & \\uh{2}{2}\\end{bmatrix}\\\\ \n",
    "\\color{red}{W_z} &= \\begin{bmatrix} \\wz{1} \\\\ \\wz{2} \\end{bmatrix}  \\quad\n",
    "\\color{red}{U_z} &&= \\begin{bmatrix} \\uz{1}{1} & \\uz{1}{2} \\\\ \\uz{2}{1} & \\uz{2}{2} \\end{bmatrix}\\\\\n",
    "\\color{blue}{W_r} &= \\begin{bmatrix} \\wr{1} \\\\ \\wr{2} \\end{bmatrix} \\quad\n",
    "\\color{blue}{U_r} &&= \\begin{bmatrix} \\ur{1}{1} & \\ur{1}{2} \\\\ \\ur{2}{1} & \\ur{2}{2} \\end{bmatrix} \n",
    "\\end{alignat}\n",
    "\n",
    "We define the potential candidate update as\n",
    "\\begin{align}\n",
    "\\Htil &= \\Gfull \\\\ &= \\begin{pmatrix} \\gfull{1} \\\\ \\gfull{2} \\end{pmatrix} \\\\ &= \\begin{pmatrix} \\gfullfull{1} \\\\ \\gfullfull{2} \\end{pmatrix},\n",
    "\\end{align}\n",
    "the gates as\n",
    "\\begin{align}\n",
    "\\Z = \\Zfull &= \\begin{pmatrix} \\z{1} \\\\ \\z{2} \\end{pmatrix} = \\begin{pmatrix} \\zfull{1} \\\\ \\zfull{2} \\end{pmatrix}  \\quad\\text{and}\\\\\n",
    "\\R = \\Rfull &= \\begin{pmatrix} \\r{1} \\\\ \\r{2} \\end{pmatrix} = \\begin{pmatrix} \\rfull{1} \\\\ \\rfull{2} \\end{pmatrix},\n",
    "\\end{align}\n",
    "where $g$ is the $tanh$-function and $\\sigma$ the sigmoid function.\n",
    "\n",
    "Finally, we define the update of the hidden state as\n",
    "\\begin{align}\n",
    "h_t &= \\color{red}{1-\\Z} * h_{t-1} + \\Z * \\Htil \\\\ \n",
    "    &= \n",
    "\\begin{pmatrix}\n",
    "\\color{red}{(1-\\z{1})} h^{t-1}_1 + \\z{1} \\gfull{1} \\\\\n",
    "\\color{red}{(1-\\z{2})} h^{t-1}_2 + \\z{2} \\gfull{2}\n",
    "\\end{pmatrix} \\\\\n",
    "    &= \n",
    "\\begin{pmatrix}\n",
    "\\color{red}{(1-\\zfull{1})} h^{t-1}_1 + \\zfull{1} \\gfullfull{1} \\\\\n",
    "\\color{red}{(1-\\zfull{2})} h^{t-1}_2 + \\zfull{2} \\gfullfull{2}\n",
    "\\end{pmatrix}\n",
    "\\end{align} \\[[cp Rey, Salem, 2017](https://arxiv.org/pdf/1701.05923.pdf)\\].\n",
    "\n",
    "For the actual prediction at a step $t$, we connect every output of our hidden state in a dense layer. Which means that we are taking a weighted sum of all two of them.\n",
    "\n",
    "\\begin{align}\n",
    "\\hat{y}_t &= W^T h_t = w_1 h^t_1 + w_2 h^t_2 \\\\ &= w_1 \\color{red}{(1-\\zfull{1})} h^{t-1}_1 \\\\&\\quad + \\zfull{1} \\gfullfull{1} \\\\ &+ w_2\n",
    "\\color{red}{(1-\\zfull{2})} h^{t-1}_2 \\\\&\\quad+ \\zfull{2} \\gfullfull{2},\n",
    "\\end{align}\n",
    "\n",
    "Where $W = \\begin{pmatrix} w_1 \\\\ w_2 \\end{pmatrix}$ is the matrix that contains the weights for the outer layer. In our case this is just a $2\\times 1$ vector."
   ]
  },
  {
   "cell_type": "markdown",
   "metadata": {},
   "source": [
    "#### Weights for the candidate $\\tilde{h}_t$\n",
    "\n",
    "Let's start with taking partial derivatives of $\\hat{y}_t$ with respect to the elemens of $\\Wh$:\n",
    "\n",
    "\\begin{equation}\n",
    "\\frac{\\partial \\hat{y}_t}{\\partial \\wh{1}} = w_1 \\z{1} \\gfull[\\prime]{1} \\color{green}{x_t}\n",
    "\\end{equation}\n",
    "\n",
    "Which is just an application of the chain-rule for derivatives. Similarly we get\n",
    "\n",
    "\\begin{equation}\n",
    "\\frac{\\partial \\hat{y}_t}{\\partial \\wh{2}} = w_2 \\z{2} \\gfull[\\prime]{2} \\color{green}{x_t}.\n",
    "\\end{equation}\n",
    "\n",
    "We can obtain the gradient by combining the two partial derivatives in the following manner\n",
    "\n",
    "\\begin{align}\n",
    "\\frac{\\partial \\hat{y}_t}{\\partial \\Wh} &= \n",
    "    \\begin{bmatrix} \n",
    "        \\frac{\\partial \\hat{y}_t}{\\partial \\wh{1}} \\\\ \\frac{\\partial \\hat{y}_t}{\\partial \\wh{2}}  \n",
    "    \\end{bmatrix}                       =\n",
    "    \\begin{bmatrix} \n",
    "        w_1 \\z{1} \\gfull{1} \\color{green}{x_t} \\\\\n",
    "        w_2 \\z{2} \\gfull{2} \\color{green}{x_t}\n",
    "    \\end{bmatrix} \\\\\n",
    "                                        &= W * \\Z * \\Gfull[\\prime] \\color{green}{x_t}.\n",
    "\\end{align}\n",
    "\n",
    "Additionally, we can make use of the element-wise product in order to obtain a formulation that has a straightforward `numpy` implementation. We get the same result if we deploy the logic of the backpropagation algorithm.\n",
    "\n",
    "\\begin{align}\n",
    "\\frac{\\partial {loss}_t}{\\partial W_h} &= \\frac{\\partial {loss}_t}{\\partial \\hat{y}_t}\\frac{\\partial \\hat{y}_t}{\\partial h_t}\\frac{\\partial h_t}{\\partial \\tilde{h}_t}\\frac{\\partial \\tilde{h}_t}{\\partial \\Wh} \\\\\n",
    "                                   &= -(y-\\hat{y}_t) W * \\Z * \\Gfull[\\prime] \\color{green}{x_t}\n",
    "\\end{align}"
   ]
  },
  {
   "cell_type": "markdown",
   "metadata": {},
   "source": [
    "We continue with the partial derivatives of $\\hat{y}_t$ with respect to the elements of $\\Uh$\n",
    "\n",
    "\\begin{align}\n",
    "\\frac{\\partial \\hat{y}_t}{\\partial \\uh{1}{1}} &= w_1 \\z{1} \\gfull[\\prime]{1} \\r{1} \\h{1} \\\\\n",
    "\\frac{\\partial \\hat{y}_t}{\\partial \\uh{1}{2}} &= w_1 \\z{1} \\gfull[\\prime]{1} \\r{2} \\h{2} \\\\\n",
    "\\frac{\\partial \\hat{y}_t}{\\partial \\uh{2}{1}} &= w_2 \\z{2} \\gfull[\\prime]{2} \\r{1} \\h{1} \\\\\n",
    "\\frac{\\partial \\hat{y}_t}{\\partial \\uh{2}{2}} &= w_2 \\z{2} \\gfull[\\prime]{2} \\r{2} \\h{2}.\n",
    "\\end{align}\n",
    "\n",
    "These we can combine to form the jacobian of of $\\yhat$ with respect to $\\Uh$\n",
    "\n",
    "\\begin{align}\n",
    "\\deriv{\\yhat}{\\Uh} &= \n",
    "\\begin{bmatrix} \n",
    "    \\deriv{\\yhat}{\\uh{1}{1}} & \\deriv{\\yhat}{\\uh{1}{2}} \\\\\n",
    "    \\deriv{\\yhat}{\\uh{2}{1}} & \\deriv{\\yhat}{\\uh{2}{2}}\n",
    "\\end{bmatrix}      = \n",
    "\\begin{bmatrix}\n",
    "w_1 \\z{1} \\gfull[\\prime]{1} \\r{1} \\h{1} &\n",
    "w_1 \\z{1} \\gfull[\\prime]{1} \\r{2} \\h{2} \\\\\n",
    "w_2 \\z{2} \\gfull[\\prime]{2} \\r{1} \\h{1} &\n",
    "w_2 \\z{2} \\gfull[\\prime]{2} \\r{2} \\h{2}.\n",
    "\\end{bmatrix} \\\\\n",
    "                  &=\n",
    "\\begin{bmatrix} w_1 & w_1 \\\\ w_2 & w_2 \\end{bmatrix} * \n",
    "\\begin{bmatrix} \\z{1} & \\z{1} \\\\ \\z{2} & \\z{2} \\end{bmatrix} * \n",
    "\\begin{bmatrix} \\gfull[\\prime]{1} & \\gfull[\\prime]{1} \\\\ \\gfull[\\prime]{2} & \\gfull[\\prime]{2} \\end{bmatrix} * \n",
    "\\begin{bmatrix} \\r{1} & \\r{2} \\\\ \\r{1} & \\r{2} \\end{bmatrix} * \n",
    "\\begin{bmatrix} \\h{1} & \\h{2} \\\\ \\h{1} & \\h{2} \\end{bmatrix} \\\\\n",
    "                  &=\n",
    "\\begin{bmatrix} w & w \\end{bmatrix} * \\begin{bmatrix} \\Z & \\Z \\end{bmatrix} * \\begin{bmatrix} \\Gfull[\\prime] & \\Gfull[\\prime] \\end{bmatrix} * \\begin{bmatrix} \\R^T \\\\ \\R^T \\end{bmatrix} * \\begin{bmatrix} \\H^T \\\\ \\H^T \\end{bmatrix} \\\\\n",
    "&= \\diag(w) \\cdot \\diag(\\Z) \\cdot \\diag(\\Gfull[\\prime]) \\cdot \\mathbb{1} \\mathbb{1}^T \\cdot \\diag(\\R) \\cdot \\diag(\\H)\n",
    "\\end{align}\n",
    "\n",
    "Again, following the logic of the backpropagation algorithm, we obtain the same result\n",
    "\n",
    "\\begin{align}\n",
    "\\frac{\\partial {loss}_t}{\\partial \\Uh} &= \\frac{\\partial {loss}_t}{\\partial \\hat{y}_t}\\frac{\\partial \\hat{y}_t}{\\partial h_t}\\frac{\\partial h_t}{\\partial \\tilde{h}_t}\\frac{\\partial \\tilde{h}_t}{\\partial \\Uh} \\\\\n",
    "                                    &= -(y-\\hat{y}_t)\\ \\diag \\left[ w * \\Z * \\Gfull[\\prime]\\right] \\cdot  \\begin{bmatrix} (\\R * \\H)^T \\\\ (\\R * \\H)^T \\end{bmatrix}\n",
    "\\end{align}"
   ]
  },
  {
   "cell_type": "markdown",
   "metadata": {},
   "source": [
    "#### Weights for the update gate $z_t$\n",
    "\n",
    "Using the same logic, we calculate the partial derivatives of $\\yhat$ with respect to the elements of $\\Wz$, which gives \n",
    "\n",
    "\\begin{equation}\n",
    "\\deriv{\\yhat}{\\wz{1}} = w_1 \\left(\\color{red}{-} \\zfull[\\prime]{1}\\right) \\h{1} + \\htil{1} \\zfull[\\prime]{1} \\dxt{red},\n",
    "\\end{equation}\n",
    "\n",
    "\n",
    "\\begin{equation}\n",
    "\\deriv{\\yhat}{\\wz{2}} = w_2 \\left(\\color{red}{-} \\zfull[\\prime]{2}\\right) \\h{1} + \\htil{1} \\zfull[\\prime]{2} \\dxt{red},\n",
    "\\end{equation}\n",
    "\n",
    "and when combined leaves us the gradient of $\\yhat$ with respect to $\\Wz$ as\n",
    "\n",
    "\\begin{align}\n",
    "\\deriv{\\yhat}{\\Wz} &= \\begin{bmatrix}\n",
    "\\deriv{\\yhat}{\\wz{1}} \\\\ \\deriv{\\yhat}{\\wz{2}}\n",
    "\\end{bmatrix} = \n",
    "\\begin{bmatrix}\n",
    "    w_1 \\left(\\color{red}{-} \\zfull[\\prime]{1}\\right) \\h{1} + \\htil{1} \\zfull[\\prime]{1} \\dxt{red} \\\\\n",
    "    w_2 \\left(\\color{red}{-} \\zfull[\\prime]{2}\\right) \\h{1} + \\htil{1} \\zfull[\\prime]{2} \\dxt{red}\n",
    "\\end{bmatrix} \\\\\n",
    "&= w * \\begin{bmatrix} -\\H + \\Htil \\end{bmatrix} * \\Zfull[\\prime] \\dxt{red}\n",
    "\\end{align}\n"
   ]
  },
  {
   "cell_type": "markdown",
   "metadata": {},
   "source": [
    "By now this should be getting old. We take partial derivatives of $\\yhat$ with respect to each element of $\\Uz$. This leaves us with\n",
    "\n",
    "\\begin{align}\n",
    "\\deriv{\\yhat}{\\uz{1}{1}} &= w_1 \\left[\\color{red}{(- \\zfull[\\prime]{1} \\h{1} )} \\h{1} + \\htil{1} \\zfull[\\prime]{1} \\h{1} \\right], \\\\\n",
    "\\deriv{\\yhat}{\\uz{1}{2}} &= w_1 \\left[\\color{red}{(- \\zfull[\\prime]{1} \\h{2} )} \\h{1} + \\htil{1} \\zfull[\\prime]{1} \\h{2} \\right], \\\\\n",
    "\\deriv{\\yhat}{\\uz{2}{1}} &= w_2 \\left[\\color{red}{(- \\zfull[\\prime]{2} \\h{1} )} \\h{2} + \\htil{2} \\zfull[\\prime]{2} \\h{1} \\right] \\text{and} \\\\\n",
    "\\deriv{\\yhat}{\\uz{2}{2}} &= w_2 \\left[\\color{red}{(- \\zfull[\\prime]{2} \\h{2} )} \\h{2} + \\htil{2} \\zfull[\\prime]{2} \\h{2} \\right]. \n",
    "\\end{align}\n",
    "\n",
    "We can combine these partial derivatives in order to form the jacobian of $\\yhat$ with respect to $\\Uz$ as\n",
    "\n",
    "\\begin{align}\n",
    "\\deriv{\\yhat}{\\Uz} &= \n",
    "\\begin{bmatrix} \n",
    "    \\deriv{\\yhat}{\\uz{1}{1}} & \\deriv{\\yhat}{\\uz{1}{2}} \\\\\n",
    "    \\deriv{\\yhat}{\\uz{2}{1}} & \\deriv{\\yhat}{\\uz{2}{2}}\n",
    "\\end{bmatrix} \\\\ &=\n",
    "\\begin{bmatrix}  \n",
    "     w_1 \\left[\\color{red}{(- \\zfull[\\prime]{1} \\h{1} )} \\h{1} + \\htil{1} \\zfull[\\prime]{1} \\h{1} \\right] &\n",
    "     w_1 \\left[\\color{red}{(- \\zfull[\\prime]{1} \\h{2} )} \\h{1} + \\htil{1} \\zfull[\\prime]{1} \\h{2} \\right] \\\\\n",
    "     w_2 \\left[\\color{red}{(- \\zfull[\\prime]{2} \\h{1} )} \\h{2} + \\htil{2} \\zfull[\\prime]{2} \\h{1} \\right] &\n",
    "     w_2 \\left[\\color{red}{(- \\zfull[\\prime]{2} \\h{2} )} \\h{2} + \\htil{2} \\zfull[\\prime]{2} \\h{2} \\right] \n",
    "\\end{bmatrix} \\\\ &=\n",
    "\\begin{bmatrix} w & w \\end{bmatrix} * \n",
    "\\begin{bmatrix} \\Htil - \\H & \\Htil - \\H \\end{bmatrix} * \n",
    "\\begin{bmatrix} \\Zfull[\\prime] & \\Zfull[\\prime] \\end{bmatrix} * \n",
    "\\begin{bmatrix} \\H^T \\\\ \\H^T \\end{bmatrix} \\\\\n",
    "&= \\diag(w) \\cdot \\diag(\\Htil - \\H) \\cdot \\Zfull[\\prime] \\cdot \\H^T.\n",
    "\\end{align}\n",
    "\n",
    "And by the same token, we need to use the previous derivations in order to find the derivative of the loss function with respect to $\\Uz$, where now one can easily see that:\n",
    "\n",
    "\\begin{align}\n",
    "\\frac{\\partial {loss}_t}{\\partial \\Uz} &= \\frac{\\partial loss}{\\partial \\hat{y}_t}\\frac{\\partial \\hat{y}_t}{\\partial h_t}\\frac{\\partial h_t}{\\partial z_t}\\frac{\\partial z_t}{\\partial \\Uz} \\\\\n",
    "                                   &= -(y-\\hat{y}_t)\\ \\diag \\left[ w * [-\\H + \\Htil] * \\Zfull[\\prime]\\right] \\cdot \\begin{bmatrix} \\H^T \\\\ \\H^T \\end{bmatrix}.\n",
    "\\end{align}\n",
    "\n",
    "Having done that, we can implement it in the now too familiar way."
   ]
  },
  {
   "cell_type": "markdown",
   "metadata": {},
   "source": [
    "#### Weights for the reset gate $r_t$\n",
    "\n",
    "Similarly, we can proceed with obtaining the gradients of $\\yhat$ with respect to the elements of the reset gate.\n",
    "\n",
    "\\begin{align}\n",
    "\\deriv{\\yhat}{\\wr{1}} &= w_1 \\z{1} \\gfull[\\prime]{1} \\uh{1}{1} \\h{1} \\rfull[\\prime]{1} \\dxt{blue} \\\\ \n",
    "&\\quad + w_2 \\z{2} \\gfull[\\prime]{2} \\uh{2}{1} \\h{1} \\rfull[\\prime]{1} \\dxt{blue}\n",
    "\\end{align}\n",
    "\n",
    "and\n",
    "\n",
    "\\begin{align}\n",
    "\\deriv{\\yhat}{\\wr{2}} &= w_1 \\z{1} \\gfull[\\prime]{1} \\uh{1}{2} \\h{2} \\rfull[\\prime]{2} \\dxt{blue} \\\\ \n",
    "&\\quad + w_2 \\z{2} \\gfull[\\prime]{2} \\uh{2}{2} \\h{2} \\rfull[\\prime]{2} \\dxt{blue}.\n",
    "\\end{align}\n",
    "\n",
    "By collecting the partial derivatives into a vector we form the gradient of $\\yhat$ with respect to $\\Wr$\n",
    "\n",
    "\\begin{align}\n",
    "\\deriv{\\yhat}{\\Wr} &= \\begin{bmatrix}\\deriv{\\yhat}{\\wr{1}} \\\\ \\deriv{\\yhat}{\\wr{2}} \\end{bmatrix} \\\\ \n",
    "&= w^T \\cdot \\left(\n",
    "\\begin{bmatrix} \\Z & \\Z \\end{bmatrix} * \n",
    "\\begin{bmatrix} \\Gfull[\\prime] & \\Gfull[\\prime] \\end{bmatrix} * \n",
    "\\Uh *\n",
    "\\begin{bmatrix} \\H^T \\\\ \\H^T \\end{bmatrix} *\n",
    "\\begin{bmatrix} \\Rfull[\\prime]^T \\\\ \\Rfull[\\prime]^T \\end{bmatrix}\n",
    "\\right) \\dxt{blue} \\\\\n",
    "&= w^T \\cdot \\diag(\\Z) \\cdot \\diag(\\Gfull[\\prime]) \\cdot \\Uh \\cdot \\diag(\\H)\\cdot \\diag(\\Rfull[\\prime]) \\dxt{blue}.\n",
    "\\end{align}"
   ]
  },
  {
   "cell_type": "markdown",
   "metadata": {},
   "source": [
    "Finally, we compute the partial derivatives of $\\yhat$ with respect to $\\Ur$\n",
    "\n",
    "\\begin{align}\n",
    "\\deriv{\\yhat}{\\ur{1}{1}} &= w_1 \\z{1} \\gfull[\\prime]{1} \\uh{1}{1} \\h{1} \\rfull[\\prime]{1} \\h{1} \\\\ \n",
    "                         & \\quad + w_2 \\z{2} \\gfull[\\prime]{2} \\uh{2}{1} \\h{1} \\rfull[\\prime]{1} \\h{1} \\\\\n",
    "\\deriv{\\yhat}{\\ur{1}{2}} &= w_1 \\z{1} \\gfull[\\prime]{1} \\uh{1}{1} \\h{1} \\rfull[\\prime]{1} \\h{2} \\\\\n",
    "                         & \\quad + w_2 \\z{2} \\gfull[\\prime]{2} \\uh{2}{1} \\h{1} \\rfull[\\prime]{1} \\h{2} \\\\\n",
    "\\deriv{\\yhat}{\\ur{2}{1}} &= w_1 \\z{1} \\gfull[\\prime]{1} \\uh{1}{2} \\h{2} \\rfull[\\prime]{2} \\h{1} \\\\\n",
    "                         & \\quad + w_2 \\z{2} \\gfull[\\prime]{2} \\uh{2}{2} \\h{2} \\rfull[\\prime]{2} \\h{1} \\\\\n",
    "\\deriv{\\yhat}{\\ur{2}{2}} &= w_1 \\z{1} \\gfull[\\prime]{1} \\uh{1}{2} \\h{2} \\rfull[\\prime]{2} \\h{2} \\\\\n",
    "                         & \\quad + w_2 \\z{2} \\gfull[\\prime]{2} \\uh{2}{2} \\h{2} \\rfull[\\prime]{2} \\h{2}.\n",
    "\\end{align}\n",
    "\n",
    "And by combining all partial derivatives, we obtain the jacobian of $\\yhat$ with respect to $\\Ur$\n",
    "\n",
    "\\begin{align}\n",
    "\\deriv{\\yhat}{\\Ur} &=\n",
    "\\begin{bmatrix} \n",
    "    \\deriv{\\yhat}{\\ur{1}{1}} & \\deriv{\\yhat}{\\ur{1}{2}} \\\\\n",
    "    \\deriv{\\yhat}{\\ur{2}{1}} & \\deriv{\\yhat}{\\ur{2}{2}}\n",
    "\\end{bmatrix} \\\\ &= \n",
    "\\begin{bmatrix}(w * \\Z * \\Gfull[\\prime])^T \\\\ (w * \\Z * \\Gfull[\\prime])^T \\end{bmatrix} \\cdot \\Uh^T  * \n",
    "\\begin{bmatrix} \\H \\cdot \\H^T \\end{bmatrix} *\n",
    "\\begin{bmatrix} \\Rfull[\\prime] & \\Rfull[\\prime] \\end{bmatrix} \\\\ &=\n",
    "\\diag(w) \\cdot \\diag(\\Z) \\cdot \\diag(\\Gfull[\\prime]) \\cdot \\Uh^T \\cdot \\diag(\\H) \\cdot \\diag(\\Rfull[\\prime]) \\cdot \\mathbb{1}\\mathbb{1}^T \\cdot \\diag(\\H).\n",
    "\\end{align}."
   ]
  },
  {
   "cell_type": "markdown",
   "metadata": {},
   "source": [
    "# References\n",
    "1. Jeremy Howard (2018): Introduction to practical Deep Learning for Coders – Lesson 6: RNNs. http://course18.fast.ai/lessons/lesson6.html (accessed: 06.02.2019)\n",
    "1. Thomas Fischer & Christopher Krauss, (2018): Deep learning with long short-term memory networks for financial market predictions. European Journal of Operation Research Vol 270 Issue 2\n",
    "1. Jason Brownlee, 2016: Stateful and Stateless LSTM for Time Series Forecasting with Python. https://machinelearningmastery.com/stateful-stateless-lstm-time-series-forecasting-python/ (accessed: 06.02.2019)\n",
    "1. Yumi (2018) : Stateful LSTM model training in Keras. https://fairyonice.github.io/Stateful-LSTM-model-training-in-Keras.html (accessed: 06.02.2019)\n",
    "1. Philippe Remey (2016): Stateful LSTM in Keras. http://philipperemy.github.io/keras-stateful-lstm/ (accessed: 06.02.2019)\n",
    "1. Cathy O'Neil, (2016): Weapons of Math Destruction. How Big Data increases inequality and threatens democracy. \n",
    "1. Arun Mallya (2017): http://arunmallya.github.io/ (accessed: 05.02.2019).\n",
    "1. Rahul Dey, Fathi M. Salem (2017): Gate-Variants of Gated Recurrent Unit (GRU) Neural Networks. https://arxiv.org/pdf/1701.05923.pdf (accessed: 05.02.2019).\n",
    "1. Will Koehrsen (2018): A Conceptual Explanation of Bayesian Hyperparameter Optimization for Machine Learning. https://towardsdatascience.com/a-conceptual-explanation-of-bayesian-model-based-hyperparameter-optimization-for-machine-learning-b8172278050f (accessed: 05.02.2019).\n",
    "1. James Bergstra, Remi Bardenet, Yoshua Bengio, Balázs Kégl (2011): Algorithms for Hyper-Parameter Optimization. https://papers.nips.cc/paper/4443-algorithms-for-hyper-parameter-optimization.pdf (accessed: 05.02.2019).\n",
    "1. Harini Sureshi (2016):  Sequence Modeling with Neural Networks. http://introtodeeplearning.com/2017/Sequence%20Modeling.pdf (accessed: 05.12.2018).\n",
    "1. Christopher Olah (2015): Understanding LSTM Networks. http://colah.github.io/posts/2015-08-Understanding-LSTMs/ (accessed: 29.11.2018)\n",
    "1. Michael Nguyen (2018): Illustrated Guide to LSTM’s and GRU’s: A step by step explanation. https://towardsdatascience.com/illustrated-guide-to-lstms-and-gru-s-a-tep-by-step-explanation-44e9eb85bf21 (accessed: 05.02.2019)\n",
    "1. Andrew Tch (2017): The mostly complete chart of Neural Networks, explained. https://towardsdatascience.com/the-mostly-complete-chart-of-neural-networks-explained-fb6f2367464 (accessed: 29.11.2018)\n",
    "1. Thomas Fischer & Christpher Krauss (2017): Deep learning with long short-term memory networks for financial market predictions. ttps://www.econstor.eu/bitstream/10419/157808/1/886576210.pdf (accessed: 05.02.2019)\n",
    "1. Hochreiter and Schmidhuber (1997): Long Short-Term Memory https://www.bioinf.jku.at/publications/older/2604.pdf (accessed: 05.02.2019)\n",
    "1. Alexander Stec, Diego Klabjan (2018): Forecasting Crime with Deep Learning. https://arxiv.org/pdf/1806.01486.pdf (accessed: 05.02.2019)\n",
    "1. Kyunghyun Cho, Bart van Merrienboer, Caglar Gulcehre, Dzmitry Bahdanau, Fethi Bougares, Holger Schwenk, Yoshua Bengio (2014): Learning Phrase Representations using RNN Encoder-Decoder for Statistical Machine Translation. https://arxiv.org/pdf/1406.1078.pdf (accessed: 05.02.2019)\n",
    "1. Rui Fu, Zuo Zhang, and Li Li (2016) :Using LSTM and GRU Neural Network Methods for Traffic Flow Prediction. ttps://www.researchgate.net/profile/Li_Li240/publication/312402649_Using_LSTM_and_GRU_neural_network_methods_for_traffic_flow_prediction/links/5c20d38d299bf12be3971696/Using-LSTM-and-GRU-neural-network-methods-for-traffic-flow-prediction.pdf (accessed: 05.02.2019)"
   ]
  }
 ],
 "metadata": {
  "accelerator": "GPU",
  "colab": {
   "collapsed_sections": [],
   "name": "Blog_Part_Marc_clean.ipynb",
   "provenance": [],
   "version": "0.3.2"
  },
  "kernelspec": {
   "display_name": "Python 3",
   "language": "python",
   "name": "python3"
  },
  "language_info": {
   "codemirror_mode": {
    "name": "ipython",
    "version": 3
   },
   "file_extension": ".py",
   "mimetype": "text/x-python",
   "name": "python",
   "nbconvert_exporter": "python",
   "pygments_lexer": "ipython3",
   "version": "3.6.7"
  },
  "widgets": {
   "application/vnd.jupyter.widget-state+json": {
    "state": {},
    "version_major": 2,
    "version_minor": 0
   }
  }
 },
 "nbformat": 4,
 "nbformat_minor": 2
}
