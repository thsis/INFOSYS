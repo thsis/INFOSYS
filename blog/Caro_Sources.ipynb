{
 "cells": [
  {
   "cell_type": "markdown",
   "metadata": {},
   "source": [
    "Harini Sureshi (2016):  Sequence Modeling with Neural Networks. http://introtodeeplearning.com/2017/Sequence%20Modeling.pdf (accessed: 05.12.2018).\n",
    "\n",
    "Christopher Olah (2015): Understanding LSTM Networks. http://colah.github.io/posts/2015-08-Understanding-LSTMs/ (accessed: 29.11.2018)\n",
    "\n",
    "Michael Nguyen (2018): Illustrated Guide to LSTM’s and GRU’s: A step by step explanation. https://towardsdatascience.com/illustrated-guide-to-lstms-and-gru-s-a-step-by-step-explanation-44e9eb85bf21 (accessed: 05.02.2019)\n",
    "\n",
    "Andrew Tch (2017): The mostly complete chart of Neural Networks, explained. https://towardsdatascience.com/the-mostly-complete-chart-of-neural-networks-explained-3fb6f2367464 (accessed: 29.11.2018)\n",
    "\n",
    "Thomas Fischer & Christpher Krauss (2017): Deep learning with long short-term memory networks for financial market predictions. https://www.econstor.eu/bitstream/10419/157808/1/886576210.pdf (accessed: 05.02.2019)\n",
    "\n",
    "Hochreiter and Schmidhuber (1997): Long Short-Term Memory https://www.bioinf.jku.at/publications/older/2604.pdf (accessed: 05.02.2019)\n",
    "\n",
    "Alexander Stec, Diego Klabjan (2018): Forecasting Crime with Deep Learning. https://arxiv.org/pdf/1806.01486.pdf (accessed: 05.02.2019)\n",
    "\n",
    "Kyunghyun Cho, Bart van Merrienboer, Caglar Gulcehre, Dzmitry Bahdanau, Fethi Bougares, Holger Schwenk, Yoshua Bengio (2014): Learning Phrase Representations using RNN Encoder-Decoder for Statistical Machine Translation. https://arxiv.org/pdf/1406.1078.pdf (accessed: 05.02.2019)\n",
    "\n",
    "Rui Fu, Zuo Zhang, and Li Li (2016) :Using LSTM and GRU Neural Network Methods for Traffic Flow Prediction. https://www.researchgate.net/profile/Li_Li240/publication/312402649_Using_LSTM_and_GRU_neural_network_methods_for_traffic_flow_prediction/links/5c20d38d299bf12be3971696/Using-LSTM-and-GRU-neural-network-methods-for-traffic-flow-prediction.pdf (accessed: 05.02.2019)"
   ]
  }
 ],
 "metadata": {
  "kernelspec": {
   "display_name": "Python 3",
   "language": "python",
   "name": "python3"
  },
  "language_info": {
   "codemirror_mode": {
    "name": "ipython",
    "version": 3
   },
   "file_extension": ".py",
   "mimetype": "text/x-python",
   "name": "python",
   "nbconvert_exporter": "python",
   "pygments_lexer": "ipython3",
   "version": "3.6.0"
  }
 },
 "nbformat": 4,
 "nbformat_minor": 2
}
