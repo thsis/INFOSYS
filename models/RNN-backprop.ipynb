{
 "cells": [
  {
   "cell_type": "markdown",
   "metadata": {},
   "source": [
    "# Backpropagation on RNN"
   ]
  },
  {
   "cell_type": "markdown",
   "metadata": {},
   "source": [
    "## Forward pass"
   ]
  },
  {
   "cell_type": "code",
   "execution_count": 1,
   "metadata": {},
   "outputs": [],
   "source": [
    "import numpy as np"
   ]
  },
  {
   "cell_type": "code",
   "execution_count": 36,
   "metadata": {},
   "outputs": [],
   "source": [
    "W = np.array([2.0, 1.0])\n",
    "U = np.array([[1.0, 2.0], [3.0, 4.0]])\n",
    "\n",
    "w = np.array([2.0, 4.0])\n",
    "\n",
    "x = np.array([0.2, 0.3, 0.4])\n",
    "y = 7.0"
   ]
  },
  {
   "cell_type": "code",
   "execution_count": 37,
   "metadata": {},
   "outputs": [
    {
     "data": {
      "text/plain": [
       "array([0.37994896, 0.19737532])"
      ]
     },
     "execution_count": 37,
     "metadata": {},
     "output_type": "execute_result"
    }
   ],
   "source": [
    "h1 = np.tanh(W.dot(x[0]))\n",
    "h1"
   ]
  },
  {
   "cell_type": "code",
   "execution_count": 38,
   "metadata": {},
   "outputs": [
    {
     "data": {
      "text/plain": [
       "array([0.87975882, 0.97711011])"
      ]
     },
     "execution_count": 38,
     "metadata": {},
     "output_type": "execute_result"
    }
   ],
   "source": [
    "h2 = np.tanh(W.dot(x[1]) + U.dot(h1))\n",
    "h2"
   ]
  },
  {
   "cell_type": "code",
   "execution_count": 39,
   "metadata": {},
   "outputs": [
    {
     "data": {
      "text/plain": [
       "array([0.9986059 , 0.99999815])"
      ]
     },
     "execution_count": 39,
     "metadata": {},
     "output_type": "execute_result"
    }
   ],
   "source": [
    "h3 = np.tanh(W.dot(x[2]) + U.dot(h2))\n",
    "h3"
   ]
  },
  {
   "cell_type": "code",
   "execution_count": 40,
   "metadata": {},
   "outputs": [
    {
     "data": {
      "text/plain": [
       "5.99720442000804"
      ]
     },
     "execution_count": 40,
     "metadata": {},
     "output_type": "execute_result"
    }
   ],
   "source": [
    "y_ = w.dot(h3)\n",
    "y_"
   ]
  },
  {
   "cell_type": "markdown",
   "metadata": {},
   "source": [
    "## Backward pass"
   ]
  },
  {
   "cell_type": "code",
   "execution_count": 41,
   "metadata": {},
   "outputs": [],
   "source": [
    "\n",
    "def dtanh(x):\n",
    "    \"\"\"Derivative of tanh-activation function.\"\"\"\n",
    "    return 1 - np.tanh(x)**2\n"
   ]
  },
  {
   "cell_type": "markdown",
   "metadata": {},
   "source": [
    "$$\n",
    "\\frac{\\partial loss}{\\partial W} = \\frac{\\partial loss}{\\partial \\hat{y}} \\frac{\\partial \\hat{y}}{\\partial h_3} \\frac{\\partial h_3}{\\partial h_2} \\frac{\\partial h_2}{\\partial h_1} \\frac{\\partial h_1}{\\partial W}\n",
    "$$\n",
    "\n",
    "with\n",
    "\\begin{align}\n",
    "\\frac{\\partial loss}{\\partial \\hat{y}} &= y - \\hat{y}, \\\\\n",
    "\\frac{\\partial h_t}{\\partial h_{t-1}} &= g^\\prime \\left( W x_t + U h_{t-1}\\right) \\cdot U, \\\\\n",
    "\\frac{\\partial h_1}{\\partial W} &= g^\\prime \\left(W x_1 \\right) \\cdot x_1\n",
    "\\end{align}\n",
    "\n",
    "similarly\n",
    "$$\n",
    "\\frac{\\partial loss}{\\partial U} = \\frac{\\partial loss}{\\partial \\hat{y}} \\frac{\\partial \\hat{y}}{\\partial h_3} \\frac{\\partial h_3}{\\partial h_2} \\frac{\\partial h_2}{\\partial U}\n",
    "$$\n",
    "with\n",
    "$$\n",
    "\\frac{\\partial h_2}{\\partial U} = g^\\prime \\left(W x_2 + U h_1 \\right) \\cdot h_1\n",
    "$$\n"
   ]
  },
  {
   "cell_type": "code",
   "execution_count": 42,
   "metadata": {},
   "outputs": [],
   "source": [
    "dldy_ = y - y_\n",
    "dy_dh3 = w\n",
    "dh3dh2 = dtanh(W.dot(x[2]) + U.dot(h2)).dot(U)\n",
    "dh2dh1 = dtanh(W.dot(x[1]) + U.dot(h1)).dot(U)\n",
    "dh1dW = dtanh(W.dot(x[0])) * x[0]\n",
    "dh2dU = dtanh(W.dot(x[1]) + U.dot(h1)).dot(h1)"
   ]
  },
  {
   "cell_type": "code",
   "execution_count": 43,
   "metadata": {},
   "outputs": [],
   "source": [
    "dlossdW = dldy_ * dy_dh3 * dh3dh2 * dh2dh1 * dh1dW\n",
    "dlossdU = dldy_ * dy_dh3 * dh3dh2 * dh2dU"
   ]
  },
  {
   "cell_type": "code",
   "execution_count": 44,
   "metadata": {},
   "outputs": [
    {
     "data": {
      "text/plain": [
       "array([0.00034735, 0.00272708])"
      ]
     },
     "execution_count": 44,
     "metadata": {},
     "output_type": "execute_result"
    }
   ],
   "source": [
    "dlossdW"
   ]
  },
  {
   "cell_type": "code",
   "execution_count": 45,
   "metadata": {},
   "outputs": [
    {
     "data": {
      "text/plain": [
       "array([0.00053191, 0.00212484])"
      ]
     },
     "execution_count": 45,
     "metadata": {},
     "output_type": "execute_result"
    }
   ],
   "source": [
    "dlossdU"
   ]
  },
  {
   "cell_type": "markdown",
   "metadata": {},
   "source": [
    "## Gradient Descent"
   ]
  },
  {
   "cell_type": "code",
   "execution_count": 46,
   "metadata": {},
   "outputs": [],
   "source": [
    "eta = 0.001\n",
    "W -= eta * dlossdW\n",
    "U -= eta * dlossdU"
   ]
  },
  {
   "cell_type": "code",
   "execution_count": 47,
   "metadata": {},
   "outputs": [
    {
     "data": {
      "text/plain": [
       "array([1.99999965, 0.99999727])"
      ]
     },
     "execution_count": 47,
     "metadata": {},
     "output_type": "execute_result"
    }
   ],
   "source": [
    "W"
   ]
  },
  {
   "cell_type": "code",
   "execution_count": 48,
   "metadata": {},
   "outputs": [
    {
     "data": {
      "text/plain": [
       "array([[0.99999947, 1.99999788],\n",
       "       [2.99999947, 3.99999788]])"
      ]
     },
     "execution_count": 48,
     "metadata": {},
     "output_type": "execute_result"
    }
   ],
   "source": [
    "U"
   ]
  },
  {
   "cell_type": "code",
   "execution_count": null,
   "metadata": {},
   "outputs": [],
   "source": []
  }
 ],
 "metadata": {
  "kernelspec": {
   "display_name": "Python 3",
   "language": "python",
   "name": "python3"
  },
  "language_info": {
   "codemirror_mode": {
    "name": "ipython",
    "version": 3
   },
   "file_extension": ".py",
   "mimetype": "text/x-python",
   "name": "python",
   "nbconvert_exporter": "python",
   "pygments_lexer": "ipython3",
   "version": "3.6.7"
  }
 },
 "nbformat": 4,
 "nbformat_minor": 2
}
